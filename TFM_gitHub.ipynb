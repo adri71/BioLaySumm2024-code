{
  "cells": [
    {
      "cell_type": "markdown",
      "metadata": {
        "id": "0teGM_cWnmi7"
      },
      "source": [
        "# Carga de datos"
      ]
    },
    {
      "cell_type": "code",
      "execution_count": null,
      "metadata": {
        "colab": {
          "base_uri": "https://localhost:8080/"
        },
        "id": "lymgEW07bBkz",
        "outputId": "23bf2d1f-dd6f-417a-c7d3-8550ac5cabce"
      },
      "outputs": [
        {
          "name": "stdout",
          "output_type": "stream",
          "text": [
            "Requirement already satisfied: pip in /usr/local/lib/python3.10/dist-packages (24.0)\n",
            "Requirement already satisfied: setuptools in /usr/local/lib/python3.10/dist-packages (69.5.1)\n",
            "\u001b[33mWARNING: Running pip as the 'root' user can result in broken permissions and conflicting behaviour with the system package manager. It is recommended to use a virtual environment instead: https://pip.pypa.io/warnings/venv\u001b[0m\u001b[33m\n",
            "\u001b[0m\u001b[33mWARNING: Skipping accelerate as it is not installed.\u001b[0m\u001b[33m\n",
            "\u001b[0mFound existing installation: transformers 4.40.1\n",
            "Uninstalling transformers-4.40.1:\n",
            "  Would remove:\n",
            "    /usr/local/bin/transformers-cli\n",
            "    /usr/local/lib/python3.10/dist-packages/transformers-4.40.1.dist-info/*\n",
            "    /usr/local/lib/python3.10/dist-packages/transformers/*\n",
            "Proceed (Y/n)? Y\n",
            "  Successfully uninstalled transformers-4.40.1\n",
            "\u001b[33mWARNING: Running pip as the 'root' user can result in broken permissions and conflicting behaviour with the system package manager. It is recommended to use a virtual environment instead: https://pip.pypa.io/warnings/venv\u001b[0m\u001b[33m\n",
            "\u001b[2K     \u001b[90m━━━━━━━━━━━━━━━━━━━━━━━━━━━━━━━━━━━━━━━━\u001b[0m \u001b[32m138.0/138.0 kB\u001b[0m \u001b[31m4.0 MB/s\u001b[0m eta \u001b[36m0:00:00\u001b[0m\n",
            "\u001b[2K   \u001b[90m━━━━━━━━━━━━━━━━━━━━━━━━━━━━━━━━━━━━━━━━\u001b[0m \u001b[32m14.1/14.1 MB\u001b[0m \u001b[31m53.3 MB/s\u001b[0m eta \u001b[36m0:00:00\u001b[0m\n",
            "\u001b[2K   \u001b[90m━━━━━━━━━━━━━━━━━━━━━━━━━━━━━━━━━━━━━━━━\u001b[0m \u001b[32m23.7/23.7 MB\u001b[0m \u001b[31m89.1 MB/s\u001b[0m eta \u001b[36m0:00:00\u001b[0m\n",
            "\u001b[2K   \u001b[90m━━━━━━━━━━━━━━━━━━━━━━━━━━━━━━━━━━━━━━━━\u001b[0m \u001b[32m823.6/823.6 kB\u001b[0m \u001b[31m52.8 MB/s\u001b[0m eta \u001b[36m0:00:00\u001b[0m\n",
            "\u001b[2K   \u001b[90m━━━━━━━━━━━━━━━━━━━━━━━━━━━━━━━━━━━━━━━━\u001b[0m \u001b[32m731.7/731.7 MB\u001b[0m \u001b[31m1.8 MB/s\u001b[0m eta \u001b[36m0:00:00\u001b[0m\n",
            "\u001b[2K   \u001b[90m━━━━━━━━━━━━━━━━━━━━━━━━━━━━━━━━━━━━━━━━\u001b[0m \u001b[32m121.6/121.6 MB\u001b[0m \u001b[31m19.3 MB/s\u001b[0m eta \u001b[36m0:00:00\u001b[0m\n",
            "\u001b[2K   \u001b[90m━━━━━━━━━━━━━━━━━━━━━━━━━━━━━━━━━━━━━━━━\u001b[0m \u001b[32m56.5/56.5 MB\u001b[0m \u001b[31m39.3 MB/s\u001b[0m eta \u001b[36m0:00:00\u001b[0m\n",
            "\u001b[2K   \u001b[90m━━━━━━━━━━━━━━━━━━━━━━━━━━━━━━━━━━━━━━━━\u001b[0m \u001b[32m124.2/124.2 MB\u001b[0m \u001b[31m18.0 MB/s\u001b[0m eta \u001b[36m0:00:00\u001b[0m\n",
            "\u001b[2K   \u001b[90m━━━━━━━━━━━━━━━━━━━━━━━━━━━━━━━━━━━━━━━━\u001b[0m \u001b[32m196.0/196.0 MB\u001b[0m \u001b[31m5.0 MB/s\u001b[0m eta \u001b[36m0:00:00\u001b[0m\n",
            "\u001b[2K   \u001b[90m━━━━━━━━━━━━━━━━━━━━━━━━━━━━━━━━━━━━━━━━\u001b[0m \u001b[32m166.0/166.0 MB\u001b[0m \u001b[31m6.6 MB/s\u001b[0m eta \u001b[36m0:00:00\u001b[0m\n",
            "\u001b[2K   \u001b[90m━━━━━━━━━━━━━━━━━━━━━━━━━━━━━━━━━━━━━━━━\u001b[0m \u001b[32m99.1/99.1 kB\u001b[0m \u001b[31m462.0 kB/s\u001b[0m eta \u001b[36m0:00:00\u001b[0m\n",
            "\u001b[2K   \u001b[90m━━━━━━━━━━━━━━━━━━━━━━━━━━━━━━━━━━━━━━━━\u001b[0m \u001b[32m9.0/9.0 MB\u001b[0m \u001b[31m124.1 MB/s\u001b[0m eta \u001b[36m0:00:00\u001b[0m\n",
            "\u001b[2K   \u001b[90m━━━━━━━━━━━━━━━━━━━━━━━━━━━━━━━━━━━━━━━━\u001b[0m \u001b[32m21.1/21.1 MB\u001b[0m \u001b[31m98.2 MB/s\u001b[0m eta \u001b[36m0:00:00\u001b[0m\n",
            "\u001b[?25h\u001b[33mWARNING: Running pip as the 'root' user can result in broken permissions and conflicting behaviour with the system package manager. It is recommended to use a virtual environment instead: https://pip.pypa.io/warnings/venv\u001b[0m\u001b[33m\n",
            "\u001b[0m\u001b[33mWARNING: Running pip as the 'root' user can result in broken permissions and conflicting behaviour with the system package manager. It is recommended to use a virtual environment instead: https://pip.pypa.io/warnings/venv\u001b[0m\u001b[33m\n",
            "\u001b[0m"
          ]
        }
      ],
      "source": [
        "!pip install --upgrade pip setuptools\n",
        "!pip uninstall accelerate transformers\n",
        "!pip install -q transformers[torch]\n",
        "!pip install -q accelerate -U"
      ]
    },
    {
      "cell_type": "code",
      "execution_count": null,
      "metadata": {
        "colab": {
          "base_uri": "https://localhost:8080/"
        },
        "id": "6TKg4jMxWINd",
        "outputId": "bf119d21-8e78-433f-c102-47370e1c70be"
      },
      "outputs": [
        {
          "name": "stdout",
          "output_type": "stream",
          "text": [
            "Collecting jsonlines\n",
            "  Downloading jsonlines-4.0.0-py3-none-any.whl (8.7 kB)\n",
            "Requirement already satisfied: attrs>=19.2.0 in /usr/local/lib/python3.10/dist-packages (from jsonlines) (23.2.0)\n",
            "Installing collected packages: jsonlines\n",
            "Successfully installed jsonlines-4.0.0\n",
            "\u001b[2K     \u001b[90m━━━━━━━━━━━━━━━━━━━━━━━━━━━━━━━━━━━━━━━━\u001b[0m \u001b[32m542.1/542.1 kB\u001b[0m \u001b[31m3.4 MB/s\u001b[0m eta \u001b[36m0:00:00\u001b[0m\n",
            "\u001b[2K     \u001b[90m━━━━━━━━━━━━━━━━━━━━━━━━━━━━━━━━━━━━━━━━\u001b[0m \u001b[32m116.3/116.3 kB\u001b[0m \u001b[31m11.4 MB/s\u001b[0m eta \u001b[36m0:00:00\u001b[0m\n",
            "\u001b[2K     \u001b[90m━━━━━━━━━━━━━━━━━━━━━━━━━━━━━━━━━━━━━━━━\u001b[0m \u001b[32m64.9/64.9 kB\u001b[0m \u001b[31m2.5 MB/s\u001b[0m eta \u001b[36m0:00:00\u001b[0m\n",
            "\u001b[2K     \u001b[90m━━━━━━━━━━━━━━━━━━━━━━━━━━━━━━━━━━━━━━━━\u001b[0m \u001b[32m194.1/194.1 kB\u001b[0m \u001b[31m13.5 MB/s\u001b[0m eta \u001b[36m0:00:00\u001b[0m\n",
            "\u001b[2K     \u001b[90m━━━━━━━━━━━━━━━━━━━━━━━━━━━━━━━━━━━━━━━━\u001b[0m \u001b[32m134.8/134.8 kB\u001b[0m \u001b[31m4.9 MB/s\u001b[0m eta \u001b[36m0:00:00\u001b[0m\n",
            "\u001b[?25h\u001b[31mERROR: pip's dependency resolver does not currently take into account all the packages that are installed. This behaviour is the source of the following dependency conflicts.\n",
            "google-colab 1.0.0 requires requests==2.31.0, but you have requests 2.32.3 which is incompatible.\u001b[0m\u001b[31m\n",
            "\u001b[0m"
          ]
        }
      ],
      "source": [
        "!pip install jsonlines\n",
        "!pip install -q datasets"
      ]
    },
    {
      "cell_type": "code",
      "execution_count": null,
      "metadata": {
        "id": "eSPyPPCwkiAv"
      },
      "outputs": [],
      "source": [
        "import matplotlib.pyplot as plt\n",
        "import numpy as np\n",
        "import jsonlines\n",
        "import pandas as pd\n",
        "import torch\n",
        "#import tensorflow as tf\n",
        "from google.colab import drive\n",
        "from sklearn.model_selection import train_test_split\n",
        "from collections import Counter\n",
        "from datasets import DatasetDict, Dataset\n",
        "#from transformers import BartTokenizer, BartModel, BartForConditionalGeneration\n",
        "from transformers import Seq2SeqTrainer, Seq2SeqTrainingArguments\n",
        "from transformers import AutoTokenizer, AutoModelForSeq2SeqLM\n",
        "#from transformers import T5ForConditionalGeneration, T5Tokenizer\n"
      ]
    },
    {
      "cell_type": "code",
      "execution_count": null,
      "metadata": {
        "id": "JpsMWtcZaPjj"
      },
      "outputs": [],
      "source": [
        "from transformers import BartTokenizer, BartModel, BartForConditionalGeneration"
      ]
    },
    {
      "cell_type": "code",
      "execution_count": null,
      "metadata": {
        "colab": {
          "base_uri": "https://localhost:8080/"
        },
        "id": "30qH-JAMnlrf",
        "outputId": "510f54f6-0869-4c36-f800-9d0b4cb8095f"
      },
      "outputs": [
        {
          "name": "stdout",
          "output_type": "stream",
          "text": [
            "Mounted at /content/drive\n"
          ]
        }
      ],
      "source": [
        "drive.mount('/content/drive')"
      ]
    },
    {
      "cell_type": "code",
      "execution_count": null,
      "metadata": {
        "id": "UJNGTaBzknM3"
      },
      "outputs": [],
      "source": [
        "def cargarDataset(ruta):\n",
        "  datos = []\n",
        "  with jsonlines.open(ruta) as archivo:\n",
        "      for linea in archivo:\n",
        "          datos.append(linea)\n",
        "  df = pd.DataFrame(datos)\n",
        "  return df"
      ]
    },
    {
      "cell_type": "code",
      "execution_count": null,
      "metadata": {
        "id": "17LThT28kvk9"
      },
      "outputs": [],
      "source": [
        "rutaPlosVal = '/content/drive/MyDrive/TFM/biolaysumm2024_data/PLOS_val.jsonl'\n",
        "rutaPlosTest = '/content/drive/MyDrive/TFM/biolaysumm2024_data/PLOS_test.jsonl'\n",
        "rutaPlosTrain = '/content/drive/MyDrive/TFM/biolaysumm2024_data/PLOS_train.jsonl'\n",
        "\n",
        "dataPlosVal = cargarDataset(rutaPlosVal)\n",
        "dataPlosTest = cargarDataset(rutaPlosTest)\n",
        "dataPlosTrain = cargarDataset(rutaPlosTrain)"
      ]
    },
    {
      "cell_type": "code",
      "execution_count": null,
      "metadata": {
        "id": "RZktFGuopuEi"
      },
      "outputs": [],
      "source": [
        "rutaLifeTest = '/content/drive/MyDrive/TFM/biolaysumm2024_data/eLife_test.jsonl'\n",
        "rutaLifeTrain = '/content/drive/MyDrive/TFM/biolaysumm2024_data/eLife_train.jsonl'\n",
        "rutaLifeVal = '/content/drive/MyDrive/TFM/biolaysumm2024_data/eLife_val.jsonl'\n",
        "\n",
        "dataLifeTest = cargarDataset(rutaLifeTest)\n",
        "dataLifeTrain = cargarDataset(rutaLifeTrain)\n",
        "dataLifeVal = cargarDataset(rutaLifeVal)"
      ]
    },
    {
      "cell_type": "code",
      "execution_count": null,
      "metadata": {
        "colab": {
          "base_uri": "https://localhost:8080/",
          "height": 191
        },
        "id": "4n7iCm9dhdLt",
        "outputId": "d995b793-83d4-4e95-91b9-5c3dc858ac61"
      },
      "outputs": [
        {
          "data": {
            "application/vnd.google.colaboratory.intrinsic+json": {
              "type": "string"
            },
            "text/plain": [
              "'In temperate climates , winter deaths exceed summer ones . However , there is limited information on the timing and the relative magnitudes of maximum and minimum mortality , by local climate , age group , sex and medical cause of death . We used geo-coded mortality data and wavelets to analyse the seasonality of mortality by age group and sex from 1980 to 2016 in the USA and its subnational climatic regions . Death rates in men and women ≥ 45 years peaked in December to February and were lowest in June to August , driven by cardiorespiratory diseases and injuries . In these ages , percent difference in death rates between peak and minimum months did not vary across climate regions , nor changed from 1980 to 2016 . Under five years , seasonality of all-cause mortality largely disappeared after the 1990s . In adolescents and young adults , especially in males , death rates peaked in June/July and were lowest in December/January , driven by injury deaths . \\n It is well-established that death rates vary throughout the year , and in temperate climates there tend to be more deaths in winter than in summer ( Campbell , 2017; Fowler et al . , 2015; Healy , 2003; McKee , 1989 ) . It has therefore been hypothesized that a warmer world may lower winter mortality in temperate climates ( Langford and Bentham , 1995; Martens , 1998 ) . In a large country like the USA , which possesses distinct climate regions , the seasonality of mortality may vary geographically , due to geographical variations in mortality , localized weather patterns , and regional differences in adaptation measures such as heating , air conditioning and healthcare ( Davis et al . , 2004; Braga et al . , 2001; Kalkstein , 2013; Medina-Ramón and Schwartz , 2007 ) . The presence and extent of seasonal variation in mortality may also itself change over time ( Bobb et al . , 2014; Carson et al . , 2006; Seretakis et al . , 1997; Sheridan et al . , 2009 ) . A thorough understanding of the long-term dynamics of seasonality of mortality , and its geographical and demographic patterns , is needed to identify at-risk groups , plan responses at the present time as well as under changing climate conditions . Although mortality seasonality is well-established , there is limited information on how seasonality , including the timing of minimum and maximum mortality , varies by local climate and how these features have changed over time , especially in relation to age group , sex and medical cause of death ( Rau , 2004; Rau et al . , 2018 ) . In this paper , we comprehensively characterize the spatial and temporal patterns of all-cause and cause-specific mortality seasonality in the USA by sex and age group , through the application of wavelet analytical techniques , to over three decades of national mortality data . Wavelets have been used to study the dynamics of weather phenomena ( Moy et al . , 2002 ) and infectious diseases ( Grenfell et al . , 2001 ) . We also used centre of gravity analysis and circular statistics methods to understand the timing of maximum and minimum mortality . In addition , we identify how the percentage difference between death rates in maximum and minimum mortality months has changed over time . \\n The strengths of our study are its innovative methods of characterizing seasonality of mortality dynamically over space and time , by age group and cause of death; using wavelet and centre of gravity analyses; using ERA-Interim data output to compare the association between seasonality of death rates and regional temperature . A limitation of our study is that we did not investigate seasonality of mortality by socioeconomic characteristics which may help with understanding its determinants and planning responses . \\n We used wavelet and centre of gravity analyses , which allowed systematically identifying and characterizing seasonality of total and cause-specific mortality in the USA , and examining how seasonality has changed over time . We identified distinct seasonal patterns in relation to age and sex , including higher all-cause summer mortality in young men ( Feinstein , 2002; Rau et al . , 2018 ) . Importantly , we also showed that all-cause and cause-specific mortality seasonality is largely similar in terms of both timing and magnitude across diverse climatic regions with substantially different summer and winter temperatures . Insights of this kind would not have been possible analysing data averaged over time or nationally , or fixed to pre-specified frequencies . Prior studies have noted seasonality of mortality for all-cause mortality and for specific causes of death in the USA ( Feinstein , 2002; Kalkstein , 2013; Rau , 2004; Rau et al . , 2018; Rosenwaike , 1966; Seretakis et al . , 1997 ) . Few of these studies have done consistent national and subnational analyses , and none has done so over time , for a comprehensive set of age groups and causes of death , and in relation to regional temperature differences . Our results on strong seasonality of cardiorespiratory diseases deaths and weak seasonality of cancer deaths , restricted to older ages , are broadly consistent with these studies ( Feinstein , 2002; Rau et al . , 2018; Rosenwaike , 1966; Seretakis et al . , 1997 ) , which had limited analysis on how seasonality changes over time and geography ( Feinstein , 2002; Rau et al . , 2018; Rosenwaike , 1966 ) . Similarly , our results on seasonality of injury deaths are supported by a few prior studies ( Feinstein , 2002; Rau et al . , 2018; Rosenwaike , 1966 ) , but our subnational analysis over three decades revealed variations in when injury deaths peaked and in how seasonal differences in these deaths have changed over time in relation to age group which had not been reported before . A study of 36 cities in the USA , aggregated across age groups and over time , also found that excess mortality was not associated with seasonal temperature range ( Kinney et al . , 2015 ) . In contrast , a European study found that the difference between winter and summer mortality was lower in colder Nordic countries than in warmer southern European nations ( Healy , 2003; McKee , 1989 ) ( the study’s measure of temperature was mean annual temperature which differed from the temperature difference between maximum and minimum mortality used in our analysis although the two measures are correlated ) . The absence of variation in the magnitude of mortality seasonality indicates that different regions in the USA are similarly adapted to temperature seasonality , whereas Nordic countries may have better environmental ( e . g . housing insulation and heating ) and health system measures to counter the effects of cold winters than those in southern Europe . If the observed absence of association between the magnitude of mortality seasonality and seasonal temperature difference across the climate regions also persists over time , the changes in temperature as a result of global climate change are unlikely to affect the winter-summer mortality difference . The cause-specific analysis showed that the substantial decline in seasonal mortality differences in adolescents and young adults was related to the diminishing seasonality of ( unintentional ) injuries , especially from road traffic crashes , which are more likely to occur in the summer months ( Liu et al . , 2005 ) and are more common in men . The weakening of seasonality in boys under five years of age was related to two phenomena: first , the seasonality of death from cardiorespiratory diseases declined , and second , the proportion of deaths from perinatal conditions , which exhibit limited seasonality ( Figure 9—figure supplement 2 and Figure 10—figure supplement 3 ) , increased ( MacDorman and Gregory , 2015 ) . In contrast to young and middle ages , mortality in older ages , where death rates are highest , maintained persistent seasonality over a period of three decades ( we note that although the percent seasonal difference in mortality has remained largely unchanged in these ages , the absolute difference in death rates between the peak and minimum months has declined because total mortality has a declining long-term trend ) . This finding demonstrates the need for environmental and health service interventions targeted towards this group irrespective of geography and local climate . Examples of such interventions include enhancing the availability of both environmental and medical protective factors , such as better insulation of homes , winter heating provision and flu vaccinations , for the vulnerable older population ( Katiyo et al . , 2017 ) . Social interventions , including regular visits to the isolated elderly during peak mortality periods to ensure that they are optimally prepared for adverse conditions , and responsive and high-quality emergency care , are also important to protect this vulnerable group ( Healy , 2003; Lerchl , 1998; Katiyo et al . , 2017 ) . Emergent new technologies , such as always-connected hands-free communications devices with the outside world , in-house cameras , and personal sensors also provide an opportunity to enhance care for the older , more vulnerable groups in the population , especially in winter when the elderly have fewer social interactions ( Morris , 2013 ) . Such interventions are important today , and will remain so as the population ages and climate change increases the within- and between-season weather variability . \\n We used data on all 85 , 854 , 176 deaths in the USA from 1980 to 2016 from the National Center for Health Statistics ( NCHS ) . Age , sex , state of residence , month of death , and underlying cause of death were available for each record . The underlying cause of death was coded according to the international classification of diseases ( ICD ) system ( 9th revision of ICD from 1980 to 1998 and 10th revision of ICD thereafter ) . Yearly population counts were available from NCHS for 1990 to 2016 and from the US Census Bureau prior to 1990 ( Ingram et al . , 2003 ) . We calculated monthly population counts through linear interpolation , assigning each yearly count to July . We also subdivided the national data geographically into nine climate regions used by the National Oceanic and Atmospheric Administration ( Figure 18 and Table 2 ) ( Karl and Koss , 1984 ) . On average , the Southeast and South are the hottest climate regions with average annual temperatures of 18 . 4°C and 18°C respectively; the South also possesses the highest average maximum monthly temperature ( 27 . 9°C in July ) . The lowest variation in temperature throughout the year is that of the Southeast ( an average range of 17 . 5°C ) . The three coldest climate regions are West North Central , East North Central and the Northwest ( 7 . 6°C , 8 . 0°C , 8 . 2°C respectively ) . Mirroring the characteristics of the hottest climate regions , the largest variation in temperature throughout the year is that of the coldest region , West North Central ( an average range of 30 . 5°C ) , which also has the lowest average minimum monthly temperature ( −6 . 5°C in January ) . The other climate regions , Northeast , Southwest , and Central , possess similar average temperatures ( 10°C to 14°C ) and variation within the year of ( 23°C to 26°C ) , with the Northeast being the most populous region in the United States ( with 19 . 8% total population in 2016 ) . Data were divided by sex and age in the following 10 age groups: 0–4 , 5–14 , 15-24 , 25–34 , 35–44 , 45–54 , 55–64 , 65–74 , 75–84 , 85+\\xa0years . We calculated monthly death rates for each age and sex group , both nationally and for sub-national climate regions . Death rate calculations accounted for varying length of months , by multiplying each month’s death count by a factor that would make it equivalent to a 31 day month . For analysis of seasonality by cause of death , we mapped each ICD-9 and ICD-10 codes to four main disease categories ( Table 1 ) and to a number of subcategories which are presented in the Supplementary Note . Cardiorespiratory diseases and cancers accounted for 56 . 4% and 21 . 2% of all deaths in the USA , respectively , in 1980 , and 40 . 3% and 22 . 4% , respectively , in 2016 . Deaths from cardiorespiratory diseases have been associated with cold and warm temperatures ( Basu , 2009; Basu and Samet , 2002; Bennett et al . , 2014; Braga et al . , 2002; Gasparrini et al . , 2015 ) . Injuries , which accounted for 8% of all deaths in the USA in 1980 and 7 . 3% in 2016 , may have seasonality that is distinct from so-called natural causes . We did not further divide other causes because the number of deaths could become too small to allow stable estimates when divided by age group , sex and climate region . We obtained data on temperature from ERA-Interim , which combines predictions from a physical model with ground-based and satellite measurements ( Dee et al . , 2011 ) . We used gridded four-times-daily estimates at a resolution of 80 km to generate monthly population-weighted temperature by climate region throughout the analysis period . We used wavelet analysis to investigate seasonality for each age-sex group . Wavelet analysis uncovers the presence , and frequency , of repeated maxima and minima in each age-sex-specific death rate time series ( Hubbard , 1998; Torrence and Compo , 1998 ) . In brief , a Morlet wavelet , described in detail elsewhere ( Cazelles et al . , 2008 ) , is equivalent to using a moving window on the death rate time series and analysing periodicity in each window using a short-form Fourier transform , hence generating a dynamic spectral analysis , which allows measuring dynamic seasonal patterns , in which the periodicity of death rates may disappear , emerge , or change over time . In addition to coefficients that measure the frequency of periodicity , wavelet analysis estimates the probability of whether the data are different from the null situation of random fluctuations that can be represented with white ( an independent random process ) or red ( autoregressive of order one process ) noise . For each age-sex group , we calculated the p-values of the presence of 12 month seasonality for the comparison of wavelet power spectra of the entire study period ( 1980–2016 ) with 100 simulations against a white noise spectrum , which represents random fluctuations . We used the R package WaveletComp ( version 1 . 0 ) for the wavelet analysis . Before analysis , we de-trended death rates using a polynomial regression , and rescaled each death rate time series so as to range between 1 and −1 . To identify the months of maximum and minimum death rates , we calculated the centre of gravity and the negative centre of gravity of monthly death rates . Centre of gravity was calculated as a weighted average of months of deaths , with each month weighted by its death rate; negative centre of gravity was also calculated as a weighted average of months of deaths , but with each month was weighted by the difference between its death rate and the year’s maximum death rate . In taking the weighted average , we allowed December ( month 12 ) to neighbour January ( month 1 ) , representing each month by an angle subtended from 12 equally-spaced points around a unit circle . Using a technique called circular statistics , a mean ( θ- ) of the angles ( θ1 , θ2 , θ3… , θn , ) representing the deaths ( with n the total number of deaths in an age-sex group for a particular cause of death ) is found using the relation below:θ-=arg∑j=1nexp\\u2061 ( iθj ) , where arg denotes the complex number argument and θj denotes the month of death in angular form for a particular death j . The outcome of this calculation is then converted back into a month value ( Fisher , 1995 ) . Along with each circular mean , a 95% confidence interval ( CI ) was calculated by using 1000 bootstrap samples . The R package CircStats ( version 0 . 2 . 4 ) was used for this analysis . For each age-sex group and cause of death , and for each year , we calculated the percent difference in death rates between the maximum and minimum mortality months . We fitted a linear regression to the time series of seasonal differences from 1980 to 2016 , and used the fitted trend line to estimate how much the percentage difference in death rates between the maximum and minimum mortality months had changed from 1980 to 2016 . We weighted seasonal difference by the inverse of the square of its standard error , which was calculated using a Poisson model to take population size of each age-sex group through time into account . This method gives us a p-value for the change in seasonal difference per year , which we used to calculate the seasonal difference at the start ( 1980 ) and end ( 2016 ) of the period of study . Our method of analysing seasonal differences avoids assuming that any specific month or group of months represent highest and lowest number of deaths for a particular cause of death , which is the approach taken by the traditional measure of Excess Winter Deaths . It also allows the maximum and minimum mortality months to vary by age group , sex and cause of death .'"
            ]
          },
          "execution_count": 55,
          "metadata": {},
          "output_type": "execute_result"
        }
      ],
      "source": [
        "a = dataLifeTrain.iloc[0]\n",
        "a.article"
      ]
    },
    {
      "cell_type": "code",
      "execution_count": null,
      "metadata": {
        "colab": {
          "base_uri": "https://localhost:8080/",
          "height": 361
        },
        "id": "kfcHSDdEiXSO",
        "outputId": "1d2a5dd6-7e21-4d1a-9499-70c962d3bafb"
      },
      "outputs": [
        {
          "data": {
            "application/vnd.google.colaboratory.intrinsic+json": {
              "type": "string"
            },
            "text/plain": [
              "'In the USA , more deaths happen in the winter than the summer . But when deaths occur varies greatly by sex , age , cause of death , and possibly region . Seasonal differences in death rates can change over time due to changes in factors that cause disease or affect treatment . Analyzing the seasonality of deaths can help scientists determine whether interventions to minimize deaths during a certain time of year are needed , or whether existing ones are effective . Scrutinizing seasonal patterns in death over time can also help scientists determine whether large-scale weather or climate changes are affecting the seasonality of death . Now , Parks et al . show that there are age and sex differences in which times of year most deaths occur . Parks et al . analyzed data on US deaths between 1980 and 2016 . While overall deaths in a year were highest in winter and lowest in summer , a greater number of young men died during summer – mainly due to injuries – than during winter . Seasonal differences in deaths among young children have largely disappeared and seasonal differences in the deaths of older children and young adults have become smaller . Deaths among women and men aged 45 or older peaked between December and February – largely caused by respiratory and heart diseases , or injuries . Deaths in this older age group were lowest during the summer months . Death patterns in older people changed little over time . No regional differences were found in seasonal death patterns , despite large climate variation across the USA . The analysis by Parks et al . suggests public health and medical interventions have been successful in reducing seasonal deaths among many groups . But more needs to be done to address seasonal differences in deaths among older adults . For example , by boosting flu vaccination rates , providing warnings about severe weather and better insulation for homes . Using technology like hands-free communication devices or home visits to help keep vulnerable elderly people connected during the winter months may also help .'"
            ]
          },
          "execution_count": 9,
          "metadata": {},
          "output_type": "execute_result"
        }
      ],
      "source": [
        "a.lay_summary"
      ]
    },
    {
      "cell_type": "code",
      "execution_count": null,
      "metadata": {
        "colab": {
          "base_uri": "https://localhost:8080/",
          "height": 374
        },
        "id": "FIdFEa55ot03",
        "outputId": "bb4eab5f-f28a-4c31-c563-699db39f3756"
      },
      "outputs": [
        {
          "data": {
            "application/vnd.google.colaboratory.intrinsic+json": {
              "summary": "{\n  \"name\": \"dataPlosTrain\",\n  \"rows\": 24773,\n  \"fields\": [\n    {\n      \"column\": \"lay_summary\",\n      \"properties\": {\n        \"dtype\": \"string\",\n        \"num_unique_values\": 24771,\n        \"samples\": [\n          \"Human parvovirus B19 ( B19V ) is typically associated with a childhood febrile illness known as erythema infectiosum . The infection usually resolves without consequence in healthy individuals . However , in patients with immunologic and/or hematologic disorders , B19V can cause a significant pathology . The virus infects and kills red cell precursors but anemia rarely supervenes unless there is pre-existing anemia such as in children living in malaria-endemic regions . The link between B19V infection and severe anemia has , however , only been confirmed in certain malaria-endemic countries in parallel with chloroquine ( CQ ) usage . This raises the possibility that CQ may increase the risk of severe anemia by promoting B19V infection . To test this hypothesis , we examined the direct effect of CQ and other commonly used antimalarial drugs on B19V infection in cultured cell lines . Additionally , we examined the correlation between B19V infection , hemoglobin levels and use of CQ in children from Papua New Guinea hospitalized with severe anemia . The results suggest strongly that CQ and its derivatives aggravate B19V-associated anemia by promoting B19V replication . Hence , careful consideration should be given in choosing the drug partnering artemisinin compounds in combination antimalarial therapy in order to minimize contribution of B19V to severe anemia .\",\n          \"Coordinated motor behaviors\\u2014as complex as playing a musical instrument or as simple as walking\\u2014rely on the ability of motor neurons within the spinal cord to navigate towards and establish specific connections with muscles in the limbs . The establishment of connections between motor neurons and limb muscles is mediated through the actions of genes encoding Hox proteins , a large family of transcription factors conserved amongst all metazoans . However , the specific requirements for Hox genes in motor neuron specification and patterns of muscle connectivity are poorly understood . We have found that members of the Hox6 gene paralog group ( Hoxa6 , Hoxc6 , and Hoxb6 ) contribute to diverse aspects of motor neuron subtype differentiation . Hox6 gene activity is required during two critical phases of motor neuron development: first as motor axons select a trajectory toward the forelimb and second as they choose specific muscles to innervate . At the molecular level , these two functions are encoded by distinct peptide domains within Hox proteins . This work indicates that Hox proteins execute their critical functions in motor neurons through intrinsic modules that confer distinct specificities and that these activities are central in the genetic network required for motor neuron differentiation .\",\n          \"Immune cells produce molecules that limit infections , attract other immune cells or repair tissue damage . Two such molecules , Ym1 and RELM\\u03b1 , are abundantly produced in mice during infection and injury . Related human molecules are strongly associated with many chronic diseases and yet we know very little about their function . Nippostrongylus brasiliensis is a parasitic worm that migrates through the lung causing tissue damage , which is accompanied by a strong early inflammatory response . Subsequently the lung is rapidly repaired , a process that requires an immune response that is characterised by the production of large amounts of Ym1 and RELM\\u03b1 . Here we show that during the early lung injury phase of infection , Ym1 helps direct the immune response towards repair but once repair has been initiated , Ym1 acts to limit excessive immune activation . Additionally , Ym1 enhances RELM\\u03b1 production in the lung and together , these molecules contribute to lung repair . Therefore Ym1 and RELM\\u03b1 have distinct regulatory functions depending on the stage of injury or infection , and additionally can act directly to repair injured tissues . These findings demonstrate the diverse functions of Ym1 and RELM\\u03b1 with wider implications toward understanding the relationship between host immune responses and tissue repair .\"\n        ],\n        \"semantic_type\": \"\",\n        \"description\": \"\"\n      }\n    },\n    {\n      \"column\": \"article\",\n      \"properties\": {\n        \"dtype\": \"string\",\n        \"num_unique_values\": 24771,\n        \"samples\": [\n          \"An unexpectedly high seroprevalence and pathogenic potential of human parvovirus B19 ( B19V ) have been observed in certain malaria-endemic countries in parallel with local use of chloroquine ( CQ ) as first-line treatment for malaria . The aims of this study were to assess the effect of CQ and other common antimalarial drugs on B19V infection in vitro and the possible epidemiological consequences for children from Papua New Guinea ( PNG ) . Viral RNA , DNA and proteins were analyzed in different cell types following infection with B19V in the presence of a range of antimalarial drugs . Relationships between B19V infection status , prior 4-aminoquinoline use and anemia were assessed in 200 PNG children <10 years of age participating in a case-control study of severe infections . In CQ-treated cells , the synthesis of viral RNA , DNA and proteins was significantly higher and occurred earlier than in control cells . CQ facilitates B19V infection by minimizing intracellular degradation of incoming particles . Only amodiaquine amongst other antimalarial drugs had a similar effect . B19V IgM seropositivity was more frequent in 111 children with severe anemia ( hemoglobin <50 g/L ) than in 89 healthy controls ( 15 . 3% vs 3 . 4%; P\\u200a=\\u200a0 . 008 ) . In children who were either B19V IgM or PCR positive , 4-aminoquinoline use was associated with a significantly lower admission hemoglobin concentration . Our data strongly suggest that 4-aminoquinoline drugs and their metabolites exacerbate B19V-associated anemia by promoting B19V replication . Consideration should be given for choosing a non-4-aminoquinoline drug to partner artemisinin compounds in combination antimalarial therapy . \\n Human parvovirus B19 ( B19V ) is a nonenveloped icosahedral virus with a single-stranded DNA genome which has been classified within the Erythrovirus genus of the Parvoviridae family . The virus is readily transmitted via the respiratory route and has a worldwide distribution . Seroprevalence increases with age and 50%\\u201380% of adults have detectable B19-specific antibody . Since its discovery in 1975 [1] , B19V has been associated with an expanding range of clinical disorders that reflect the patient's immunologic and hematologic status . In healthy individuals , B19V typically causes a mild childhood febrile illness known as erythema infectiosum or fifth disease . More severe manifestations of B19V infection are arthropathies , aplastic anemia , hydrops fetalis and fetal death [2] . Viremia occurs during the first week of infection . The virus has a predilection for bone marrow erythroid progenitor cells . At the height of viremia , there is an abrupt fall in the reticulocyte count and anemia can supervene . Although this is rarely apparent in healthy patients , it can have serious clinical consequences where there is pre-existing anemia [2] . A case in point is malaria . B19V co-infection has been considered a significant risk for severe anemia in children living in malaria-endemic regions [3] . Studies examining the inter-relationship between malaria , B19V infection and anemia have , however , produced inconsistent results . In a retrospective study from Papua New Guinea ( PNG ) [4] , 60% of children <2 years of age and 90% of 6 year-olds were B19V seropositive . B19V infection was significantly associated with severe anemia even in the absence of risk factors including malaria . Similar results were obtained in children from the Republic of Niger [5] . However , studies from Malawi and Kenya did not show evidence that B19V infection contributes to anemia in children and the seroprevalence of B19V was relatively low [6] , [7] . At the time the studies were performed in PNG [4] and Niger [5] , chloroquine ( CQ ) was used as first-line treatment for malaria in these countries . In addition , a serosurvey performed in Eritrea at a time when CQ was the first-line agent also revealed an unusually high B19V seroprevalence [8] . By contrast , CQ had been discontinued in Malawi because of resistance of local strains of Plasmodium falciparum and its use was declining in Kenya when the B19V seroprevalence studies were conducted [6] , [7] . Although CQ has , in addition to antimalarial efficacy , broad antiviral activity [9] , [10] , it also enhances Semliki Forest virus ( SFV ) and encephalomyocarditis virus ( EMCV ) infection in mice [11] , and Epstein-Barr virus ( EBV ) expression [12] . The latter effect is thought to play a role in the higher incidence of EBV-induced Burkitt's lymphoma in malaria-endemic areas where CQ is in common use [13] . We hypothesize , therefore , that geo-epidemiological differences in B19V seroprevalence and pathogenic potential result from CQ-associated enhanced replication . To test this hypothesis , we examined the effect of CQ and other commonly-used antimalarial drugs on B19V replication in three different cultured cell lines . In addition , we examined the relationship between B19V infection and use of 4-aminoquinoline drugs in a sample of children from PNG who were hospitalized with severe anemia . The results provide evidence that CQ and AQ aggravate B19V-associated anemia by promoting B19V replication . \\n All patients were participants in a prospective observational and genetic study of severe pediatric infections ( http://www . malariagen . net/home/ ) . Written informed consent was obtained from each parent/guardian . Ethical approval for the study was obtained from both the PNG Institute of Medical Research Institutional Review Board and the Medical Research Advisory Committee of the PNG Department of Health . The study was conducted in accordance with the Helsinki Declaration . A B19V-infected plasma sample was obtained from our donation center ( Genotype 1; CSL Behring AG , Charlotte , NC ) and was concentrated by ultracentrifugation through 20% ( w/v ) sucrose . UT7/Epo cells were cultured in RPMI , 10% FCS and 2 U/ml of recombinant human erythropoietin ( Epo; Janssen-Cilag , Midrand , South Africa ) . HepG2 cells were cultured in MEM supplemented with 10% FCS . Bone marrow mononuclear cells ( BMMCs ) were obtained as frozen stocks from Stemcell Technologies ( Vancouver , BC , Canada ) and were cultured in IMDM , 10% FCS and 2 U/ml of Epo . All cells were incubated at 37\\u00b0C and in an atmosphere of 7 . 5% CO2 . All drugs were purchased from Sigma ( St . Louis , Miss ) . Chloroquine diphosphate ( CQ ) , primaquine diphosphate ( PQ ) and amodiaquine dihydrochloride dihydrate ( AQ ) were dissolved in water , piperaquine ( PPQ ) in 5% lactic acid , mefloquine hydrochloride ( MQ ) in DMSO , lumefantrine ( LFT ) in dimethylformamide and artesunate ( AT ) and pyrimethamine ( PM ) in ethanol . The final drug concentration ranges used in the B19V infectivity assay were 5\\u2013100 \\u00b5M for PQ and LFT , AQ and PM , 0 . 05\\u201320 \\u00b5M for MQ , 2 . 5\\u2013100 \\u00b5M for AT , 1\\u2013100 \\u00b5M for PPQ and 0 . 05\\u2013100 \\u00b5M for CQ . The highest concentration of the drugs did not exceed 0 . 2% of total culture volume . B19V infectivity was assessed in two different cell lines , namely megakaryoblastic leukemia UT7/Epo cells and the human hepatocellular liver carcinoma cell line HepG2 , and in primary bone marrow mononuclear cells ( BMMCs ) . UT7/Epo cells are the most susceptible cell line to B19V infection [14] . Although viral RNA , DNA and proteins can be detected in B19V-infected UT7/Epo cells , viral replication is restricted to a level that does not normally allow production of virus progeny . The HepG2 cell line was chosen because it allows virus binding and probably internalization , but it is non-permissive for B19V infection [15] . BMMCs have been shown to support B19V infection , although only a minor subset of these cells is permissive for B19V [16] . UT7/Epo , HepG2 and bone marrow mononuclear cells ( BMMCs ) ( 3\\u00d7105 ) were infected with 20 , 000 DNA-containing B19V particles per cell ( 5 , 000 for BMMCs ) , corresponding to an MOI of approximately 20 ( 5 for BMMCs ) in the presence of the pre-determined concentrations of the selected drugs . For viral RNA and DNA analysis , cells were collected at different post-infection times as indicated in the figure legends . Total poly ( A ) + mRNA was isolated and viral NS1 mRNA quantified as previously described [17] . Total DNA was extracted and viral DNA was quantified using established methods [17] . UT7/Epo cells were infected as specified above in the presence of 0 or 25 \\u00b5M CQ . At increasing post-infection times ( see figure 1C ) , cells were lysed in protein loading buffer and total proteins were resolved by sodium dodecyl sulfate ( SDS ) -10% polyacrylamide gel electrophoresis ( PAGE ) . After transfer to a PVDF membrane , the blot was probed with a mouse antibody against B19V structural proteins ( 1\\u22362 , 000 dilution; US Biologicals , Swampscott , MA ) , followed by a horseradish peroxidase-conjugated secondary antibody ( 1\\u223620 , 000 dilution ) . The viral structural proteins were visualized with a chemiluminescence system ( Pierce , Rockford , IL ) . Additionally , viral protein expression was examined by immunofluorescence , as previously described [17] . UT7/Epo cells ( 3\\u00d7105 ) were infected with 20 , 000 viral particles per cell ( MOI 20 ) at 4\\u00b0C for 2 h . The cells were washed 8 times with PBS to remove unbound virus and incubated at 37\\u00b0C in the presence or absence of antimalarials . At increasing post-internalization times from 1 to 7 h , the cells were washed 2 times with PBS and the amount of intact viral DNA was quantified as specified above . We studied 111 children <10 years of age with severe anemia ( hemoglobin <50 g/L ) and 89 community-based age and sex-matched healthy control children with a hemoglobin >100 g/L . Those with severe anemia represented a subset ( 15 . 9% ) of all 697 children admitted to Modilon Hospital , Madang Province on the north coast of PNG with any severe illness during the period of study . Modilon Hospital is a referral hospital and the only provincial facility able to manage severely ill children . All such children were given treatment as recommended under PNG national treatment guidelines including intramuscular artemether for malaria infection . The healthy controls were recruited from the same villages as the patients and were slide-negative for malaria . As well as a hemoglobin concentration ( HaemoCue\\u00ae , Angelholm , Sweden ) at presentation , plasma was assayed for B19V IgM by EIA kit ( Biotrin International ) and , in those with severe anemia , for viral DNA using two specific oligonucleotide primers [4] . We did both tests because viremia starts to decline once specific IgM is produced around day 9 after inoculation , while virus-induced marrow suppression can last for another 2\\u20133 weeks [4] . Thus , although the simultaneous detection of B19V IgM and DNA is strongly indicative of acute infection , we did not want to exclude children with evidence of recent but resolving infection as a contributor to severe anemia . In those who were B19V IgM or PCR positive , plasma was assayed for chloroquine and amodiaquine and their respective active desethyl metabolites using a validated high performance liquid chromatography assay [18] . The assay had a limit of quantitation of 1 \\u00b5g/L for each analyte . \\n CQ increased the production of B19V NS1 gene transcription after 24 h incubation . At CQ concentrations ranging from 10 to 75 \\u00b5M , NS1 RNA increased up to 1 , 170% ( Figure 1A ) . Similarly , kinetic studies in the presence of 25 \\u00b5M of CQ showed that viral DNA synthesis was more rapid and extensive than in untreated cells ( Figure 1B ) . The expression of structural viral proteins in extracts of infected UT7/Epo cells was also increased in the presence of 25 \\u00b5M CQ ( Figure 1C ) . Viral protein expression was detectable by 34 h in untreated cells and by 24 h in CQ-treated cells . Immunofluorescence experiments showed , that in the presence of CQ a larger number of cells were infected by B19V ( Fig . 1D ) . In the absence of CQ , only a minor amount of viral DNA synthesis was observed starting at 120 h post-infection . No viral RNA could be detected , confirming the poor permissiveness of this cell line for B19V infection . However , in the presence of increasing concentrations of CQ , viral DNA synthesis increased progressively reaching 2 , 290% at CQ concentrations of 60 \\u00b5M ( Figure 2A ) . Kinetic studies showed that , in the presence of CQ ( 25 \\u00b5M ) , viral DNA was detected earlier than in untreated cells ( Figure 2B ) . Viral NS1 RNA was only detectable in CQ-treated cells ( Figure 2C ) . The presence of CQ ( 25 \\u00b5M ) accelerated B19V RNA synthesis . However , in CQ-treated cells , viral RNA transcription ceased abruptly and was followed by progressive degradation resembling apoptosis ( Figure 2D ) . Detection of phosphatidyl serine\\u2013anexin V complexes by fluorescence microscopy confirmed that the infected BMMCs entered the apoptotic pathway ( data not shown ) . Therefore , the effect of CQ in cultured BMMCs could not be evaluated at stages later that 10 h post-infection . The apoptotic effects were not observed in the cell lines UT7/Epo and HepG2 at concentrations up to 60 \\u00b5M ( data not shown ) . With the exception of the CQ-analogue AQ which enhanced B19V infection at concentrations above 5 \\u00b5M , no other antimalarial drug had a significant effect on B19V infection ( Figure 3 ) . Mild inhibition was observed in the presence of AT , while MQ inhibited the infection at concentrations >10 \\u00b5M . These effects were also observed when the drugs were added 4 to 7 h post-infection ( data not shown ) , raising the possibility that B19V infectivity was reduced by a drug-specific cytotoxicity . The enhancement of B19V infection by CQ decreased progressively with increases in the time at which CQ was added , with no detectable effect at 8\\u20139 h post-infection ( Figure 4A ) . These data indicate that CQ acts early in B19V infection . At progressive times after internalization of B19V , the cells were washed and the viral DNA was quantified . In untreated cells , a progressive degradation of the incoming viral DNA was evident . However , in the presence of CQ ( 25 \\u00b5M ) or AQ ( 20 \\u00b5M ) , degradation of incoming particles was prevented or minimized ( Figure 4B ) . Serological screening revealed that 3 of 89 healthy control children ( 3 . 4% ) and 18 of the 111 with severe anemia ( 16 . 2% ) were IgM positive ( P\\u200a=\\u200a0 . 004 by Fisher's exact test ) . A further 6 B19V IgM-negative children with severe anemia were positive by PCR and 5 of the 18 IgM-positive children were also PCR positive . In 22 of the 24 IgM and/or PCR positive children with severe anemia and plasma available for assay , only 5 did not have detectable 4-aminoquinoline or metabolite concentrations . Based on the respective pharmacokinetic profiles [18] , [19] , this suggests that most of these children had been treated with either CQ or AQ within the previous 6 weeks . Hemoglobin concentrations by B19V IgM/PCR and 4-aminoquinoline status are shown in Figure 5 . The lowest concentrations were in the 5 children who were both IgM and PCR positive ( i . e . had acute B19 infections ) . These children had a similar mean age ( 53 vs 57 months ) , body weight ( 15 kg in both groups ) and spleen size ( 5 vs 7 cm ) to those children who were either IgM or PCR positive ( P>0 . 37 by Mann-Whitney U test ) and the percentages with malaria were similar ( 40 . 0 vs 44 . 4%; P\\u200a=\\u200a0 . 63 by Fisher's exact test ) . In patients who were IgM or PCR positive ( indicating a recent but not necessarily acute infection or one which was acute but early in its course ) , 4-aminoquinoline use was associated with a significantly lower admission hemoglobin concentration ( P\\u200a=\\u200a0 . 037 ) . Although the number of patients treated with AQ was small and restricted to children who were IgM positive but PCR negative , they had some of the highest hemoglobin concentrations in this subgroup . This suggests that , consistent with the in vitro data , CQ had a greater suppressive effect on bone marrow than AQ in our patients . \\n Severe anemia is a common and life-threatening complication of malaria in children living in endemic areas [20] . B19V co-infection has been identified as a major factor in its pathogenesis [3] , but there are significant regional differences in its seroprevalence and resulting clinical impact [4]\\u2013[8] despite the fact that B19V infection is a common childhood illness . Because B19V-associated severe anemia appears to parallel local use of CQ as first-line treatment for malaria , we hypothesized that CQ promotes B19V replication and that , as a consequence , it contributes indirectly to severe anemia . Although a more profound clinical study would be necessary , the present results provide already a strong evidence for this hypothesis . Apart from its antimalarial effects , CQ has a wide antiviral activity . One of the most important mechanisms of action against viruses is the alkalinization of the endosomal vesicles . In this way , CQ is active against viruses that require a low pH step for cell entry , such as flavivirus , retrovirus and coronavirus [9] . All parvoviruses studied to date also depend on endosomal acidification for cell entry because it facilitates capsid structural transitions [21] , [22] , and in particular the externalization of the N-terminal region of VP1 which is required for endosomal escape and nuclear targeting [23] . Accordingly , CQ inhibits parvovirus infections . However , we have previously shown that B19V is unique among parvoviruses in that N-VP1 is already externalized on receptor binding [17] and thus not dependent on a low endosomal pH for this critical conformational change . B19V is also unique among parvoviruses for its higher sensitivity to acid degradation [24] . Consequently , CQ-associated alkalinization of endosomal vesicles would be expected to minimize the acidic degradation of incoming B19V particles . Our data confirm that the intracellular degradation of B19V is prevented or minimized in the presence of CQ or AQ . However , other lysosomotropic drugs such as ammonium chloride or bafilomycin A1 , which also raise the endosomal pH , had an inhibitory effect on B19V infection in our in vitro system ( data not shown ) . Therefore , the mechanism underlying the stabilization of B19V by CQ or AQ is likely to extend beyond pH-neutralizing activity to destabilization of endosome/lysosome membranes typically observed in CQ-treated cells . In this way , CQ would facilitate the endosomal escape of B19V before it reaches the degradative lysosomal compartment and increase the number of particles that can target the nuclei for replication . This is of particular importance since nuclear targeting has been identified as a major limiting factor in parvovirus infections [22] , [25] . The plausibility of our in vitro observations as an explanation of epidemiological data depends on the pharmacological properties of CQ , especially tissue concentrations . The in vitro enhancement of B19V infection by CQ was achieved at concentrations ( 10\\u201375 \\u00b5M ) that were well above those achieved in plasma after therapeutic doses in children ( typically <5 \\u00b5M ) [18] . However , B19V does not replicate in plasma but in tissues , primarily the bone marrow . CQ concentrations in bone marrow are substantially higher than in plasma [26] and have been measured at approximately 100 \\u00b5M in animal studies [27] . This could reflect , in part , concentration of the drug within precursor cells such as has been observed in circulating erythrocytes [28] . The long terminal elimination half-life of CQ ( around 10 days in children ) [18] means that conditions favorable to B19V viral replication in bone marrow may persist for several weeks after dosing . In many malaria-endemic regions , antimalarial therapy is given empirically to febrile children without blood smear confirmation . Ironically this might include fever due to B19V itself . The administration of frequent courses of CQ may mean that a child spends long periods of each year at risk of CQ-associated enhanced B19V viremia and its consequences such as anemia . AQ is a long half-life 4-aminoquinoline compound like CQ and also promoted B19V replication in our in vitro experiments . Other drugs tested , including primaquine ( an 8-aminoquinoline ) and mefloquine ( a methanol quinoline ) , did not influence B19V infection in vitro , suggesting that the effect is specific to 4-aminoquinoline compounds . Some other viral infections ( SFV , EMCV and EBV ) [11] , [12] are enhanced by CQ but not by other 4-aminoquinoline antimalarial drugs . We were able to obtain preliminary human data that are consistent with our laboratory findings . In our 200 unselected PNG children who were participants in a case-control study of severe pediatric infections , we confirmed previous reports that B19V seropositivity is associated with severe anemia and that the lowest hemoglobin concentrations are in those children who had acute infections ( i . e . both IgM and PCR positive ) [4] . Although there were limited numbers , there was some evidence that prior 4-aminoquinoline , especially CQ , use exacerbates B19V-associated severe anemia apart from in those IgM- and PCR-positive cases who were presumably at the stage of maximal viral replication and consequent bone marrow suppression . Properly designed epidemiological studies in larger , non-convenience samples are , however , needed to confirm these findings . Although CQ is a safe and inexpensive antimalarial drug , the increasing emergence of resistant P . falciparum and P . vivax has seen its use decline throughout the tropics . Our data suggest that the prevalence of severe malarial anemia should also fall as a result . However , when an effective B19V vaccine becomes available , this should be considered a priority intervention where pediatric B19V seroprevalence rates are high and other causes of anemia such as nutritional deficiency and intestinal parasitic infection are present . Artemisinin-based combination therapy ( ACT ) is the current WHO-recommended first-line treatment for uncomplicated malaria [29] . Our data suggest that , pending more definitive in vivo data including appropriately designed clinical trials , a non-4-aminoquinoline drug should be preferred to partner the artemisinin derivative so that the contribution of B19V to severe anemia is minimized .\",\n          \"A critical step in the assembly of the neural circuits that control tetrapod locomotion is the specification of the lateral motor column ( LMC ) , a diverse motor neuron population targeting limb musculature . Hox6 paralog group genes have been implicated as key determinants of LMC fate at forelimb levels of the spinal cord , through their ability to promote expression of the LMC-restricted genes Foxp1 and Raldh2 and to suppress thoracic fates through exclusion of Hoxc9 . The specific roles and mechanisms of Hox6 gene function in LMC neurons , however , are not known . We show that Hox6 genes are critical for diverse facets of LMC identity and define motifs required for their in vivo specificities . Although Hox6 genes are necessary for generating the appropriate number of LMC neurons , they are not absolutely required for the induction of forelimb LMC molecular determinants . In the absence of Hox6 activity , LMC identity appears to be preserved through a diverse array of Hox5\\u2013Hox8 paralogs , which are sufficient to reprogram thoracic motor neurons to an LMC fate . In contrast to the apparently permissive Hox inputs to early LMC gene programs , individual Hox genes , such as Hoxc6 , have specific roles in promoting motor neuron pool diversity within the LMC . Dissection of motifs required for Hox in vivo specificities reveals that either cross-repressive interactions or cooperativity with Pbx cofactors are sufficient to induce LMC identity , with the N-terminus capable of promoting columnar , but not pool , identity when transferred to a heterologous homeodomain . These results indicate that Hox proteins orchestrate diverse aspects of cell fate specification through both the convergent regulation of gene programs regulated by many paralogs and also more restricted actions encoded through specificity determinants in the N-terminus . \\n The neural circuits that govern locomotor behaviors rely on the establishment of orderly sets of connections between motor neurons ( MNs ) and their peripheral and central synaptic targets . A critical and early step in the emergence of locomotor circuitry is the selection of specific muscle targets by a diverse array of MN subtypes . Three organizational features of MNs emerge during embryonic development that contributes to the specificity of their connections with target cells . First , MNs that project axons to common peripheral targets are organized into columns longitudinally arrayed along the rostrocaudal axis of the spinal cord [1] , [2] . For example , MNs that project into the limb are contained within the lateral motor columns ( LMCs ) , which are generated specifically at brachial and lumbar levels of the spinal cord . LMC neurons subsequently segregate into medial and lateral divisions , a program that dictates whether motor axons project into dorsal or ventral compartments of the limb mesenchyme [3] , [4] . Finally , cells within each division further segregate into MN pools , each pool a cluster of stereotypically positioned MNs that innervates one of the \\u223c100 muscles in the limbs [2] , [5]\\u2013[7] . MNs must therefore acquire a sufficient level of subtype diversity to ensure the appropriate muscle connectivity required for the emergence of coordinate locomotor behavior . Within the developing spinal cord , Hox proteins exert central roles in the specification of MN columnar and pool subtypes [8] , [9] . Nearly half of the 39 Hox genes are expressed by MNs , with subsets of related paralogs functioning at distinct levels of the MN differentiation pathway [10] . Three paralog groups , Hox6 , Hox9 , and Hox10 genes have been implicated in the early columnar organization of MNs and contribute to the specificity of their initial projections into the periphery [11]\\u2013[13] . The actions of a much larger group of \\u223c20 Hox genes contribute to the specification of MN pools , in part , through the induction of intermediate transcription factors [10] , [14]\\u2013[16] . During these programs of MN diversification , Hox proteins mediate both the selective activation of downstream targets and the exclusion of other determinants through mutual cross repression , two distinct activities that appear to be intrinsic to Hox proteins [10] , [11] . Despite significant progress towards defining roles for Hox proteins in MNs , the mechanisms by which they control diverse features of MN subtype identity are largely unknown . Studies in Drosophila indicate two key mechanisms through which Hox proteins regulate target genes [17] . The first involves the selection of DNA target sites . Hox proteins typically display low affinity for DNA in vitro , with high fidelity binding requiring cooperative interactions with the TALE-domain containing homeodomain factors extradenticle and homothorax ( Pbx and Meis proteins in vertebrates ) [18] . While TALE-domain protein interactions increase the affinity and selectivity of Hox proteins for DNA , they have only a subtle influence on the specificity of site selection in vitro , particularly amongst Hox proteins expressed in more caudal regions of the embryo [19]\\u2013[21] . Recent evidence , however , suggests that in vivo specificity can be achieved by sequences N-terminal to the homeodomain , which mediate contacts with the minor groove at target sites [22] , [23] . Once bound to a target gene , the activities of Hox/Pbx complexes can be further modulated through the actions of ancillary transcription factors that typically bind in proximity to Hox targets [24] , [25] . In this mode of action , a Hox protein may not depend as much on DNA site selection for specificity , but rather on how it interacts with factors it engages at a target sequence . Some insights into the mechanisms by which Hox proteins regulate target genes in MNs have emerged through analysis of mice mutant for a single thoracically expressed Hox gene , Hoxc9 . Hoxc9 is required for the appearance of thoracic-level MN columnar subtypes including preganglionic column ( PGC ) and hypaxial motor column ( HMC ) neurons [26] . A critical aspect of Hoxc9 function is to establish the boundary between thoracic and forelimb-level MN populations through cross repression , as in the absence of Hoxc9 all brachial Hox genes are derepressed at thoracic levels , and MNs acquire an LMC fate . This broad repressive activity appears to be mediated by direct interactions of Hoxc9 with multiple sites in the HoxA and HoxC loci . Genome-wide analysis of Hoxc9 binding revealed a consensus binding motif which matches a high affinity Hox/Pbx site ( TGATTTAT ) identified by several groups through in vitro site selection [19] , [20] . This sequence engages a wide range of Hox paralogs , raising the issue of how the in vivo specificities of Hox proteins in MNs are achieved if they are not dependent on the recognition of specific genomic target sites . The problem of Hox specificity in MNs is particularly relevant at limb levels of the spinal cord , where individual neurons express multiple Hox proteins at the time of their differentiation [10] , [11] , [27] . In this context Hox proteins appear to contribute to both gene programs common to all LMC neurons as well as more restricted actions necessary for diversification of LMC neurons into MN pools . At limb levels of the spinal cord the actions of Hox6 and Hox10 genes have been implicated in the initiation of the LMC program at brachial and lumbar levels respectively , through activation of the gene encoding the transcription factor FoxP1 [28] . FoxP1 is subsequently required for the expression of the gene encoding the retinoic acid synthesizing enzyme Raldh2 [28] , [29] . This MN-derived source of retinoids is necessary for the Lim homeodomain protein-mediated segregation of the LMC into medial and lateral divisions [30] , [31] . Thus the deployment of the LMC program at forelimb and hindlimb levels is mediated by two distinct sets of Hox paralogs that activate a common set of downstream pathways required for MN columnar and divisional specification . While Hox proteins seem to be critical for LMC specification , it is less clear how they contribute to MN pool diversity . At brachial levels the LMC is broadly divided into rostral and caudal domains by expression of Hox5 genes ( Hoxa5 and Hoxc5 ) and Hoxc8 , respectively; and the actions of these Hox genes are necessary for delineating the rostrocaudal position of MN pools [10] . Within a given segment a repression-based network of Hox4\\u2013Hox8 proteins are thought to promote the intrasegmental diversity of MNs , by defining specific molecular codes for each pool subtype . For example , misexpression studies in chick have provided evidence that Hoxc6 is selectively required for the intrasegmental differentiation of pools within the caudal ( Hoxc8+ ) half of the LMC [10] . Thus the same Hox6 paralog group that determines the early columnar identity of forelimb-innervating MNs contains members that promote motor pool fates . In this study we sought to address several unresolved issues concerning the function and specificity of Hox6 genes during MN columnar and pool specification programs . First , what are the specific contributions of the three murine Hox6 genes to MN fate specification ? Second , to what extent are the diverse activities of a Hox protein unique , or are they shared amongst gene paralogs within a cluster ? Third , are there motifs intrinsic to Hox proteins that subfunctionalize in vivo specificities ? To address these questions we analyzed mice in which all Hox6 genes are mutated , as well as employed an in vivo approach to dissect functional domains required for Hox specificity in MNs . We find that although LMC specification is retained in mice lacking Hox6 genes , Hoxc6 has a specific role in promoting MN pool identity and appropriate patterns of limb connectivity . The preservation of LMC fate in Hox6 mutants appears to be mediated by a diverse group of Hox5\\u2013Hox8 genes expressed at brachial levels . Dissection of a single Hox protein reveals in vivo specificity relies on motifs that ensure deployment of programs common to all LMC neurons , as well as distinct modules that contribute to MN pool identity . \\n Studies in chick have implicated Hox6 genes in the specification of LMC neurons at brachial levels of the spinal cord . Two Hox6 genes , Hoxa6 and Hoxc6 , are selectively expressed by brachial MNs in chick , and can convert HMC and PGC neurons to an LMC fate when misexpressed at thoracic levels [11] . Whether Hox6 activities are absolutely required for LMC specification in mice is not known . To begin to answer this question we first analyzed the expression of Hox6 paralogs ( Hoxa6 , Hoxb6 , and Hoxc6 ) at brachial levels near the time of LMC differentiation at embryonic day ( e ) 11 . 5 . Hoxa6 and Hoxc6 are expressed throughout the brachial LMC , while Hoxb6 is expressed by MN progenitors ( Figure 1A , 1B , 1G , 1I ) . Hox6 genes also displayed temporally dynamic patterns; after e11 . 5 Hoxa6 expression was only weakly detected in the spinal cord , while Hoxc6 was attenuated in subsets of LMC neurons by e12 . 5 , and downregulated in most LMC neurons by e13 . 5 ( Figure 1A , 1B and data not shown ) . To assess the function of Hox6 genes in LMC neurons we generated and analyzed mice containing various combinations of Hox6 mutant alleles [32] , [33] . Single and combined mutation of Hoxa6 and Hoxc6 had no effect on general features of MN identity , as assessed by the presence of the early MN determinants Hb9 , Islet1/2 and Lhx3 ( Figure 2E , 2F; Figure S1A ) . In addition Hoxa6 was not upregulated in Hoxc6 mutants , nor was Hoxb6 upregulated in MNs of Hoxa6/c6 mutants , and the normal patterns of brachially expressed HoxA and HoxC proteins were maintained ( Figure S1B , S1C and data not shown ) . Moreover , the thoracic Hoxc9 gene was not noticeably derepressed at brachial levels in Hox6 mutants ( Figure S2 ) , likely due to compensation by other Hox paralog groups ( see below ) . Hox6 genes are therefore not required for the generation of MNs as a class or in maintaining Hox expression patterns . We next determined the profile of LMC determinants in Hoxa6/c6 mutants . We assessed the expression of Foxp1 and Raldh2 , two genes that are induced downstream of Hox proteins [28] . In Hoxa6\\u2212/\\u2212Hoxc6+/+ , Hoxa6+/\\u2212Hoxc6+/\\u2212 , and Hoxa6\\u2212/\\u2212 Hoxc6+/\\u2212 embryos the number of LMC neurons was similar to wildtype embryos , while both Hoxc6\\u2212/\\u2212 and Hoxa6\\u2212/\\u2212Hoxc6\\u2212/\\u2212 mutants displayed significant LMC losses ( Figure 2A\\u20132D , 2I\\u20132J; Figure S3A ) . To quantify the reduction of LMC neurons in Hoxc6\\u2212/\\u2212 and Hoxa6\\u2212/\\u2212Hoxc6\\u2212/\\u2212 embryos , we performed serial sectioning on e12 . 5 embryos and determined the total number of FoxP1+ LMC neurons averaged from n>3 mutants and control littermates . This analysis revealed a 28% loss of LMC neurons in Hoxc6 mutants , and a 37% loss in Hoxa6/Hoxc6 double mutants ( Figure 2I\\u20132J ) . The loss of LMC neurons was particularly prominent in the rostral half of the LMC ( Hoxa5/c5+ region ) , where we observed a 41% decrease in FoxP1+ MNs in Hoxc6 mutants and a 56% decrease in Hoxa6/c6 double mutants ( Figure 2A , 2C ) . In addition mutation of Hoxa6/c6 had a more severe impact on Raldh2 expression , with a near complete absence of expression in the rostral brachial spinal cord , possibly due to an attenuation in FoxP1 expression levels in the remaining MNs ( Figure S3B ) . Similar defects in LMC specification were observed at e10 . 5 and e11 . 5 , indicating they are present at the time of LMC generation ( Figure S3B\\u2013S3D ) . Hoxa6 and Hoxc6 are therefore necessary for the appearance of the normal number of LMC neurons . We next determined the fate of the LMC neurons that are lost in Hoxa6/c6 mutant mice . Analysis of Foxp1 mutants suggests that in the absence of a Hox-programmed LMC identity , MNs remain in the \\u201cdefault\\u201d fate of the hypaxial motor column ( HMC ) subtype , a motor neuron column normally present at thoracic levels [28] , [29] . Consistent with this idea , we find an increase in the number of MNs with an HMC character , defined by high levels of Hb9 and Isl1 coexpression ( Figure 2E\\u20132H , Figure S1A ) . In contrast the number of Lhx3+ Hb9+ MMC neurons , a Hox-independent columnar subtype present at all levels of the spinal cord , was unchanged ( Figure 2E\\u20132H ) . These observations demonstrate that in the absence of Hoxa6/Hoxc6 , MNs that fail to acquire an LMC fate revert to an HMC-like identity . Because expression of Hoxb6 in MN progenitors could account for the maintenance of LMC identity in Hoxa6/Hoxc6 mutants we also analyzed mice in which all three murine Hox6 alleles are deleted . We found that in Hoxa6/Hoxb6/Hoxc6 triple mutants FoxP1+/Raldh2+ MNs were present , and LMC numbers were grossly similar to Hoxa6/Hoxc6 double mutants ( Figure S4 ) . As in Hoxa6/Hoxc6 mutants , the LMC loss was most prevalent at more rostral brachial levels , while caudal brachial LMC MNs were less affected ( Figure S4 ) . Thus Hox6 genes are necessary for appropriate LMC numbers , but are not absolutely required for the activation of LMC molecular determinants in brachial spinal cord . The perseverance of LMC identity in Hox6 mutants raises the question of whether other Hox paralogs might contribute to their specification . To address this question we began by analyzing the expression patterns of additional Hox genes at brachial levels . In chick spinal cord several genes belonging to the Hox4\\u2013Hox8 paralog groups are expressed by brachial LMC neurons . We therefore determined the expression patterns of Hox4\\u2013Hox8 genes in mouse at e11 . 5 with reference to the brachial LMC . This analysis revealed patterns of Hox4\\u2013Hox8 paralog expression that were similar to patterns in chick [10] , with HoxA and HoxC cluster genes ( Hoxa5 , Hoxa6 , Hoxa7 , Hoxc4 , Hoxc5 , Hoxc6 , Hoxc8 ) the most prominently expressed by brachial MNs ( Figure 1A\\u20131K ) . These observations indicate that Hox patterns are largely conserved between mouse and chick , with multiple Hox genes expressed by brachial LMC neurons at the time of their differentiation . To determine the influence of brachially expressed Hox4\\u2013Hox8 genes on MN differentiation we used chick neural tube electroporation to assess the effects of misexpression at thoracic levels . Since Hox overexpression could lead to neomorphic effects , we optimized plasmid concentrations in electroporations to be qualitatively similar to levels found in the endogenous brachial domain in chick ( Figure S5A , S5B ) . We compared the effects of thoracic Hox misexpression to that of Hoxa6 and Hoxc6 , which have been shown to induce LMC identity at thoracic levels ( Figure 3A ) [11] , [28] . Consistent with previous observations , Hoxc6 and Hoxa6 were similar in their capacity to induce expression of markers of LMC identity including high levels of FoxP1 and Raldh2 , and to cell autonomously abolish expression of thoracic determinants of PGC fate , including Hoxc9 and phospho ( p ) Smad1/5/8 ( Figure 3D , 3E ) . We next tested the effects of thoracic misexpression of representative genes from the Hox4 , Hox5 , Hox7 , and Hox8 paralog groups . We observed that thoracic misexpression of either Hoxa5 , Hoxa7 or Hoxc8 could redirect thoracic MN fate towards a brachial LMC identity as assessed by induction of Foxp1 and Raldh2 and loss of pSmad expression ( Figure 3C , 3F , 3G ) . In contrast , although Hoxc4 is expressed by most LMC neurons , thoracic misexpression of Hoxc4 failed to induce high FoxP1 or Raldh2 ( Figure 3B ) . These observations indicate that many , but not all , brachially expressed Hox genes can promote an LMC character at thoracic levels . We additionally found that the capacity of different Hox proteins to specify aspects of LMC identity varies depending on the Hox protein . While 64% of thoracic MNs expressing Hox6 proteins acquired an LMC identity , Hoxa5 only induced LMC fate in 41% of electroporated MNs ( Figure S5C ) . Hox proteins thus differ in the extent to which they can generate LMC neurons . The reduced potential of Hoxa5 to promote LMC fate likely accounts for the more pronounced decline in LMC numbers at rostral brachial levels in Hox6 mutants , as this region lacks the more potent LMC inducers , Hoxa7 and Hoxc8 . In addition Hoxc8 , Hoxa7 , and Hoxa5 were less effective than Hox6 proteins in extinguishing Hoxc9 expression , and many of these Hox-induced LMC motor neurons continued to express Hoxc9 ( Figure 3C , 3F , 3G ) . Together these observations indicate that multiple Hox proteins can specify features common to all LMC neurons , while individual Hox proteins diverge with respect to LMC promoting efficacies and cross-repressive activities . While multiple Hox genes appear to converge in regulating early programs of brachial LMC differentiation , it is possible that they have distinct roles during motor neuron pool diversification within the LMC . Within the Hox6 paralog group , Hoxc6 has been implicated in the specification of MN pools innervating specific muscles in the chick embryo , independent of its function in promoting LMC identity [10] . We therefore determined whether Hoxc6 has an obligate role in MN pool differentiation . Within the caudal half of the brachial LMC , some MN pools can be defined by expression of the Ets protein Pea3 as well as the POU domain protein Scip [26] , [34] , [35] . In the caudal ( Hoxc8+ ) half of the LMC , Hoxc6 has been argued to promote the specification of the Pea3+ pool and restrict expression of Scip [10] . We therefore assessed the specification of these pools in Hox6 mutants . While the number of FoxP1+ LMC neurons generated at caudal brachial levels was not significantly reduced in Hoxa6/c6 mutants , we observed a significant defect in motor neuron pool differentiation . In both Hoxc6 and Hoxa6/c6 double mutants the number of Pea3+ MNs was markedly reduced , while the Scip+ pool was relatively spared ( Figure 4A\\u20134D , Figure S6E ) . Because LMC neuron numbers are reduced overall in Hoxc6 mutants we quantified the number of Pea3+ and Scip+ MNs as a percentage of the total number of LMC neurons generated . Within the rostrocaudal limits of the pool , Pea3 MNs account for 30% of all LMC neurons; and in Hoxc6 mutants this number was reduced to 12% ( Figure 4B ) . Scip+ MNs account for 35% of LMC neurons within its limits , and in Hoxc6 mutants , this number was 32% ( Figure 4D ) . Thus Hoxc6 is selectively required for the normal appearance of the Pea3 pool , independent of its role in LMC specification , but only has a minor contribution to Scip+ LMC neurons . In mice , Pea3 is expressed by MNs that target the cutaneous maximus ( CM ) muscle , whereas Scip+ MN pools project along the median and ulnar nerve [26] , [35] . To further assess the impact of loss of Hoxc6 on MN development , we bred Hox6 mutant mice to a line in which all MNs are labeled with GFP ( Hb9::GFP mice ) [36] , [37] and analyzed motor axon projections in the limb . In Pea3 mutants , motor axons project to the CM but fail to branch and arborize the muscle [35] . Consistent with a loss of the Pea3+ MN pool there was a drastic reduction in the arborization of the CM in Hoxc6 mutants ( Figure 5A\\u20135D , Figure S6A\\u2013S6D ) . In addition distal branches of the musculocutaneous nerve were poorly formed ( Figure 5A\\u20135D , Figure S6A\\u2013S6D ) , suggesting that Hoxc6 may have roles in the specification of additional pools that cannot yet be defined by unique molecular markers . Interestingly , projections along the ulnar nerve were not reduced , but instead displayed supernumerary branches at the distal end , which were atypically directed towards the paw at e12 . 5 and e13 . 5 ( Figure 5B , 5D; Figure S6B , S6D ) . We considered the possibility that the ulnar nerve might receive innervation from LMC neurons that have lost Pea3 . To test this we injected Rhodamine ( RhD ) dextran tracers into the ulnar nerve and assessed the molecular identity of retrogradely labeled MNs . In control animals all RhD-labeled MNs expressed Scip , while in Hoxc6 mutants many RhD+ Scip\\u2212 neurons were observed ( Figure 5E , Figure S7A\\u2013S7C ) . Many of these RhD+ Scip\\u2212 MNs were located more rostral to the Scip pool , occupying a position where Pea3+ MNs would normally reside ( Figure S7 ) . Thus Hoxc6 is required for the specification of Pea3+ CM MNs , and in the absence of this program many motor axons appear to acquire the projection characteristics of ulnar MNs . Collectively , our findings suggest that while multiple Hox genes share a common function in promoting LMC fates they diverge with respect to MN pool specification . To understand the basis for the differential activities of Hox proteins in MNs we searched for intrinsic domains that contribute to their MN-specific activities in vivo . We decided to focus on Hoxc6 for this analysis as it is initially expressed by the majority of brachial LMC neurons , its activities are required for normal LMC generation , the specification of the Pea3+ pool , and it can extinguish Hoxc9 through its repressive functions . We first asked whether the capacity of Hoxc6 to promote the identity of the Pea3 pool reflects a specific activity of this particular Hox gene . Consistent with a restricted role in promoting Pea3+ MN fates , we find that Hoxc6 can induce Pea3 in a subset of the ectopic FoxP1+ LMC neurons generated after thoracic misexpression ( Figure 6A , 6B ) . In contrast , thoracic expression of Hoxa5 , Hoxa6 , Hoxa7 , and Hoxc8 failed to induce expression of Pea3 within the ectopic LMC population ( Figure 6C\\u20136F and data not shown ) . Thoracic Hoxc6 expression is therefore sufficient to promote both columnar and pool fates at thoracic levels , and its Pea3 pool promoting activity appears to be unique to Hoxc6 . Next we defined regions that contribute to the ability of Hoxc6 to induce columnar and pool fates . We first tested the activities of chimeras between the N-terminus of Hoxc6 ( containing all amino acids up to the homeodomain ) and the homeodomains of heterologous Hox proteins . Fusion of the Hoxc6 N-terminus to the homeodomain ( HD ) of the \\u201cLMC-neutral\\u201d Hox protein , Hoxc4 ( Figure 3B ) , activated high levels of Foxp1 at thoracic levels ( Figure 6G , 6H ) . Thus the LMC inducing actions of Hoxc6 can be transferred to a Hox protein that normally cannot induce LMC fates . However , this chimera failed to induce expression of the pool marker Pea3 , and many MNs continued to express Hoxc9 ( Figure 6I , 6J ) . Similarly , fusion of the Hoxc6 N-terminus to the HD of Hoxc8 induced an LMC fate , but failed to promote Pea3 expression ( Figure 6K , 6L ) . These observations indicate that Hox proteins rely on the activities of both the N-terminal and HD sequences , with the N-terminal region sufficient for LMC induction and the N-terminal+HD controlling aspects of MN pool specification . Thus while early LMC programs are initiated through activities presumably common to many Hox proteins , pool-restricted actions require a coherent N-terminal and HD region ( Figure 6M ) . Hox proteins are known to contain peptide motifs that confer activation and repression of target genes independent of the homeodomain [38]\\u2013[40] , although how these activities contribute to MN columnar and pool identities are unclear . Based on our analysis of Hox chimeras we next asked whether the actions of Hoxc6 in LMC specification are mediated through modules in the N-terminus . Specifically we sought to define whether there are specific domains that determine how Hoxc6 promotes LMC fate , the specification of the Pea3 pool , and represses Hoxc9 . To further define regions in Hoxc6 that contribute to its in vivo specificities we generated and characterized a series of HA-tagged deletion constructs and point mutations in Hoxc6 . To discriminate between activities that influence DNA binding from those that affect target gene regulation , we tested the capacity of mutant derivatives to bind Hox recognition elements . To accomplish this we first needed to identify cognate sequences that are bound by Hoxc6 in vivo . Because Foxp1 is regulated by Hox proteins we searched for potential Hox sites within the Foxp1 locus . In silico analysis using the Vista enhancer browser [41] suggested a potential Hox-dependent enhancer upstream of Foxp1 transcription start site . This enhancer ( Foxp1/hs1149 ) is highly conserved amongst vertebrates and drives high levels of expression at limb levels of the spinal cord , and lower levels thoracically ( Figure 7A ) . To test whether this element is regulated by Hox genes in vivo we bred a Foxp1/hs1149::LacZ line to Hoxc9 mutants , in which all brachial Hox genes are derepressed at thoracic levels . This analysis revealed ectopic expression of hs1149::LacZ at thoracic levels ( Figure 7A ) . These results identify a Hox-regulated element that targets the normal rostrocaudal domain where Foxp1 expression is highest . We next used gel mobility shift assays to determine if Hox proteins could bind the hs1149 element . Since Pbx cofactors are generally necessary for high affinity Hox binding , we performed binding assays in the presence of Pbx3 , a Pbx protein expressed by MNs . Scanning of the \\u223c1 kb hs1149 enhancer identified a single potential binding site ( TGAATTATCA ) , which generally conforms to the Hox/Pbx consensus [21] . We observed that Hoxc6 and Pbx3 cooperatively bound to this site in vitro ( Figure 7B ) . To test whether Hox proteins bind this element in vivo we performed chromatin immunoprecipitation ( ChIP ) assays on chromatin prepared from e13 . 5 brachial and thoracic-level spinal cord using a Hoxc6 antibody . ChIP analysis revealed specific binding by Hoxc6 at brachial levels , but not at thoracic levels ( Figure 7C ) , indicating the hs1149 element is bound by Hoxc6 in vivo . Using gel mobility shift assays we then tested the ability of Hoxc6 mutant derivatives to bind the hs1149 element , as well as an optimized Hox consensus binding site ( Fkh250con* ) [22] , [42] . We first tested the binding properties of mutant derivatives that would in principle preserve DNA recognition ( i . e . retain the homeodomain [HD] and Pbx interaction motif [YPWM] ) but might influence Hoxc6 activities at target sites . We tested the binding of two large N-terminal deletions , Hoxc6N\\u039491 and Hoxc6N\\u0394111 , finding that both deletions cooperatively bound with Pbx3 to Foxp1/hs1149 and Fkh250con* , although with slightly reduced affinity ( Figure 7D ) . In contrast a mutation of the conserved Pbx interaction motif ( YPWM->AAAM ) failed to display cooperative binding of Hoxc6 and Pbx3 to Foxp1/hs1149 or Fkh250con* ( Figure 7D ) . To test the in vivo activities of Hoxc6 mutant derivatives , we assessed their ability to influence MN differentiation at thoracic levels , using chick electroporation . To ensure that epitope tagged proteins were stable and that expression levels were similar amongst mutant derivatives , we monitored nuclear HA localization in electroporated cells and expressed mutant proteins at levels that were qualitatively similar to a HA-tagged wildtype Hoxc6 construct ( Figure 8B ) . Expression of the large N-terminal deletion ( Hoxc6N\\u0394111 ) at thoracic levels was inefficient in promoting Foxp1 , Raldh2 , Pea3 , and repressing Hoxc9 expression ( Figure 8F ) , indicating that the N-terminus is essential for Hoxc6 actions , independent of its ability to bind DNA . We next tested the activities of additional deletion constructs within the N-terminus . Deletion of the first 13 amino acids , containing the highly conserved \\u201cSYF\\u201d motif present in the N-terminus of many Hox proteins , did not affect the ability of Hoxc6 to induce Foxp1 , Raldh2 , Pea3 or repress Hoxc9 at thoracic levels ( Figure 8C ) . Further deletion of the N-terminal 64 amino acids ( Hoxc6N\\u039464 ) abrogated the capacity of Hoxc6 to repress Hoxc9 , as neurons co-expressed both the deletion mutant and Hoxc9 ( Figure 8D ) . Notably , the Hoxc6N\\u039464 induced Foxp1 and Raldh2 expression , although this derivative was unable to generate Pea3+ MNs ( Figure 8D ) . Hoxc6 can thus program LMC fate , even in the presence of a Hox protein that normally promotes thoracic fates . Further analysis revealed a requirement for amino acids 105\\u2013111 to activate LMC genes , as deletions up to amino acid 104 continued to induce high Foxp1 and Raldh2 expression ( Figure 8E , 8F ) . These results indicate that the Hoxc6 N-terminus contains modular domains that are essential for diverse aspects of Hoxc6 function . Because Hox proteins often require cooperative interactions with Pbx proteins to bind DNA , we also examined the consequences of mutating the YPWM motif ( Hoxc6IM: YPWM->AAAM ) . Surprisingly expression of Hoxc6IM did not alter the capacity of Hoxc6 to repress Hoxc9 or to induce high Foxp1 levels and Raldh2 at thoracic levels ( Figure 9B ) . Because Hoxc6IM retains the capacity to repress Hoxc9 , and deletion of Hoxc9 in mice leads to the derepression of brachial Hox genes at thoracic levels [26] , we considered the possibility that expression of Hoxc6IM causes ectopic Hox4\\u2013Hox8 gene expression , and that these in turn activate the LMC program . However , we did not observe ectopic brachial Hox gene expression after expression of Hoxc6IM at thoracic levels ( data not shown ) , possibly because Hoxc9-mediated repression is established prior to the time Hoxc6IM is expressed . These observations suggest that either Pbx interactions are dispensable for LMC specification , or that the LMC neurons produced under these conditions reflect the actions of Hox proteins resident to the thoracic spinal cord whose functions are unmasked through suppression of Hoxc9 . To test this idea we generated a Hoxc6 derivative in which both the Hoxc9 repression domain ( N\\u039491 ) and YPWM motif were mutated , but retained the intrinsic activation domain ( aa 105\\u2013111 ) . While Hoxc6 N\\u039491 cooperatively bound with Pbx3 to the hs1149 element and Fkh250con* and activated LMC genes ( Figure 9A and Figure 7D ) , the combined N\\u039491/IM mutant failed to bind or reprogram thoracic MNs to an LMC fate ( Figure 9C and Figure 7D ) . Thus only through removal of both the Hoxc9 repression domain and Pbx interaction motif is the ability of Hoxc6 to promote LMC fate lost . These results suggest that Hoxc6 can promote LMC identity through two distinct mechanisms 1 ) Pbx-independent restriction of Hoxc9 and 2 ) Pbx-dependent interactions with Foxp1 , activities that are separable ( Figure 9D ) . Together these data indicate Hoxc6 contains specific motifs required for LMC induction , cross-repressive interactions , and pool specification , with LMC induction mediated by redundant activities of Hox cross repression and cooperative interactions with Pbx proteins . \\n While experiments in chick have implicated Hox6 gene function in the specification of brachial LMC neurons , we find in mice lacking all Hox6 activity that LMC neurons are still generated , although significantly reduced in numbers . In the absence of Hox6 genes the forelimb LMC program appears to be maintained by a large set of Hox5\\u2013Hox8 genes , which likely act by promoting high levels of Foxp1 expression in MNs . This idea is supported by the observations that multiple Hox paralogs are expressed by brachial MNs , and that Hox5\\u2013Hox8 proteins can convert PGC neurons to an LMC identity when expressed at thoracic levels . Thus a diverse group of Hox proteins promote columnar identities , through regulating a common set of genes capable of interpreting Hox inputs from several paralog groups . Similar redundant activities amongst diverse Hox paralogs have been demonstrated during haematopoiesis [43] , suggesting that in certain cellular contexts key target effectors may permissively engage any Hox protein present . The non-selective Hox inputs to LMC-restricted genes may further explain the ability of a dominant repressor form of Hoxc6 to inhibit LMC specification [11] , by superseding the compensatory actions of Hox5\\u2013Hox8 proteins . Why then do so many Hox genes contribute to LMC identity ? The simplest explanation is that it represents an extreme example of functional redundancy , ensuring that spurious Hox mutations do not lead to devastating consequences for the organism . Alternatively , it may reflect a strategy employed to allow individual Hox proteins to exert distinct functions in MN pool specification , with redundant Hox factors serving the role of maintaining LMC identity over the course of MN differentiation . The Hox protein most closely aligned with the brachial LMC , Hoxc6 , displays a dynamic expression pattern during LMC differentiation , with many MNs attenuating Hoxc6 expression shortly after columnar identity is established . This pattern may allow for MN pool subtypes that might otherwise be inhibited by the presence of Hoxc6 to retain an LMC fate , while simultaneously acquiring a unique pool identity . The logic of the limb-level Hox network in MNs contrasts with the columnar program at thoracic levels of the spinal cord , which is largely mediated through the actions of a single Hox gene , Hoxc9 [26] . In addition to maintaining low levels of FoxP1 in PGC neurons , an essential function of Hoxc9 is to restrict expression of Hox4\\u2013Hox8 genes to brachial levels . Thus while brachial MNs express many Hox factors that appear to act on common LMC targets , thoracic MNs express relatively few Hox genes , one of which operates to restrict expression of multiple Hox genes , in an apparently selective manner . The distinct transcriptional strategies employed at these two levels of the spinal cord are therefore uniquely geared towards either confining or expanding the diversity of MN subtypes , in accordance with the relative complexity of the target tissues they innervate . Although individual Hox genes are largely dispensable for early programs of LMC differentiation , they are critical in the specification of motor neuron pools . While Hoxc6 mutants display no significant LMC losses in caudal brachial regions , the MN pool defined by Pea3 is markedly reduced in size . Presumably the LMC is preserved in this region due to compensatory actions of Hoxa7 and Hoxc8 , which maintain high FoxP1 levels but are apparently insufficient to promote the normal pattern of Pea3 expression . This differential effect on columnar and pool specification likely reflects distinct Hox specificities in the regulation of target effectors , with LMC determinants like Foxp1 and Raldh2 integrating multiple Hox inputs , and pool specific genes relying on specific Hox gene activities . This mechanism mirrors the \\u201csemi-paralog specific\\u201d and \\u201cparalog-specific\\u201d activities of Hox proteins observed in Drosophila [17] . Our data indicate that these distinct modes of Hox-dependent gene regulation operate when neurons are confronted by multiple Hox proteins within the same cell . Previous studies in chick indicate that the specification of the MN pools defined by Pea3 and Scip expression involve the combinatorial interactions between multiple Hox proteins and their cofactors , including Hoxc4 , Hoxc6 , Hoxc8 and Meis1 [10] . It is somewhat surprising that expression of Hoxc6 is sufficient to direct the specification of the Pea3 pool independent of these factors . This finding however appears to reflect how the network operates within the LMC . A primary function of Hoxc8 and Hoxc4 is to exclude Meis1 from a subset of MNs , with Hoxc6 acting to promote Pea3 expression within the context of a Meis1\\u2212 LMC neuron [10] . Thoracic MNs contain an endogenous subpopulation that lacks Meis1 ( J . Dasen unpublished observation ) , allowing Hoxc6 to promote a Pea3+ pool identity . Thus while individual Hox proteins can promote pool fates , these activities are normally constrained by the actions of other Hox proteins in the network , and can only operate in the context of a MN that has been programmed to an LMC identity . While regions outside the homeodomain that contribute to the specificities of Hox proteins in Drosophila have been well documented [44]\\u2013[47] , few studies have defined functional motifs in the vertebrate nervous system . Our analysis of regulatory domains within the Hoxc6 protein provides insight into the mechanisms through which Hox proteins contribute to MN columnar and pool identities . We find that Hoxc6 contains N-terminal motifs that are critical for deployment of LMC programs as well as cross-repressive functions , independent of its core DNA binding domain . Surprisingly either of these activities is sufficient to promote LMC identity . Removal of the Hoxc9 repression domain does not affect Hoxc6's capacity to generate LMC neurons at thoracic levels , even in the presence of an inhibitory Hox program . The underlying mechanism for this phenomenon likely reflects how Hox proteins regulate LMC-targets , such as Foxp1 . Foxp1 is induced at low levels by Hoxc9 in thoracic MNs , and thus appears to be equally capable of receiving inputs from both limb and thoracic-level Hox proteins . Forced expression of LMC Hox determinants ( Hox5\\u2013Hox8 paralogs ) presumably acts by overriding the dampening influence of Hoxc9 , perhaps by competing for binding sites . This idea is supported by the observation that Hox5\\u2013Hox8 proteins can induce aspects of LMC differentiation without suppressing Hoxc9 . During normal development this process is likely played out in two distinct contexts: at the border between brachial and thoracic spinal cord , where many LMC MNs express low levels of Hoxc9 [26] , and within the LMC where FoxP1 is maintained by pools of MNs which have lost Hoxc6 expression . Competitive and compensatory interactions between Hox proteins at genomic targets therefore may be more generally utilized in MNs both as means to generate diversity and to allow for certain gene programs to be maintained in the face of dynamic transcription factor profiles . Our findings indicate that suppression of Hoxc9 is a condition sufficient to promote LMC fates even in the absence of a functional LMC Hox protein . When the Pbx interaction motif is deleted from Hoxc6 , Hoxc9 is still repressed and LMC neurons are generated , although Hoxc6 presumably will no longer have a direct impact on activating the LMC program . One plausible explanation for this result is that the suppression of Hoxc9 unmasks the activities of Hox proteins that are endogenous to the thoracic spinal cord that have the capacity to activate high levels of Foxp1 ( Figure 9D ) . While the identity of these Hox proteins is unclear , they may include more broadly expressed Hox genes ( e . g . Hoxd4 [48] ) or the activities of \\u201cbrachial\\u201d Hox genes , such as Hoxa7 and Hoxc8 , which are expressed at low levels in chick thoracic spinal cord [10] . Thus we favor a model in which in the absence of Pbx interactions , the repressive influence of Hoxc6 on Hoxc9 is retained , and LMC neurons are generated through a Pbx-dependent mechanism that utilizes Hox proteins resident to thoracic levels of the spinal cord ( Figure 9 ) . This idea is consistent with studies in flies indicating that Hox proteins repress targets in the absence of Pbx interactions where they bind as monomers [49] . In addition our observations may also account for the finding that when similar Pbx-interaction mutations are generated in the lumbar LMC-determinant Hoxd10 , LMC fates are induced when expressed at thoracic levels [50] . Collectively these studies add to emerging evidence that the specific actions of Hox proteins are defined through peptide modules that shape both the selection of DNA targets , and gate the activities of Hox proteins once bound to a site [17] , [38] , [39] , [44] , [51] . While the precise mechanisms that determine how Hox proteins deploy their restricted actions in MNs are unresolved , they likely rely on gene-specific interactions of Hox proteins with other transcription factors or cosignaling partners [17] . Our studies indicate that the subfunctionalization of Hoxc6 , and Hox proteins in general , into motifs that confer the activation and repression at multiple gene targets can expand the repertoire of Hox function even within a single cell , allowing them to execute their multifaceted roles during cellular differentiation . \\n The Hox6 mutant strains [33] , and the Hb9::GFP line [36] , have been described previously . Electroporation was performed on stage 12 to 16 chick embryos as described [11] . Results for each experiment are representative of at least three electroporated embryos from three or more independent experiments in which the electroporation efficiency in MNs was >60% . The amount of pCAGGs plasmid DNA in each electroporation was titrated to achieve levels of expression qualitatively similar to endogenous expression levels , typically in the range of 100\\u2013300 ng/\\u00b5l , using pBKS as carrier DNA ( 1 . 8\\u20132 \\u00b5g/\\u00b5l ) . Electroporations of mutant and chimera Hox derivatives were optimized to ensure qualitatively similar levels of expression to endogenous Hox levels by comparing HA-wildtype Hoxc6 to non-tagged Hoxc6 , and comparing HA-tagged Hoxc6 to HA-tagged mutant derivatives . Stability of expression of these constructs was determined by the presence of nuclear HA staining . Chromatin immunoprecipitation was performed as previously described [26] . Briefly , brachial and thoracic spinal cords were dissected from e13 . 5 mouse embryos . Tissues were homogenized in 1 . 1% formaldehyde , chromatin was extracted and fragmented to 500\\u20131000 bp by sonication and chromatin extracts were subjected to immunoprecipitation with either specific antibodies or species-matched IgGs . Antibodies used were goat anti-mouse Hoxc6 ( Santa Cruz ) or rabbit ant-mouse Hoxc6 ( Abcam ) . Genomic regions were amplified using Sybr Green PCR Master Mix ( Applied Biosystems ) and detected with Mx 3005P real-time PCR apparatus ( Stratagene ) . Fold enrichment was calculated over IgG using the \\u0394\\u0394Ct method: fold enrichment\\u200a=\\u200a2\\u2212 ( \\u0394\\u0394Ct ) , where \\u0394\\u0394Ct\\u200a= ( CtIP\\u2212CtInput ) \\u2212 ( CtIgG\\u2212CtInput ) . pET-14b plasmids carrying His-tagged constructs were used to transform BL21 pLys bacterial strain and protein expression was induced by 0 . 5 mM IPTG at room temperature overnight . Bacteria were lysed under native conditions in lysis buffer ( 50 mM Tris pH 7 . 5 and 100 mM NaCl ) followed by sonication . The supernatant was incubated with Ni-NTA agarose beads at 4\\u00b0C for 1 . 5 hours and washed three times in buffer containing 50 mM Tris pH 7 . 5 , 300 mM NaCl , 20 mM imidazole and 0 . 5% Igepal CA-630 . Recombinant proteins were eluted in 50 mM Tris pH 7 . 5 , 300 mM NaCl , 250 mM imidazole and dialyzed overnight in 50 mM Tris-HCl pH 8 and 150 mM NaCl . Oligonucleotides containing putative Hox binding sites were annealed to an IRDye-800 labeled linker ( IRD800-AGCTGTGGGACGAGG ) . Double stranded probes were synthesized using Klenow DNA polymerase . Binding between recombinant proteins and DNA probes was performed in binding buffer containing 50 mM Tris-HCl pH 7 . 5 , 250 mM NaCl , 5 mM MgCl2 , 20% Glycerol , 2 . 5 mM DTT , 2 . 5 mM EDTA pH 8 , 250 ng/\\u00b5L poly dIdC and 0 . 1% BSA for 20 minutes at room temperature . For each binding assay equivalent molar amounts ( 0 . 5\\u20132 pmol/reaction ) of recombinant protein were used . Binding reactions were resolved on a non-denaturing acrylamide gel and the IRDye-800 was detected using the Odyssey system ( Li-Cor ) . In situ hybridization and immunohistochemistry were performed on 16 \\u00b5m cryostat sections as described [52] . Whole-mount antibody staining was performed as described [14] and GFP-labeled motor axons were visualized in projections of confocal Z-stacks ( 500\\u20131000 \\u00b5m ) . Antibodies against Hox proteins , LIM HD proteins , and other proteins were generated as described [10] , [27] , [28] , [52] . Retrograde labeling of MNs was performed as described [28] . Procedures involving animals abide by the NYUMC policy on the care and use of laboratory animals . Experiments involving animals are not conducted unless approved by the Institutional Animal Care and Use Committee ( IACUC ) . We do not work with a species or procedure , including euthanasia , with which I and those members of my research staff involved in this project are not experienced , without first seeking the advice and instruction of a veterinarian from the Division of Laboratory Animal Resources , consult the Division of Laboratory Animal Resources as circumstances require . To the best of my knowledge , the research does not unnecessarily duplicate previous research with respect to the use of laboratory animals . We comply with all requests for data as may be required by governmental and institutional guidelines . We seek the approval of the Institutional Animal Care and Use Committee on all procedures which involve laboratory animals .\",\n          \"Ym1 and RELM\\u03b1 are established effector molecules closely synonymous with Th2-type inflammation and associated pathology . Here , we show that whilst largely dependent on IL-4R\\u03b1 signaling during a type 2 response , Ym1 and RELM\\u03b1 also have IL-4R\\u03b1-independent expression patterns in the lung . Notably , we found that Ym1 has opposing effects on type 2 immunity during nematode infection depending on whether it is expressed at the time of innate or adaptive responses . During the lung migratory stage of Nippostrongylus brasiliensis , Ym1 promoted the subsequent reparative type 2 response but once that response was established , IL-4R\\u03b1-dependent Ym1 was important for limiting the magnitude of type 2 cytokine production from both CD4+ T cells and innate lymphoid cells in the lung . Importantly , our study demonstrates that delivery of Ym1 to IL-4R\\u03b1 deficient animals drives RELM\\u03b1 production and overcomes lung repair deficits in mice deficient in type 2 immunity . Together , Ym1 and RELM\\u03b1 , exhibit time and dose-dependent interactions that determines the outcome of lung repair during nematode infection . \\n Type 2 immunity is an important component of host defense against helminth infections [1] . Murine infection with the lung migrating nematode , Nippostrongylus brasiliensis , elicits a strongly polarised type 2 response , characterised by IL-4 , IL-13 , IL-5 and IL-9 cytokines . This response is induced once larvae migrate through the airways to take up residence in the intestine [2] . Binding of IL-4/IL-13 via the IL-4 receptor subunit alpha ( IL-4R\\u03b1 ) is essential for the efficient induction of a type 2 response . IL-4R\\u03b1-signaling has been shown to be important not only for parasite expulsion [3] but also for restoration of lung tissue integrity following larval migration and acute neutrophilic inflammation [4] . After engagement of IL-4R\\u03b1 in mice , the expression of chitinase-like protein , Ym1 ( Chil3 ) and resistin-like molecule alpha ( RELM\\u03b1; Retnla ) are upregulated in many cell types , including epithelial cells . Due to their abundant expression in macrophages , Ym1 and RELM\\u03b1 are hallmarks of the alternatively activated or M ( IL-4 ) phenotype [5\\u20138] . Whilst we do not yet fully understand the interactions and downstream targets of these molecules , it is clear that both Ym1 and RELM\\u03b1 are important regulators of type 2 immunity [9\\u201311] . As such there is a great deal of interest surrounding the function of these effector molecules and their relationship to inflammation and pathology . Chitinase-like proteins ( CLPs ) are structurally related to chitinases , enzymes that are host-protective through their ability to hydrolyse chitin [12] . Loss-of-function mutations following gene duplication of chitinases , rendered CLPs enzymatically inactive and yet mammalian CLPs appear to be major players during inflammation and pathology [13 , 14] . CLPs are highly expressed during arthritis [15] , cancer [16] , fibrosis [17] , asthma/allergy [18 , 19] and helminth infection [20 , 21] , conditions that are often but not exclusively associated with type 2 dominated responses . Along with Ym1 , RELM\\u03b1 , a cysteine-rich secreted protein , is strongly upregulated during type 2 responses [21 , 22] and expression of both proteins is typically indicative of a strongly polarized type 2 response . There are contrasting findings regarding the role of RELM\\u03b1 during pathology , with reports indicating RELM\\u03b1 can promote [23 , 24] or dampen inflammation [10 , 11] suggesting these roles are highly context dependent . RELM\\u03b1 and Ym1 are often co-expressed in macrophages [6] , epithelial cells [25] , dendritic cells [26] and neutrophils [27] and in many scenarios , mutually dependent on IL-4R\\u03b1 [5] and STAT6 signaling [28 , 29] . Nonetheless , expression of Ym1 ( by macrophages and neutrophils ) and RELM\\u03b1 ( by granulocytes and epithelial cells ) is readily detectable in the lungs in the absence of type 2 inflammation [22 , 30 , 31] and Ym1 and RELM\\u03b1 can be expressed independently of one another [32\\u201335] . Herein , we aimed to explore the relationship between Ym1 and RELM\\u03b1 in the lungs , both during homeostasis and N . brasiliensis infection , with a particular emphasis on the contribution of IL-4R\\u03b1 signaling . Our results revealed that innate IL-4R\\u03b1-independent Ym1 plays a role in initiating an appropriate type 2 response that occurs later during infection . Conversely IL-4R\\u03b1-dependent Ym1 limited type 2 immune responses . We additionally found that Ym1 was able to promote epithelial derived RELM\\u03b1 and mediate tissue repair , and that these actions occurred even in the absence of IL-4R\\u03b1 signaling . RELM\\u03b1 was important for lysyl hydroxylase expression and tissue repair in the lung following infection-induced pathology , consistent with the ability of RELM\\u03b1 to orchestrate collagen cross-linking in the skin [36] . Together these results demonstrate differential roles for Ym1 depending on the stage of nematode infection , with the novel finding that it can directly promote repair and induce the pro-fibrotic protein RELM\\u03b1 . \\n We examined the IL-4R\\u03b1-dependency of Ym1 and RELM\\u03b1 expression in the lung in the naive state and during innate or adaptive type 2 immune responses . Whilst Ym1 and RELM\\u03b1 expression is readily detectable in the uninfected lungs of both wild-type and IL-4R\\u03b1-deficient mice ( Fig 1a and 1b ) , Il4ra-/- mice have significantly less RELM\\u03b1 compared to wild-type controls ( Fig 1a and 1b ) . Following infection with N . brasiliensis , the expression and secretion of Chil3 ( Ym1 ) and Retnla ( RELM\\u03b1 ) in the lung and BAL respectively , increased over time in both Il4ra-/- and wild-type mice ( Fig 1a and 1b ) . However , RELM\\u03b1 levels were significantly lower in IL-4R\\u03b1-deficient mice at all time points apart from day 4 . In contrast to RELM\\u03b1 , there was no significant difference in Ym1 levels between genotypes in naive animals ( Fig 1b ) , but there was an initial delay in upregulation of Chil3 expression in Il4ra-/- at day 2 post-infection ( Fig 1a ) . By day 6 post-infection , a time coinciding with adaptive immunity and an established type 2 response , both RELM\\u03b1 and Ym1 expression was significantly reduced in IL-4R\\u03b1-deficient mice compared to BALB/c wild-type mice ( Fig 1a and 1b ) . Nonetheless , for both proteins there were significant increases in expression during infection independent of IL-4R\\u03b1 signaling . To determine whether it is specific cell types that maintain expression of Ym1 and RELM\\u03b1 in the absence of IL-4R\\u03b1 signaling , lung sections were assessed by immunofluorescence ( Fig 1c and S1a Fig ) . Airway epithelial cells are known to make a large contribution to the secreted levels of Ym1 and RELM\\u03b1 during type 2 immune responses in the lungs [10 , 30] . Consistent with this , RELM\\u03b1 was strongly expressed by lung epithelial cells at day 6 post infection . However , few Ym1+ epithelial cells were observed in lung sections and the majority of Ym1 appeared to be expressed in the myeloid compartment ( Fig 1c and S1a Fig ) . RELM\\u03b1+ myeloid cells could also be identified in lung sections but at a much lower intensity compared to the airway epithelium ( Fig 1c and S1a Fig ) . At day 4 , epithelial derived RELM\\u03b1 was largely independent of IL-4R\\u03b1 expression ( Fig 1c and 1d ) , coinciding with equivalent RELM\\u03b1 protein levels in the BAL of wild-type and Il4ra-/- mice ( Fig 1b ) . However , by day 6 post-infection , IL-4R\\u03b1-dependence of RELM\\u03b1 expression was evident in the airway epithelium ( Fig 1c ) , and areas of RELM\\u03b1 positivity were significantly reduced in lungs from Il4ra-/- compared to wild-type mice ( Fig 1d ) . Similarly , Ym1+ staining was reduced in lung sections from Il4ra-/- compared to wild-type mice at day 6 ( Fig 1e ) . Intracellular flow cytometry of Ym1 and RELM\\u03b1 was used to determine whether specific myeloid cells were affected by the absence of IL-4Ra signaling ( S1b\\u2013S1d Fig ) . In uninfected mice , regardless of IL-4R\\u03b1 expression , alveolar macrophages and neutrophils made up the predominant pool of Ym1+ cells , whilst RELM\\u03b1 expression appeared limited to DC populations and granulocytes ( S1c and S1d Fig ) . Infection led to an unexpected reduction in the frequency of Ym1+ alveolar macrophages and neutrophils likely reflective of active secretion of intracellular proteins ( S1d Fig ) . Notably , the loss of Ym1 expression in neutrophils was dependent on IL-4R\\u03b1 expression suggesting that signaling through the receptor may mediate Ym1 release . Whilst a significant reduction in Ym1+ monocyte-derived dendritic cells ( MoDCs ) and DCs were observed in IL-4R\\u03b1-/- compared to wild-type mice , the overall contribution of these cell types to the pool of secreted Ym1 is likely to be limited ( S1d Fig ) and probably does not explain the overall reduction in the Ym1+ area in stained lung sections ( Fig 1c and 1e ) . However , routine tissue digestion may not release all myeloid cell populations for flow cytometry with some resident myeloid populations only detectable by staining lung sections . Unlike Ym1 , which is predominantly produced by macrophages and neutrophils following infection , many different cell types appear to contribute to RELM\\u03b1 production in the lungs ( S1c and S1d Fig ) . Reduced numbers of RELM\\u03b1+ interstitial macrophages ( IMs ) , MoDCs , DCs , eosinophils and epithelial cells ( S1a , S1c and S1d Fig ) were together responsible for reduced RELM\\u03b1 secretion in IL-4R\\u03b1-/- mice ( Fig 1b ) . Together these results demonstrated that high level expression of both Ym1 & RELM\\u03b1 is IL-4R\\u03b1-dependent in the context of nematode infection of the lung , extending other studies [25 , 32 , 37] . However , they also revealed an important contribution of IL-4R\\u03b1-independent pathways for Ym1 and RELM\\u03b1 expression , which was particularly evident for Ym1 prior to full establishment of the adaptive type 2 response . Surprisingly , IL-4R\\u03b1-independent expression of RELM\\u03b1 and Ym1 was observed in all cell types examined , with the exception of MoDCs , whereby infection-induced Ym1 was strongly IL-4R\\u03b1-dependent . We have previously found that IL-4R\\u03b1-independent Ym1 expression during the steady state and early N . brasiliensis infection ( days 0\\u20134 ) drives expansion of innate \\u03b3\\u03b4 T cell populations expressing IL-17A [9] . In that study we found that increased IL-17A was needed for the induction of a competent type 2 response [9] . We therefore hypothesised that innate Ym1 might regulate the subsequent type 2 response during nematode infection . To test this , N . brasiliensis infected BALB/c wild-type mice were administered intraperitoneally with a neutralising mouse monoclonal antibody against Ym1 or an isotype matched control antibody ( Fig 2a ) [9 , 38] . At day 6 post-infection the increase in Il5 and Il13 mRNA expression in total lung was significantly reduced following anti-Ym1 treatment whilst Il4 was not significantly altered ( Fig 2b ) . As both innate lymphoid cells ( ILCs ) and Th2 cells are major producers of type 2 cytokines during infection in the lung , we examined these two cell populations following PMA and ionomycin stimulation of single cell suspensions . As expected , the absolute number of ILCs and CD4+ T cells expressing type 2 cytokines were increased in the lungs following infection , with approximately 10-fold greater numbers of CD4+ T cells than ILCs ( Fig 2c and 2d ) . Anti-Ym1 significantly reduced the numbers of IL-5- and IL-13-producing ILCs in the lung ( Fig 2c ) . Reduced ILCs together with a significant reduction in the numbers of IL-13+ CD4+ T cells ( Fig 2d ) , likely contributed to the overall reduction in type 2 cytokine expression in the lung ( Fig 2b ) . The effect of Ym1 on the type 2 response was not restricted to the lungs of infected mice , as anti-Ym1 treatment also reduced basal splenocyte cytokine secretion and anti-CD3 stimulated IL-5 and IL-13 but had no effect on IL-4 secretion ( S2a Fig ) . Consistent with the dependence of RELM\\u03b1 expression on IL-4R\\u03b1 signaling described above ( Fig 1 and S1 Fig ) , RELM\\u03b1 secretion was reduced following anti-Ym1 treatment ( Fig 2e ) . In addition , eosinophil influx in infection , a response highly dependent on IL-5 [39] , was also reduced following anti-Ym1 treatment ( Fig 2f ) . Our data showed that innate sources of Ym1 promoted the development of type 2 immunity leading us to examine whether Ym1 also regulated type 2 immunity once the adaptive type 2 response was initiated ( > day 4 ) . We therefore administered anti-Ym1 to N . brasiliensis infected mice between days 3\\u20135 ( Fig 3a ) . Anti-Ym1 treatment at this later stage of infection had no effect on the expression of Il4 , Il5 and Il13 in whole lung tissue ( Fig 3b ) . In uninfected animals , type 2 cytokine production by ILCs contribute to greater than half IL-13 and IL-5 production in the lungs ( S2b Fig ) . However , in contrast to neutralising innate Ym1 ( Fig 2 ) , neutralising adaptive Ym1 resulted in a significant increase in the absolute numbers , of IL-5+ and IL-13+ ILCs and CD4+ T cells in the lungs of infected mice ( Fig 3c and 3d ) , but did not change the proportion of cells that contributed to IL-5 and IL-13 production ( S2b Fig ) . The effects of anti-Ym1 treatment were not restricted to the lungs , as IL-4 , IL-5 and IL-13 secretion from splenocyte restimulation were also increased in treated mice ( S2c Fig ) . Despite the small but significant increases in type 2 cytokines , the absolute numbers of eosinophils in the lungs were not altered by anti-Ym1 treatment ( Fig 3e ) , nor was there an impact on parasite recovery ( S2d Fig ) . Overall , our results demonstrate that Ym1 regulates type 2 cytokine producing ILCs and Th2 cell numbers in the lungs , but with opposing outcomes depending on the stage of the immune response . \\n Herein , we have observed that Ym1 can regulate type 2 immunity ( both positively and negatively ) depending on timing . In addition , we found that Ym1 mediated lung repair . RELM\\u03b1 is similarly implicated in both type 2 regulation and tissue repair [36] [10 , 11] . Ym1 and RELM\\u03b1 are often co-expressed and we have previously observed that RELM\\u03b1 production follows increases in Ym1 [34] . These observations together , led us to consider the possibility that Ym1 may act in part through the induction of RELM\\u03b1 . Strongly supporting this hypothesis was our finding that RELM\\u03b1 levels in the BAL fluid of N . brasiliensis infected wild-type mice were significantly reduced following anti-Ym1 treatment ( day 3\\u20135 ) , an effect not observed on whole lung mRNA expression suggesting post transcriptional regulation ( Fig 5a ) . Importantly , this result cannot be explained by an altered type 2 response , as the timing of anti-Ym1 treatment enhanced IL-5 and IL-13 production ( Fig 3 ) , which would be expected to increase RELM\\u03b1 expression . We examined the intracellular expression of RELM\\u03b1 in lung myeloid cells and observed no reduction in RELM\\u03b1 positivity between IgG2a and anti-Ym1 treated infected mice ( Fig 5b and 5c ) . Only a significant increase in the number of RELM\\u03b1+ MoDCs was seen in the lungs of infected mice following anti-Ym1 treatment . Additionally , anti-Ym1 treatment reduced the proportion of RELM\\u03b1+ neutrophils ( Fig 5c ) , an effect that likely reflects the reduction in type 2 cytokines as seen in IL-4R\\u03b1-/- mice ( S1d Fig ) . In contrast , quantification and visual inspection of RELM\\u03b1 expression by the airway epithelium in histological sections showed that neutralising Ym1 significantly reduced RELM\\u03b1+ fluorescent intensity ( Fig 5d and 5e ) . Thereby , our data demonstrated an ability of Ym1 to enhance RELM\\u03b1 production , particularly from epithelial cells , independent of altered type 2 cytokine expression . Of note , the enhanced type 2 response itself , may be explained by diminished RELM\\u03b1 in anti-Ym1 treated mice , as RELM\\u03b1 has been shown to suppress Th2 cells [10 , 11] . We next tested whether Ym1 alone was sufficient to induce RELM\\u03b1 using an in vivo transfection approach . Wild-type BALB/c mice were intranasally administered a plasmid encoding Ym1 , which led to a specific upregulation of Chil3 mRNA expression in BAL cells relative to pcDNA3 . 1 transfected control mice [9] . Over-expression of Ym1 into the lungs of wild-type mice resulted in a significant increase in RELM\\u03b1 protein secreted into the BAL fluid 48 hrs post-transfection ( Fig 5f ) suggesting Ym1 expression alone was sufficient to regulate RELM\\u03b1 levels . Type 2 responses are essential for rapid resolution of tissue pathology and as such , lungs from mice deficient in IL-4R\\u03b1 signaling exhibit a profound failure to repair following N . brasiliensis infection [4] . However , changes to type 2 cytokine responses following anti-Ym1 treatment could not explain reduced RELM\\u03b1 and delayed tissue repair , although the altered immune response may be a consequent of enhanced tissue damage . We therefore asked whether Ym1 could enhance tissue repair and/or alter RELM\\u03b1 expression independently of the type 2 response . Physiologically relevant levels of recombinant Ym1 observed in the BAL during N . brasiliensis infection ( S2e Fig ) and lung inflammation [42] , was delivered to IL-4R\\u03b1-deficient animals at the time when repair in wild-type mice would usually occur ( days 4 and 5 ) and responses were examined at day 6 post-infection ( Fig 6a ) . As expected , IL-4R\\u03b1-/- mice showed enhanced tissue damage , coinciding with a failure to repair the lungs following infection ( Fig 6b and 6c ) . Remarkably , intranasal administration of Ym1 alone was enough to reverse the effects of loss of IL-4R\\u03b1 and enhance tissue repair to the levels seen in wild-type mice ( Fig 6b and 6c ) . Importantly , accelerated lung repair in Ym1 treated mice did not reflect altered worm burdens in Il4ra-/- mice ( S2f Fig ) . Furthermore , Ym1 specifically increased expression of epithelial cell derived RELM\\u03b1 independently of the IL-4R\\u03b1 ( Fig 6d and 6e ) . Total RELM\\u03b1 secretion into the BAL was not significantly increased in IL-4R\\u03b1-/- mice treated with Ym1 ( Fig 6f ) despite changes to epithelial RELM\\u03b1 production ( Fig 6d and 6e ) . However , this likely reflects the inability of Ym1 to induce RELM\\u03b1 in myeloid cell populations ( Fig 6g ) . Together , this data confirms the ability of Ym1 to aid tissue repair and stimulate epithelial-derived RELM\\u03b1 independently of IL-4R\\u03b1 signaling and type 2 cytokines . RELM\\u03b1 is known to be an important player in skin repair [36] , and we find here that Ym1 promotes lung repair ( Figs 4 and 6 ) while inducing RELM\\u03b1 production by epithelial cells ( Figs 5 and 6 ) . It was therefore important to establish the contribution of RELM\\u03b1 to lung repair following N . brasiliensis infection . Early intestinal worm burdens in Retnla-/- versus C57Bl/6 wild-type mice were examined first to ensure the results were not biased by altered numbers of parasites passing through the lungs . At day 4 , we expected similar worm burdens in Retnla-/- compared to wild-type mice [10] and indeed this was the case ( Fig 7a ) . However , when using heterozygous littermate controls , we unexpectedly found significantly fewer parasite numbers , suggesting that the amount of RELM\\u03b1 differentially impacts on parasite burden . Notably , we routinely detect a large variation in RELM\\u03b1 protein levels in the serum of both naive wild-type and heterozygote mice with up to ~20-fold difference between mice of the same genotype . ( S3a Fig ) . Because variation in the host RELM\\u03b1 status prior to parasite exposure may influence infection outcome we included heterozygotes in all our subsequent analysis of repair . We examined infected littermate Retnla deficient , heterozygous and sufficient mice during the initiation of repair ( day 4 ) after acute lung injury [9] , and at a time when IL-4R\\u03b1-signaling is thought to be critical for appropriate repair ( day 6 ) [4] . Whilst histological examination of lungs from Retnla +/+ and +/- mice showed small areas of damage at day 4 post-infection ( Fig 7b ) , repair of the lung architecture had been initiated following larval passage . Strikingly , there was extensive alveolar deterioration throughout the lung tissue of Retnla -/- mice , an effect quantitatively measurable by changes in linear mean intercept ( Fig 7c ) . As infection progressed to day 6 , the lung tissue underwent repair in wild-type mice as well as Retnla -/- mice , however , the lungs from Retnla -/- mice remained visibly more damaged ( Fig 7b and 7c ) . In contrast , the lungs from Retnla +/- mice appeared structurally similar to infected wild-type mice at day 4 ( Fig 7b and 7c ) , but failed to maintain the process of repair through day 6 and instead further deteriorated ( Fig 7c ) . Notably , by day 10 post-infection , the lungs of Retnla +/- mice had not deteriorated further , but unlike lungs from wild-type mice exhibited only limited signs of repair ( S3b and S3c Fig ) . This failure of Retnla +/- to repair their lungs was associated with an overall reduced RELM\\u03b1 expression but did not appear to be associated with restricted expression in a particular cell type , such as the epithelium ( S4 Fig ) . Although Ym1 promoted tissue repair alongside epithelial-derived RELM\\u03b1 , the experiments in heterozygote mice do not provide evidence for a specific RELM\\u03b1-expressing cell type involved in tissue repair . Rather it appears that RELM\\u03b1 quantity has a significant role in the dynamics of repair , and one possibility is that Ym1 is an important regulator of RELM\\u03b1 protein availability . The ability of RELM\\u03b1 to promote pro-fibrotic collagen cross-linking through increased expression of lysyl hydroxylase has been identified as an important pathway in the generation of an effective wound healing response in the skin [36] . Therefore , we examined the levels of lysyl hydroxylase in the lungs of mice following infection-induced injury in relation to Retnla expression . Expression of lysyl hydroxylase 2b ( Lh2b ) in the lungs of N . brasiliensis infected wild-type mice at day 4 and day 6 time points was increased relative to uninfected controls ( Fig 8 ) coinciding with tissue repair ( Fig 7 ) . Quantification of the area of Lh2b staining revealed a significant reduction in the expression of Lh2b in Retnla +/- and -/- mice at day 4 compared to infected wild-type ( +/+ ) mice ( Fig 8b ) . By day 6 , when the lungs of RELM\\u03b1-deficient animals were undergoing repair ( Fig 7c ) , the level of Lh2b expression was equalised to that of a wild-type mouse ( Fig 8c ) . However , Lh2b levels remained low in Retnla +/- , reflecting a change in the rate of repair in these mice ( Figs 8c and 7c ) . These results show that RELM\\u03b1 regulates Lh2b expression in the lungs as well as the skin and may play an important role in lung repair by regulating collagen cross-linking following mechanical injury and innate inflammatory insult . However , it appears that the amount of RELM\\u03b1 is an essential factor to sustain repair . Finally , because we had unexpected results regarding heterozygote mice , we felt it important to re-evaluate in our system , the reports that RELM\\u03b1 negatively regulates Th2 immunity [10 , 11] . We therefore examined whether type 2 cytokine expression was altered in the lungs of Retnla -/- and Retnla +/- mice compared to wild-type controls . Although infection led to increases in the numbers of IL-5 and IL-13 producing cells at day 4 and 6 , there were no significant differences between Retnla genotypes ( S5a\\u2013S5c Fig ) . Assessment of IL-4 , IL-5 and IL-13 secreted from splenocyte cultures also showed no significant differences between Retnla genotypes at day 4 but by day 6 enhanced IL-4 , IL-5 and IL-13 was detected in Retnla -/- compared to wild type mice and Retnla +/- ( S6a\\u2013S6c Fig ) . Furthermore , when CD4+ T cell type 2 responses were measured in the lungs at day 10 post-infection , Retnla +/- mice exhibited significantly increased numbers of IL-4+ and IL-13+ CD4+ T cells ( S5d Fig ) . These results support the finding that RELM\\u03b1 can negatively regulate the adaptive type 2 response [10 , 11] , but the effect appears to be dependant on the time of infection and is perhaps reflective of an immune response to control ongoing tissue damage in Retnla +/- mice . \\n CLPs are intriguing molecules at the forefront of Th2-type immunopathology , yet their biological functions remain mostly conjectural . We show here that Ym1 produced in the lung during the adaptive response to N . brasiliensis infection facilitates rapid tissue repair in a process that does not require IL-4R\\u03b1 . We also reveal that Ym1 regulates the type 2 immune response in opposite directions depending on whether it is expressed during innate versus adaptive phases . Early in infection , levels of Ym1 were independent of IL-4R\\u03b1-signaling . During this phase , Ym1 induces an IL-17A/neutrophilic response but also promotes the development of subsequent type 2 immunity [9] . This finding is consistent with increasing evidence that IL-17A is needed for many type 2 responses [9 , 43 , 44] . In contrast , once the adaptive Th2 response was established , IL-4R\\u03b1-signaling vastly increased Ym1 production . In this context , Ym1 now limited type 2 responses and reduced IL-5 and IL-13 expression ( S7 Fig ) . This suggests that in addition to acting directly as a repair molecule Ym1 may be an endogenous regulator of the Th2-type balance , important for avoiding allergic disease or fibrosis , the consequences of an overzealous response [45] . The concept that Ym1 , and CLPs in general , are involved with wound healing and tissue remodeling is not new [30 , 41 , 46] but direct experimental evidence has been lacking . The pro-repair actions of Ym1 likely relate to its ability to bind extracellular matrix ( ECM ) components such as heparin/heparan sulfate proteoglycans [40 , 41] and regulate the availability of reparative proteins [47 , 48] . Consistent with this concept , blockade of Ym1 during the adaptive stage of infection prevented efficient lung repair and delivery of Ym1 to IL-4R\\u03b1-deficient mice rescued their failure to rapidly repair . Both these experiments revealed Ym1 as an unexpected driver of epithelial-derived RELM\\u03b1 . RELM\\u03b1 can directly restore skin tissue integrity following sterile wounding [36] and has been implicated in extracellular remodeling [49\\u201351] . It is therefore reasonable to hypothesise that RELM\\u03b1 may be at least in part responsible for the pro-repair effects of Ym1 . Consistent with its role in the skin [36] we found RELM\\u03b1 to be a critical regulator of the collagen cross-linking enzyme lysl hydroxylase 2 ( LH2b , Plod2 ) in the lungs . Notably , the amount of LH2b protein correlated with the degree of lung repair . LH2b is critical for vascular integrity [36] , potentially explaining the microbleeding observed in anti-Ym1 treated animals . Crosslinked collagen mediated by LH2b is more stable and resistant to collagenase cleavage resulting in stiffer tissue structure [52] . Increased Plod2 mRNA expression has been reported during fibrotic conditions [53 , 54] implicating Plod2 as a driver of excessive extracellular matrix remodeling [55 , 56] . Our work here and in the skin [36] , suggest it may also be important for rapid tissue regeneration and repair following injury . Whilst we have not directly explored whether Ym1 influences collagen biosynthesis or degradation , our data suggests Ym1 may regulate collagen fibril formation by controlling the quantity of epithelia-derived RELM\\u03b1 . Interestingly YKL-40 , a CLP expressed in humans that has strong functional similarities to murine Ym1 , not only contains binding motifs for heparin and hyaluronan [57] , major constituents of the extracellular matrix , but also for type I collagen [58] . Moreover , binding of YKL-40 to collagen was shown to alter collagen structure or behaviour in a way that prevented cleavage of fibrils and hence aided collagen stability [58 , 59] . Thus , CLPs in both humans and mice , may play an important regulatory role in collagen formation and turnover either through direct mechanisms or by regulating factors such as RELM\\u03b1 . In addition to its effects on Plod2 , RELM\\u03b1 can both promote IL-17 [23] and suppress Th2 cytokines [10 , 11] and thus downstream actions of RELM\\u03b1 may also contribute to the immune regulatory properties we observed for Ym1 . Inconsistent with this hypothesis , at day 6 post-infection , we did not observe any significant changes to IL-5 and IL-13 mRNA or protein producing CD4 T cells or ILCs in the lungs of infected RELM\\u03b1-deficient mice during this peak reparative phase . However , at day 10 post-infection our studies using heterozygote mice do support the described negative regulatory function for RELM\\u03b1 . These data are in line with numerous published models of inflammation and remodeling , where the ability of RELM\\u03b1 to negatively regulate type 2 cytokines was clearly evident in some studies [10 , 11] or not detectable in others [60 , 61] . Unfortunately , unlike the use of the anti-Ym1 antibody , the RELM\\u03b1 deficient mice do not allow us to separate potentially disparate effects of RELM\\u03b1 on the early vs late type 2 response , which may account for the variable outcomes on type 2 inflammation reported in the literature [10 , 11 , 60 , 61] . Whilst differences in published results may be explained by timing or the model and tissue involved , our studies using deficient , heterozygote and wild-type littermate mice reveal that the amount of RELM\\u03b1 may be a critical determinant of its function . For example , our parasite recovery data suggested that high or low levels of RELM\\u03b1 were less effective for host resistance than intermediate levels . A search of published data reveals large variations in reported serum levels of RELM\\u03b1 during the steady state , from as little as ~2ng/mL to upward of ~500ng/mL [23 , 24 , 62 , 63] . We observed an average of 200ng/mL RELM\\u03b1 in serum of wild-type mice , but there was enormous variation in protein levels that could not be accounted for by sex , age or cage allocation . It would be interesting in future studies to determine whether Ym1 mediates its effects at least partly through regulating RELM\\u03b1 availability , whose functions may rely on critical quantitative thresholds . The expression of RELM\\u03b1 and Ym1 or related family members during many disease pathologies points toward the breadth of their functions that we are only just starting to uncover . In this study of helminth infection , we have illustrated that one molecule , Ym1 , can perform distinct and even opposing functions at different stages of infection . The data also suggest that RELM\\u03b1 may function differently depending on the stage of infection . For example , because RELM\\u03b1 can suppress Th2 cytokines and Th2-driven pathology mediated pathology [10 , 11] it would be logical to hypothesise that RELM\\u03b1-deficient mice would exhibit accelerated or enhanced lung repair following N . brasiliensis infection . However , during the period where a heightened repair response is evident , we observed the opposite , consistent with the reported ability of RELM\\u03b1 to mediate collagen turnover [36] and protect against damaging acute lung inflammation [62] . Many of these apparent contradictions may lie with the distinct function of Ym1 and/or RELM\\u03b1 during innate and adaptive stages of an immune response . However , it remains to be seen how tightly linked Ym1\\u2019s functions are to its ability to induce RELM\\u03b1 . In addition , recent data suggest that macrophage-derived RELM\\u03b1 is critical for its regulatory function [64] and we have yet to establish whether the ability of Ym1 to induce RELM\\u03b1 is restricted to epithelial cells . Finally , the changes in Ym1 function over time may largely relate to its ability to bind ECM , the properties of which will change over the course of an immune response . Thus , Ym1 interactions within the ECM may enable context-specific biological functions . The details of Ym1-ECM collaboration in vivo remain unexplored and will be an exciting future challenge . \\n All animal experiments were performed in accordance with the UK Animals ( Scientific Procedures ) Act of 1986 under a Project License ( 70/8548 ) granted by the UK Home Office and approved by the University of Manchester Animal Welfare and Ethical Review Body . Euthanasia was performed by carbon dioxide exposure . Wild-type ( BALB/c or C57BL/6 ) mice , Il4ra -/- ( BALB/c and C57BL/6 ) mice [65] and Retnla +/+ , Retnla +/- or Retnla -/- ( C57BL/6 ) mice [10] were bred at the University of Edinburgh or the University of Manchester . All mice were 7\\u201314 weeks old at the start of the experiment and were housed in individually ventilated cages during experimental procedures . For experiments using Retnla +/+ , Retnla +/- or Retnla -/- , mice were bred as littermates and were randomized in cages with investigators blind to mouse identity during necropsy . All experiments used female mice except Retnla littermate experiments ( Figs 7 & 8 and S3\\u2013S6 Figs ) , which used both sexes . Anti-Ym1 and IgG2a isotype matched control antibodies were purified from hybridoma cell lines as described previously [9] . Briefly , anti-Ym1 mouse hybridoma cell line ( clone 4D10 ) was generated by immunising mice with a Ym1 peptide ( IPRLLLTSTGAGIID ) shown to be neutralizing [66] . The hybridoma cell line ( clone 2D12 ) from European Collection of Cell Cultures was used as the IgG2a isotype-matched control antibody . Antibodies were purified by protein G affinity chromatography using an Akta Prime Plus ( GE Healthcare ) . N . brasiliensis was maintained by serial passage through Sprague-Dawley rats , as previously described [2] . Third-stage larvae ( L3 ) were washed ten times with sterile PBS prior to subcutaneous infection of 500 L3\\u2019s or 250 L3\\u2019s per mouse ( figure legend details N . brasiliensis infection dose in each experiment ) . In some experiments , mice were treated intraperitoneally with 200\\u03bcg anti-Ym1 or IgG2a isotype on days indicated ( Figs 2a and 3a ) . Additional some mice were treated intranasally with recombinant Ym1 ( R&D Systems ) or PBS on days indicated ( Fig 6a ) . On days 4 , 6 and 10 post-infection BAL was performed with 0 . 25% BSA containing PBS and lungs were taken for further assays and analysis . Single-cell suspensions of splenocytes were stimulated ex vivo with N . brasiliensis excretory secretory product antigen ( 1\\u03bcg/mL or anti-CD3 1\\u03bcg/mL ) for 72 hrs . Cell supernatants were collected and stored at -20\\u00b0C until further analysis . At day 4 and 6 post-infection , the small intestine was removed from mice and stored in Dulbeccos\\u2019 PBS . Intestines were then cut longitudinally along the entire length of the gut and parasite numbers counted manually with the aid of a dissecting microscope . Wild-type BALB/c mice were administered 20\\u03bcg pcDNA3 . 1 ( Control ) or Ym1 plasmid complexed with in vivo JetPEI ( Source Bioscience ) intranasally as described previously [9] . BAL fluid was harvested 48 h after transfection . Mice that were not transfected were excluded from the analysis . A section of the right lung lobe was stored in RNAlater prior to homogenization in Qiazol reagent , or BAL cell pellets were resuspended in Qiazol reagent at the time of necropsy and stored at -80\\u00b0C until further analysis . RNA was prepared according to manufacturers instructions . Reverse transcription of 0 . 5\\u03bcg of total RNA was performed using Tetro reverse transcriptase ( Bioline ) [9] . Transcripts of genes of interest were measured by qRT-PCR with the Lightcycler 480 II system and Brilliant III SYBR Master mix ( Agilent ) and specific primer pairs ( Table 1 ) . PCR amplification was analysed by the second-derivative maximum algorithm ( LightCycler 480 Sw 1 . 5; Roche ) and expression of the gene of interest normalized to expression of housekeeping genes Rpl13a or 18srRNA . The levels of RELM\\u03b1 in the BAL were measured by sandwich ELISA , using rabbit anti-mouse RELM\\u03b1 and biotinylated rabbit anti-mouse RELM\\u03b1 ( Peprotech ) . Cytokines IL-5 and IL-13 were measured in single-cell suspensions of splenocytes stimulated with N . brasiliensis excretory secretory antigen or anti-CD3 mitogen for 72hrs . IL-4 levels were measured using rat anti-mouse IL-4 ( 11B11 , Bio X Cell ) and biotinylated rat anti-mouse IL-4 ( BVD6-24G2 , Biolegend ) compared to a recombinant IL-4 standard ( Peprotech ) . IL-5 levels were measured using rat anti-mouse IL-5 ( TRFK4 , home-grown ) and biotinylated rat anti-mouse IL-5 ( Biolegend ) compared to recombinant IL-5 ( Peprotech ) . IL-13 levels were measured using rat anti-mouse IL-13 and biotinylated rat anti-mouse IL-13 ( eBioscience ) compared to a recombinant IL-13 standard ( Peprotech ) . A fragment of the right lung lobe was digested for 30 min at 37\\u00b0C with 0 . 2U/mL Liberase TL ( Roche ) and 80U/mL DNase ( Life Tech ) in Hanks Balanced Salt Solution ( Sigma ) prior to forcing the tissue suspensions through gauze . Red blood cells were lysed and live cells counted using trypan blue exclusion on an automated Cellometer T4 ( Nexcelom ) . Cells were incubated with Fc block ( CD16/CD32 ( eBioscience ) and mouse serum ) and were stained with fluorescence-conjugated antibodies . Cells were identified by expression of surface markers as follows and as indicated in ( S1b Fig ) : neutrophils Ly6G+ ( 1A8 ) CD11b+ ( M1/70 ) , dendritic cells CD11c+ ( N418 ) MHCII+ ( M5/114 . 15 . 2 ) F4/80- ( BM8 ) , monocyte derived DCs F4/80+ CD11b+ CD11c+ SigF- ( E50-2440 ) alveolar macrophages F4/80+ CD11c+ CD11blo , SigF+ , interstitial macrophages F4/80+ CD11b+ CD11c- SigF- , CD4 T cells CD4+ ( GK1 . 5 ) TCR\\u03b2+ ( H57-597 ) CD11b- and ILC2s Lineage- ( CD11b , TCR\\u03b2 TCR\\u03b3\\u03b4 ( GL3 ) Ly6G F4/80 CD11c SigF CD19 ( 6D5 ) ) CD90 . 2+ ( 30-H12 ) ICOS+ ( C398 . 4A ) . Cells were fixed for 10min ( RT ) with 2% paraformaldehyde and stored at 4\\u00b0C until intracellular staining was performed or cells were acquired . To measure intracellular Ym1 and RELM\\u03b1 , cells were permeabilised ( eBioscience ) and incubated with rabbit anti-mouse RELM\\u03b1 ( Peprotech ) or biotinylated goat anti-mouse Ym1 ( R&D ) followed by Alexa-Fluor 488 rabbit xenon labeling kit ( Life Technologies ) and streptavidin PerCP ( Biolegend ) . Intracellular IL-5 and IL-13 were measured in cells simulated at 37\\u00b0C for 4h with PMA ( phorbol myristate acetate; 0 . 5\\u03bcg/mL ) and ionomycin ( 1\\u03bcg/mL ) and for the last 3h with brefeldin A ( 10\\u03bcg/mL ) . Cell surfaces were stained according to details above , fixed with 2% paraformaldehyde prior to cell permeabilisation ( eBioscience ) . Cells were then stained with Pe-Cy7 conjugated anti-mouse IL-13 ( eBio13A; eBioscience ) and APC conjugated anti-mouse IL-5 ( TRFK5; Biolegend ) or isotype matched controls ( eBRG1; eBioscience ) prior to acquisition . Live/dead aqua ( Life Technologies ) was used to exclude dead cells from the analysis . Samples were acquired with a FACSCanto II or LSR II ( Becton-Dickinson ) and analysed using FlowJo software ( version 9 . 9 . 5; TreeStar Inc . ) . Lung tissue was fixed-perfused with 10% neutral buffered formalin and incubated overnight prior to placing tissue in 70% ethanol . Lung tissue was processed , embedded in paraffin , and sectioned to slides . Sections were stained with hematoxylin and eosin and linear means intercept ( Lmi ) quantified as a score of lung damage , as described previously [9] . Briefly , lung samples were viewed by microcopy with an original magnification of \\u00d7200; 15 random non-overlapping fields per sample were assessed . Six horizontal lines were drawn across each image with ImageJ ( version 1 . 44 ) and the total number of times the alveolar wall intercepted per line was counted . Line length was then divided by the number of intercepts to calculate Lmi . All samples were analyzed by researchers \\u2018blinded\\u2019 to sample identity . Hemosiderin Laden macrophages were assessed in sections stained with Prussian blue according to standard laboratory procedures . The numbers of Prussian blue positive macrophages were counted ( x200 magnification ) by a researcher \\u201cblinded\\u201d to sample identity . For immunofluorescence imaging , sections were deparaffinized , hydrated and incubated with Retrievagen A pH6 . 0 solution ( BD Bioscience ) for 20min at 98\\u00b0C for antigen retrieval . Endogenous biotin was blocked ( Life Technologies ) prior to an overnight incubation with primary antibodies rabbit anti-mouse RELM\\u03b1 ( 1:100 ) and biotinylated goat anti-mouse Ym1 ( 1:50 ) or goat anti-LH2b ( 1:100 , Santa Cruz sc-50067 ) followed by a 1hr incubation with Northern Lights 494 ( 1:100 ) and streptavidin NL557 ( 1:800 ) , or Northern Lights 557 anti-goat ( 1:100 ) . Sections were mounted with Fluormount G containing DAPI , for DNA staining . RELMa and Ym1 staining was visualised on a Leica SP5 confocal laser scanning microscope or EVOS\\u2122 FL Imaging System ( ThermoFisher Scientific ) . For quantification of RELM\\u03b1 fluorescence intensity , three airways of similar size per sample were selected by visualisation of DNA ( DAPI ) by an investigator blind to sample identity . Fluorescence intensity was calculated with ImageJ software ( version 1 . 44 ) , by setting a threshold measurement to calculate integrated density and area of RELM\\u03b1 positivity corrected for background intensity . Statistical analysis was performed using Prism 7 . 0 ( version 7 . 0c , GraphPad Software ) . Differences between groups were determined by t-test or ANOVA followed by Tukey\\u2019s or Sidak multiple comparison-test . In some cases data was log-transformed to achieve normal distribution as determined by optical examination of residuals . Comparisons of different Ym1 and RELM\\u03b1 positive cell populations within the lungs of one experimental animal were considered as paired observations . Differences were assumed statistically significant for P values less than 0 . 05 .\"\n        ],\n        \"semantic_type\": \"\",\n        \"description\": \"\"\n      }\n    },\n    {\n      \"column\": \"headings\",\n      \"properties\": {\n        \"dtype\": \"object\",\n        \"semantic_type\": \"\",\n        \"description\": \"\"\n      }\n    },\n    {\n      \"column\": \"keywords\",\n      \"properties\": {\n        \"dtype\": \"object\",\n        \"semantic_type\": \"\",\n        \"description\": \"\"\n      }\n    },\n    {\n      \"column\": \"id\",\n      \"properties\": {\n        \"dtype\": \"string\",\n        \"num_unique_values\": 24773,\n        \"samples\": [\n          \"journal.ppat.1002424\",\n          \"journal.pcbi.1000663\",\n          \"journal.ppat.1007423\"\n        ],\n        \"semantic_type\": \"\",\n        \"description\": \"\"\n      }\n    }\n  ]\n}",
              "type": "dataframe",
              "variable_name": "dataPlosTrain"
            },
            "text/html": [
              "\n",
              "  <div id=\"df-1ed62fb2-9af9-441f-918a-814f8cf8f417\" class=\"colab-df-container\">\n",
              "    <div>\n",
              "<style scoped>\n",
              "    .dataframe tbody tr th:only-of-type {\n",
              "        vertical-align: middle;\n",
              "    }\n",
              "\n",
              "    .dataframe tbody tr th {\n",
              "        vertical-align: top;\n",
              "    }\n",
              "\n",
              "    .dataframe thead th {\n",
              "        text-align: right;\n",
              "    }\n",
              "</style>\n",
              "<table border=\"1\" class=\"dataframe\">\n",
              "  <thead>\n",
              "    <tr style=\"text-align: right;\">\n",
              "      <th></th>\n",
              "      <th>lay_summary</th>\n",
              "      <th>article</th>\n",
              "      <th>headings</th>\n",
              "      <th>keywords</th>\n",
              "      <th>id</th>\n",
              "    </tr>\n",
              "  </thead>\n",
              "  <tbody>\n",
              "    <tr>\n",
              "      <th>0</th>\n",
              "      <td>In the kidney , structures known as nephrons a...</td>\n",
              "      <td>Kidney function depends on the nephron , which...</td>\n",
              "      <td>[Abstract, Introduction, Results, Discussion, ...</td>\n",
              "      <td>[developmental biology, danio (zebrafish), ver...</td>\n",
              "      <td>journal.pgen.0030189</td>\n",
              "    </tr>\n",
              "    <tr>\n",
              "      <th>1</th>\n",
              "      <td>Many species of bats in North America have bee...</td>\n",
              "      <td>White-nose syndrome is one of the most lethal ...</td>\n",
              "      <td>[Abstract, Introduction, Results, Discussion, ...</td>\n",
              "      <td>[sequencing techniques, fungal spores, vertebr...</td>\n",
              "      <td>journal.ppat.1006076</td>\n",
              "    </tr>\n",
              "    <tr>\n",
              "      <th>2</th>\n",
              "      <td>The burden of dengue has been increasing over ...</td>\n",
              "      <td>Sustainable dengue intervention requires the p...</td>\n",
              "      <td>[Abstract, Introduction, Methods, Results, Dis...</td>\n",
              "      <td>[invertebrates, medicine and health sciences, ...</td>\n",
              "      <td>journal.pntd.0007498</td>\n",
              "    </tr>\n",
              "    <tr>\n",
              "      <th>3</th>\n",
              "      <td>Estrogen exposure is the most important risk f...</td>\n",
              "      <td>Despite the central role of estrogen exposure ...</td>\n",
              "      <td>[Abstract, Introduction, Results, Discussion, ...</td>\n",
              "      <td>[oncology/breast cancer, oncology/gynecologica...</td>\n",
              "      <td>journal.pgen.1001012</td>\n",
              "    </tr>\n",
              "    <tr>\n",
              "      <th>4</th>\n",
              "      <td>Melioidosis is a severe tropical infection cau...</td>\n",
              "      <td>Macrophage migration inhibitory factor ( MIF )...</td>\n",
              "      <td>[Abstract, Introduction, Methods, Results, Dis...</td>\n",
              "      <td>[immunology/cellular microbiology and pathogen...</td>\n",
              "      <td>journal.pntd.0000605</td>\n",
              "    </tr>\n",
              "  </tbody>\n",
              "</table>\n",
              "</div>\n",
              "    <div class=\"colab-df-buttons\">\n",
              "\n",
              "  <div class=\"colab-df-container\">\n",
              "    <button class=\"colab-df-convert\" onclick=\"convertToInteractive('df-1ed62fb2-9af9-441f-918a-814f8cf8f417')\"\n",
              "            title=\"Convert this dataframe to an interactive table.\"\n",
              "            style=\"display:none;\">\n",
              "\n",
              "  <svg xmlns=\"http://www.w3.org/2000/svg\" height=\"24px\" viewBox=\"0 -960 960 960\">\n",
              "    <path d=\"M120-120v-720h720v720H120Zm60-500h600v-160H180v160Zm220 220h160v-160H400v160Zm0 220h160v-160H400v160ZM180-400h160v-160H180v160Zm440 0h160v-160H620v160ZM180-180h160v-160H180v160Zm440 0h160v-160H620v160Z\"/>\n",
              "  </svg>\n",
              "    </button>\n",
              "\n",
              "  <style>\n",
              "    .colab-df-container {\n",
              "      display:flex;\n",
              "      gap: 12px;\n",
              "    }\n",
              "\n",
              "    .colab-df-convert {\n",
              "      background-color: #E8F0FE;\n",
              "      border: none;\n",
              "      border-radius: 50%;\n",
              "      cursor: pointer;\n",
              "      display: none;\n",
              "      fill: #1967D2;\n",
              "      height: 32px;\n",
              "      padding: 0 0 0 0;\n",
              "      width: 32px;\n",
              "    }\n",
              "\n",
              "    .colab-df-convert:hover {\n",
              "      background-color: #E2EBFA;\n",
              "      box-shadow: 0px 1px 2px rgba(60, 64, 67, 0.3), 0px 1px 3px 1px rgba(60, 64, 67, 0.15);\n",
              "      fill: #174EA6;\n",
              "    }\n",
              "\n",
              "    .colab-df-buttons div {\n",
              "      margin-bottom: 4px;\n",
              "    }\n",
              "\n",
              "    [theme=dark] .colab-df-convert {\n",
              "      background-color: #3B4455;\n",
              "      fill: #D2E3FC;\n",
              "    }\n",
              "\n",
              "    [theme=dark] .colab-df-convert:hover {\n",
              "      background-color: #434B5C;\n",
              "      box-shadow: 0px 1px 3px 1px rgba(0, 0, 0, 0.15);\n",
              "      filter: drop-shadow(0px 1px 2px rgba(0, 0, 0, 0.3));\n",
              "      fill: #FFFFFF;\n",
              "    }\n",
              "  </style>\n",
              "\n",
              "    <script>\n",
              "      const buttonEl =\n",
              "        document.querySelector('#df-1ed62fb2-9af9-441f-918a-814f8cf8f417 button.colab-df-convert');\n",
              "      buttonEl.style.display =\n",
              "        google.colab.kernel.accessAllowed ? 'block' : 'none';\n",
              "\n",
              "      async function convertToInteractive(key) {\n",
              "        const element = document.querySelector('#df-1ed62fb2-9af9-441f-918a-814f8cf8f417');\n",
              "        const dataTable =\n",
              "          await google.colab.kernel.invokeFunction('convertToInteractive',\n",
              "                                                    [key], {});\n",
              "        if (!dataTable) return;\n",
              "\n",
              "        const docLinkHtml = 'Like what you see? Visit the ' +\n",
              "          '<a target=\"_blank\" href=https://colab.research.google.com/notebooks/data_table.ipynb>data table notebook</a>'\n",
              "          + ' to learn more about interactive tables.';\n",
              "        element.innerHTML = '';\n",
              "        dataTable['output_type'] = 'display_data';\n",
              "        await google.colab.output.renderOutput(dataTable, element);\n",
              "        const docLink = document.createElement('div');\n",
              "        docLink.innerHTML = docLinkHtml;\n",
              "        element.appendChild(docLink);\n",
              "      }\n",
              "    </script>\n",
              "  </div>\n",
              "\n",
              "\n",
              "<div id=\"df-f289a412-bf50-472a-b45e-cabe38075685\">\n",
              "  <button class=\"colab-df-quickchart\" onclick=\"quickchart('df-f289a412-bf50-472a-b45e-cabe38075685')\"\n",
              "            title=\"Suggest charts\"\n",
              "            style=\"display:none;\">\n",
              "\n",
              "<svg xmlns=\"http://www.w3.org/2000/svg\" height=\"24px\"viewBox=\"0 0 24 24\"\n",
              "     width=\"24px\">\n",
              "    <g>\n",
              "        <path d=\"M19 3H5c-1.1 0-2 .9-2 2v14c0 1.1.9 2 2 2h14c1.1 0 2-.9 2-2V5c0-1.1-.9-2-2-2zM9 17H7v-7h2v7zm4 0h-2V7h2v10zm4 0h-2v-4h2v4z\"/>\n",
              "    </g>\n",
              "</svg>\n",
              "  </button>\n",
              "\n",
              "<style>\n",
              "  .colab-df-quickchart {\n",
              "      --bg-color: #E8F0FE;\n",
              "      --fill-color: #1967D2;\n",
              "      --hover-bg-color: #E2EBFA;\n",
              "      --hover-fill-color: #174EA6;\n",
              "      --disabled-fill-color: #AAA;\n",
              "      --disabled-bg-color: #DDD;\n",
              "  }\n",
              "\n",
              "  [theme=dark] .colab-df-quickchart {\n",
              "      --bg-color: #3B4455;\n",
              "      --fill-color: #D2E3FC;\n",
              "      --hover-bg-color: #434B5C;\n",
              "      --hover-fill-color: #FFFFFF;\n",
              "      --disabled-bg-color: #3B4455;\n",
              "      --disabled-fill-color: #666;\n",
              "  }\n",
              "\n",
              "  .colab-df-quickchart {\n",
              "    background-color: var(--bg-color);\n",
              "    border: none;\n",
              "    border-radius: 50%;\n",
              "    cursor: pointer;\n",
              "    display: none;\n",
              "    fill: var(--fill-color);\n",
              "    height: 32px;\n",
              "    padding: 0;\n",
              "    width: 32px;\n",
              "  }\n",
              "\n",
              "  .colab-df-quickchart:hover {\n",
              "    background-color: var(--hover-bg-color);\n",
              "    box-shadow: 0 1px 2px rgba(60, 64, 67, 0.3), 0 1px 3px 1px rgba(60, 64, 67, 0.15);\n",
              "    fill: var(--button-hover-fill-color);\n",
              "  }\n",
              "\n",
              "  .colab-df-quickchart-complete:disabled,\n",
              "  .colab-df-quickchart-complete:disabled:hover {\n",
              "    background-color: var(--disabled-bg-color);\n",
              "    fill: var(--disabled-fill-color);\n",
              "    box-shadow: none;\n",
              "  }\n",
              "\n",
              "  .colab-df-spinner {\n",
              "    border: 2px solid var(--fill-color);\n",
              "    border-color: transparent;\n",
              "    border-bottom-color: var(--fill-color);\n",
              "    animation:\n",
              "      spin 1s steps(1) infinite;\n",
              "  }\n",
              "\n",
              "  @keyframes spin {\n",
              "    0% {\n",
              "      border-color: transparent;\n",
              "      border-bottom-color: var(--fill-color);\n",
              "      border-left-color: var(--fill-color);\n",
              "    }\n",
              "    20% {\n",
              "      border-color: transparent;\n",
              "      border-left-color: var(--fill-color);\n",
              "      border-top-color: var(--fill-color);\n",
              "    }\n",
              "    30% {\n",
              "      border-color: transparent;\n",
              "      border-left-color: var(--fill-color);\n",
              "      border-top-color: var(--fill-color);\n",
              "      border-right-color: var(--fill-color);\n",
              "    }\n",
              "    40% {\n",
              "      border-color: transparent;\n",
              "      border-right-color: var(--fill-color);\n",
              "      border-top-color: var(--fill-color);\n",
              "    }\n",
              "    60% {\n",
              "      border-color: transparent;\n",
              "      border-right-color: var(--fill-color);\n",
              "    }\n",
              "    80% {\n",
              "      border-color: transparent;\n",
              "      border-right-color: var(--fill-color);\n",
              "      border-bottom-color: var(--fill-color);\n",
              "    }\n",
              "    90% {\n",
              "      border-color: transparent;\n",
              "      border-bottom-color: var(--fill-color);\n",
              "    }\n",
              "  }\n",
              "</style>\n",
              "\n",
              "  <script>\n",
              "    async function quickchart(key) {\n",
              "      const quickchartButtonEl =\n",
              "        document.querySelector('#' + key + ' button');\n",
              "      quickchartButtonEl.disabled = true;  // To prevent multiple clicks.\n",
              "      quickchartButtonEl.classList.add('colab-df-spinner');\n",
              "      try {\n",
              "        const charts = await google.colab.kernel.invokeFunction(\n",
              "            'suggestCharts', [key], {});\n",
              "      } catch (error) {\n",
              "        console.error('Error during call to suggestCharts:', error);\n",
              "      }\n",
              "      quickchartButtonEl.classList.remove('colab-df-spinner');\n",
              "      quickchartButtonEl.classList.add('colab-df-quickchart-complete');\n",
              "    }\n",
              "    (() => {\n",
              "      let quickchartButtonEl =\n",
              "        document.querySelector('#df-f289a412-bf50-472a-b45e-cabe38075685 button');\n",
              "      quickchartButtonEl.style.display =\n",
              "        google.colab.kernel.accessAllowed ? 'block' : 'none';\n",
              "    })();\n",
              "  </script>\n",
              "</div>\n",
              "    </div>\n",
              "  </div>\n"
            ],
            "text/plain": [
              "                                         lay_summary  \\\n",
              "0  In the kidney , structures known as nephrons a...   \n",
              "1  Many species of bats in North America have bee...   \n",
              "2  The burden of dengue has been increasing over ...   \n",
              "3  Estrogen exposure is the most important risk f...   \n",
              "4  Melioidosis is a severe tropical infection cau...   \n",
              "\n",
              "                                             article  \\\n",
              "0  Kidney function depends on the nephron , which...   \n",
              "1  White-nose syndrome is one of the most lethal ...   \n",
              "2  Sustainable dengue intervention requires the p...   \n",
              "3  Despite the central role of estrogen exposure ...   \n",
              "4  Macrophage migration inhibitory factor ( MIF )...   \n",
              "\n",
              "                                            headings  \\\n",
              "0  [Abstract, Introduction, Results, Discussion, ...   \n",
              "1  [Abstract, Introduction, Results, Discussion, ...   \n",
              "2  [Abstract, Introduction, Methods, Results, Dis...   \n",
              "3  [Abstract, Introduction, Results, Discussion, ...   \n",
              "4  [Abstract, Introduction, Methods, Results, Dis...   \n",
              "\n",
              "                                            keywords                    id  \n",
              "0  [developmental biology, danio (zebrafish), ver...  journal.pgen.0030189  \n",
              "1  [sequencing techniques, fungal spores, vertebr...  journal.ppat.1006076  \n",
              "2  [invertebrates, medicine and health sciences, ...  journal.pntd.0007498  \n",
              "3  [oncology/breast cancer, oncology/gynecologica...  journal.pgen.1001012  \n",
              "4  [immunology/cellular microbiology and pathogen...  journal.pntd.0000605  "
            ]
          },
          "execution_count": 6,
          "metadata": {},
          "output_type": "execute_result"
        }
      ],
      "source": [
        "dataPlosTrain.head()"
      ]
    },
    {
      "cell_type": "code",
      "execution_count": null,
      "metadata": {
        "colab": {
          "base_uri": "https://localhost:8080/",
          "height": 323
        },
        "id": "7pXtVNYu5AzQ",
        "outputId": "81fce5ec-6237-47f1-dbba-2b0c875381bd"
      },
      "outputs": [
        {
          "data": {
            "application/vnd.google.colaboratory.intrinsic+json": {
              "summary": "{\n  \"name\": \"dataPlosVal\",\n  \"rows\": 1376,\n  \"fields\": [\n    {\n      \"column\": \"lay_summary\",\n      \"properties\": {\n        \"dtype\": \"string\",\n        \"num_unique_values\": 1376,\n        \"samples\": [\n          \"Yersinia pestis , the bacterial agent of plague , is transmitted by fleas that feed on blood from rodents that carry this disease . The conclusions from studies comparing how efficiently fleas transmit plague after becoming infected have been inconsistent , possibly because a variety of rodent blood sources have been used . To investigate this , we infected three different flea species with Y . pestis using four different types of rodent blood and compared how well they could transmit three days later . The two rodent flea species that transmitted efficiently tended to reflux bacteria and blood into their esophagus when rat or guinea pig blood was used for the infections , but not when mouse or gerbil blood was used . This reflux phenomenon appears to be related to the solubility of the hemoglobin molecule of different rodent species . In contrast , cat fleas , inefficient transmitters , never refluxed their infected blood meal into the esophagus . Rodent fleas that were infected using reflux-inducing rat blood transmitted more Y . pestis than those that fed on infected mouse blood . These findings improve our understanding of how fleas transmit Y . pestis soon after becoming infected and suggest a reason why certain rodents figure more prominently in plague ecology than others .\",\n          \"The genome of all vertebrates is heavily colonized by \\u201cendogenous\\u201d retroviruses ( ERVs ) . ERVs derive from retrovirus infections of the germ cells of the host during evolution , leading to permanent integration of the viral genome into the host DNA . Because ERVs are integrated in the host genome , they are transmitted to subsequent generations like any other host gene . The function of endogenous retroviruses is not completely clear , but some ERVs can block the replication cycle of horizontally transmitted \\u201cexogenous\\u201d pathogenic retroviruses . These observations lead to the hypothesis that ERVs have protected the host during evolution against incoming pathogenic retroviruses . Here , by characterizing the evolutionary history and molecular virology of a particular group of endogenous betaretroviruses of sheep ( enJSRVs ) we show a fascinating series of events unveiling the endless struggle between host and retroviruses . In particular , we discovered that: ( i ) two enJSRV loci that entered the host genome before speciation within the genus Ovis ( \\u223c 3 million y ago ) acquired , after their integration , a mutated defective viral protein capable of blocking exogenous related retroviruses; ( ii ) both these transdominant enJSRV loci became fixed in the host genome before or around sheep domestication ( \\u223c 10 , 000 y ago ) ; ( iii ) the invasion of the sheep genome by ERVs of the JSRV/enJSRVs group is still in progress; and ( iv ) new viruses have recently emerged ( less than 200 y ago ) that can escape the transdominant enJSRV loci . This study strongly suggests that endogenization and selection of ERVs acting as restriction factors is a mechanism used by the host to fight retroviral infections .\",\n          \"The molecular mechanisms underlying directed cell migration have been studied extensively in different biological contexts . Germ cell migration provides an effective model to study the dynamics of in vivo cell migration . The process of germ cell migration in Drosophila melanogaster results in embryonic gonad formation consisting of primordial germ cells ( PGCs ) and somatic gonadal precursor cells ( SGPs ) . Moreover , it likely involves a complex series of attractive and repulsive cues . Molecular and genetic analysis has been performed to elucidate the nature of the attractive cue ( s ) and components that guide germ cells to the SGPs in the mesoderm . One current model proposes that 3-Hydroxy-3-Methylglutaryl Coenzyme A reductase ( Hmgcr ) , synthesized in the SGPs , potentiates signaling downstream of Hedgehog ( Hh ) ligand also emanating from the SGPs . The model pivots on the novel activity of an established morphogen , Hedgehog , to function as a chemoattractant for the migrating germ cells . A variety of \\u2018loss-\\u2019 and \\u2018gain-of-function\\u2019 strategies manipulating different components of this signaling pathway have been successfully employed in support of the proposed model .\"\n        ],\n        \"semantic_type\": \"\",\n        \"description\": \"\"\n      }\n    },\n    {\n      \"column\": \"article\",\n      \"properties\": {\n        \"dtype\": \"string\",\n        \"num_unique_values\": 1376,\n        \"samples\": [\n          \"Fleas can transmit Yersinia pestis by two mechanisms , early-phase transmission ( EPT ) and biofilm-dependent transmission ( BDT ) . Transmission efficiency varies among flea species and the results from different studies have not always been consistent . One complicating variable is the species of rodent blood used for the infectious blood meal . To gain insight into the mechanism of EPT and the effect that host blood has on it , fleas were fed bacteremic mouse , rat , guinea pig , or gerbil blood; and the location and characteristics of the infection in the digestive tract and transmissibility of Y . pestis were assessed 1 to 3 days after infection . Surprisingly , 10\\u201328% of two rodent flea species fed bacteremic rat or guinea pig blood refluxed a portion of the infected blood meal into the esophagus within 24 h of feeding . We term this phenomenon post-infection esophageal reflux ( PIER ) . In contrast , PIER was rarely observed in rodent fleas fed bacteremic mouse or gerbil blood . PIER correlated with the accumulation of a dense mixed aggregate of Y . pestis , red blood cell stroma , and oxyhemoglobin crystals that filled the proventriculus . At their next feeding , fleas with PIER were 3\\u201325 times more likely to appear partially blocked , with fresh blood retained within the esophagus , than were fleas without PIER . Three days after feeding on bacteremic rat blood , groups of Oropsylla montana transmitted significantly more CFU than did groups infected using mouse blood , and this enhanced transmission was biofilm-dependent . Our data support a model in which EPT results from regurgitation of Y . pestis from a partially obstructed flea foregut and that EPT and BDT can sometimes temporally overlap . The relative insolubility of the hemoglobin of rats and Sciurids and the slower digestion of their blood appears to promote regurgitative transmission , which may be one reason why these rodents are particularly prominent in plague ecology . \\n Y . pestis is transmitted by the bite of infected fleas , and two modes of transmission have been described: early-phase transmission ( EPT ) and biofilm-dependent transmission ( BDT ) [1\\u20133] . Fleas that have taken a highly bacteremic infectious blood meal are capable of EPT on their next feeding attempt within 4 days of becoming infected [4] . An extrinsic incubation period , the time needed for a vector to become infective after acquiring a pathogen , is not required or is very short; fleas can transmit Y . pestis by 24 h after an infectious blood meal [1] . In contrast , BDT does not typically ensue until at least 5\\u20137 days after infection , the time required for a mature biofilm to form in the proventriculus [5 , 6] . The proventriculus is a valve in the flea foregut that regulates the ingress of blood and prevents its backflow into the esophagus [7] . BDT occurs when the Y . pestis biofilm begins to interfere with or block normal blood feeding . In partially blocked fleas , biofilm accumulation prevents the proventricular valve from closing completely . Blood can still pass through the partially obstructed valve , mix with bacteria in the midgut , and be forced back out through the incompetent valve and into the bite site due to midgut peristalsis and release of pressure from the bloodsucking pump muscles [7 , 8] . The biofilm can eventually fill the proventriculus in some fleas , creating a physical barrier to ingestion . When such completely blocked fleas attempt to feed , incoming blood is unable to pass the obstruction , but dissociates bacteria from the biofilm and forces the esophagus to distend [2 , 8] . When the flea stops trying to suck blood , elastic recoil of the esophageal wall causes regurgitation of the infectious mixture into the bite site . The physical and molecular mechanisms of BDT are well described; however , neither aspect has been determined for EPT . The original descriptions of EPT came from experiments in which fleas were fed on a rodent with terminal bacteremia and then collected shortly after their infectious blood meal and transferred individually or in groups to a na\\u00efve rodent , which was monitored for plague morbidity and mortality [9\\u201314] . These studies sometimes used different rodent species as the source of the infectious blood meal . When Oropsylla montana or Xenopsylla cheopis fleas were infected by feeding on bacteremic rats , guinea pigs , or squirrels , 10\\u2013100% of animals challenged by groups of 10\\u2013100 fleas developed plague [9\\u201311] . However , EPT was rarely observed when individual infected fleas were used ( 0\\u20131 . 5% transmission rate per flea ) , regardless of the flea species or infectious blood source [9 , 12\\u201314] . More recent evaluations of early-phase transmission have used an artificial feeder in which rat or mouse blood served as the infectious blood meal . Similar to the earlier studies , when O . montana or X . cheopis were infected using rat blood containing \\u2265108 CFU/ml Y . pestis , 0\\u201360% and 0\\u2013100% , respectively , of Swiss-Webster mice challenged 1 to 4 days later with groups of 7\\u201311 fleas either developed disease or seroconverted , an estimated transmission rate per flea of 0 to ~10% [1 , 4 , 15 , 16] . Fleas apparently transmit few Y . pestis by the early phase mechanism . In early-phase mass transmission tests in which groups of more than 100 O . montana or X . cheopis infected using mouse blood were allowed to feed three days later from a sterile blood reservoir , relatively few CFUs were recovered ( median = 3 , range = 0\\u2013164 ) , and in about half of the experiments no transmission was detected [6] . The total CFUs transmitted in those experiments was below the reported ID50 ( 250 CFU ) of the California ground squirrel , a major host for O . montana [17] . One variable that may complicate interpretation of disparate vector competence data is the source of rodent blood used in the infectious blood meal [18] . In this study , we evaluated whether different sources of infectious rodent blood ( mouse , rat , guinea pig , and gerbil ) modulate early infection of the flea foregut by Y . pestis or EPT . The rodent blood sources used in this study , except for Mongolian gerbil blood , have been previously used in evaluations of flea vector competence for Y . pestis [1 , 2 , 6 , 10 , 12\\u201314] . Gerbil ( jird ) blood was included in our analysis as Meriones spp . are known to be plague reservoir hosts in Asia [19] . We show that ~10\\u201325% of rodent fleas that consumed rat blood or guinea pig blood , but not mouse or gerbil blood , containing high titers of Y . pestis refluxed a portion of the infectious blood meal from the midgut and proventriculus back into the esophagus shortly after infection , a phenomenon we term PIER ( post-infection esophageal reflux ) . PIER frequently obstructed the passage of blood during the flea\\u2019s next blood meal and correlated with increased numbers of Y . pestis CFU transmitted by O . montana . Enhanced in vitro transmission at 3 days after infection was dependent on the ability of Y . pestis to produce the exopolysaccharide required for biofilm formation . Thus , when rat blood was used to infect O . montana , they can become partially or fully blocked and transmit Y . pestis within a time frame typically attributed to EPT . \\n When a flea feeds , muscles located in the head pump blood through the esophagus , the proventriculus , and into the midgut [20] . As feeding ends , the esophagus is cleared of residual blood while the proventriculus and hindgut confine the blood meal while it is digested in the midgut [21] . Unexpectedly , 24 h after X . cheopis fleas consumed rat blood containing ~1 x 109 Y . pestis KIM6+ ( pAcGFP1 ) CFU/ml and 1 \\u03bcm fluorescent beads , both blood and beads were observed in the esophagus in 21 of 80 ( 26% ) of fleas ( Fig 1A ) . We termed this post-infection esophageal reflux ( PIER ) . The distance blood and beads refluxed through the esophagus due to PIER was variable , ranging from just above the proventricular-esophageal junction to within the head . In contrast , PIER was not observed when fleas were fed sterile rat blood or when mouse blood served as the infectious blood meal; the blood meal remained confined to the proventriculus and MG . Because PIER was not evident immediately after the infectious blood meal and the fleas had not fed subsequently , we concluded that a portion of the blood meal had refluxed from the proventriculus or MG back into the esophagus during the first 24 h of infection . To determine the incidence of PIER in infected flea populations and confirm that the fluorescent beads did not induce PIER , groups of 82\\u2013296 rat fleas were fed a sterile or high-titer infectious blood meal ( without fluorescent beads ) from 1 of 4 different rodent species: Sprague-Dawley rat ( Rattus norvegicus ) , RML Swiss-Webster mouse ( Mus musculus ) , domestic guinea pig ( Cavia porcellus ) , or Mongolian gerbil ( Meriones unguiculatus ) . Immediately following feeding , and again 24 h later , fleas were immobilized , examined under a microscope , and the number of fleas with and without PIER was recorded ( Fig 1B ) . One day after feeding on infected rat or guinea pig blood , 8\\u201328% of fleas exhibited PIER ( Fig 1C ) . In contrast , \\u22641 . 2% of fleas fed bacteremic mouse or gerbil blood , or fleas fed sterile blood from any rodent species , developed PIER ( Fig 1C ) . Induction of PIER did not require the Y . pestis hmsHFRS-dependent exopolysaccharide needed for biofilm formation , or the Pla protease ( Fig 1C and Table 1 ) . Adding live Escherichia coli S17-1 or DH5\\u03b1 ( pCH16 ) , or heat-killed Y . pestis to the blood meal did not induce PIER at rates comparable to live Y . pestis ( 0\\u20136% vs . ~22% , respectively ) , indicating that metabolic activity and/or replication of Y . pestis in the digestive tract enhances development of PIER . To verify that the method of anti-coagulation did not influence induction of PIER , fleas were infected with both defibrinated and sodium heparin treated mouse or rat blood ( Fig 1C and S1 Fig ) . Identical rates of PIER were observed in infected fleas regardless of the treatment used to prevent the blood from clotting . Furthermore , PIER occurred in fleas infected using washed rat RBCs in PBS , indicating that coagulation factors or other plasma components are not essential for PIER ( S1 Fig ) . The data show that a portion of the infectious blood meal is often refluxed into the esophagus within 24 h of ingesting rat or guinea pig blood containing high titers of Y . pestis , but not when bacteremic mouse or gerbil blood is ingested . A previous study indicated that the species of host blood affects Y . pestis infection rates in rodent fleas [18] . We found that in the short term ( 1 day after infection ) , X . cheopis that fed on blood containing ~5 x 108 Y . pestis/ml had similar infection rates and bacterial loads regardless of the rodent blood used for the infectious blood meal ( Fig 1D ) . Flea groups infected with mouse , rat , or guinea-pig blood had 100% infection rates and equivalent numbers of Y . pestis ( ~5 x 105\\u20131 x 106 CFU/flea ) in the digestive tract for 24 h following the infectious blood meal . Fleas infected using gerbil blood had slightly lower infection rates ( 93% ) and more variable bacterial burdens; however , the majority had bacterial burdens comparable to those infected using other rodent blood sources . These results indicate that differences in replication or clearance of Y . pestis in the flea digestive tract do not explain why some blood sources induce PIER while others do not . Y . pestis is non-motile and does not adhere to the midgut epithelium during the early stages of flea infection , so it seemed likely that plague bacilli would also be present in the esophagus following PIER [30] . To confirm this , the digestive tract of X . cheopis fleas were scored for PIER 24 h after infection , dissected , and the foregut was screened for localization of GFP+ bacteria to the esophagus . Digestive tracts of fleas infected with rat or guinea pig blood containing Y . pestis had high rates ( ~40\\u201390% ) of bacterial localization to the esophagus ( Fig 2A and 2B ) . Conversely , only 3 to 10% of fleas infected using mouse or gerbil blood contained Y . pestis in the esophagus , even though 88% ( 50 of 57 ) of them contained Y . pestis in the proventriculus . Initially , the proventriculus of all fleas contained a portion of the blood meal regardless of host blood source . Placement of a coverslip on the dissected digestive tract of all 57 fleas infected using mouse or gerbil blood was sufficient to force most this out into the esophagus or back into the midgut , leaving the valve somewhat flattened and its spines clearly distinct ( Fig 2A ) . In contrast , the proventriculus of 43 of 50 fleas ( 86% ) infected using rat or guinea pig blood , and of 33 of 34 fleas diagnosed with PIER , remained bulbous and retained blood meal contents , which obscured visualization of the proventricular spines ( Fig 2A and 2C ) . In addition , the proventricular spines of fleas infected with rat or guinea pig blood appeared to be spread further apart when compared to spines of fleas infected using mouse or gerbil blood ( Fig 2A ) . Thus , the flea foregut is rapidly colonized following the infectious blood meal and certain rodent blood sources promote PIER , esophageal localization of Y . pestis , and enhanced retention of partially digested infected blood in the proventriculus . Upon dissection of X . cheopis that fed on rat or guinea pig blood , the presence of large numbers of crystals in the digestive tract became apparent ( Fig 3A , 3B , 3E , 3F , 3I and 3J ) . These crystals were not observed in the digestive tract of infected fleas that fed on mouse or gerbil blood ( Fig 3C , 3D , 3G and 3H ) . The morphology and color of these crystals were identical to descriptions of oxyhemoglobin crystals of the rat ( rhomboidal or trapezoidal ) and guinea pig ( pyramidal ) [31 , 32] . Most of the rat hemoglobin crystals in the flea guts formed rhomboids , but some were jagged and trapezoidal . Crystallization of oxyhemoglobin during digestion of sterile rat and guinea pig blood has been observed previously in the gut of several blood-feeding arthropods , including soft ticks , kissing bugs , lice , and X . cheopis fleas [33\\u201336] . Consistent with previous observations , oxyhemoglobin crystal formation was not dependent on the presence of Y . pestis: all 10 fleas dissected 4 h after feeding on sterile rat blood contained numerous crystals in the gut . Crystals varied in size and concentration but were present in >70% of fleas fed rat or guinea pig blood containing Y . pestis for at least 24 h following the infectious blood meal ( Fig 3K ) . Oxyhemoglobin crystals were prevalent in the midgut of 32 of 34 fleas diagnosed with PIER and for many of these , crystals were also observed in the proventricular-esophageal junction ( Fig 3L and 3M ) . Even though the thick muscle layers surrounding the proventriculus precluded direct observation of crystals , the general abundance of oxyhemoglobin crystals in the gut and frequent observations of oxyhemoglobin crystals within the proventricular-esophageal junction and esophagus indicate that the material in the proventriculus also included oxyhemoglobin crystals . Rattus norvegicus hemoglobin is poorly soluble and readily crystalizes after RBC hemolysis [32 , 37 , 38] . We generated hemoglobin crystals with similar morphology to those found in the flea gut by lysing rat RBCs in sterile water at room temperature for 10 minutes ( S2A Fig ) . Lysis of mouse , guinea pig , or gerbil RBCs using an identical protocol did not result in the formation of hemoglobin crystals . Absorption spectra of a suspension of the crystals derived from rat RBCs showed peaks at 540 and 570 nm , which is characteristic of oxyhemoglobin ( S2B Fig ) [33 , 37] . Rodent blood sources with poorly soluble hemoglobin were also digested more slowly in the flea gut than was mouse blood . Most fleas infected with rat , guinea pig , or gerbil blood contained abundant partially digested RBC stroma 24 h after infection , whereas most fleas that consumed infectious mouse blood had completely digested their blood meal\\u2013the gut primarily contained a clear , viscous sepia-colored liquid and little or no RBC stroma ( 3E-H ) . To directly assess whether rat RBCs are critical for induction of PIER , X . cheopis fleas were infected with Y . pestis suspended in washed rat RBCs in PBS ( S1 Fig ) . PIER was seen in 15% of these fleas , indicating that rat RBCs alone are sufficient to induce PIER . Furthermore , addition of lysed rat RBC components ( stroma and oxyhemoglobin crystals ) to infectious mouse blood ( which would not normally induce PIER ) was sufficient to cause PIER in some fleas that fed on the mixture ( S1 Fig ) . PIER was only observed when rat RBCs were present in the infectious blood meal . The observations collectively indicate that the proventriculus becomes congested with a combination of oxyhemoglobin crystals , bacteria , and RBC stroma when fleas feed on rat or guinea pig blood containing Y . pestis . To determine whether other known vectors of Y . pestis develop PIER , we infected groups of O . montana ( like X . cheopis , an efficient EPT vector ) and C . felis ( a poor EPT vector ) using rat blood and screened them for PIER . PIER was not seen in infected C . felis 24 h after the infectious blood meal ( Fig 4A and 4C ) . In contrast , PIER was observed in 11% of O . montana , an incidence rate that was about half that observed for infected X . cheopis ( Figs 1C , 4B and 4C ) . Similarly to X . cheopis , ~50% of infected O . montana had bacteria localized to the esophagus and accumulated partially digested blood debris in the foregut , which frequently obscured visualization of the proventricular spines ( Fig 4B , 4D and 4E ) . The percentage of infected C . felis with bacteria in the esophagus and partially digested red blood in the foregut was significantly lower , 16 and 10% , respectively . 80\\u201395% of O . montana remained infected 24 h following the infectious blood meal whereas the C . felis infection rate was more variable , ranging from 50\\u2013100% ( Fig 4F ) . Bacterial burdens were comparable between flea species . Oxyhemoglobin crystals were observed in the digestive tract of both flea species; however , they were less numerous in C . felis , correlating with reduced incidence of partially digested blood material in the cat flea foregut . Thus , the efficient EPT vectors O . montana and X . cheopis regularly develop PIER , but the poor EPT vector C . felis does not . To discern whether PIER interfered with ingestion of blood , X . cheopis and O . montana infected using rat blood were subsequently fed a sterile blood meal containing fluorescent beads 3 days after the initial infection . Prior to being fed on the bead-laden blood , fleas with PIER were separated from those without PIER . Following the blood meal , fleas that appeared to have proventricular obstruction ( presence of fresh blood in the esophagus ) were imaged to track the location of fluorescent beads in the digestive tract . Most fleas diagnosed with obstruction appeared to be either partially blocked ( 23\\u201352%; beads present in both the esophagus and the midgut ) ( Fig 5A and 5D ) or fully blocked ( 46\\u201348%; beads present in the esophagus and proventriculus only ) ( Fig 5B and 5E ) . However , 31% of X . cheopis diagnosed with proventricular obstruction were false positives , with no evidence of beads in the digestive tract ( Fig 5C and 5F ) . These fleas had not actually fed; the initial diagnosis of obstruction was due to PIER-derived blood that remained red for at least 3 days post-infection . This was not observed for O . montana , in which PIER-derived blood in the esophagus was dark brown and easily distinguished from recently ingested blood , and those diagnosed with obstruction always had beads present in the foregut . O . montana or X . cheopis diagnosed with PIER prior to feeding on the bead-laden blood were 3 to 25 times more likely to have evidence of at least partial obstruction of the proventriculus ( fresh blood and beads trapped in the esophagus ) compared to those without PIER ( Fig 5G ) . Fresh red blood trapped in the esophagus after feeding is typically observed in fleas that transmit by the biofilm-dependent regurgitative mechanism [2 , 8] . These data indicate that PIER often causes sufficient proventricular obstruction to interfere with blood feeding . To test whether the source of the infectious blood meal affected transmission of Y . pestis , groups of ~200 O . montana or X . cheopis fleas , infected 3 days earlier with mouse or rat blood containing high concentrations of Y . pestis ( >1 x 108 CFU/ml; Table 2 ) , were allowed to feed on sterile blood . Immediately following the 1 . 5 h feeding period , the number of CFU transmitted was determined by plate count . In addition , fleas were screened for evidence of feeding and for foregut obstruction . O . montana and X . cheopis infected using rat blood transmitted ~420- and 3-fold more CFU , respectively , than those infected using mouse blood ( Fig 6A , Table 2 ) . Significantly more fleas infected using rat blood had foregut obstruction compared to those infected using mouse blood ( Fig 6B ) . Surprisingly , the increase in CFU transmitted by O . montana infected with rat blood was biofilm-dependent; fleas infected with Y . pestis KIM6+ \\u0394hmsR , a strain unable to produce and export the exopolysaccharide needed for mature biofilm formation , transmitted 98-fold fewer CFUs than O . montana infected with the parental Hms+ strain . The number of CFU transmitted and the number of fleas with foregut obstruction correlated well for infected O . montana ( R2 = 0 . 84 ) , but not for X . cheopis ( R2 = 0 . 16 ) ( Fig 6C and 6D ) . False-positive misdiagnosis of a portion of the obstructed X . cheopis may partially explain the poor correlation between foregut obstruction and CFU transmitted in EPT assays ( Fig 5F ) . The data suggest that fleas infected using rat blood develop proventricular obstruction at a faster rate , reducing the extrinsic incubation period required for BDT . Thus , in certain conditions BDT can play a role as soon as 3 days after infection , overlapping with the traditional EPT timeframe ( 1\\u20137 days post-infection ) [39] . As previously reported , flea infection rates following the transmission tests ( 3 day post-infection maintenance feed ) were significantly lower in O . montana that had been infected using mouse blood rather than rat blood ( 38% vs . 96% , Table 2 ) [18] . Infection rates of fleas in the mouse blood group were comparable to those of fleas that had been infected with KIM6+ \\u0394hmsR in rat blood ( 43% ) , a strain that cannot permanently colonize the proventriculus [8 , 40] . In addition , bacterial burdens of O . montana from the mouse blood group that remained infected were about 10-fold lower than the rat blood group ( Table 2 ) . We considered the possibility that differences in feeding rate may explain why O . montana transmitted more CFU than X . cheopis infected using rat blood . On average , 129\\u2013138 ( 60\\u201363% ) infected X . cheopis fed during the EPT transmission assays , whereas 149\\u2013172 ( 72\\u201388% ) infected O . montana fed ( Table 2 ) . However , even when estimating CFU transmitted on a per flea basis under optimal conditions ( rat blood infection ) , infected O . montana transmitted significantly more Y . pestis than X . cheopis ( 20 vs 0 . 8 , respectively; Table 2 ) . \\n Between 1905\\u20131916 , soon after fleas were proven to be the important vectors of plague , two temporally distinct phases of flea-borne transmission were described [3] . What became known as mass transmission , and more recently termed early-phase transmission ( EPT ) , occurs when groups of fleas feed on a na\\u00efve animal during the first week after their infectious blood meal , and wanes thereafter . A later phase of transmission occurs after Y . pestis produces sufficient stable biofilm growth in the proventriculus to partially or completely block normal blood flow during feeding , and is routinely effected by a single flea during continuous feeding attempts as it gradually starves . Recent work has shed new light on both modes of transmission . EPT of Y . pestis was long assumed to be an example of mechanical transmission , and EPT of Rickettsia felis by cat fleas occurs by this mechanism [41] . However , the fact that different fleas vary greatly in their EPT efficiency following infection with Y . pestis , and that early-phase mass transmission by fleas infected with Y . pseudotuberculosis is never detected , argue against a simple mechanical mechanism , because all fleas would have been expected to soil their mouthparts and transmit equivalently by this means [42 , 43] . We recently proposed that EPT , like BDT , occurs via regurgitation of bacteria from the proventriculus [8] . This was based on the striking observation that the proventriculus is a primary site of infection that is often heavily colonized within a day after an infectious blood meal . This was unexpected , because the long-standing conception has been that the midgut is infected first and that the proventriculus is not colonized until a few days later in X . cheopis , and later and less often in other fleas [12 , 14] . However , we found that in the majority of all three flea species examined ( X . cheopis , O . montana , and C . felis ) , large aggregates of bacteria , surrounded by an amorphous , brown-colored matrix derived from digestive products of the blood meal , were present in both the proventriculus and the midgut 1\\u20133 days after feeding on blood containing the high concentrations of Y . pestis required to sustain EPT [8] . The results presented here support the regurgitative mechanism model for EPT and provide new details . According to our model ( [8]; Fig 7 ) , those fleas with an initial heavy proventricular colonization are competent early-phase vectors , because blood flow through the proventriculus is sufficiently restricted to result in reflux of blood mixed with bacteria back into the bite site . Here we show that the makeup of the proventricular bacterial aggregates differs with different infectious blood sources , and that this can lead to an extension of initial proventricular infection forward into the esophagus and affect EPT efficiency . Within 24 h after ingesting bacteremic rat or guinea pig blood , X . cheopis and O . montana fleas often regurgitated some blood meal material containing Y . pestis into the esophagus ( post-infection esophageal reflux; PIER ) . Although primary proventricular colonization occurs in 67\\u2013100% of X . cheopis and O . montana fleas after they feed on bacteremic mouse blood [8] , they rarely exhibit PIER . PIER-inducing blood sources affected early proventricular colonization in two ways . In addition to the presence of infected blood meal regurgitant in the esophagus , fleas with PIER exhibited a more prominent and tenacious early colonization of the proventriculus . This was evidenced by greater expansion of the valve ( Fig 2A ) and an increased incidence of obstruction of blood flow into the midgut upon the first maintenance feed 3 days after infection compared to fleas without PIER ( Fig 5; Table 2 ) . The extrusion of bacteria forward into the esophagus and the enhanced proventricular obstruction associated with PIER would both be predicted to enhance a regurgitative EPT mechanism . EPT efficiency , as assessed by the average CFU transmitted per flea , was in fact ~4-fold and ~100-fold higher for PIER+ than for PIER- X . cheopis and O . montana , respectively ( Table 2 , Fig 6 ) . Interestingly , most of this increase observed in O . montana was dependent on an intact hmsHFRS operon , which is required for Y . pestis to produce the poly-\\u00df-1 , 6-N-acetyl-D-glucosamine exopolysaccharide of a mature biofilm and for BDT [5] . This result indicates that , although PIER fortifies initial proventricular colonization and obstruction , even with PIER the early-phase foregut obstruction generates less regurgitative pressure than during later BDT . The CFU transmitted per flea by the later , biofilm-dependent mechanism can be orders of magnitude higher than by EPT [6 , 42 , 44] . Evidence that EPT is due to regurgitation from the flea foregut includes: 1 ) The proventriculus ( or proventriculus and esophagus in the case of PIER ) is often heavily colonized by Y . pestis within 24 h after a highly bacteremic blood meal in all flea species examined ( [8]; Fig 2 ) . 2 ) The complex aggregate of bacteria and digestive byproducts that accumulates in the foregut frequently obstructs ingestion during the next blood meal , and this correlates with increased EPT efficiency ( Fig 6; Table 2 ) . 3 ) Flea species whose behavior and physiology promotes retention of bacteria in the foregut and induction of PIER ( O . montana and X . cheopis ) are relatively efficient EPT vectors whereas those that do not ( C . felis ) are inefficient ( Fig 4 ) [6 , 43 , 45] . 4 ) Y . pestis Hms mutants unable to synthesize and export the exopolysaccharide required for mature biofilm growth nevertheless form typical aggregates , transiently colonize the proventriculus , and are transmitted during the early-phase window ( Fig 6 and Table 2 ) [8 , 15] . 5 ) EPT efficiency is not affected by loss of the phospholipase D activity encoded by the Y . pestis ymt gene , which enhances bacterial survival in the midgut but is not required for infection of the proventriculus [40 , 46] . PIER correlated strongly with the use of rodent blood sources that are characterized by poorly soluble hemoglobin and a relatively slow digestion rate in the flea . The major constituent of a blood meal is water , much of which is rapidly eliminated through diuresis , concentrating the formed elements of the blood into a bolus [21 , 36] . Hemolysis with release of hemoglobin occurs within 3\\u20136 h after a blood meal [21 , 47] . Free oxyhemoglobin can crystalize in the digestive tract , depending on the solubility characteristics of the particular species of hemoglobin [36] . The rate that oxyhemoglobin crystals and RBC stroma are processed and eliminated varies in different flea species and for different blood types ( Fig 2 and Fig 4 ) . PIER-inducing rat and guinea pig blood is digested more slowly in the midgut and the hemoglobin of these two species is poorly soluble and crystalizes rapidly , whereas non-PIER-inducing mouse blood is typically digested within 12\\u201324 h and its hemoglobin does not readily form crystals [31 , 32 , 36] . Notably , X . cheopis that feed on sterile rat blood digest their entire blood meal and the hemoglobin crystals that form disappear within 20\\u201330 h of feeding [36] . This timeframe of RBC hemolysis and subsequent hemoglobin crystal formation roughly correlates with the earliest observations of PIER in infected fleas ( 8 h post-infection ) . Interestingly , fleas that consumed sterile blood of any type or those that ingested E . coli or heat-killed Y . pestis rarely developed PIER ( Fig 1A and 1C ) , indicating that metabolic activity of Y . pestis is important for PIER induction . We hypothesize that PIER occurs when accumulation of partially digested blood meal material and oxyhemoglobin crystal prevents the proventricular spines from overlapping and sealing off the midgut , and bacteria and blood debris are pushed into the esophagus by proventricular contractions and midgut peristalsis ( Fig 7B ) . Typically , the backward directed proventricular spines that circle the lumen of the proventriculus are thought to partially or completely interlock , preventing backflow of blood into the esophagus [7] . The flea midgut and proventriculus musculature continues to contract long after a blood meal , churning and passaging the gut contents between the two compartments [48] . The proventriculus of fleas that develop PIER appears to be enlarged ( Figs 1B and 5A\\u20135E ) because it is packed with bacteria , partially digested blood , and hemoglobin crystals that spread the proventricular spines farther apart ( Figs 2A , 2C and 4B ) . Consistent with our hypothesis , PIER appeared to inhibit normal post-feeding proventricular contractions to some degree , although midgut peristalsis still occurred ( S1 and S2 Videos ) . Taken together , our results indicate that metabolic activity of Y . pestis , in addition to bacterial aggregation and colonization of the proventriculus , is important for PIER induction . We considered the possibility that differential agglutination of mouse and rat RBCs by Y . pestis could partially account for the differences in proventricular colonization and induction of PIER because Yersinia pH 6 antigen ( Psa ) is expressed at 37\\u00b0C ( the growth temperature of the bacteria added to the infectious blood meals ) and is a known hemagluttinin [49] . However , comparative hemagglutination assays revealed that RBCs from mice and rats were agglutinated equivalently by KIM6+ ( S3 Fig ) . It is also important to note that while fibrin clots were once hypothesized to be important for chronic infection of the flea proventriculus , this has been ruled out [50 , 51] . As such , we used either defibrinated or heparinized blood from mice or rats for our in vitro flea infections and showed that the incidence rates of PIER were equivalent for both methods of anti-coagulation ( Fig 1C and S1 Fig ) . The results indicate that addition of sodium heparin to infectious rodent blood does not affect PIER for rodent fleas . The fact that rat RBCs alone are sufficient for PIER induction ( S1 Fig ) also indicates that plasma components are not required . Some differences were observed in the effect that blood source had on early infection characteristics in the three flea species examined . Unlike the two rodent flea species , PIER did not develop in cat fleas infected using rat blood . This may be because cat fleas process their blood meals more quickly , making it less likely that hemoglobin crystals and RBC stroma accumulate ( Fig 4E ) . In addition , cat fleas have a thick band of musculature that narrows and constricts the esophagus at its intersection with the proventriculus , which may act as a sphincter that prevents backflow of material into the esophagus [43] . This musculature is diminished or absent in X . cheopis and O . montana [8 , 43] . We hypothesize that these anatomical and physiological traits make it more difficult for Y . pestis to persistently colonize the cat flea proventriculus , less likely to develop PIER , and less efficient at regurgitative transmission , both in the early phase and later [43] . Differences were also observed between X . cheopis and O . montana . Consistent with a previous study [18] , the infection rate and bacterial burden for O . montana at 3 days post-infection was significantly lower when the infectious blood meal was composed of mouse blood compared to rat blood ( Table 2 ) . In contrast , X . cheopis infection rates and bacterial loads were equivalent with the two blood sources . The rates were also lower for O . montana infected with the Y . pestis KIM6+ \\u0394hmsR mutant than with KIM6+ wild-type in rat blood . A second difference between O . montana and X . cheopis was the much greater effect that rat blood had on the number of bacteria transmitted 3 days post-infection ( Table 2; Fig 6A ) . This increased transmission efficiency was biofilm-dependent as well as blood-source-dependent , because it was not seen with the hmsR mutant . This indicates that , in some fleas , sufficient HmsHFRS-dependent exopolysaccharide is produced to stabilize the proventricular aggregate , thereby increasing regurgitative transmission efficiency . We have recently shown that ~1\\u20133% of O . montana infected using mouse blood become partially blocked within 3 days of infection and ~25% are fully blocked by 6 days post-infection [6] . The great gerbil flea Xenopsylla skrjabini can also become fully blocked by 3 days after infection [52] . In the present study , 4\\u201320% of O . montana infected using rat blood appear to become either partially or fully blocked within 3 days of infection ( Table 2; Fig 5 ) , generally sooner and with greater frequency than those infected with mouse blood ( Fig 6B ) . Furthermore , biofilm-dependent transmission is not dependent on complete blockage of the foregut; partially blocked fleas can also transmit [7 , 8] . Thus , although the extrinsic incubation period required for biofilm-dependent transmission is generally reported as 1\\u20132 weeks after infection for X . cheopis , it can be as short as a few days , suggesting that early-phase and biofilm-dependent transmission do not always occur in two distinct temporal phases . Infections using rat blood also increased the number of Y . pestis transmitted by X . cheopis during the early-phase , but not to the extent seen for O . montana ( Table 2 , Fig 6A ) . This was surprising , because more X . cheopis than O . montana infected using rat blood were diagnosed with foregut obstruction ( partial or full blockage ) following the day-3 EPT feeds . Given this , it might be expected that groups of X . cheopis would transmit more CFU than O . montana . One confounding variable was that up to ~30% of infected X . cheopis identified as being obstructed in our EPT experiments were likely false positives ( Figs 5B , 6C and 6F ) . The portion of the blood meal refluxed into the esophagus ( by PIER ) appears to be digested more slowly than the contents of the midgut , causing it to remain bright red for some infected X . cheopis . This limited our ability to visually diagnose obstruction in X . cheopis infected using rat blood when fed within 3 days of the infectious blood meal . Additionally , we have shown that O . montana transmits more Y . pestis than X . cheopis by the BDT mechanism , despite the fact that X . cheopis has a higher blockage rate [6] . We have hypothesized that these differences in transmission efficiency may be related to anatomical features of the flea foregut; specifically , the O . montana foregut appears more susceptible to biofilm-induced distension at or near the esophageal-proventricular junction [6] . This may affect the hydrodynamics of transmission , in that a greater surface area of the infectious biofilm is exposed to incoming blood , increasing the likelihood that bacteria are dissociated and transmitted . Collectively , the data lead us to conclude that O . montana is a more efficient vector since it becomes blocked more quickly than X . cheopis and transmits greater numbers of Y . pestis CFU ( Fig 6 ) [6] . Our data indicate that rat blood-based infections decrease the time required for O . montana to transition from EPT to BDT , resulting in temporal overlap of the two modes of transmission . Based on this study and recent findings indicating that O . montana readily become completely blocked shortly after infection ( mean = 9 . 6 days ) , even when mouse blood is used , and survive for extended periods after becoming blocked ( mean = 7 days , range = 1\\u201316 days ) , we think it likely that both EPT and BDT are simultaneously operative during epizootics involving the ground squirrel hosts of O . montana [6] . The high vector competence of O . montana may in part account for the rapidity with which Y . pestis spread throughout the western United States after it was introduced shortly before the turn of the 20th century , particularly if ground squirrel blood is PIER-inducing . A previous study that measured EPT efficiency by groups of ~10 infected O . montana using rat blood found that biofilm-deficient Y . pestis \\u0394hmsR or \\u0394hmsT strains were transmitted at least as well as the parental strain [15] . In partial agreement with these observations , biofilm production was not requisite for EPT in our mass transmission experiments; however , significantly more CFU of the parental Hms+ Y . pestis than the \\u0394hmsR mutant were transmitted ( Fig 6A and Table 2 ) , which would be predicted to increase disease incidence following EPT challenge . The two studies used dissimilar experimental models , however: small groups of infected fleas used to challenge Swiss-Webster mice , with disease or seroconversion as the readout; versus large groups of infected fleas feeding on sterile blood in an artificial feeding device , with the number of CFU recovered from the blood reservoir being the readout . Swiss-Webster mice are highly susceptible to plague by peripheral routes ( <10 CFU ) , making that model of EPT highly sensitive for detecting transmission of few CFU [22 , 53] . Mice which seroconverted but did not develop fulminant disease were included in calculations of transmission efficiency , which indicates that the number of CFU transmitted was sometimes below the LD50 [15] . An advantage of the artificial feeding model of transmission is that it allows for quantification of the total CFU transmitted by groups of fleas . We hypothesize that the large increase in CFU transmitted by O . montana infected with the Hms+ compared to the Hms- Y . pestis in our mass transmission assays came from a small number of the 157\\u2013199 fleas in which enough of the Hms-dependent extracellular matrix had been produced to effect BDT ( Table 2 ) . Flea transmission efficiency , in general , is low by both EPT and BDT mechanisms; however individual blocked fleas can transmit >1 , 000 CFU by BDT , much higher than is transmitted by EPT [44] . Our use of large pools of fleas increases the likelihood of detecting these relatively infrequent early BDT events . Hemoglobin solubility is highly variable among the Muridae ( mice , rats , and gerbils ) [31] . Digestion of rat blood resulted in the formation of abundant oxyhemoglobin crystals in the flea digestive tract , but digestion of mouse or gerbil blood did not ( Fig 3 ) . Interestingly , the hemoglobin of the Sciuridae family of rodents , which includes squirrels , marmots , and prairie dogs that are susceptible to plague epizootics , has been described as poorly soluble and prone to crystal formation , suggesting that fleas that feed on ground squirrels or prairie dogs would develop PIER after feeding on highly bacteremic blood [31] . Our findings provide a possible explanation as to why the Sciuridae and their fleas are prominent in plague ecology and epizootics spread rapidly in their populations: fleas that ingest bacteremic blood with poorly soluble hemoglobin can rapidly develop a foregut obstruction that is resistant to dislodgement and promotes regurgitative transmission of Y . pestis . Future studies of vector competence using rodent blood obtained from other hosts susceptible to Y . pestis such as great gerbils , prairie dogs , and ground squirrels will provide valuable information for generating hypotheses about Y . pestis transmission dynamics during plague outbreaks . \\n Yersinia pestis KIM strains and Escherichia coli cloning strains were grown at 37\\u00b0C in brain-heart infusion ( BHI ) broth supplemented with hemin ( 10 \\u03bcg/ml ) as described previously [43] ( Table 1 ) . Unless otherwise noted , KIM strains contained pAcGFP1 ( Clontech; Mountain View , CA ) . E . coli DH5\\u03b1 was transformed with pCH16 , a plasmid that encodes Yersinia murine toxin ( Ymt ) , a phospholipase D enzyme needed for bacterial colonization of the flea midgut [28] ( Table 1 ) . C . felis , O . montana , and X . cheopis fleas from colonies established at Rocky Mountain Laboratories ( RML ) were starved for 4\\u20135 days prior to infection . Groups of about 150\\u2013300 fleas were allowed to feed from an artificial feeding device containing 5\\u20136 ml of sterile blood or blood that contained 1 x 108\\u20131 x 109 bacterial CFU/ml [54] . For other infection experiments , the bacteria were added to 5 ml of washed rat RBCs in PBS or to 5 ml of defibrinated mouse blood to which the RBC stroma and oxyhemoglobin crystals derived from 5 ml of rat blood ( prepared as described below ) had been added . For experiments using heat-killed bacteria , bacteria were concentrated , suspended in 1 ml of sterile phosphate-buffered saline ( PBS ) , and incubated at 65\\u00b0C for 20 minutes prior to addition to the blood meal . Loss of viability was confirmed by plating 50 \\u03bcl of the heat-killed bacterial suspension on blood agar . Blood sources for the infections were defibrinated or heparinized Sprague-Dawley rat ( Rattus norvegicus ) , defibrinated or heparinized Swiss-Webster mouse ( Mus musculus ) , defibrinated Hartley guinea pig ( Cavia porcellus ) , or defibrinated Mongolian gerbil ( Meriones unguiculatus ) . Most blood was purchased from Bioreclamation IVT ( New York ) . Sodium heparin treated mouse blood was collected on site . After a 1 . 5 h ( O . montana and X . cheopis ) or 4 h ( C . felis ) feeding period , fleas were screened for evidence of feeding and only those that had taken an infectious blood meal were used in experiments . When groups of fleas were not being screened for PIER or used in EPT assays , they were housed in plastic capsules and kept at 21\\u00b0C , 75% relative humidity [54] . The Y . pestis hmsR mutant , which lacks 681 base pairs of the open reading frame ( amino acids 63\\u2013290 ) including the entirety of the glycosyltransferase domain , was generated by allelic exchange using the pCVD442hmsR suicide vector ( Table 1 ) . An in-frame deletion ( described above ) was generated by inverse PCR of the pDONR221hmsR Gateway vector ( Pathogen Functional Genomics Resources Center , J . Craig Venter Institute ) , which contains the Y . pestis KIM hmsR ORF as well as ~500 base pairs up- and downstream , using 5\\u2019 phosphorylated primers GGAAACAGCGTCTCCGCTGGGCGCAAGGCGGTGCGG and CCCACGGCCAGTGCCTCTCTCGGCGTAGCCAGAAATAGC . The deletion fragment was amplified from the cloning vector by PCR using primers CGCTCTAGAAGCGGTGGACTCGTTACAAG and GCGGAGCTCACTGGAGCAACTTCTGGCAG and was ligated into pCVD442 using restriction sites XbaI and SacI . Cointegrants were generated in Y . pestis KIM6+ by conjugation with E . coli S17-1 ( pCVD442hmsR ) . Following sucrose selection , the hmsR mutant was validated by plating on Congo red agar and by PCR . Constituents of whole blood were separated by centrifugation at 1500\\u20132000 x g , plasma was removed , and RBCs were washed 3 times with sterile PBS . For hemolysis , RBCs were resuspended in dH2O equal to the volume of packed RBCs for 10 minutes at room temperature or were frozen and thawed ( 20 minutes , -80\\u00b0C ) . Following hemolysis , RBC stroma and oxyhemoglobin crystals were isolated by centrifugation at 10 , 000 rpm for 10 minutes . Absorbance of oxyhemoglobin crystals was measured using a TECAN Safire2 plate reader . For hemagglutination assays , Y . pestis was cultured at 37\\u00b0C in BHI , resuspended in sterile PBS to a concentration of ~5x107 CFU/ml; and 2-fold serial dilutions were made in a 96-well round-bottomed polystyrene dish . Washed mouse or rat RBCs were added to each well to a final concentration of 1% and thoroughly mixed with bacteria . Wells that contained unsedimented RBCs after 3h at room temperature ( persistence of a hazy suspension ) were scored as positive for agglutination . 24 h following infection , fleas were immobilized by placing them on ice and screened using a dissecting microscope for signs of post-infection esophageal reflux ( PIER ) . PIER was defined as the presence of red blood in the esophagus noticeably beyond the esophageal-proventricular junction following an infectious blood meal but prior to a subsequent maintenance feed on sterile blood . The number of fleas positive for PIER was recorded and fleas were returned to the capsule . For fluorescent tracking of PIER , 1 \\u03bcm red fluorescent ( 580/605 nm ) sulfate FluoSpheres ( Thermo Fisher Scientific; Waltham , MA ) was added to the infectious blood meal to a final concentration of ~3 . 6 x 108 beads/ml . To evaluate and verify proventricular obstruction , fleas were fed on sterile rat blood containing fluorescent beads 3 days after being infected using rat blood without beads . Samples of 10\\u201320 female fleas were collected immediately after their infectious blood meal and at 24 or 72 h post-infection and stored at -80\\u00b0C . Subsequently , fleas were mechanically disrupted using a FastPrep24 bead beater ( MP Biomedicals , Santa Ana , California ) , as previously described [43] . Aliquots of triturated fleas were plated in BHI soft agar overlays , supplemented with 100 \\u03bcg/ml carbenicillin and 10 \\u03bcg/ml hemin , to determine the prevalence of infection and average CFU per infected flea . Fleas that ingested fluorescent beads were not used for infection rate or CFU assays . Mass transmission experiments were performed as described previously [6] . Briefly , 3 days following infection , ~200 fleas ( approximately equal numbers of males and females ) were allowed to feed for 90 minutes on sterile defibrinated rat blood in the artificial feeding system . After feeding , fleas were collected to determine how many had fed , and of those , how many had evidence of digestive tract obstruction ( fresh red blood in the esophagus ) . Blood was removed from the feeding apparatus and the interior of the feeder was washed ten times with 3 ml PBS . The entire volume of blood , as well as resuspended material concentrated by centrifugation from the PBS wash step , were distributively plated on blood agar plates . The external surface of the mouse skin membrane was disinfected with ethanol , cut into small pieces , and homogenized using a bead beating apparatus ( MP Biomedicals , Santa Ana , CA ) . Skin samples were concentrated by centrifugation and plated separately on blood agar . Fleas that ingested fluorescent beads were never used for EPT assays . Blood agar plates were incubated at 28\\u00b0 C for 48 h prior to colony counts . Fleas were placed in PBS on a glass microscope slide and dissected with a set of fine forceps . The flea exoskeleton was removed and a glass cover slip was placed over the top of the digestive tract . For scoring esophageal localization of Y . pestis , digestive tracts in which ~25% or more of the length of the esophagus contained GFP+ bacteria were considered positive . Digestive tracts in which the proventricular valve contained red material that obscured visualization of at least 50% of the proventricular spines in bright field images were counted as positive for accumulation of partially digested blood in the proventriculus . For presence or absence of oxyhemoglobin crystals , 8 fields ( half at 20x and half at 40x magnification ) of digestive debris that leaked out of the midgut were screened per flea , and if any rectangular , pyramidal , rhomboidal , or trapezoidal objects were observed , the flea was considered positive for hemoglobin crystals . Intact fleas were immobilized by placing them on ice for 5\\u201310 minutes , transferred to a drop of PBS on a microscope slide , overlaid with a glass cover slip , and PBS was added beneath the coverslip to completely submerge the flea . After 1 minute , the fleas were observed for 3\\u20135 minutes for proventricular contraction and midgut peristalsis . To determine the location of ingested fluorescent beads in the digestive tract , fleas were examined by fluorescence microscopy . Images and videos of flea digestive tracts , bacterial biofilms , and fluorescent bead-laden fleas were obtained using a Nikon Eclipse E800 microscope or a Nikon SMZ 1500 dissecting microscope . The B-2A and G-2E/C fluorescent filter sets ( Nikon ) were used to acquire images of fleas containing GFP+ bacteria and fluorescent beads . Pictures and videos were obtained with an Olympus DP72 camera and cellSens software . All analyses were performed using GraphPad Prism 7 ( GraphPad Software Inc . , La Jolla , Ca . ) . Statistical tests used and relevant p values are indicated in the figure legends . All experiments involving animals were approved by the Rocky Mountain Laboratories , National Institute of Allergy and Infectious Diseases , National Institutes of Health Animal Care and Use Committee ( protocols 16\\u2013011-E and 16\\u2013058 ) and were conducted in accordance with all National Institutes of Health guidelines .\",\n          \"Endogenous retroviruses ( ERVs ) are remnants of ancient retroviral infections of the host germline transmitted vertically from generation to generation . It is hypothesized that some ERVs are used by the host as restriction factors to block the infection of pathogenic retroviruses . Indeed , some ERVs efficiently interfere with the replication of related exogenous retroviruses . However , data suggesting that these mechanisms have influenced the coevolution of endogenous and/or exogenous retroviruses and their hosts have been more difficult to obtain . Sheep are an interesting model system to study retrovirus-host coevolution because of the coexistence in this animal species of two exogenous ( i . e . , horizontally transmitted ) oncogenic retroviruses , Jaagsiekte sheep retrovirus and Enzootic nasal tumor virus , with highly related and biologically active endogenous retroviruses ( enJSRVs ) . Here , we isolated and characterized the evolutionary history and molecular virology of 27 enJSRV proviruses . enJSRVs have been integrating in the host genome for the last 5\\u20137 million y . Two enJSRV proviruses ( enJS56A1 and enJSRV-20 ) , which entered the host genome within the last 3 million y ( before and during speciation within the genus Ovis ) , acquired in two temporally distinct events a defective Gag polyprotein resulting in a transdominant phenotype able to block late replication steps of related exogenous retroviruses . Both transdominant proviruses became fixed in the host genome before or around sheep domestication ( \\u223c 9 , 000 y ago ) . Interestingly , a provirus escaping the transdominant enJSRVs has emerged very recently , most likely within the last 200 y . Thus , we determined sequentially distinct events during evolution that are indicative of an evolutionary antagonism between endogenous and exogenous retroviruses . This study strongly suggests that endogenization and selection of ERVs acting as restriction factors is a mechanism used by the host to fight retroviral infections . \\n An essential step in the replication cycle of retroviruses is the integration of their genome into the host genomic DNA . During evolution , exogenous retroviruses occasionally infected the germ cells of their hosts , resulting in stably integrated \\u201cendogenous\\u201d retroviruses ( ERVs ) that are passed to subsequent generations like any other host gene , following mendelian rules [1 , 2] . The continuous accumulation of new retroviral integrations over millions of years ( a process also known as \\u201cendogenization\\u201d ) , which occurred by both reinfection and possibly intracellular retrotransposition , resulted in the genomes of all vertebrates being heavily colonized by ERVs ( e . g . , ERVs constitute \\u223c8% of the human genome ) [3 , 4] . Most ERVs have accumulated genetic defects that render them unable to express infectious virus or proteins . However , some ERVs are transcriptionally active and have maintained intact open reading frames for some of their genes , raising the possibility that some of these elements may be beneficial to their hosts [5] . One of the possible explanations for the selection of some ERVs in vertebrates is their ability to provide protection against infection of related exogenous pathogenic retroviruses . ERVs can interfere with exogenous retroviruses by various mechanisms . For example , the expression of envelope ( Env ) glycoproteins by some ERVs in chicken and mice can block viral entry of exogenous retroviruses by receptor competition [6\\u20138] . Expression of a truncated Gag from an ERV ( Fv-1 ) in specific lines of mice confer protection against some strains of murine leukemia virus [9 , 10] . Sheep ( Ovis aries ) provide an exceedingly interesting animal model system to study retrovirus\\u2013host coevolution in nature . The history and timing of sheep domestication and breed selection is known and well documented by historical and archaeological records [11] . Jaagsiekte sheep retrovirus ( JSRV ) and enzootic nasal tumor virus ( ENTV ) are two related exogenous pathogenic retroviruses ( of the genus Betaretrovirus ) that cause naturally occurring neoplasms of the respiratory tract of sheep [12\\u201314] . Interestingly , the sheep genome harbors many copies of ERVs highly related to JSRV/ENTV that are termed enJSRVs [14\\u201317] . enJSRVs are abundantly expressed in the genital tract of the ewe , particularly in the endometrial lumenal and glandular epithelia of the uterus and in the trophectoderm of the placenta [14 , 18\\u221220] . enJSRVs possess several biological features that support the idea of essentially a \\u201csymbiotic\\u201d relationship with their host . Recently , we demonstrated that enJSRVs are critical for reproduction of sheep , because inhibition of enJSRVs Env production in utero severely compromised trophectoderm growth and differentiation in the ovine placenta [21 , 22] . Similar biological roles in placental differentiation for different ERVs Env glycoproteins have been proposed in both humans and mice [23\\u201328] . In addition , we found that some enJSRVs interfere with the replication of JSRV in vitro both by receptor competition and , most interestingly , at late stages of the replication cycle ( a mechanism termed JLR , meaning JSRV late restriction ) [29\\u201331] . JLR is exerted by a defective transdominant enJSRV provirus , enJS56A1 , whose Gag protein associates with and blocks intracellular trafficking of the JSRV Gag [30] . The major determinant of JLR is amino acid residue 21 in Gag that , in the exogenous JSRV/ENTV , is an arginine ( R21 ) and in the transdominant enJS56A1 is a tryptophan ( W21 ) . Our previous studies imply that sheep Betaretroviruses offer unique opportunities to study the coevolution of ERVs , exogenous retroviruses , and their hosts . Here , by characterizing the evolutionary history and molecular virology of enJSRVs we provide data supporting a model of continuous coadaptation between retroviruses and their hosts . In particular , these studies determined that: ( i ) two enJSRV loci that entered the host genome before and during speciation within the genus Ovis , acquired in two temporally distinct events , the W21 residue in Gag conferring a transdominant blocking phenotype; ( ii ) both these transdominant enJSRVs loci became fixed in the host genome before or around sheep domestication; ( iii ) the invasion of the sheep genome by ERVs of the JSRV/enJSRVs group is still in progress; and ( iv ) proviruses recently emerged that can escape the transdominant enJSRV loci . This study provides a unique outlook at the complex interplay between endogenous and exogenous retroviruses during host evolution . \\n We screened a sheep genomic bacterial artificial chromosome ( BAC ) library ( CHORI-243 ) , derived from DNA collected from a single Texel ram , and isolated , completely sequenced , and characterized 26 individual enJSRV proviruses including the previously cloned enJS56A1 and enJS5F16 ( Figure 1A ) [14] . One of the enJSRV proviruses ( enJS59A1 ) that we identified previously [14] was not reisolated in this study , because our screening strategy employed probes in the env region that is deleted in enJS59A1 . Sequence analysis of the genomic sequences flanking the proviruses , including the six nucleotides duplicated upon proviral integration , served to unequivocally identify the various enJSRV loci . Proviruses cloned in this study were named enJSRV-1 , \\u22122 , and so forth . Thus , the sheep genome contains at least 27 enJSRV proviruses . Previous studies estimated the presence of 15\\u201320 enJSRV loci in the sheep genome by Southern blotting hybridization using gag and env probes [15] . We identified five proviruses ( enJSRV-7 , \\u221215 , \\u221216 , \\u221218 , and \\u221226 ) with intact genomic organization and uninterrupted open reading frames for all the viral genes ( gag , pro , pol , orf-x , and env ) that is typical of replication competent JSRV/ENTV . Four of the five intact proviruses have identical 5\\u2032 and 3\\u2032 long terminal repeats ( LTRs ) , which is suggestive of relatively recent integration or endogenization into the host germline ( see below ) . Furthermore , two proviruses ( enJSRV-16 and \\u221218 ) are identical to each other at the nucleotide level along the entire genome , reinforcing the notion of recent integrations . Of the 27 enJSRV loci , 16 have an intact env open reading frame although two of these proviruses ( enJSRV-4 and enJSRV-24 ) lack the 5\\u2032 LTR , gag , pro , and most of pol . Interestingly , we identified another provirus ( enJSRV-20 ) with a tryptophan residue in Gag position 21 ( W21 ) conferring a defective and transdominant phenotype as with enJS56A1 [29 , 32] . enJSRV-20 had a portion of an env gene immediately before the proximal LTR and the 3\\u2032 genomic flanking sequence identical to the enJS56A1 homologous region . This suggests that enJSRV-20 was involved ( or maybe derived in part ) by processes of recombination/gene conversion with enJS56A1 . However , enJS56A1 and enJSRV-20 are two distinct proviruses that can be distinguished by nucleotide sequence differences throughout the genome ( 23 nucleotides including a 2-bp deletion in pol present in enJS56A1 but not in enJSRV-20 ) and by the 5\\u2032 flanking region . Thus , there are at least two transdominant enJSRV proviruses in the sheep genome . Curiously , 19 of the 86 BAC clones that resulted positive for enJSRV sequences contained the enJS56A1 provirus , as judged by direct sequencing of the genomic region flanking the proximal LTR . All the other proviruses were present in one to five BAC clones with the exception of enJSRV-7 ( present in nine BAC plasmids ) . The data suggest that the chromosomal location containing the enJS56A1 provirus may be duplicated in the sheep genome , considering that the BAC library used in this study has a 5\\u00d7 coverage of the sheep genome . However , we cannot rule out that the overrepresentation of some BAC clones is simply due to artifacts in the preparation or screening of the library . enJSRVs have a very high degree of similarity with the exogenous sheep betaretroviruses JSRV and ENTV . For example , there is 85%\\u201389% identity at the nucleotide level in gag and env between the infectious molecular clone JSRV21 [12] and the various enJSRV loci . However , all the enJSRV loci display the typical genetic \\u201csignatures\\u201d that differentiate them from the related exogenous pathogenic betaretroviruses . Major differences between enJSRVs and JSRV/ENTV are present in the U3 region of the LTR , in the variable region 1 ( VR-1 ) and VR-2 in gag , and in env VR-3 as observed in the previously characterized enJSRV proviruses or PCR-derived enJSRV sequences from the sheep genome [14 , 33\\u201335] . The JSRV/ENTV Env glycoprotein functions as a dominant oncogene in vitro and in vivo , and VR-3 is a major determinant of cell transformation [36\\u201339] . None of the enJSRV loci isolated in this study presented VR-3 sequences similar to the exogenous JSRV/ENTV . Moreover , we were unable to induce foci of transformed cells in classical transformation assays of rodent fibroblasts transfected with expression plasmids of the various enJSRV loci that maintain an intact env open reading frame ( unpublished data ) . These data suggest that retroviruses carrying the oncogenic JSRV/ENTV Env cannot be successfully selected as ERVs . Using retrovirus vectors pseudotyped by the various enJSRVs Env glycoproteins in standard entry assays ( Figure 1B ) , we confirmed that most enJSRV proviruses express a functional Env as determined by their ability to mediate virus entry using sheep hyaluronidase 2 ( Hyal2 ) , which can serve as a cellular receptor for the exogenous JSRV , ENTV , and the endogenous enJS5F16 Env [31 , 40\\u201342] . Only vectors pseudotyped by enJSRV-26 , enJSRV-16 ( whose Env is identical to enJSRV-18 ) , and enJSRV-4 Env showed titers similar to the vectors pseudotyped by the JSRV Env . The other enJSRV Env glycoproteins mediated entry less efficiently ( approximately 100-fold ) than the JSRV Env . All enJSRVs Env used goat Hyal2 as efficiently as ovine Hyal2 , while bovine Hyal2 did not mediate entry very efficiently . enJSRV-9 , enJSRV-13 , and enJS56A1 were not able to mediate viral entry in 3T3 cells overexpressing sheep and goat Hyal2 or in other cell lines such as the ovine endometrial stromal cell line ( oST ) and goat embryo fibroblast cell line ( TIGEF ) ( unpublished data ) . Thus , we conclude that the latter proviruses likely express defective Env proteins that do not efficiently mediate cell entry . We next investigated the evolutionary history of enJSRVs in order to better understand the nature of the association of these viruses with their host . The \\u201cage\\u201d of an ERV can be estimated by assessing the sequence divergence between the proximal and distal LTRs within a provirus , as it can be assumed that they were identical at the moment of proviral integration . The divergence accumulated between the LTRs over time can be used as a molecular clock ( \\u223c2 . 3\\u20135 \\u00d7 10\\u22129 substitutions per site per year ) [43] . However , LTR recombination and gene conversion occur frequently both within the same provirus and between different proviruses [44\\u201346] . Consequently , this analysis can be used only as a general estimate of the age of a particular group of ERVs . Eight of 24 enJSRV proviruses possess identical LTRs , while the remaining proviruses display from one to eight nucleotide differences ( 0 . 2%\\u20131 . 8% ) ( Table S1 ) , resulting in an estimated time of integration of these ERVs from less than 450 , 000 y ago to around 8 million y ago ( MYA ) . This period spans most of the evolutionary history of the subfamily of the Caprinae [47] . The time of integration of an ERV can be also estimated by determining whether phylogenetically related animal species share a particular provirus in the same genomic location , as this would imply an integration event before the split of those animal species during evolution . In this case , the calibration date relies on what is known for the evolutionary history of the animal species studied . Different studies estimate variable times of divergence among genera and/or species within ruminants and the Caprinae in particular , mainly because this subfamily had an extremely rapid expansion during some intervals in the Miocene and Pliocene [47] . Despite these limitations , we determined the distribution of each enJSRV provirus in domestic sheep ( O . aries ) and in other species within the subfamily Caprinae as this analysis can offer important data on virus-host coevolution . Samples tested included DNA collected from \\u201cwild sheep\\u201d of the Ovis genus ( O . dalli , Dall sheep; O . canadensis , bighorn sheep; O . ammon , argali ) and members of the genera Hemitragus ( H . jenlahicus , Himalayan tahr ) , Budorcas ( B . taxicolor , takin ) , and Capra ( C . hircus , domestic goat; C . falconeri , markhor ) . Among the domestic sheep , we initially analyzed 20 sheep from ten different breeds ( Dorset , Hampshire Down , Jacob , Merino , Rambouillet , Red Masai , Romanov , Southdown , Suffolk , and Texel ) . As schematically illustrated in Figure 2A , we analyzed each enJSRV locus using two primer sets that amplified , respectively , the junction between the provirus and the genomic flanking sequence at the 5\\u2032 or 3\\u2032 end of the provirus . As depicted in Figure 2B , two proviruses , enJSRV-10 and enJSRV-6 , were shared across various genera , suggesting that they integrated before the split of the genus Ovis ( sheep-like species ) from the genus Capra ( goat-like species ) that is estimated to have occurred between 5 and 7 MYA [47\\u201349] . PCR amplification of enJSRV-6 ( or enJSRV-10 ) was used to control for the quality of the DNA samples in all experiments . Ten proviruses ( including enJS56A1 ) were common between the domestic sheep and members of the genus Ovis , including bighorn sheep ( O . canadensis ) , Dall sheep ( O . dalli ) and argali ( O . ammon ) . The origin of the Ovis genus is estimated to have occurred approximately 3 MYA [47 , 50] , with the early Ovis prototypes giving origin to the North American bighorn sheep and Dall sheep . Three proviruses were in common only between the argali and the domestic sheep and were not present in the bighorn and Dall sheep . enJSRV-20 was shared among bighorn sheep , argali , and domestic sheep . The argali diverged from the domestic sheep between 0 . 4 and 1 . 3 MYA [50] . Ten proviruses were present only in the domestic sheep . Most interestingly , we detected insertionally polymorphic proviruses . Seven of ten proviruses present in the domestic sheep were present only in some of the sheep tested , while one provirus ( enJSRV-26 ) was not detected in any of the samples ( see below ) . These results , combined with the present knowledge of ruminant evolution , suggest that enJSRV integration began 5\\u20137 MYA before the split of the genus Ovis from the genus Capra and continued after sheep domestication ( \\u223c 9 , 000 y ago ) [11] . PCR analyses using primers within conserved regions in the enJSRVs gag or env did not identify enJSRVs in the more distantly related Bos taurus ( domestic cow ) or Odocoileus hemionous ( Black-tail deer ) ( unpublished data ) . At least two proviruses in the sheep genome , enJS56A1 and enJSRV-20 , possess a tryptophan residue in Gag position 21 ( W21 ) that confers a defective and transdominant phenotype [29 , 32] . Indeed , we previously showed that residue R21 in Gag is required for JSRV exit and the JSRV R21W single mutant is defective and transdominant [29 , 32] . Therefore , we hypothesized that enJS56A1 ( and possibly enJSRV-20 ) originally possessed residue R21 in Gag , rather than W21 , when first integrated into the host germline . In this model , the transdominant W21 Gag residue would subsequently be acquired and selected due to the ability of the transdominant proviruses to interfere with related replication competent retroviruses and/or to reduce fitness of other enJSRVs loci . To experimentally address this model , we sequenced the beginning of the gag gene in proviruses enJS56A1 and enJSRV-20 amplified from different individuals of different Caprinae species . The data obtained support the idea of relatively recent selection of the W21 Gag residue in both enJS56A1 and enJSRV-20 ( Figure 3 ) . Both proviruses exhibited the W21 Gag residues in 31 domestic sheep ( O . aries ) sampled from 20 breeds originating from different geographical locations . In contrast , we found variability in the eight argali ( O . ammon ) tested where only four of eight animals possessed both enJS56A1 and enJSRV-20 . Two of those argali harbored both enJS56A1 and enJSRV-20 with the W21 residue in Gag , whereas the other two argali displayed residue W21 in Gag of enJS56A1 and R21 in enJSRV-20 . The remaining four argali did not harbor enJSRV-20 and contained the Gag R21 residue in enJS56A1 . enJSRV-20 was not detected in the snow sheep ( O . nivicola ) , Dall sheep ( O . dalli ) and two bighorn sheep ( O . canadensis ) , while enJS56A1 possessed the R21 Gag residue in all these animals ( n = 10 ) . Most interestingly , six bighorn sheep displayed the R21 residue in Gag in both enJS56A1 and enJSRV-20 . These data strongly argue that both enJS56A1 and enJSRV-20 possessed the wild type R21 residue in Gag when they originally integrated into the host germline . Subsequently , two temporally distinct events resulted in the presence of two transdominant proviruses with the W21 Gag residue , which eventually became fixed in the domestic sheep ( see also Discussion ) . The presence of insertionally polymorphic enJSRV loci found in none or a few of the sheep tested suggests that these proviruses integrated relatively recently and presumably around or after domestication . Phylogenetic analysis of enJSRVs and the exogenous JSRV/ENTV divided these retroviruses into two clades , which can be referred to as enJSRV-A and enJSRV-B ( Figure 4 ) [14] . All of the insertionally polymorphic enJSRVs group within the enJSRV clade B while most of the oldest proviruses group within enJSRV clade A . Interestingly , the exogenous viruses of sheep ( JSRV and ENTV-1 ) group with enJSRVs of clade B , whereas ENTV-2 , which was isolated from goats , groups with enJSRVs clade A in the phylogenetic trees that were constructed using the entire proviral genome ( without the LTRs ) ( Figure 4A ) or env ( Figure S1 ) . In the phylogenetic trees constructed using the LTR sequences , all the exogenous viruses cluster in an independent clade ( Figure 4B ) . The transdominant enJS56A1 and enJSRV-20 cluster together in all the phylogenetic analyses performed . In order to better characterize the distribution of the insertionally polymorphic enJSRV loci we extended our analysis using 330 samples collected from 27 different sheep breeds ( Table 1 ) . As mentioned above , the CHORI-243 BAC library was derived from a single Texel ram . The Texel breed was developed approximately 200 years ago on the island of Texel in the Netherlands from a local breed improved by British breeds that included Leicester , Lincoln , Wensleydale , Hampshire Down , and others . Our samples include British breeds used in the development of the Texel . Five proviruses , enJSRV-7 , \\u22128 , \\u221211 , \\u221218 , and enJS5F16 were present in 30%\\u2013100% of the Texel sheep and in approximately 12%\\u201380% of the remaining sheep from other breeds . Two other proviruses , enJSRV-15 and enJSRV-16 , were detected with a frequency of around 30% in Texel sheep , but only in 1%\\u20134% of other breeds . Full length endogenous proviruses can occasionally originate \\u201csolo LTRs\\u201d by homologous recombination between their 5\\u2032 and 3\\u2032 LTRs . Consequently , a negative result in our PCR assays could be also due to \\u201csolo LTRs\\u201d rather than from the complete absence of a provirus from that particular genomic location . We ruled out the possibility that our negative samples contained solo LTRs by performing three different PCR tests using ( i ) both PCR primers in the flanking genomic regions ( i . e . , amplifying the empty genomic insertion site ) and ( ii and iii ) primer pairs with , respectively , one primer in the LTR and one in the 5\\u2032 or 3\\u2032 genomic flanking region ( Figure S2 ) . In all cases we amplified the empty genomic insertion sites while we did not obtain any evidence of solo LTRs . Samples screened included all the samples determined negative for enJSRV-11 and enJSRV-18 and approximately one sample per breed for the other insertionally polymorphic proviruses . A minimum of 20 samples for each provirus were tested . Remarkably , we did not detect enJSRV-26 in any of the sheep tested ( n = 330 ) , including 156 Texel sheep sampled from different flocks in the UK , Denmark , and US , and 82 sheep from British breeds used to develop the Texel breed . Thus , enJSRV-26 was present only in the original CHORI-243 BAC library that was made using DNA from a single Texel ram . The lack of enJSRV-26 in the large number of samples tested could be due to this provirus being ( i ) an ERV very recently integrated in this breed or ( ii ) a previously unrecognized exogenous retrovirus infecting the ram whose blood was used to construct BAC library CHORI-243 . Fortunately , this library was constructed using DNA from a known source , ram #200118011 from the US Meat Animal Research Center ( USMARC ) in Nebraska . Blood and tissues ( liver and spleen ) of this ram along with the blood of three half-siblings ( animals #200118018 , #200118028 , and #200118033 ) and two sons of its grandsire ( rams #199906011 and #199906022 ) were available for our studies ( Figure 5A ) . We detected enJSRV-26 in the blood and all other tissues from ram #200118011 , but not in the DNA from its five relatives ( Figure 5B ) . Importantly , enJSRV-26 was present with the same frequency in blood and tissue DNA of ram #200118011 ( Figure 5C ) ; therefore enJSRV-26 is indeed an extremely rare ERV ( possibly present in a single animal ) that likely integrated in the sheep germline less than 200 years ago after development of the Texel breed . It is possible that at least some of the insertionally polymorphic proviruses represent exogenous retroviruses that have been circulating ( or still circulate ) and spreading horizontally in the sheep population . This finding raises the question of how these viruses might be transmitted in the presence of transdominant ERVs . Due to the lack of an in vitro tissue culture system for the propagation of JSRV , we determined the capacity of the intact enJSRV proviruses to produce viral particles in vitro by expressing them in transient transfection assays . We constructed expression vectors for each intact enJSRV provirus by replacing the proximal U3 sequence in the LTR , which contains the retroviral promoter and enhancers , with the cytomegalovirus ( CMV ) immediate early promoter . We have used this system to produce exogenous JSRV virions that are infectious and oncogenic in vivo [12] . We derived vectors for only four of the five proviruses , because enJSRV-16 and enJSRV-18 are 100% identical . All enJSRV proviruses expressed abundant viral particles in the supernatant of transfected cells ( Figure 6 ) . Despite the constructs containing the same CMV promoter , enJSRV-7 , \\u221215 , and \\u221216/18 reproducibly released \\u223c3-fold more viral particles in the supernatant of transfected cells than JSRV or enJSRV-26 ( Figure 6A and 6C ) . Next , we investigated whether the transdominant proviruses enJS56A1 and enJSRV-20 could block the release of the intact enJSRV proviruses as efficiently as the exogenous JSRV . Standard interference assays were conducted in which cells were transfected with the expression plasmids for the intact proviruses either by themselves or with the transdominant proviruses . Cotransfection of enJS56A1 and enJSRV-20 caused a sizable decrease ( \\u223c70%\\u201385% ) in release of viral particles from enJSRV-7 , \\u221215 , and \\u221216/18 and completely inhibited release of viral particles from JSRV . However , neither enJS56A1 nor enJSRV-20 blocked enJSRV-26 viral exit . We reproducibly detected more viral particles in the supernatants of cells cotransfected by enJSRV-26 and enJSRV-20 than in cells transfected with enJSRV-26 alone . These data suggest that enJSRV-26 could also rescue enJSRV-20 . Consequently , the most recently integrated enJSRV provirus is the only one , among the JSRV/enJSRVs group of viruses , which is able to escape JLR . \\n ERVs have been regarded over the years as either nonfunctional \\u201cjunk DNA\\u201d or important contributors to fundamental biological functions including mammalian placentation [21\\u201326 , 51] and maintenance of genomic plasticity [44] . Some ERVs have been found to interfere with the replication of their exogenous counterparts [1 , 2] . However , it has been difficult to assess whether retrovirus endogenization has indeed helped the host during evolution to cope with pathogenic retrovirus infections . In this study , we investigated the evolutionary interplay between endogenous retroviruses , exogenous retroviruses , and their hosts , using the sheep as a model system . The data presented here revealed sequential , coadaptive genetic changes between endogenous and exogenous betaretroviruses of sheep that alternatively favored either the host or the virus . The identification of an ERV ( enJSRV-26 ) , which likely integrated in the host genome in the last 200 y and escapes transdominant enJSRVs , suggests that the evolutionary antagonism between endogenous and exogenous betaretroviruses in sheep is a continuous process that has not reached equilibrium . The data obtained strongly suggest that ERVs have been used by the host to fight exogenous pathogenic retroviral infections . enJSRVs have been integrating into the host genome during a period that spans most of the evolutionary history of the Caprinae ( 5\\u20137 MYA ) . By tracking the evolutionary history of these proviruses we unveiled fascinating events underscoring the host-virus \\u201cstruggle\\u201d over several million years ( Figure 7 ) . The transdominant enJS56A1 and enJSRV-20 possessed the \\u201cwild type\\u201d R21 Gag residue when they first entered the genome of the host . The transdominant W21 Gag residue rose to fixation in enJS56A1 and enJSRV-20 in two temporally distinct events around or before sheep domestication . Given the high degree of similarity between enJSRV-20 and enJS56A1 and the identity of their 3\\u2032 flanking region , it appears most likely that a process of gene conversion ( rather than independent mutations ) conferred the transdominant Gag to enJSRV-20 . Indeed enJSRV-20 might be the result of various processes involving recombination between other proviruses and enJS56A1 . One of these processes resulted in a portion of an env gene upstream the enJSRV-20 proximal LTR . All the PCR assays used in this study to amplify the 5\\u2032 LTR and the gag gene of enJSRV-20 employed a forward PCR primer overlapping env and a reverse primer in gag . Consequently , we always amplified the enJSRV-20 locus possessing a portion of env flanking the proximal LTR even in those bighorn sheep and argali with the Gag R21 residue in this provirus . Thus , the possible recombination event resulting in part of an env gene flanking the proximal LTR of enJSRV-20 likely preceded the appearance of the transdominant W21 Gag residue in this provirus . Other scenarios are also feasible . For example , the presence of the R21 Gag residue in the enJSRV-20 provirus possessed by some argali and bighorn sheep may derive from reverted mutations of the transdominant W21 Gag residue . Whatever the case , our data suggest that the fixation of transdominant proviruses happened at least twice in the Ovis genus . Overall , the data obtained are highly suggestive of positive selection of transdominant proviruses , although we cannot rule out the possibility that a genetic bottleneck during sheep domestication also contributed to this process . Sheep domestication occurred \\u223c9 , 000 years ago in the Middle East during the Neolithic agricultural revolution [52\\u201354] . Sheep , like other domestic animals , have different maternal haplotypes that are believed to be the result of independent centers of domestication . There are at least five highly divergent mtDNA haplogroups in sheep worldwide ( the most common A , B , C , and the rarer D and E ) [55 , 56] . Most studies date the separation of the two most frequent haplogroups ( A and B ) well before domestication per se occurred [55] . Therefore , the most likely explanation for this high level of molecular divergence is that genetically differentiated subspecies of the ancestral wild sheep were domesticated in different regions of Near East and Asia . Currently , the three most common haplogroups ( A , B , and C ) have a widespread geographical distribution , coexisting in some cases in the same breed . Among the 31 samples from domestic sheep that we tested for the presence of the transdominant W21 residue in enJS56A1 and enJSRV-20 , we had six samples from Portuguese breeds ( Saloia , Churra Terra Quente , Churra Algarvia , and Churra Badana ) where the maternal haplotypes had been determined in a previous study and represented the most common haplotypes A , B , and C [57] . Thus , sheep from diverse mtDNA haplotypes contain the transdominant enJSRV-20 and enJS56A1 . Under this scenario , we favor the hypothesis that the selection of the W21 Gag residue in enJS56A1/enJSRV-20 in all domestic sheep was due to positive selection rather than a random founder effect . Given the multiple origins of domestication in sheep , it is feasible that the transdominant enJS56A1 and enJSRV-20 assisted the host in coping with the likely increased exposure to exogenous retroviruses that resulted from the concentration of animals into herds , which increased population density , thus favoring virus transmission . It is also possible that only wild individuals with the transdominant proviruses were selected and domesticated in different locations at different times . The transdominant proviruses might have been selected to defend the host against related ERVs already colonizing the host genome rather than against pathogenic exogenous retroviruses . In either scenario , the R21W mutation in Gag would increase fitness of their host and furnish an adaptive advantage . Interestingly , we found eight enJSRV proviruses that were present only in a proportion of tested sheep . Five of the insertionally polymorphic loci have an intact genome , a functional Env , and were able to produce viral particles in vitro . Three of these proviruses were present in the sheep population at a very low frequency . In particular , enJSRV-26 was present only in a single Texel ram that was fortuitously the donor of DNA used for construction of the BAC library screened in this study . The Texel breed of sheep was developed on an island off the coast of The Netherlands ( Island of Texel ) at the end of the 19th century by crossing local sheep with British breeds including the Leicester , Lincoln , and Hampshire Down . In 1909 , the Texel sheep herdbook was created , the crossing was stopped , and the breed was established . enJSRV-26 was not detected in 330 sheep from 27 different breeds including 156 Texel originating from different geographical locations ( UK , US , and Denmark ) and 82 sheep from the British breeds that contributed to development of the Texel . Interestingly , enJSRV-26 escapes JLR restriction induced by enJS56A1 and enJSRV-20 . Collectively , these data suggest that enJSRV-26 integrated very recently in the sheep genome , probably less than 200 y ago , and may even be a unique integration event in a single animal . The most likely scenario is that an exogenous retrovirus closely related to enJSRV-26 is circulating within the sheep population with an undetermined ( if any ) pathogenic effect . The presence of intact enJSRV loci in the sheep genome , which have a high degree of similarity to the pathogenic JSRV/ENTV but lack their oncogenic potential , strongly suggest the existence of enJSRV-like exogenous retroviruses . We showed that the enJSRVs Env glycoproteins , unlike the homologous JSRV/ENTV , do not function as dominant oncoproteins . Most likely the oncogenic JSRV/ENTV are not suitable to be selected as ERVs , because they should perturb cell physiology . The high degree of similarity of enJSRV-26 with the other enJSRVs make its detection as a potential exogenous virus complicated , but it will be interesting to determine whether this virus could be associated with any disease process . JLR escape would provide an obvious evolutionary advantage to an enJSRV-26-like exogenous virus that may allow it to persist within the sheep population . In contrast , the exogenous JSRV lacks such an advantage but acquired a markedly different tropism from the enJSRVs due to major differences within their LTRs [58] . JSRV is highly expressed in the tumor cells in the lungs and its LTRs are activated by lung-specific transcription factors while the enJSRVs LTR respond to progesterone in vivo and in vitro and are expressed in the genital tract [19 , 58\\u201360] . Therefore , we hypothesize that JSRV escapes enJSRVs-induced block by being able to replicate in tissues where enJSRVs are not expressed or are expressed at low abundance [14] . enJSRV-26 could also result from intracellular retrotransposition , possibly resulting by recombination of different proviruses . In any case , enJSRV-26 is one of the \\u201cyoungest\\u201d ERVs cloned to date , reinforcing the idea that ERVs do not derive only from integration of exogenous retroviruses that occurred in the distant past . ERVs have been classified as \\u201cancient\\u201d or \\u201cmodern\\u201d [61 , 62] , depending on whether integration occurred before or after speciation . However , koalas with new germline integrations by ERVs were discovered recently [63 , 64] . Older studies found that particular inbred mouse strains could acquire new ERVs integrations in the germline [65 , 66] . Thus , there may be the need to define also \\u201ccontemporary\\u201d ERVs that are still integrating in the germline of the host with potentially either beneficial or adverse effects . We predict that the increased availability of genomic tools will favor the discoveries of rare , recently integrated ERVs . The presence of intact ERVs in the sheep is another example , beside porcine ERVs , of the attention that must be given to retroviruses when taking into consideration xenotransplantation [67 , 68] . The \\u201csheep-human chimera\\u201d is a very promising experimental platform based on the transplantation of human embryonic stem cells in fetal sheep [69\\u201372] . This model offers the theoretical possibility to develop sheep bearing organs with \\u201chuman\\u201d characteristics available for xenotransplantation . In addition to the various ethical considerations , the presence in some sheep of intact enJSRV proviruses will have to be considered when devising strategies for the development of these chimeras . In conclusion , this study has provided substantial novel evidence for the coevolution of ERVs , exogenous retroviruses , and their natural host . Endogenization and selection of ERVs acting as restriction factors for related viruses around or before sheep domestication and the recent appearance of proviruses escaping this block highlight the fact that biological interactions between ERVs and their host is , in some cases , an ongoing dynamic process and reinforces the hypothesis that ERVs played significant evolutionary roles in host defense . \\n The CHORI-243 sheep BAC library was constructed by BACPAC Resources at the Children's Hospital Oakland Research Institute ( Cleveland , OH ) following established procedures [73] . The library has a 182 ( \\u00b1 40 ) kb average insert size with individual clones arrayed on high-density hybridization filters . A segment of the library corresponding to a 5\\u00d7 genome coverage was custom screened by BACPAC Resources using hybridization with two probes ( 5\\u2032-CGGCTTTTTGGGCATACATTCCTG-3\\u2032 and 5\\u2032-TGAATCATAGGCGGATCAGGAATG-3\\u2032 ) corresponding to a highly conserved region in env of the known endogenous and exogenous sheep betaretroviruses . This screen identified 223 clones , and 182 of those clones were confirmed to contain enJSRV sequences by PCR employing primers pairs that amplify a region in env outside the one covered by the probe used in hybridization ( 5\\u2032-CAACGCATTAATACGGCTCTT-3\\u2032 and 5\\u2032-AATTAGCATGGCATTGAATTTT-3\\u2032 ) . A total of 86 of the 182 BAC clones were further analyzed by sequencing . Redundant BAC clones were discarded by sequencing the 5\\u2032 and 3\\u2032 proviral insertion sites in each clone using primers in the untranslated gag region and at the end of the env gene . A total of 26 unique clones were identified , including two BAC clones containing the previously characterized enJS56A1 and enJS5F16 proviruses [14] . Southern blots were performed using LTR , env , and gag probes , which established that only one provirus was present in each BAC clone used to obtain the sequences of the various enJSRV loci ( unpublished data ) . Both strands of individual enJSRV proviral clones were completely sequenced using BAC DNA as template . Occasionally , sequencing of PCR products obtained from the various BAC clones was used to confirm specific problematic sequences . The previously characterized enJSRV loci were designated as enJS5F16 , enJS56A1 , and enJS59A1 [14] . For simplicity , the new enJSRV proviruses are designated with a numbering system ( i . e . , enJSRV-1 , enJSRV-2 , etc . ) . This system should allow an easier transition into a more uniformed nomenclature for all ERVs that is currently under development ( J . P . Stoye , personal communication ) . The intact proviruses enJSRV-7 , enJSRV-15 , enJSRV-18 , and enJSRV-26 were subcloned by PCR into pBlueScript ( Stratagene ) and termed , respectively , pCMV5-enJS7 , pCMV5-enJS15 , pCMV5-enJS18 , and pCMV5-enJS26 . The U3 of the proximal LTR was replaced with the CMV immediate early promoter as previously described for the expression vector of the molecular clone JSRV21 [12] and for enJS56A1 [14] . All plasmids were completely sequenced in both directions to rule out PCR errors during the subcloning procedure . Expression plasmids for the JSRV Env have been described previously [74] . Expression plasmids for the various enJSRV Env were derived from pCMV3JS21\\u0394GP by replacing the JSRV21 env with the homologous region of most of the loci that presented an intact env open reading frame and 5\\u2032 LTR ( i . e . enJSRV-4 , \\u22126 , \\u22127 , \\u22129 , \\u221211 , \\u221213 , \\u221215 , \\u221216 , \\u221219 , \\u221220 , \\u221226 , enJS5F16 , and enJS56A1 ) . The resulting plasmids were termed pCMVenJS4\\u0394GP , pCMVenJS6\\u0394GP , etc . The genomic DNA samples used in this study are described in the Results section . Specific amplification of each enJSRV provirus was obtained by two sets of PCR reactions ( 5\\u2032- and 3\\u2032- PCR ) performed using 10\\u2013100 ng of genomic DNA and the HotStar Taq DNA polymerase system using standard amplification cycles and annealing temperatures between 57 \\u00b0C and 59 \\u00b0C as recommended by the manufacturer ( Qiagen ) . PCR primers in the 5\\u2032-PCR were designed using a forward oligonucleotide primer ( 5\\u2032FlankF ) complementary to the genomic flanking sequence adjacent to the 5\\u2032 LTR of each specific provirus and a reverse oligonucleotide primer ( ProvR ) complementary to the untranslated gag region or to the 5\\u2032 end of the viral genome in the deleted proviruses ( i . e . , enJSRV-4 and enJSRV-24 ) . In order to sequence the proximal region of gag in enJS56A1 and enJSRV-20 we used the 5\\u2032FlankF primer with the reverse primer GagRevR/W ( 5\\u2032-ACTGTACCTTCTCTGGGGAACC-3\\u2032 ) as indicated in Figure 3A . The 3\\u2032-PCR used a forward oligonucleotide primer designed at the end of the env region ( ProvF ) and a reverse primer complementary to the genomic flanking genome adjacent to the 3\\u2032 LTR ( 3\\u2032FlankR ) . The quality of the DNA preparation was assessed in all samples by PCR amplification using primer pairs that amplify the insertion sites and LTR of enJSRV-6 or enJSRV-10 that , one or the other , are present in all the studied species . Each sample was scored as having a particular provirus when both the 5\\u2032 and 3\\u2032 PCR reactions resulted positive . The presence of solo LTRs was ruled out in a subset of samples for the insertionally polymorphic proviruses using three distinct PCR assays specifically designed to amplify solo LTRs and the empty genomic DNA around the proviral integration site . The strategy and complete list of primers used in the various PCR assays described above are shown in Figure S2 . We estimated viral phylogenies using maximum likelihood ( ML ) and Bayesian methods . Because some enJSRV loci had lost substantial parts of their genome , phylogenetic analyses could not be carried out for a single alignment . In total , four datasets were assembled corresponding to: ( i ) the complete proviruses ( without LTRs ) ; ( ii ) LTRs ( 5\\u2032 and 3\\u2032 ) ; ( iii ) pol; and ( iv ) env . Alignments were obtained using the Clustal W method [75] as implemented in the program MegAlign ( Lasergene software , DNASTAR ) . For each dataset , an appropriate model of evolution was selected from the suite of models included in Modeltest [76] using AIC ( Akaike's information criterion ) and model averaging [77] . ML phylogenies were found under heuristic search algorithms using TBR ( tree bisection and reconnection ) in Paup* v4 . 0b10 [78] . Clade support was evaluated based on 200 bootstrap replicates using the same search algorithm , except for the larger LTR data set in which 1 , 000 replicates were analyzed using the neighbor-joining method with distances calculated from the ML model . Bayesian estimates of phylogenies were obtained in MrBayes v3 . 1 . 2 [79] . Maintaining the general form of the previously selected substitution model ( e . g . , GTR + G ) , two independent chains were run for 5 , 000 , 000 generations each , of which 1 , 000 , 000 were removed as burn-in . Parameters and trees were sampled every 1 , 000 steps . This length was sufficient in all cases to reach convergence as indicated by split frequencies < 0 . 01 . 293T cells were cultured in Dulbecco's modified Eagle medium supplemented with 10% fetal bovine serum at 37 \\u00b0C under 5% CO2 and 95% humidity . Virus was produced by transient transfection of 293T cells with the appropriate plasmids using linear polyethylenimine ( Polysciences ) as previously described [80] . Cell supernatants were collected at 24 and 48 h post-transfection , and viral particles were concentrated by ultracentrifugation as previously described [12] . For analysis of intracellular Gag , cells were lysed by standard techniques as described previously [30] . NIH-3T3 cells were grown in Dulbecco's modified Eagle medium supplemented with 10% calf serum . NIH-3T3 stably expressing Hyal2 from either sheep ( sheep-Hyal2 ) , goat ( goat-Hyal2 ) , or bovine ( bovine-Hyal2 ) were produced by transduction with a standard retroviral vector expressing sheep , goat , or bovine Hyal2 followed by G418 selection ( 500 \\u03bcg/ml ) . Both the ovine endometrial stromal cell line ( oST ) and the large TIGEF ( T-antigen immortalized goat embryonic fibroblast ) cell line were previously described [81 , 82] . The ability of the enJSRV Env proteins to mediate cell entry was assessed by standard entry assays using murine leukemia virus-based vectors . 293-GP-AP , a packaging cell line expressing murine leukemia virus Gag and Pol , and a standard retroviral vector expressing alkaline phosphatase has been described before [83] . 293-GP-AP cells were transfected with the expression plasmids for the various enJSRV Env or with plasmids expressing the exogenous JSRV Env as control . Supernatants were collected and stored at \\u221270 \\u00b0C . Subsequently , na\\u00efve NIH-3T3 and NIH-3T3 expressing either ovine ( sheep-Hyal2 ) , goat ( goat-Hyal2 ) , or bovine Hyal2 ( bovine-Hyal2 ) were exposed to 10-fold serial dilutions of vector supernatants . Cells were fixed at 2 d postinfection and stained for alkaline phosphatase-positive foci . Viral titer is expressed as alkaline phosphatase foci per milliliter ( APF/ml ) . Experiments were performed at least two times with two replicates tested for each dilution . SDS-PAGE and Western blotting were performed on concentrated viral particles and cell lysates ( 50 \\u03bcg of protein extracts ) using methods described previously [12 , 30] . Gag proteins were analyzed with rabbit polyclonal sera against JSRV major capsid protein ( CA ) or MA ( p23 ) [29 , 32] and an anti-rabbit peroxidase-conjugated antibody ( Amersham ) and detected by chemiluminescence using ECL Plus ( Amersham ) . Western blots were quantified by scanning membranes and measuring chemifluorescence in a Molecular Dynamics Storm 840 imaging system using ImageQuant TL software ( Molecular Dynamics ) . Experiments ( from transfections to Western blotting ) were performed independently at least three times and are presented as the mean value for each sample ( \\u00b1 standard error ) . \\n The sequences of the new enJSRV loci described in this paper are available in GenBank ( http://www . ncbi . nlm . nih . gov/ ) ; accession numbers are EF680296 to EF680319 .\",\n          \"The Drosophila embryonic gonad is assembled from two distinct cell types , the Primordial Germ Cells ( PGCs ) and the Somatic Gonadal Precursor cells ( SGPs ) . The PGCs form at the posterior of blastoderm stage embryos and are subsequently carried inside the embryo during gastrulation . To reach the SGPs , the PGCs must traverse the midgut wall and then migrate through the mesoderm . A combination of local repulsive cues and attractive signals emanating from the SGPs guide migration . We have investigated the role of the hedgehog ( hh ) pathway gene shifted ( shf ) in directing PGC migration . shf encodes a secreted protein that facilitates the long distance transmission of Hh through the proteoglycan matrix after it is released from basolateral membranes of Hh expressing cells in the wing imaginal disc . shf is expressed in the gonadal mesoderm , and loss- and gain-of-function experiments demonstrate that it is required for PGC migration . Previous studies have established that the hmgcr-dependent isoprenoid biosynthetic pathway plays a pivotal role in generating the PGC attractant both by the SGPs and by other tissues when hmgcr is ectopically expressed . We show that production of this PGC attractant depends upon shf as well as a second hh pathway gene g\\u03b31 . Further linking the PGC attractant to Hh , we present evidence indicating that ectopic expression of hmgcr in the nervous system promotes the release/transmission of the Hh ligand from these cells into and through the underlying mesodermal cell layer , where Hh can contact migrating PGCs . Finally , potentiation of Hh by hmgcr appears to depend upon cholesterol modification . \\n The hedgehog ( hh ) signaling pathway plays a crucial role in patterning in a wide range of multicellular eukaryotes [1]\\u2013[4] . In addition to its role in morphogenesis , hh has also been implicated in cell migration , axonal guidance and in shaping polarized cellular extensions [5]\\u2013[9] . In most of these contexts , Hh must be able to signal not only to nearby cells but also to cells located at a distance . Recent studies have uncovered an unusual mechanism for long distance hh signaling . The Hh ligand in Drosophila is synthesized as a precursor polypeptide , which is subject to a series of processing steps [10] , [11] . It is initially targeted to the secretory pathway by an N-terminal signal sequence . After removal of the signal sequence , an internal autoproteolytic cleavage coupled with cholesterol addition generates the active 19 kD , Hh-Np ( processed ) ligand . This peptide is then palmitoylated before it is released from the apical surface of polarized epithelial cells . Although Hh-Np can signal to neighboring cells , its movement along the apical surface is constrained by the lipid modifications , in part through interactions with the glypican Dally , and the transmembrane protein Brother of Ihog [12]\\u2013[14] . By contrast , a C-terminal truncation , Hh-N , that lacks the cholesterol modification , diffuses much farther along the apical surface than Hh-Np [15] . Additionally , movement of the unmodified Hh-N ligand is independent of factors like tout-velu ( ttv ) and dispatched ( disp ) that are critical for the spreading of the fully modified Hh-Np protein [16]\\u2013[19] . Recent studies by Callejo et al . [20] have suggested that long distance hh signaling is mediated by an unusual multistep pathway in which Hh-Np is transmitted from the basolateral membranes of the sending cells . In this model , most of the Hh-Np that reaches the apical surface is recaptured and internalized by an endocytic pathway that depends upon dynamin and Rab5 . Instead of being targeted for lysosomal degradation , the Hh-Np endosomes are recycled by a Rab8 dependent mechanism into exocytic vesicles that are targeted to the basolateral membrane of the hh expressing cells . It is possible that Disp , with its sterol sensing domain , plays a role in selecting Hh-Np containing endocytic vesicles for recycling to the basolateral membrane . Disp is found co-localized with Hh-Np in endocytic vesicles near the apical surface and along the basolateral membrane . It is also in an immunoprecipitable complex with Hh-Np . Two proteins previously implicated in facilitating the response of cells receiving the Hh signal , the Dally-like protein ( Dlp ) and Interference Hh ( Ihog ) , also seem to participate in the targeting and/or release of Hh-Np from the basolateral membrane . Other proteins have been implicated in the basolateral release and transmission of Hh-Np from hh expressing cells [10] , [21] , [22] . One of these , HMGCoA reductase ( hmgcr ) , contains a transmembrane sterol-sensing domain like disp . HMGCoA reductase is responsible for the synthesis of mevalonic acid , which is a precursor for isoprenoid and sterol biosynthesis , and is a key regulatory target in both biosynthetic pathways [23] . In hmgcr\\u2212 mutant embryos , Hh-Np is not properly released from sending cells and instead accumulates in punctate aggregates along the basolateral membranes . Unlike vertebrates , flies are unable to synthesize cholesterol from mevalonic acid [24] , and Hh is modified by exogenous cholesterol . However , mevalonic acid is nevertheless required for hh signaling because it is a precursor for the synthesis of the isoprenoid geranylgeranyl-pyrophosphate by geranylgeranyl diphosphate synthetase ( qm ) . Like hmgcr , qm mutations impede the release of Hh-Np from hh expressing cells [22] . Geranylgeranyl-pyrophosphate is ultimately used in protein geranylation . In hh signaling , a key target for geranylation is the G protein \\u03b3 subunit 1 ( G\\u03b31 ) [22] . G\\u03b31 is a subunit of the heterotrimeric G\\u03b1G\\u03b2G\\u03b31 complex which helps mediate the intracellular trafficking of membrane vesicles and cargo [25] , [26] . To be active , this heterotrimeric complex must be anchored to the membrane by G\\u03b31 geranylation . Many of the factors implicated in the basolateral release and subsequent transmission of Hh-Np in polarized epithelium also function in the signaling pathway ( s ) that directs migration of primordial germ cells ( PGCs ) to the somatic gonadal precursor cells ( SGPs ) during mid-embryogenesis [8] , [21] , [22] , [24] , [27] . The PGCs form at the posterior pole of the embryo during the syncytial blastoderm stage , while the SGPs arise during mid-embryogenesis from the lateral mesoderm in parasegments 10\\u201313 . In order to coalesce with the SGPs and form the embryonic gonad , the PGCs must traverse from the posterior end into the middle of the embryo and then subsequently move to the lateral mesodermal cell layer , which harbors the newly formed SGPs [28] . While it is generally agreed that an attractive signal ( s ) produced by the SGPs is needed to guide PGC migration , the identity of the attractant ( s ) and how hh or other hh pathway genes like hmgcr , qm and g\\u03b31 function in migration remains unresolved and controversial [8] , [28]\\u2013[30] . To further elucidate the role of this signaling pathway in PGC migration , we have examined the shifted ( shf ) gene . shf encodes an extracellular protein that is the Drosophila ortholog of the vertebrate Wnt Inhibitory Factor-1 ( WIF-1 ) [13] , [14] , [31]\\u2013[33] . In vertebrates Wif1 antagonizes wnt signaling by capturing Wnt and anchoring it to the heparan sulfate proteoglycan [31] , [34] . Unlike its vertebrate counterpart , Shf has no role in Wnt signaling . Instead , it functions in the hh pathway . The Shf protein is enriched in the basolateral ECM , and it facilitates the long distance transmission of Hh-Np after it has been released from the basolateral membranes of signaling cells . In shf mutants , the basolateral accumulation and subsequent spreading of Hh-Np in the wing disc is disrupted , while apical accumulation appears to be relatively normal . These defects in Hh-Np transmission result in a reduction in the expression of hh targets in the anterior compartment of the wing . Guerrero and colleagues [35] [Guerrero pers . comm . ] have found that the defects in hh signaling in the wings of shf mutants can be suppressed by overexpression of hmgcr . Since hmgcr plays a pivotal role in generating the PGC attractant [27] , [29] , [31] , an intriguing possibility is that the functional connection to shf seen in the wing could also be of significance in PGC migration . Here we have first tested whether shf functions in PGC migration using both \\u2018loss\\u2019 and \\u2018gain\\u2019 of function strategies . We have then used genetic \\u2018epistasis\\u2019 experiments to link shf and the hh pathway gene g\\u03b31 to the functioning of the hmgcr\\u2192qm isoprenoid biosynthetic pathway in PGC migration . Finally we use co-expression experiments to show that hmgcr potentiates the transmission of hh-GFP out of the nervous system and into the mesoderm , where it associates with PGCs . \\n Even though shf is expressed during embryogenesis , shf mutant embryos have no discernable patterning defects . The likely reason for this is that Hh-Np needs to spread only 3\\u20134 cell diameters in the embryonic ectoderm [11] , [12] , [36] whereas a much larger distance ( 12\\u201313 cell diameters ) is required for patterning the wing imaginal disc [11] , [15] , [20] , [32] , [33] . To confirm that shf is nevertheless able to promote hh signaling during embryogenesis we asked if ectopic shf can upregulate the hh\\u2192wingless ( wg ) \\u2192engrailed ( en ) autoregulatory loop . In this loop , hh expressing cells in each parasegment signal to the neighboring anterior cells to activate wingless ( wg ) expression . Wg in turn signals back to the row of hh expressing cells and upregulates en expression . To direct shf expression in hh sending cells we used an hh-Gal4 driver , while we used a patched-Gal4 ( ptc-Gal4 ) driver to express shf in hh receiving ( wg expressing ) cells . Figure 1 shows that the level of En protein in the stripes is appreciably increased over that seen in wild type stripes ( panel C ) when excess Shf is produced using the hh-Gal4 driver ( panel B ) . While driving Shf in wg expressing cells using ptc-Gal4 also appears to upregulate the En stripes , the increase over wild type is less pronounced than with the hh-Gal4 driver . To confirm that shf can potentiate hh signaling in the embryo we examined the accumulation of Wg in hh-Gal4:UAS-shf embryos . Figure S1 shows that Wg accumulation in hh receiving cells is upregulated by expressing shf in hh sending cells . While long distance signaling might not be essential for patterning of the embryonic ectoderm , attractants produced by the SGPs must travel from the posterior mesoderm to the midgut in order to direct migrating PGCs . If Hh-Np functions as a PGC attractant , then shf could have a role in PGC migration , in which case it should be expressed in the mesoderm . Previous studies indicate that shf mRNA is maternally deposited and is uniformly distributed in blastoderm stage embryos [32] , [33] . By mid-embryogenesis , shf mRNA is expressed in a segmentally repeating pattern in the ectoderm . This is shown in the stage 10 embryo in Figure 2A . shf expression in the mesoderm ( arrow ) can also be detected at the posterior . The mesodermal expression is shown more clearly in the stage 12\\u201313 embryo in panel B . Expression in the mesoderm appears to be highest in segments A4\\u2013A8 , which is the region of the embryonic mesoderm that gives rise to the SGPs , while it is lower in the more anterior segments , which give rise to fat body cells . The upregulation of shf expression in more posterior segments would fit with recent studies of Zhai et al . [37] , who showed that shf is regulated by the Bithorax complex gene , Abdominal-B . It should be noted that though shf seems to be preferentially expressed in the posterior mesoderm during the period when PGCs are migrating , its pattern of expression is much broader than hmgcr , which at this stage is only expressed in a subset of mesodermal cells , the SGPs [27] . We next asked whether shf is needed for proper PGC migration . For this purpose we examined three different shf alleles , shf2 , shfx33 and shfEY03173 . shf2 has a missense mutation in the third EGF repeat , replacing a conserved cysteine ( Cys374 ) with a serine . shf2 flies are viable and fertile; however , their wings display the typical shf wing phenotype ( i . e . a narrowing of the L3\\u2013L4 intervein space ) [32] , [33] . The shfx33 mutant has a 630 bp deletion and is considered a null allele [30] . Male shfx33 flies show slightly stronger shf wing and eye phenotypes than shf2 . Finally shfEY03173 is a P-element insertion into the middle of the shf transcription unit . It exhibits the shf wing and eye phenotypes and is semi-lethal . We found that the early steps in PGC development from their formation through stage 12 are unaltered in shf embryos . However , as shown in Figure 3 for the trans-heterozygous shf2/shfx33 combination , migration phenotypes are evident by the end of stage 13 . At this point in wild type embryos , all of the PGCs have migrated from the midgut to the mesoderm and are aligned with the SGPs . By comparison , in shf mutants , a subset of the PGCs lingers behind on the outside surface of the midgut . Interestingly , a similar though more pronounced lingering phenotype is observed in hmgcr embryos . By the time of gonad covalence , we find that over 40% of the shf embryos have 5 or more PGCs scattered in the posterior as compared to two or less for wild type ( Figure 3 ) . Similar results were obtained for individual shf mutants ( not shown ) . To further substantiate a role for shf in PGC migration , we tested the effects of ectopic expression . Previous studies have shown that misexpression of genes that clearly cannot encode the attractant itself ( but instead code for products involved in its production , release or transmission: hmgcr , qm , farnesyl-diphosphate synthase ( fpps ) and g\\u03b31 ) can disrupt the migration of PGCs towards the SGPs [22] , [24] , [27] . Even more remarkable , these genes can be expressed in many unrelated tissues and cell types , yet are still capable of generating an attractant that can compete with the one produced by the SGPs . To determine if shf also belongs to this special group of genes , we used hh-GAL4 and ptc-GAL4 drivers to ectopically express shf . Since shf ectopic expression using the hh-GAL4 driver was more effective in promoting hh signaling in the embryonic ectoderm than the ptc-GAL4 driver , we anticipated that any effects on PGC migration would likely be stronger with hh-GAL4 . Figure 4 shows that this is the case . While about 15% of the ptc-GAL4:UAS-shf embryos had three to four mislocalized PGC , the vast majority resembled wild type ( Figure 4A & B ) . By contrast , nearly 40% of the hh-GAL4:UAS-shf embryos had seven or more mislocalized PGCs ( Figure 4E & F ) . We sought to further confirm the effects of ectopic shf on PGC migration and to compare shf with other genes implicated in this process . For ectopic expression we used the pan-mesodermal driver twist-GAL4 . For the purposes of comparison , we selected hmgcr , qm , g\\u03b31 , ttv , and hh . As described above , the hmgcr\\u2192qm\\u2192g\\u03b31 pathway functions in the release of the Hh-Np ligand from sending cells , while ttv provides the proteoglycan matrix that sustains and promotes its transmission . Previous studies have shown that amongst the genes known to function in germ cell migration hmgcr is a pivotal player in that it encodes a limiting factor for generating an ectopic attractant that can misdirect PGCs . This is illustrated by the dramatic effects of hmgcr misexpression in the mesoderm shown in Figure 5 . Over 90% of the embryos have 5 or more mismigrated PGCs , while more than 80% had 7 or more mismigrated PGCs . Similar results have been reported for misexpression in the nervous system ( [27]: see below ) . At least part of the explanation for the unusual potency of hmgcr is that its expression is restricted to the SGPs at the time the PGCs commence their migration . By contrast , all of the other known genes , with the exception of the mesoderm specific MDR49 [38] , are more widely expressed in the embryo . Thus , there may only be an incremental increase in the production or transmission of an ectopic PGC attractant when these genes are overexpressed in tissues in which they are already present . With the important caveat that the levels of gene product generated by different UAS transgenes may not be equivalent , Figure 5 shows that while ectopic expression of qm , g\\u03b31 , and ttv perturbs PGC migration , their effects are appreciably less severe than hmgcr . For example , whereas over 90% of the twi-GAL4/UAS-hmgcr embryos had 5 or more scattered PGCs , only about 30% of the twi-GAL4/UAS-ttv embryos had 5 or more scattered PGCs . Though ectopic shf causes greater disruptions in PGC migration than some of these other genes , its effects are still less than hmgcr . Consistent with the results of previous studies [8] , ectopic expression of the putative PGC attractant , hh , is also less effective than hmgcr . With two different transgenes encoding wild type Hh-Np , we found that about 40% of the embryos had 5 or more scattered PGCs , while about 25% had 7 or more scattered PGCs . ( The effects of hh misexpression on PGC migration are considered further in Text S1 . ) We also tested transgenes expressing an Hh-GFP fusion protein and the C-terminal truncation Hh-N . The Hh-GFP fusion protein is thought to be processed and transmitted much like the wild type Hh-Np; however , this particular transgene doesn't fully rescue a hh temperature mutant [39] . As shown in Figure 5 , the hh-GFP transgene is less effective than either of the hh-Np transgenes . The same is true for a transgene expressing the truncated Hh-N protein , which lacks the C-terminal cholesterol modification . The PGC attractant generated by expression of hmgcr or other genes at ectopic sites is thought to be the same as the attractant produced by these same genes in the SGPs [28] , [30] . This means that the synthesis , release and long distance transmission of the ectopically produced attractant should in most instances depend upon precisely the same set of genes and pathways as those involved in generating the bona fide SGP attractant . In principle , it should be possible to exploit this co-dependence to explore the relationship between the different genes involved in generating the attractant . For these experiments we focused on hmgcr , as it plays such a central role in signaling the migrating PGCs [27] . We used an elav driver to express hmgcr in the nervous system . In order to misdirect migrating PGCs , the attractant generated in the nervous system by ectopic hmgcr must compete with the attractant produced by the SGPs . Thus , reducing the gene dose of a factor that is more critical for the activity of the SGP derived attractant than it is for the nervous system derived attractant should exacerbate the effects of ectopic hmgcr . One example of such a factor would be hmgcr itself . Since expression of the endogenous gene is restricted to the SGPs during PGC migration , reducing the hmgcr gene dose in the nervous system should have little or no effect on the competitive activity of the ectopic attractant . In contrast , production of the attractant by the SGPs should be diminished when there is only a single wild type copy of hmgcr , making it easier for the ectopic nervous system signal to misdirect the migrating PGCs . Figure 6 shows that this prediction is correct\\u2014reducing hmgcr gene dose leads to an increase in the number of scattered PGCs . Similar effects would be predicted for other genes that are expressed or function only in SGPs ( or mesoderm ) but are not expressed and/or not required in the nervous system . For signaling genes whose expression is not restricted to the SGPs or the mesoderm , reducing their dose could , like hmgcr , have a greater effect on the attractant from the SGPs than on the ectopic attractant . However , it also possible that the factors encoded by these genes might be more limiting for the production or transmission of the ectopic attractant in the nervous system than they are in the SGPs . In this case , reducing their dose should suppress rather than enhance the effects of ectopic hmgcr on PGC migration . For these experiments we selected shf and a second gene g\\u03b31 whose relationship to hmgcr is well defined . The G\\u03b31 protein must be geranylated in order to be active , and in hh signaling it is an important target for the hmgcr\\u2192fpps\\u2192qm isoprenoid biosynthetic pathway . Figure 6 shows that the migration defects induced by ectopic hmgcr are mitigated when the embryos are heterozygous for two different g\\u03b31 alleles . Whereas about 60% of the elav-GAL4 , UAS-hmgcr embryos have 10 or more scattered PGCs , this number drops to less than 25% for both g\\u03b31 alleles . This finding would argue that g\\u03b31 must also function downstream of hmgcr in the production or transmission of the ectopic attractant . This conclusion would fit with previous studies which showed that ectopic expression of a dominant negative G\\u03b31 protein that can't be geranylated and poisons the heterotrimeric G\\u03b1G\\u03b2G\\u03b31 complex disrupts PGC migration . We next tested shf . Like g\\u03b31 the number of embryos with 10 or more scattered PGCs is reduced , going from 60% to 20% . This finding would argue that production or transmission of the attractant induced at ectopic sites by hmgcr expression depends upon a second hh signaling gene shf . To further explore the functional connections between hmgcr and hh pathway genes in the production of an ectopic PGC attractant in the nervous system , we examined the effects of co-expression . For this purpose females carrying a recombinant chromosome containing both elav-GAL4 and UAS-hmgcr were mated to males carrying UAS transgenes for shf , ttv and g\\u03b31 . As a positive control we used UAS-hmgcr , as we already had evidence that its effects on germ cell migration were dose dependent . Figure 7A provides a further demonstration that the limiting factor in generating an ectopic PGC attractant is hmgcr . Adding a second copy of UAS-hmgcr essentially eliminates the intermediate migration phenotypes , and almost all embryos have greater than 10 scattered PGCs . Figure 7E shows that co-expressing ttv , g\\u03b31 and shf in the nervous system also exacerbates the effects of ectopic hmgcr; however , none is equivalent to an extra copy of hmgcr . We next co-expressed hmgcr with wild type Hh-Np or the C-terminal truncation , Hh-N , which lacks the cholesterol modification . In polarized epithelial cells ectopic hmgcr would be expected to promote the basolateral release of Hh-Np and enhance its long distance transmission [13] , [21] , [22] . By contrast , ectopic hmgcr should have less of an effect on the release or transmission of the partially modified Hh protein Hh-N , which is thought to signal most effectively apically . While it is not clear how the subcellular organization of the secretion machinery in neurons might be related to that in polarized epithelial cells , the hmgcr-dependent PGC attractant must nevertheless be released from neuronal cells in a manner that enables it to move readily into and then through the underlying layer of mesodermal cells so that it can contact the migrating PGCs . If a key function of hmgcr in generating the ectopic attractant in neurons is to enhance the release and transmission of Hh into the underlying mesodermal layer then the same distinction should hold in PGC migration . In this case , co-expression of wild type Hh-Np would be expected to exacerbate the hmgcr induced migration defects , while co-expression of Hh-N should have more modest effects . On the other hand , if the germ cell attractant generated by ectopic hmgcr is completely independent of hh , then co-expression of either Hh ligand should contribute nothing to the hmgcr induced PGC migration defects . To test these predictions we first compared the effects of driving hh or hh-N expression in the nervous system on PGC migration . Figure S2 shows that expression of a UAS-hh transgene in the nervous system using an elav-GAL4 driver has a greater effect on PGC migration than a UAS-hh-N ( 3nd chromosome ) transgene encoding the truncated and partially modified Hh-N protein . We next examined the effects of co-expressing Hmgcr with either Hh-Np or Hh-N . Figure 7 shows that co-expression of Hh-N ( 3rd ) and Hmgcr leads to only a small increase in the number of mismigrated PGCs . To confirm this finding , we tested a second UAS-hh-N transgene ( 2nd chromosome ) . It gave comparable results . In contrast to the UAS-hh-N transgenes , a transgene expressing wild type Hh-Np collaborates with hmgcr , substantially augmenting the effects of ectopic hmgcr on PGC migration . In fact , the effects of the Hh-Np transgene are just about equivalent to that seen with two copies of hmgcr . A strong prediction of the findings described above is that ectopic expression of Hmgcr in neuronal cells will enhance the release and/or transmission of the wild type Hh ligand from these cells into and through the underlying mesodermal cell layer . While we have previously visualized the effects of ectopic Hmgcr on Hh-Np release/transmission in the ectoderm using Hh antibodies [21] , it was impossible to obtain reliable images of its transmission through the underlying mesoderm using these antibodies . For this reason , we turned to Hh-GFP to test this prediction . As described above , we found that Hh-GFP is less effective than either Hh-Np or Hh-N in disrupting PGC migration when expressed using the twi-GAL4 driver . A similar result is obtained when the elav-GAL4 driver was used to direct Hh-GFP expression in the embryonic nervous system ( Figure S2 ) . On the other hand , Figure 7 shows that Hh-GFP can potentiate the effects of Hmgcr when the two proteins are co-expressed in the nervous system . Thus , though Hh-GFP clearly doesn't fully recapitulate the activity of Hh-Np in this assay , it does resemble Hh-Np in being able to collaborate with Hmgcr . To determine whether Hmgcr promotes the transmission of Hh into the underlying tissue , we compared the Hh-GFP distribution in embryos expressing this fusion protein in the nervous system with or without Hmgcr . We first detect Hh-GFP in the developing PNS in stage 9\\u201310 embryos , while it subsequently comes on in the developing CNS in stage 11\\u201312 embryos . At these early stages the level of Hh-GFP is relatively low , and the differences in Hh-GFP distribution between hh-GFP and hh-GFP/hmgcr embryos are not very pronounced . This is likely due in part to residual Hmgcr activity from earlier zygotic expression and from maternal deposition and in part because only small amounts of ectopic Hmgcr and Hh-GFP have been synthesized . However , as development proceeds ( and Hh-GFP levels increase ) the differences between hh-GFP and hh-GFP/hmgcr embryos become more pronounced . This is illustrated in Figure 8 . Panels A and B show cross sections of stage 13 hh-GFP and hh-GFP/hmgcr embryos; panels C and D show views of the surface of stage 14 embryos; while panels E and F show cross sections of stage 14 embryos . The same embryos , together with a series of plots of the average pixel density across several \\u223c3 cell wide sections ( as indicated ) , are shown in Figures S3\\u2013S5 . Two differences between hh-GFP and hh-GFP/hmgcr embryos are apparent . First , the overall level of Hh-GFP is elevated in the hh-GFP/hmgcr embryos . In scans of several similarly staged and oriented embryos there was a \\u223c1 . 8\\u20132 . 0 fold difference in the Hh-GFP signal between hh-GFP and hh-GFP/hmgcr . Since different elav-GAL4 transgenes ( one on the 2nd and the other recombined with UAS-hmgcr on the 3rd ) were used to drive UAS-hh-GFP expression , one explanation for this difference is that the recombined elav-GAL4 transgene drives a higher level of expression . To test this we used the two elav-GAL4 transgenes to express GFP carrying a nuclear localization signal . As shown in Figure S6 , the two drivers produce similar amounts of GFP . Thus , a more likely possibility is that hmgcr stabilizes or otherwise promotes Hh accumulation . Consistent with this explanation , we found that the level of endogenous Hh-Np in the ectoderm increased to a similar if not greater extent when hmgcr was ectopically expressed using a hh-GAL4 driver [19] . Second , the transmission of Hh-GFP from expressing cells in the nervous system into the surrounding ectoderm and through the underlying mesoderm is substantially enhanced by co-expression of Hmgcr . This is most obvious in the two sets of stage 14 embryos shown in panels C\\u2013F ( see also Figures S4 and S5 ) . In both cases , Hh-GFP is largely restricted to the CNS in hh-GFP embryos . In contrast , Hh-GFP is found not only in the nervous system but also in the adjacent ectoderm ( Figure 8C and D ) and , most importantly , in the underlying mesodermal cell layer in the hh-GFP/hmgcr embryos ( Figure 8E and F ) . Although less pronounced , differences in the level and distribution of Hh-GFP are also evident in stage 13 embryos . This can be seen by comparing panels A and E versus B and F in Figure 8 and the plots of pixel density in Figure S3 and S5 . In addition to being transmitted from the developing nervous system into the mesoderm , we found that Hh-GFP localizes preferentially to PGCs or to tissues containing PGCs . Figure 9 shows PGCs in stage 12\\u201313 embryos expressing Actin-GFP , Hh-GFP or Hh-GFP/Hmgcr . During this period of development PGCs in wild type embryos associate and then align with the gonadal mesodermal SGPs . In both the actin-GFP and hh-GFP embryos , the SGPs are aligned with the gonadal mesoderm , while in the hh-GFP/hmgcr embryos they are scattered in the mesoderm . The middle set of panels shows that PGCs in both the hh-GFP and hh-GFP/hmgcr are distinctly outlined with Hh-GFP , while a GFP signal is not associated with PGCs in the control actin-GFP/UAS-hh-GFP embryos . The PGC associated GFP signal appears earlier in hh-GFP/hmgcr embryos and is ( together with the signal in the surrounding mesodermal tissue: see Figure 9 ) greater than in hh-GFP embryos . In addition , we often observed PGCs in the hh-GFP/hmgcr embryos that have bulges or protrusions . As indicated by the arrows in the hh-GFP/hmgcr panels and in the adjacent enlargements of these PGCs , there are higher levels of Hh-GFP associated with these bulges . However , not all concentrations of Hh-GFP are found associated with obvious bulges or protrusions . \\n The synthesis of mevalonic acid by the enzyme Hmgcr is the rate-controlling step in the biosynthesis of isoprenoids and steroids . In mammals , one end-product of the mevalonate pathway , cholesterol , is used to modify the C-terminus of the processed Hh ligand , and this modification plays an important role in controlling the activity of this signaling molecule . Flies lack the enzymes needed for de novo cholesterol biosynthesis and depend instead upon exogenous cholesterol for this modification of the Hh ligand [24] . Nevertheless , the mevalonate biosynthetic pathway is still used to potentiate the release/transmission of the Hh ligand , in this case through ( at least in part ) the geranylation of the G protein G\\u03b31 [21] , [22] , [35] . Hmgcr as well as the downstream components in the isoprenoid biosynthetic pathway also play a pivotal role in generating the attractant that guides PGC migration both from its native source , the SGPs , and from a variety of different embryonic tissues when ectopically expressed [27]\\u2013[30] . However , how hmgcr or the other isoprenoid pathway enzymes function in generating the PGC attractant either in the SGPs or at ectopic sites has remained unresolved and contentious . To address this problem we have focused on the connection between the mevalonate\\u2192isoprenoid biosynthetic pathway and two proteins that have been implicated in the long distance basolateral transmission of the Hh-Np ligand , the G protein G\\u03b31 and the extracellular hh signaling factor Shf . Previous studies have established that a rate limiting step in generating the PGC attractant either by the SGPs or by other tissues and cell types is the biosynthesis of geranylgeranyl-pyrophosphate by geranylgeranyl diphosphate synthetase ( qm ) [24] , [27] , [28] . The control point in the geranylgeranyl-pyrophosphate biosynthetic pathway is the production of mevalonic acid by the enzyme Hmgcr . While hmgcr seems to play a rather similar role in the release/transmission of Hh-Np from hh sending cells , in this case through the geranylation of G\\u03b31 , an important and controversial question is whether the functioning of the hmgcr\\u2192qm biosynthetic pathway in hh signaling has any connection to the generation of the PGC attractant . We have addressed this question by determining if the PGC migration defects induced by hmgcr expression in the nervous systems depend upon G\\u03b31 and Shf . We find that mutations in both g\\u03b31 and shf dominantly suppress the migration defects induced by ectopic hmgcr . In contrast , reducing the dose of the hmgcr gene dominantly enhances the migration defects induced by hmgcr expression in the nervous system . This later finding is expected since reducing hmgcr activity in the SGPs should further compromise the ability of the attractant generated by the SGPs to compete with the attractant generated in the nervous system . The former findings show that the production/activity of the attractant generated in the nervous system by ectopic hmgcr depends on both g\\u03b31 and shf . By themselves , these results do not exclude the possibility that g\\u03b31 and shf only collaborate with hmgcr when it is ectopically expressed in the nervous system while they are not actually needed for the hmgcr-dependent production of the attractant by the SGPs . However , this scenario seems unlikely . For one , there are PGC migration defects in g\\u03b31 and shf mutant embryos . For another , the G\\u03b31 protein must be geranylated to function in PGC migration [22] . Finally , like hmgcr , ectopic expression of g\\u03b31 and shf in the mesoderm and ectoderm perturbs PGC migration . Even though G\\u03b31 and Shf are known to function in the release and transmission of the Hh ligand , it could be argued that these two proteins could also mediate the release/transmission of others molecules , including the \\u201cactual\\u201d PGC attractant . Indeed , G\\u03b31 is likely involved in secretion of other molecules , while the fact that Shf homologs in mammals function in Wnt but not Hh signaling raises the possibility that Shf could promote signaling by an as yet unknown ligand ( though not Wg: [34] , [40] ) . However , there is evidence that like G\\u03b31 and Shf , Hh itself depends upon hmgcr and the isoprenoid biosynthetic pathway not only in hh signaling but also in generating an ectopic PGC attractant in the nervous system . This comes from the differences in the effects of ectopically expressed Hh-Np and Hh-N that would be predicted based on the mechanisms proposed for their transmission [15] , [20] . First , the apically transmitted Hh-N ligand would be expected to have a smaller effect on PGC migration when ectopically expressed in the nervous system than Hh-Np . With the caveat that expression of different UAS transgene inserts will not be precisely the same , this prediction holds . Second , the geranylation of G\\u03b31 in response to ectopic Hmgcr would be expected to promote the basolateral release and subsequent spreading of Hh-Np into the mesoderm . By contrast , ectopic Hmgcr should have less influence on Hh-N , which isn't readily internalized by hh sending cells and spreads mostly along the apical surface [20] . With the same caveat , this predicted distinction is also observed . When co-expressed , Hh-Np and Hmgcr collaborate to strongly potentiate PGC migration defects , while there is a more modest collaboration between Hh-N and Hmgcr . Though an imperfect mimic of Hh-Np , we have taken advantage of a chimeric Hh-GFP fusion protein to analyze the effects of Hmgcr on the transmission of Hh from cells in the embryonic nervous system . We found that Hh-GFP is less effective than Hh-Np ( and even Hh-N ) in competing with the PGC attractant produced by the SGPs when it is ectopically expressed using the twi or elav GAL4 drivers . Since Hh-GFP appears to have near but not quite wild type activity in morphogenesis [39] , it is surprising that it is relatively ineffective in altering PGC migration . However , a plausible reason for this discrepancy is that the demands imposed by the assays used to test Hh-GFP activity in each experimental context are quite different . The morphogenesis assay requires that Hh-GFP substitute for Hh-Np . Since animals can readily tolerate heterozygosity for hh , small deficits in the functioning of the chimeric protein might only have minimal effects on morphogenesis . In contrast , in the PGC migration assay the ectopically expressed Hh-GFP must be able to compete with the attractant ( s ) produced by the SGPs . If Hh-Np is the relevant endogenous PGC attractant , then even subtle deficiencies in the activity of the chimeric Hh-GFP ligand would be expected to compromise its ability to compete with the wild type protein . It would also follow that it should be possible to \\u201crescue\\u201d ectopic Hh-GFP by enhancing its activity . This is the case . While hh-GFP is not very active on its own , it is able to collaborate with hmgcr when co-expressed in the nervous system . In previous studies we have shown that expressing hmgcr in hh producing cells in the ectoderm increases the overall level of Hh protein and enhances its transmission to adjacent cells [21] . Precisely the same sorts of effects on Hh-GFP are evident when it is \\u201crescued\\u201d by co-expression with hmgcr in the nervous system\\u2014Hh-GFP levels are elevated , while its transmission into and through the underlying mesodermal cell layer is appreciably enhanced . These hmgcr dependent effects , particularly on the movement of Hh-GFP from the neuroectoderm into the underlying mesoderm , would also provide a plausible explanation for why this biosynthetic enzyme plays such a pivotal role in PGC migration even though it is not directly responsible for the synthesis of the PGC attractant . In the period when PGCs are migrating through the mesoderm , the SPGs are the only cells in the embryo simultaneously expressing both hmgcr and hh [27] , [28] , [31] . Consequently the accumulation , release and transmission of Hh-Np will be specifically potentiated in SGPs , but not in other hh expressing cells elsewhere in the mesoderm or in the ectoderm . This would provide a mechanism for ensuring that SGP derived Hh-Np out-competes Hh-Np produced elsewhere . Taken together , these findings support the idea that Hh-Np expressed in the SGPs functions as a PGC attractant . With the caveat that the activities of Hh-GFP are not identical to Hh-Np , the fact that Hh-GFP accumulates on the surface and around the PGCs further bolsters this suggestion . Moreover , in a subset of the PGCs Hh-GFP is closely associated with bulges or protrusions that could potentially be of relevance to the process of migration . On the other hand , a number of critical questions remain . For one , it is not clear how reception of the hh signal could actually translate into directed movement . The endpoint of the signaling cascade in the canonical pathway is the transcriptional activation of target genes , including the hh receptor ptc . However , transcription is likely not involved in this instance , as ptc reporters are not activated in PGCs [29] ( unpublished data ) . Moreover , in mammals hh dependent axonal guidance and fibroblast migration are independent of transcription and involve instead the coupling of Smo activation to pathways that mediate the reorganization of the cytoskeleton [6] , [7] , [41] , [42] . Further studies will clearly be required to establish a connection between hh signaling to the PGCs , changes in the cytoskeleton and directed movement . Another unresolved question is whether SGPs produce any other PGC attractants . Although no other plausible candidates have been identified , our experiments do not exclude the possibility that there are other PGC attractants , even including an attractant ( s ) whose activity , like Hh-Np , is potentiated by the hmgcr isoprenoid biosynthetic pathway . \\n The embryo stainings were performed essentially as described in 21 . Vasa ( from Paul Lasko ) and Hh ( from Tom Kornberg ) antibodies are rabbit polyclonal antibodies . Both were used at a 1\\u2236500 dilution . Engrailed and Wingless antibodies are mouse monoclonal antibodies and were used at 1\\u223610 dilution . \\u00df-Galactosidase antibody was either a rabbit polyclonal purchased from Cappel ( used at 1\\u22361000 dilution ) or a mouse monoclonal antibody from Developmental Studies Hybridoma Bank ( used at 1\\u223610 dilution ) . GFP antibody is a rabbit polyclonal purchased from Torrey Pines Biolabs ( used at 1\\u22361000 dilution ) . For con-focal analysis a magnification of 40\\u00d7 was used in almost all the instances , and images were collected using identical settings for the control and experimental samples . Multiple pairs of wild type ( sibs ) and mutant embryos were imaged in each case , and representative examples are presented . Shf stocks including mutants and UAS transgenes were obtained from Seth Blair [32] . UAS-Hh-GFP fusion stocks were a kind gift of Isabel Guerrero [20] . UAS-Hh-Np ( two different stocks on the second and third chromosome respectively; from Phil Beachy ) , UAS-Hh-N: two different stocks on the second ( from Tom Kornberg ) and third chromosome ( from Phil Beachy ) respectively , g\\u03b31 mutant stocks , g\\u03b31N159 and g\\u03b31k0817 , were obtained from Fumio Matsuzaki , while UAS- g\\u03b31 stock ( g\\u03b31 ) was kindly provided by the Olson lab [43] . The other UAS and Gal4 stocks used for the misexpression studies were from the Bloomington stock center . hairy-Gal4 , elav-Gal4 , nanos-Gal4 , patched-Gal4 , UAS-\\u00df-galactosidase , hh-Gal4/TM6 Ubx-LacZ . In most experiments , males carrying two of the copies UAS transgene were mated with virgin females carrying two copies of the Gal4 transgene . The resulting progeny embryos were fixed and stained for subsequent analysis . elav-Gal4 , UAS hmgcr recombinant [38] and UAS-qm stock [24] were obtained from Ruth Lehmann . In many experiments the genotypes of the embryos were unambiguously determined by using balancer chromosomes marked with either GFP or \\u00df-galactosidase .\"\n        ],\n        \"semantic_type\": \"\",\n        \"description\": \"\"\n      }\n    },\n    {\n      \"column\": \"headings\",\n      \"properties\": {\n        \"dtype\": \"object\",\n        \"semantic_type\": \"\",\n        \"description\": \"\"\n      }\n    },\n    {\n      \"column\": \"keywords\",\n      \"properties\": {\n        \"dtype\": \"object\",\n        \"semantic_type\": \"\",\n        \"description\": \"\"\n      }\n    },\n    {\n      \"column\": \"id\",\n      \"properties\": {\n        \"dtype\": \"string\",\n        \"num_unique_values\": 1376,\n        \"samples\": [\n          \"journal.ppat.1006859\",\n          \"journal.ppat.0030170\",\n          \"journal.pgen.1003720\"\n        ],\n        \"semantic_type\": \"\",\n        \"description\": \"\"\n      }\n    }\n  ]\n}",
              "type": "dataframe",
              "variable_name": "dataPlosVal"
            },
            "text/html": [
              "\n",
              "  <div id=\"df-ce76522b-d16e-49f9-b7a0-5bc5606df059\" class=\"colab-df-container\">\n",
              "    <div>\n",
              "<style scoped>\n",
              "    .dataframe tbody tr th:only-of-type {\n",
              "        vertical-align: middle;\n",
              "    }\n",
              "\n",
              "    .dataframe tbody tr th {\n",
              "        vertical-align: top;\n",
              "    }\n",
              "\n",
              "    .dataframe thead th {\n",
              "        text-align: right;\n",
              "    }\n",
              "</style>\n",
              "<table border=\"1\" class=\"dataframe\">\n",
              "  <thead>\n",
              "    <tr style=\"text-align: right;\">\n",
              "      <th></th>\n",
              "      <th>lay_summary</th>\n",
              "      <th>article</th>\n",
              "      <th>headings</th>\n",
              "      <th>keywords</th>\n",
              "      <th>id</th>\n",
              "    </tr>\n",
              "  </thead>\n",
              "  <tbody>\n",
              "    <tr>\n",
              "      <th>0</th>\n",
              "      <td>Messenger RNAs carry the instructions necessar...</td>\n",
              "      <td>Gene expression varies widely between individu...</td>\n",
              "      <td>[Abstract, Introduction, Results, Discussion, ...</td>\n",
              "      <td>[genetics, biology, genomics, genetics and gen...</td>\n",
              "      <td>journal.pgen.1002882</td>\n",
              "    </tr>\n",
              "    <tr>\n",
              "      <th>1</th>\n",
              "      <td>Annually , more than two million people are in...</td>\n",
              "      <td>The live attenuated simian immunodeficiency vi...</td>\n",
              "      <td>[Abstract, Introduction, Materials and Methods...</td>\n",
              "      <td>[]</td>\n",
              "      <td>journal.ppat.1004633</td>\n",
              "    </tr>\n",
              "    <tr>\n",
              "      <th>2</th>\n",
              "      <td>The opportunistic pathogen Candida albicans is...</td>\n",
              "      <td>Mucosal infections with Candida albicans belon...</td>\n",
              "      <td>[Abstract, Introduction, Results, Discussion, ...</td>\n",
              "      <td>[blood cells, cell motility, medicine and heal...</td>\n",
              "      <td>journal.ppat.1005882</td>\n",
              "    </tr>\n",
              "    <tr>\n",
              "      <th>3</th>\n",
              "      <td>Lymphatic filariasis ( LF ) , commonly known a...</td>\n",
              "      <td>Between 2000–2007 , the Global Programme to El...</td>\n",
              "      <td>[Abstract, Introduction, Methods, Results, Dis...</td>\n",
              "      <td>[infectious diseases/neglected tropical diseas...</td>\n",
              "      <td>journal.pntd.0000708</td>\n",
              "    </tr>\n",
              "    <tr>\n",
              "      <th>4</th>\n",
              "      <td>Parkinson’s disease ( PD ) is a neurodegenerat...</td>\n",
              "      <td>Homozygous mutations in the glucocerebrosidase...</td>\n",
              "      <td>[Abstract, Introduction, Results, Discussion, ...</td>\n",
              "      <td>[]</td>\n",
              "      <td>journal.pgen.1005065</td>\n",
              "    </tr>\n",
              "  </tbody>\n",
              "</table>\n",
              "</div>\n",
              "    <div class=\"colab-df-buttons\">\n",
              "\n",
              "  <div class=\"colab-df-container\">\n",
              "    <button class=\"colab-df-convert\" onclick=\"convertToInteractive('df-ce76522b-d16e-49f9-b7a0-5bc5606df059')\"\n",
              "            title=\"Convert this dataframe to an interactive table.\"\n",
              "            style=\"display:none;\">\n",
              "\n",
              "  <svg xmlns=\"http://www.w3.org/2000/svg\" height=\"24px\" viewBox=\"0 -960 960 960\">\n",
              "    <path d=\"M120-120v-720h720v720H120Zm60-500h600v-160H180v160Zm220 220h160v-160H400v160Zm0 220h160v-160H400v160ZM180-400h160v-160H180v160Zm440 0h160v-160H620v160ZM180-180h160v-160H180v160Zm440 0h160v-160H620v160Z\"/>\n",
              "  </svg>\n",
              "    </button>\n",
              "\n",
              "  <style>\n",
              "    .colab-df-container {\n",
              "      display:flex;\n",
              "      gap: 12px;\n",
              "    }\n",
              "\n",
              "    .colab-df-convert {\n",
              "      background-color: #E8F0FE;\n",
              "      border: none;\n",
              "      border-radius: 50%;\n",
              "      cursor: pointer;\n",
              "      display: none;\n",
              "      fill: #1967D2;\n",
              "      height: 32px;\n",
              "      padding: 0 0 0 0;\n",
              "      width: 32px;\n",
              "    }\n",
              "\n",
              "    .colab-df-convert:hover {\n",
              "      background-color: #E2EBFA;\n",
              "      box-shadow: 0px 1px 2px rgba(60, 64, 67, 0.3), 0px 1px 3px 1px rgba(60, 64, 67, 0.15);\n",
              "      fill: #174EA6;\n",
              "    }\n",
              "\n",
              "    .colab-df-buttons div {\n",
              "      margin-bottom: 4px;\n",
              "    }\n",
              "\n",
              "    [theme=dark] .colab-df-convert {\n",
              "      background-color: #3B4455;\n",
              "      fill: #D2E3FC;\n",
              "    }\n",
              "\n",
              "    [theme=dark] .colab-df-convert:hover {\n",
              "      background-color: #434B5C;\n",
              "      box-shadow: 0px 1px 3px 1px rgba(0, 0, 0, 0.15);\n",
              "      filter: drop-shadow(0px 1px 2px rgba(0, 0, 0, 0.3));\n",
              "      fill: #FFFFFF;\n",
              "    }\n",
              "  </style>\n",
              "\n",
              "    <script>\n",
              "      const buttonEl =\n",
              "        document.querySelector('#df-ce76522b-d16e-49f9-b7a0-5bc5606df059 button.colab-df-convert');\n",
              "      buttonEl.style.display =\n",
              "        google.colab.kernel.accessAllowed ? 'block' : 'none';\n",
              "\n",
              "      async function convertToInteractive(key) {\n",
              "        const element = document.querySelector('#df-ce76522b-d16e-49f9-b7a0-5bc5606df059');\n",
              "        const dataTable =\n",
              "          await google.colab.kernel.invokeFunction('convertToInteractive',\n",
              "                                                    [key], {});\n",
              "        if (!dataTable) return;\n",
              "\n",
              "        const docLinkHtml = 'Like what you see? Visit the ' +\n",
              "          '<a target=\"_blank\" href=https://colab.research.google.com/notebooks/data_table.ipynb>data table notebook</a>'\n",
              "          + ' to learn more about interactive tables.';\n",
              "        element.innerHTML = '';\n",
              "        dataTable['output_type'] = 'display_data';\n",
              "        await google.colab.output.renderOutput(dataTable, element);\n",
              "        const docLink = document.createElement('div');\n",
              "        docLink.innerHTML = docLinkHtml;\n",
              "        element.appendChild(docLink);\n",
              "      }\n",
              "    </script>\n",
              "  </div>\n",
              "\n",
              "\n",
              "<div id=\"df-19a7882f-54c1-4c29-9e5e-b928ba3ade42\">\n",
              "  <button class=\"colab-df-quickchart\" onclick=\"quickchart('df-19a7882f-54c1-4c29-9e5e-b928ba3ade42')\"\n",
              "            title=\"Suggest charts\"\n",
              "            style=\"display:none;\">\n",
              "\n",
              "<svg xmlns=\"http://www.w3.org/2000/svg\" height=\"24px\"viewBox=\"0 0 24 24\"\n",
              "     width=\"24px\">\n",
              "    <g>\n",
              "        <path d=\"M19 3H5c-1.1 0-2 .9-2 2v14c0 1.1.9 2 2 2h14c1.1 0 2-.9 2-2V5c0-1.1-.9-2-2-2zM9 17H7v-7h2v7zm4 0h-2V7h2v10zm4 0h-2v-4h2v4z\"/>\n",
              "    </g>\n",
              "</svg>\n",
              "  </button>\n",
              "\n",
              "<style>\n",
              "  .colab-df-quickchart {\n",
              "      --bg-color: #E8F0FE;\n",
              "      --fill-color: #1967D2;\n",
              "      --hover-bg-color: #E2EBFA;\n",
              "      --hover-fill-color: #174EA6;\n",
              "      --disabled-fill-color: #AAA;\n",
              "      --disabled-bg-color: #DDD;\n",
              "  }\n",
              "\n",
              "  [theme=dark] .colab-df-quickchart {\n",
              "      --bg-color: #3B4455;\n",
              "      --fill-color: #D2E3FC;\n",
              "      --hover-bg-color: #434B5C;\n",
              "      --hover-fill-color: #FFFFFF;\n",
              "      --disabled-bg-color: #3B4455;\n",
              "      --disabled-fill-color: #666;\n",
              "  }\n",
              "\n",
              "  .colab-df-quickchart {\n",
              "    background-color: var(--bg-color);\n",
              "    border: none;\n",
              "    border-radius: 50%;\n",
              "    cursor: pointer;\n",
              "    display: none;\n",
              "    fill: var(--fill-color);\n",
              "    height: 32px;\n",
              "    padding: 0;\n",
              "    width: 32px;\n",
              "  }\n",
              "\n",
              "  .colab-df-quickchart:hover {\n",
              "    background-color: var(--hover-bg-color);\n",
              "    box-shadow: 0 1px 2px rgba(60, 64, 67, 0.3), 0 1px 3px 1px rgba(60, 64, 67, 0.15);\n",
              "    fill: var(--button-hover-fill-color);\n",
              "  }\n",
              "\n",
              "  .colab-df-quickchart-complete:disabled,\n",
              "  .colab-df-quickchart-complete:disabled:hover {\n",
              "    background-color: var(--disabled-bg-color);\n",
              "    fill: var(--disabled-fill-color);\n",
              "    box-shadow: none;\n",
              "  }\n",
              "\n",
              "  .colab-df-spinner {\n",
              "    border: 2px solid var(--fill-color);\n",
              "    border-color: transparent;\n",
              "    border-bottom-color: var(--fill-color);\n",
              "    animation:\n",
              "      spin 1s steps(1) infinite;\n",
              "  }\n",
              "\n",
              "  @keyframes spin {\n",
              "    0% {\n",
              "      border-color: transparent;\n",
              "      border-bottom-color: var(--fill-color);\n",
              "      border-left-color: var(--fill-color);\n",
              "    }\n",
              "    20% {\n",
              "      border-color: transparent;\n",
              "      border-left-color: var(--fill-color);\n",
              "      border-top-color: var(--fill-color);\n",
              "    }\n",
              "    30% {\n",
              "      border-color: transparent;\n",
              "      border-left-color: var(--fill-color);\n",
              "      border-top-color: var(--fill-color);\n",
              "      border-right-color: var(--fill-color);\n",
              "    }\n",
              "    40% {\n",
              "      border-color: transparent;\n",
              "      border-right-color: var(--fill-color);\n",
              "      border-top-color: var(--fill-color);\n",
              "    }\n",
              "    60% {\n",
              "      border-color: transparent;\n",
              "      border-right-color: var(--fill-color);\n",
              "    }\n",
              "    80% {\n",
              "      border-color: transparent;\n",
              "      border-right-color: var(--fill-color);\n",
              "      border-bottom-color: var(--fill-color);\n",
              "    }\n",
              "    90% {\n",
              "      border-color: transparent;\n",
              "      border-bottom-color: var(--fill-color);\n",
              "    }\n",
              "  }\n",
              "</style>\n",
              "\n",
              "  <script>\n",
              "    async function quickchart(key) {\n",
              "      const quickchartButtonEl =\n",
              "        document.querySelector('#' + key + ' button');\n",
              "      quickchartButtonEl.disabled = true;  // To prevent multiple clicks.\n",
              "      quickchartButtonEl.classList.add('colab-df-spinner');\n",
              "      try {\n",
              "        const charts = await google.colab.kernel.invokeFunction(\n",
              "            'suggestCharts', [key], {});\n",
              "      } catch (error) {\n",
              "        console.error('Error during call to suggestCharts:', error);\n",
              "      }\n",
              "      quickchartButtonEl.classList.remove('colab-df-spinner');\n",
              "      quickchartButtonEl.classList.add('colab-df-quickchart-complete');\n",
              "    }\n",
              "    (() => {\n",
              "      let quickchartButtonEl =\n",
              "        document.querySelector('#df-19a7882f-54c1-4c29-9e5e-b928ba3ade42 button');\n",
              "      quickchartButtonEl.style.display =\n",
              "        google.colab.kernel.accessAllowed ? 'block' : 'none';\n",
              "    })();\n",
              "  </script>\n",
              "</div>\n",
              "    </div>\n",
              "  </div>\n"
            ],
            "text/plain": [
              "                                         lay_summary  \\\n",
              "0  Messenger RNAs carry the instructions necessar...   \n",
              "1  Annually , more than two million people are in...   \n",
              "2  The opportunistic pathogen Candida albicans is...   \n",
              "3  Lymphatic filariasis ( LF ) , commonly known a...   \n",
              "4  Parkinson’s disease ( PD ) is a neurodegenerat...   \n",
              "\n",
              "                                             article  \\\n",
              "0  Gene expression varies widely between individu...   \n",
              "1  The live attenuated simian immunodeficiency vi...   \n",
              "2  Mucosal infections with Candida albicans belon...   \n",
              "3  Between 2000–2007 , the Global Programme to El...   \n",
              "4  Homozygous mutations in the glucocerebrosidase...   \n",
              "\n",
              "                                            headings  \\\n",
              "0  [Abstract, Introduction, Results, Discussion, ...   \n",
              "1  [Abstract, Introduction, Materials and Methods...   \n",
              "2  [Abstract, Introduction, Results, Discussion, ...   \n",
              "3  [Abstract, Introduction, Methods, Results, Dis...   \n",
              "4  [Abstract, Introduction, Results, Discussion, ...   \n",
              "\n",
              "                                            keywords                    id  \n",
              "0  [genetics, biology, genomics, genetics and gen...  journal.pgen.1002882  \n",
              "1                                                 []  journal.ppat.1004633  \n",
              "2  [blood cells, cell motility, medicine and heal...  journal.ppat.1005882  \n",
              "3  [infectious diseases/neglected tropical diseas...  journal.pntd.0000708  \n",
              "4                                                 []  journal.pgen.1005065  "
            ]
          },
          "execution_count": 54,
          "metadata": {},
          "output_type": "execute_result"
        }
      ],
      "source": [
        "dataPlosVal.head()"
      ]
    },
    {
      "cell_type": "code",
      "execution_count": null,
      "metadata": {
        "colab": {
          "base_uri": "https://localhost:8080/",
          "height": 289
        },
        "id": "UFgdMzuF5FNT",
        "outputId": "15085179-34b1-4b76-b190-7af18ebadf5b"
      },
      "outputs": [
        {
          "data": {
            "application/vnd.google.colaboratory.intrinsic+json": {
              "summary": "{\n  \"name\": \"dataPlosTest\",\n  \"rows\": 142,\n  \"fields\": [\n    {\n      \"column\": \"article\",\n      \"properties\": {\n        \"dtype\": \"string\",\n        \"num_unique_values\": 142,\n        \"samples\": [\n          \"Robustness in developing and homeostatic tissues is supported by various types of spatiotemporal cell-to-cell interactions . Although live imaging and cell tracking are powerful in providing direct evidence of cell coordination rules , extracting and comparing these rules across many tissues with potentially different length and timescales of coordination requires a versatile framework of analysis . Here we demonstrate that graph neural network ( GNN ) models are suited for this purpose , by showing how they can be applied to predict cell fate in tissues and utilized to infer the cell interactions governing the multicellular dynamics . Analyzing the live mammalian epidermis data , where spatiotemporal graphs constructed from cell tracks and cell contacts are given as inputs , GNN discovers distinct neighbor cell fate coordination rules that depend on the region of the body . This approach demonstrates how the GNN framework is powerful in inferring general cell interaction rules from live data without prior knowledge of the signaling involved . \\n Robustness in developing and homeostatic tissues is supported by the spatiotemporal cell-to-cell interactions , i . e . , feedback mechanisms acting at various time and length scales that prevent overgrowth or depletion . In the stem cell pool of homeostatic tissues , the spatial aspect of feedback have been shown to range from direct cell contacts [1\\u20134] to more indirect and longer range forms such as niche competition [5 , 6] . The fate correlation in time can come in different forms; growth and loss of cells may occur almost simultaneously within the tissue , or there could be regeneration cycles with longer time scale as in the case of hair follicles [7] . Moreover , the ordering of the events in the feedback scheme can be different; cell divisions can compensate for earlier cell loss , or vice versa . Although there are promising attempts to probe the cell-to-cell interactions from high-throughput single-cell analyses [8\\u201314] , live imaging of tissues followed by accurate tracking of the cells is still the most direct method to probe the details of the spatiotemporal feedback [15] . In the case of the mouse hind paw epidermis , analysis of the live images and cell tracks led to the finding that the skin stem cells have coordinated fate between the nearest-neighbors within a short time frame; cell divisions were coordinating with neighboring cell delamination ( due to differentiation ) with 1\\u20132 days delay [1] . However , whether such short spatiotemporal range of coordination as well as the time-ordering found in the hind paw epidermis is adopted in other tissues is currently unknown . In fact , the detailed rules of coordination and feedback have not been tested even for mouse skin regions other than the hind paw . To compare the cell coordination rules adopted in different tissues , it will be desirable to have a generic framework of analysis where such rules can be suggested unbiasedly , rather than preparing methods specific to each tissue . To this end , we may train a model based on machine learning to predict the future behavior of cells from past data , and later challenge the model to extract the rules that have been learned by the machine . The input to this machine can include high-content intracellular features such as the cell morphology and gene expression , as well as the interaction between cells . The key in this procedure will be to design a versatile machine learning scheme that gives predictions of the future dynamics while retaining high interpretability: the ability to partially mask data , apply attribution methods [16] , or use symbolic reductions . Such method will be in contrast to hypothesis-based approaches where certain coordination rules cannot be inferred by design . For example , the analysis conducted to extract the coordination features in the hind paw epidermis [1] assumed cell behavior inducing other cell\\u2019s activity ( i . e . , cell division or delamination ) , which cannot extract suppressive effects such as induced silencing of neighboring cells [17 , 18] . Machine learning methods have been heavily used to extract features of cells from live or fixed cell image sequences . Applications include segmentation and tracking [19\\u201321] , in silico labeling [22] , and direct prediction of cell fates [23] , which typically use versions of convolutional neural networks ( CNN ) . The downside in using image data directly for cell fate prediction is that images contain redundant information making it difficult to focus on the most relevant components to interpret the rules . For instance , a significant feature of cells undergoing cell division is their size growth , which means that the machine will likely learn through images that cell size is a good predictor of cell fate . This strong association will be a problem when we are interested in the mechanism upstream of fate decision ( i . e . , commitment to cell division ) , since cell size is difficult to mask out from images without affecting the other components . On the other hand , important aspects such as cell tracks , lineages , and contacts are not trivially deducible by the machines from the images , making it harder to conduct interpretable rule extractions based on the experiences of individual cells . Other methods that have been proposed to infer the rules of multi-component dynamics by interpretable machine learning frameworks [24] currently do not have the resolution that enables the rule extraction at the level of individual cells . A promising machine learning approach toward automatic cell interaction rule discoveries is the graph neural network ( GNN ) scheme [25] . In GNN models , the structure of a graph can be taken as an input as well as the features associated with each node , which gives flexibility compared with conventional methods such as CNNs . Taking advantage of its interpretability , the GNN approach has succeeded in forward dynamics predictions of physical systems [26] as well as in inferring the rules of agent-interactions [27] and dynamical properties [28] from timelapse data obtained by simulations and experiments . The GNN framework is particularly suited for representing the heterogeneous interactions between cells as well as the intracellular features extractable from image data such as cell shapes and gene expressions [29] . The dynamical features of multicellular systems can be captured by further incorporating the information of cell tracks and constructing a spatiotemporal graph . However , while GNN models have been proposed to deal with time-evolving graphs with nodes and edges being added or removed [30\\u201332] , there is still no example where replicating nodes are taken into account , which is important in describing cell divisions . In this work , we propose a GNN-based framework that incorporates the cell interactions as well as the cell tracks including divisions , and demonstrate how the framework can be applied to novel data to extract and compare the different cell fate coordination rules across tissues . First , we observe that a GNN model constructed from cell contacts and cell lineage can predict the fates of the mouse skin stem cells , indicating that the graph structure encodes significant information of cellular dynamics . Next , we demonstrate how the rules learned by the GNN model can be extracted by ablating the input features , re-configuring the model step-by-step , and employing the attribution method . As a result , we find neighboring cell fate coordination rules that have been overlooked in the paw skin data , as well as rules that are consistent with the previously conducted fate imbalance analyses [1] . For our main application , we analyze the novel tracking data of the ear skin stem cells [33] , and find an additional coordination rule that is absent in the paw skin . We further confirm the validity of the method by applying it to data generated by numerical simulations that encode stochastic cell dynamics mimicking the homeostatic epidermis . Together , this work demonstrates how the GNN model can be applied to highly stochastic kinetics with agent loss and gain , and how it can be utilized in solving the mechanism of multicellular kinetics systematically . \\n The epidermis is maintained by continuous cell divisions occurring in a pseudo-two-dimensional region called the basal layer . Cells in the basal layer can irreversibly delaminate toward the suprabasal layer and differentiate ( i . e . , turn post-mitotic ) , and eventually shed off ( Fig 1A ) . We use the dataset of cell tracks previously generated from live images collected from the non-hairy mouse plantar ( hind paw ) skin [1] , which includes the tracks of all the cells within a region of the basal layer . Between the time frames , cells conduct one of the three possible behaviors; divide ( Div ) , delaminate from the basal layer and migrate into the suprabasal layer ( Del ) , or stay ( no behavior , NB ) , typically with the ratio of 1:1:8 within the time interval of the original image acquisition ( 12 hours ) . Loss by cell death is negligibly rare in this tissue under homeostasis . The relative motion between the cells is slow , meaning that the main source of the cell motion is displacement due to cell division and cell delamination . In our GNN framework , we represent the spatio-temporal dynamics of the tissue by graphs designed to capture 1 ) the spatial relationship including the cell contacts as well as the lineages and events such as cell delamination and division , and 2 ) any cell feature such as the gene expression levels and cell area in the basal layer . We first construct graphs with the basal layer cells as nodes , connected by edges in spatial and temporal directions . The spatial edges represent the cell-to-cell contact obtained from the two-dimensional segmentation in the basal layer , based on the membrane reporter signal ( Fig 1B and S1 Video ) . The temporal edges are the tracks of the cells , involving forks corresponding to cell divisions and terminal ends representing cell delamination; we do not track the cells after they have left the basal layer . In each node ( i . e . , cell in a time frame ) , multiple features extracted from the raw images can be assigned . For the hind paw data , we chose the cross-section area of the cell in the two-dimensional basal layer calculated from the segmentation , and the level of the Fucci-G1 reporter [34] which is the integral of the corresponding fluorescent channel within the segmented cell area . The GNN model takes in the spatiotemporal graphs as well as the features associated with each node , and outputs predictions on the behavior of cells in the last frame ( Div , Del , or NB ) . We trained a GNN model using training and test data taken from two separate regions of the same mouse hind paw , each involving more than 200 cells tracked over fifteen time frames with a total of approximately 250 Div and Del events occurring in each region . In the training of a Nt-time model , we extracted graphs composed of sequential Nt time frames , where the time frames are indexed from t = \\u2212 ( Nt \\u2212 1 ) to 0 in temporal order ( Fig 1C ) , and conducted supervised machine learning to predict the fate of the target cell in the last frame t = 0 . The model calculates the output from the input by sequentially updating the features in the nodes in the following way ( information flow schematically shown in Fig 1D: bidirectional spatiotemporal GNN model ) . First , the model performs message passing ( MP ) on the temporal edges from the future to the past Nt \\u2212 1 times . Here , a single MP is conducted by concatenating the features of adjacent nodes to be processed through a multi-layer perceptron ( MLP ) , and then passing on that processed feature to the past node . Second , the model performs MP bidirectionally on the spatial edges Ns times ( Fig Ai in S1 Appendix ) . Third , the model performs MP Nt \\u2212 1 times on the temporal edges from the past towards the future nodes . The order of the MP ( Fig 1D ) and the sum aggregation method [35] are set this way so that the spatiotemporal graph structure is correctly reflected in the output . In the end of the MP , the node feature in the last frame incorporates the information from its Nt-frame ancestor nodes , Ns-step neighbor nodes of the ancestor nodes in the cell contact graph , as well as the daughter cells of the ancestor neighbors ( Fig 1C ) . We fix Ns = 1 in the following analyses since the performance of the model were similar for Ns = 1 and 2 ( Fig A in S1 Appendix ) , and also Nt = 4 , which will be changed later . Finally , we decode the node feature in the last frame via another MLP and output the softmax score for each cell fate label ( Div , Del , and NB ) to conduct three-class classification . Here , we chose MP rather than convolutional [36 , 37] or attention-based GNN [38] because MP has higher flexibility in representation . The generic functional form described in MP may become important to probe complex nonlinear interactions , for instance when high-dimensional data such as gene expression and morphology are used as cell features . The GNN model was successfully trained using standard methods employing a loss function ( softmax-cross-entropy loss for the three cell behavior labels ) and the Adam optimizer ( Fig B in S1 Appendix ) . The Area Under the Curve ( AUC ) score shows that all behaviors are predicted significantly better than a random guess ( AUC = 0 . 5 ) ( Fig 1E ) . Also , the small standard deviations between the training samples indicate the trained models are reproducible . In particular , we found that cell divisions can be predicted with high accuracy compared with Del and NB . We further found that by training the model with reduced features ( i . e . , without the cell area , G1-phase reporter signal , or both ) , the score decreased significantly , indicating that these features are utilized in making reliable predictions . Indeed , the cross-section area tends to be larger for dividing cells ( Fig Ci and v in S1 Appendix ) , consistent with previous observations [1 , 39] . Furthermore , the G1-phase signal tends to be lower in dividing cells as expected , while there was no difference in the G1-phase signal between NB and Del cells ( Fig Cvi in S1 Appendix ) . Intriguingly , we found that even without the node features , the GNN model can predict the fates with significant scores ( Fig 1E ) . This indicates that the graph structure itself encodes useful information in predicting cell fate . A candidate structure in the graph that can be used in the prediction is the number of edges ( i . e . , neighboring cells , Fig 1F ) . Indeed , the number of neighboring cells is positively correlated with cell division in the next time frame , which is explained by the fact that cells with a larger area tend to be in contact with more cells in the basal layer ( Fig Ciii in S1 Appendix ) . To see whether the number of edges is important in the prediction , we changed the model to take mean aggregation in the calculation step of the spatial edges , which will make the number of contacts invisible in the model . We found that this change in the model only has a minor effect on the AUC score , suggesting that there are other subgraph motifs that are utilized in the prediction . Other subgraph motifs which can be interpreted in the biological context include the temporal length up to the last cell division point ( Fig 1F ) . This is essentially the age of the target cell , which can be used to predict fate if the fate choice is temporally non-random [40] . The neighbor cell fates are also reflected as motifs , which should be important according to previous results [1] . Similarly , the sibling cell behavior can be exploited if there are sibling fate correlations such as in the case of asymmetric division [41] , although this is less relevant for the current dataset [1 , 40] . In order to identify which subgraph motifs are responsible for the predicted future cell dynamics , we next considered reducing the GNN model to observe how the predictability decreases . By simply excluding the initial step of propagating the information toward the past frames , the information from the temporal branches in the sibling and neighboring cells ( including their fates , Fig 1F ) will not be transmitted to the target cell ( Fig 2A: unidirectional spatiotemporal GNN model ) . To add-back the information of neighboring cell fate , we introduced an additional feature to each cell , the next frame behavior ( NFB ) , which takes Div , Del , or NB ( Fig 2B ) . Importantly , this additional feature was added only to the past cells ( t \\u2264 \\u22121 ) , since the NFB of the cells at t = 0 is the target of prediction . The new GNN model predicts cell fates almost as well as the previous model with and without the area and G1-phase reporter signal features ( Fig 2C and Fig D in S1 Appendix ) , indicating that the key ingredients are captured without the backward-time propagation as far as the neighboring cell fates ( NFB ) are added back . By further eliminating the NFB and seeing that the predictability drops , we confirmed that this feature indeed has impact on the prediction of all behaviors ( Fig 2C and Fig E in S1 Appendix ) . To further address the detail of the mechanism of prediction , we next employed the attribution method called the integrated gradient ( IG ) [16] . In this method , the impact of each input variable on the output is quantified by integrating the change in the output score level upon the gradual shift of each input feature ( Fig 2D and 2E and Fig F in S1 Appendix ) . The IG also reflects the sign of the impact of each feature; a negative attribution score of feature f toward fate a means that the observation of f will decrease the output score towards predicting a . The AUC and the IG scores are complementary to each other; the IG highlights the significance of inputs at a finer scale than the AUC , but does not give quantitative values of predictability . To account for the noise in IG induced by finite sample size , we further added a random feature to the cells , i . e . , uniform random numbers ranging from 0 to 1 that have no correlation with cell fate ( Fig Dii in S1 Appendix ) , and calculated its IG score to identify the baseline for non-zero signal ( orange shades , Fig 2D and 2E and Fig F in S1 Appendix ) . First , in Fig 2D and Fig Fi in S1 Appendix , the area of target cells at t = 0 are found to give positive and negative attribution for the prediction of cell division and delamination , respectively . This indicates that cells with large areas tend to conduct cell division in the next frame , while they are unlikely to delaminate . GNN models trained without spatial MPs also show that the area of target cells has indeed significant predictability of the cell fates ( Fig G in S1 Appendix ) . On the other hand , in Fig Fii in S1 Appendix , negative attribution is observed in the G1-phase signal of the target cells at t = 0 , which is consistent with the expectation that a high G1-phase signal of the target cell should predict no cell division in the next frame . Interestingly , the G1-phase signal has a relatively low score when the cell area feature is present ( Fig 2D ) , indicating that the G1-phase signal is mostly redundant for cell fate prediction . These results highlight how the model is efficiently focusing on the important variables from the multi-dimensional input . Without the cell area and G1-phase reporter signal , non-zero attribution scores are found for the prediction of fates by the division of the target cell ( Fig 2E ) . This is reflecting how the age of the cell can be used in the cell fate prediction; newly born cells tend to undergo a refractory period [40] , meaning that the target cell is less likely to divide again if it divided ( was born ) recently . More generally , the distributions of lifetime can be distinct between cells with different fates ( Fig H in S1 Appendix ) , which can be exploited in making fate predictions . To eliminate the cell age information altogether , we set all the features of the target cell sequence to zero ( Fig 3A: cell external model ) . We also took mean aggregation in conducting the MP on spatial edges to make the number of contacts invisible . This new model can still learn to predict the fates significantly better than random ( Fig 3B ) . We found a high IG score indicating that Del of a neighboring cell 24 hours before ( two frames prior ) is useful information in predicting Div . Consistent with this , when changing the number of input time frames Nt , the AUC score largely increased between Nt = 2 and 3 ( Fig Ii in S1 Appendix ) . These results match with the previous observation that cell delamination correlates with neighboring cell division 1\\u20132 days later [1] . Moreover , the GNN model predicts that there is an effect of neighboring Del suppressing Del in the next frame . This indicates that cell delamination is not entirely random , and there may exist a mechanism to suppress two or more neighboring cells to delaminate at the same time . This finding demonstrates that the rule extraction procedure using the GNN model is useful in predicting unexplored mechanisms . Importantly , while the AUC is low for some cases due to the high stochasticity in the cell fate events , it is still possible to determine the fate correlations in neighboring cells . We next analyzed the recently obtained mouse ear skin data [33] to compare the mechanism of homeostasis across different tissues . Although the ear skin has more structure ( i . e . , hair follicles and other appendages ) , we have previously observed that the behaviors of the interfollicular epidermal basal cells in the ear skin are similar to that of the hairless hind paw [1 , 40] . A noticeable difference is that the rate of divisions and delaminations were approximately two-fold slower in the ear , which is why the interval between the frames was set as 24 hours for the ear data acquisition . For our purpose , we generated a novel dataset of whole region cell tracks from 6 regions in the ear epidermis with 54 time frames in total . In Fig 3B and 3C , we show the AUC and the attributions for the ear data; the largest positive ( negative ) IG score for Div ( Del ) is attributed to the Del of neighboring cells from one frame earlier , indicating the existence of the same rule as the hind paw epidermis . Negative correlation between neighboring cell fates was expected to exist in the ear as well as it is critical in maintaining the stem cell pool [1] . However , the actual coupling as well as the ordering of the events have not been previously addressed . In addition , there are large positive ( negative ) IG scores for Del ( Div ) attributed to the Div of neighboring cells , which were not seen in the hind paw epidermis . These scores imply that a mechanism of neighboring Div-induced Del and Div-suppression may exist . This difference was further confirmed by conducting a neighbor-fate imbalance analysis ( Fig Ji and ii in S1 Appendix ) . In this analysis , we focus on individual cells that either divided or delaminated and follow the subsequent behaviors of their six-nearest neighbor cells to calculate the neighbor fate imbalance [1] . The average fate imbalance indeed deviates from zero for the neighbors of dividing cells in the ear , which is a distinct feature from the paw . These results indicate that the GNN-based method can detect cell fate coordination as efficiently as the previous neighboring imbalance method [1] which was constructed specifically for this purpose . The neighboring imbalance method suffers from the subtlety of correcting the background temporal fluctuation of cell fates ( i . e . , some time frames have significantly more Div of Del events than others ) , whereas for the GNN method the baseline is statistically controlled . For this reason , the method was sensitive enough to capture previously overlooked interactions of cell delamination suppressing neighboring delamination; this is not capturable by the neighboring imbalance analysis since it will only return a zero signal . Here we demonstrated how the multi-step ablation strategy is useful in identifying the possible mechanisms behind cell fate determination . Starting from the full model , we first identified strong predictors of cell fate , such as the cell area , which were eliminated in the next model to seek further underlying factors . Although the causal relationships between the input variables are complex and difficult to disentangle in most cases , systematically eliminating the variables with high attribution score is a solid method to eventually reach the original cause . Finally , we conducted numerical simulations of different coordinated cell fate models and tested whether artificially implemented rules can be correctly extracted . In the simulated models , cells are represented by points in the 2D space undergoing repulsive interaction with each other . Cell divisions and delaminations are recapitulated by abrupt point duplication ( with small noise ) and elimination , respectively ( Fig 4A ) . We encoded the cell fate coordination in the following ways ( Fig 4B ) . In the delamination-induced division setup , we first randomly picked a cell to delaminate and chose another cell randomly from its six-nearest neighbors to divide 24 hours after the first cell delaminated . In the division-induced delamination setup , the rules were flipped; a randomly picked cell was set to divide while one of its six nearest neighbors was randomly chosen to delaminate after the division . We also tried another setup where these two rules were equally mixed . Running the same GNN learning algorithm , we found that the AUC scores of each fate are in the expected order ( Fig 4C ) ; in the delamination-induced division setup , the division was predictable and delamination was not , and vice versa . By testing the attribution method on these simulated data , we confirmed that the inferred mechanisms indicate the implemented rules ( Fig 4D ) . We further noticed that the predictability of the fates become significantly low for the mixed rule setup ( Fig 4C ) , which is close to the case of experimental data ( Fig 3B , C ) . Hence , the low score obtained in the experimental data prediction can be explained by the inherent stochasticity in the cell dynamics . Even in such situation , the attribution method was able to pull out the coordination rules . This indicates that the AUC does not necessarily have to be high in order to identify the correct interaction rules . \\n Here we have used the graph-based learning framework to systematically infer how interactions correlate with cell fates in the basal layer stem cell pool of the epidermis . The GNN models were able to predict the future cell fate using the relationships of the target cell and the cells in contact in the past time frames . We identified the cell features that are attributed to the predictability of the model using IG , and clarified that neighboring cell fates have a delayed effect on the target cell\\u2019s fate outcome . The GNN-based approach gives interpretable attributions in the words of the spatiotemporal relationship between the cells , which is an advantage compared with direct image-based approaches employing CNNs . The extracted rules from the dynamics in the epidermis included the previously reported delamination-induced neighboring division [1] as well as potentially novel interactions: suppression ( induction ) of cell delamination by neighboring delamination ( division ) . Inhibition of certain behaviors by cells in contact is a common motif observed in cell biology [17 , 42 , 43] . Neighboring division-induced delamination may be associated with local mechanical forces [44] . Testing whether known molecular pathways responsible for lateral inhibition and mechanical signaling are playing roles in tissue homeostasis will be an interesting next step . The predicted rules are favorable mechanisms in keeping the cell density in the homeostatic tissue , and it is intriguing that there exist differences in the rules adopted in distinct regions of the skin . A possible explanation for this is the cell density; the hind paw epidermis is crowded compared with the ear ( 26 , 000 cells/mm2 versus 14 , 000 cells/mm2 , with almost the same thickness , 15 \\u03bcm , Fig K in S1 Appendix ) . In high cell density regions such as the hind paw , it is reasonable that spontaneous cell division is suppressed and cells can only proliferate when there is space provided by neighboring delamination . Interestingly , in the developing skin where the cell density is much lower than the adult ear , the stratification of cells has been reported to be driven by neighboring cell division [45] . Given these facts , we hypothesize that the balance between cell differentiation and proliferation can be maintained through distinct mechanisms depending on the operating cell density regimes . In predicting the kinetics , multiple time frames were required as inputs in our example ( Fig I in S1 Appendix ) due to the significant time delay between the cell fate events . This indicates that the proper treatment of the temporal axis was necessary , which is why GNN approaches based on static graphs [46\\u201348] are not directly applicable to the problem of multicellular kinetics . Furthermore , our GNN framework takes into account the replication of nodes ( i . e . , cell division ) , which has not been addressed in previous models involving time-evolving graphs [30\\u201332] . Since the incorporation of the cell tracks including cell division is fundamental in the analysis of multi-cellular systems , this study serves as an important step towards building an unbiased rule extraction framework for tissue dynamics . Multicellular dynamics is inherently stochastic owing to the complex interaction between cells and the environment as well as the single-cell level fluctuations . Likely due to this stochasticity , the prediction scores generated by the GNN in this study were far from accurate . Nevertheless , the models were able to provide sensible predictions and cell interaction rules from the epidermis data and inferred the correct rules from the simulation data . The success of the current approach on data generated by highly stochastic kinetics suggests that the framework is applicable not only for general multi-cellular dynamics such as developing embryos , malignant tissues , and organoids , but also for a wide range of systems where modeling by stochastic interacting agents is effective such as in disease spreading and ecology . The current application relied on a relatively large data set of curated cell tracks from whole regions of the mouse skin . Although obtaining such data is still technically demanding in other biological tissues , recent microscopy and cell tracking methods are producing promising results in generating whole tissue level tracks in many systems [15] . In analyzing data for example from developing tissues , an important next step will be to develop a method to interpret the effects of higher-order subgraph motifs . We extracted the effects of neighboring cell fates by converting the cell fate motif ( branches and termination ) into a node feature variable , which will need to be generalized in order to capture more complex relations such as fate imbalance across generations and three-body cell interactions . In addition to the attribution method employed in this work , attention-based GNN [38] and other methods which attribute subgraph motifs to the prediction [49 , 50] will be candidate strategies to improve the interpretability of GNN models and reveal complicated cell-to-cell interactions . \\n The cell track data of the mouse hind paw epidermis basal layer was generated in our previous work [1] . For the ear epidermis data , we used the images collected in the work of [33] , and conducted the semi-automated tracking procedure similar to the previous method [1] . We first performed 3D segmentation by cellpose [21] using the nucleus channel ( K14H2BmCherry ) from a region size of 0 . 3 mm \\u00d7 0 . 3 mm \\u00d7 40\\u03bcm and obtained the 3D masks of the cell nuclei . We then defined the height of the interface between the epidermis and the dermis based on the 3D masks of the nuclei and subtracted this height from the original 3D data to level the basal layer position . From the height-corrected 3D images , we took three consecutive z-positions containing the nucleus of all the basal layer cells and averaged the intensity over the three slices to obtain 2D images in each channel . We calculated the local maxima of the cell nuclei ( K14H2BmCherry ) and automatically corrected the shifts between time frames by minimizing the square distance between the nearest cell positions across the frames using affine transformation . The cells included in all ten time frames were used in the following analysis . The crop size in the 2D plane therefore varied across different areas , ranging from 139 \\u03bcm \\u00d7 139 \\u03bcm to 238 \\u03bcm \\u00d7 238 \\u03bcm . At each time frame , we segmented the cells using the marker-controlled watershed algorithm using the mem-tdTomato channel and the maxima of the cell nuclei positions . We assigned each cell ( i . e . , segmented area ) to a segmented area in the previous time frame with the largest overlap . Tracked cells were frequently lost or were associated with more than one cell in the subsequent time frame , which indicated cell delamination from the basal layer and cell division , respectively . We then manually corrected the errors in the tracking with a guide from the height-corrected 3D images using a pipeline employing napari [51] , and cropped out the region close to the edge so that the remaining region only includes reliably tracked cells . The miss annotations are negligible since the time intervals are significantly shorter than the lifetimes of the cells ( average lifetimes were 2 . 3 days in the hind paw data compared to 0 . 5 day interval , and 4 . 0 days in the ear data compared to one day interval ) . The script outputted the segmented areas of the cells at each time point and their lineages , which was used to build the spatiotemporal graphs . In building the graphs , we determined the cell neighbors from the segmentation images; edges were drawn between cells that share more than one pixel as their periphery . All codes involved in generating the basal layer cell tracks in the ear epidermis were written in Python . We used two areas of tracking data for the hind paw data , and six areas for the ear data . The total number of cell-frames in the spatiotemporal graphs was 5 , 996 for the hind paw data ( \\u223c214 unique cells per area per time frame ) and 12 , 828 for the ear data ( \\u223c267 unique cells per area per time frame ) . We split the graph data into two , the training set and the test set ( Fig L in S1 Appendix ) . The number of cell-frames in the two sets was made to be comparable . The proportion of cells that experience delamination and division in each frame were both 9% in the hind paw epidermis data and both 7% in the ear epidermis data . For the neighbor fate net imbalance analysis , we applied the same method as previously described [1] to the ear epidermis data as well as to the simulation data . The spatiotemporal graphs were created from Nt sequential time frames from the segmented time-lapse images using Deep Graph Library [52] . We first created the cell-contact graphs for each time frame . The neighboring cells \\u03b1 and \\u03b2 were connected by two directed edges pointing at each other . We then added directional edges between the same cells in the future and the past as well as their parents and daughter cells in the sequential time frames . The cell feature vector x i , \\u03b1 \\u2208 R n was assigned to each cell \\u03b1 for the i-th time frame . We used the cell area and G1-phase reporter signal as components of the feature vector , which were obtained from the original segmented images . The features were normalized by dividing the values by the maximum values among all the training and test data . When reducing a feature , we set that particular feature to zero in all nodes . We processed these spatiotemporal graphs with a GNN model using PyTorch . Our first GNN model is a collection of models which consists of a backward temporal edge model \\u03a6B , edge , a backward temporal node model \\u03a6B , node , a spatial edge model \\u03d5edge , a spatial node model \\u03d5node , a forward temporal edge model \\u03a6F , edge , a forward temporal node model \\u03a6F , node , and a decoder \\u03c8dec . First , we propagated the information from the future to the past using \\u03a6B , edge , and then updated the node feature by \\u03a6B , node . By initializing the node feature a i , \\u03b1 ( 0 ) = x i , \\u03b1 , the ( k + 1 ) -th update ( 0 \\u2264 k \\u2264 Nt \\u2212 2 ) of the node feature a i , \\u03b1 ( k + 1 ) of cell \\u03b1 in the i-th frame ( 0 \\u2264 i \\u2264 Nt \\u2212 1 ) is given by , A ( i , \\u03b1 ) \\u21d0 ( i + 1 , \\u03b2 ) ( k + 1 ) = \\u03a6 B , edge ( a i , \\u03b1 ( k ) , a i + 1 , \\u03b2 ( k ) ) , ( 1 ) B i , \\u03b1 ( k + 1 ) = \\u2211 ( i + 1 , \\u03b2 ) \\u2208 D ( i , \\u03b1 ) A ( i , \\u03b1 ) \\u21d0 ( i + 1 , \\u03b2 ) ( k + 1 ) , ( 2 ) a i , \\u03b1 ( k + 1 ) = \\u03a6 B , node ( B i , \\u03b1 ( k + 1 ) , a i , \\u03b1 ( k ) ) . ( 3 ) Here , the subscript ( i , \\u03b1 ) denotes cell \\u03b1 in the i-th frame , and ( i , \\u03b1 ) \\u21d0 ( j , \\u03b2 ) denotes the edge between cell \\u03b1 in the i-th frame and cell \\u03b2 in j-th frame . We calculated Eq 1 for all the connected pairs of cells in the spatiotemporal graphs . D ( i , \\u03b1 ) is the set of the daughters of the cell \\u03b1 in the i-th frame if the cell \\u03b1 divides in the i-th frame; otherwise , D ( i , \\u03b1 ) is cell \\u03b1 itself in the ( i + 1 ) -th frame . We set the features of the cells in the final frame a i , \\u03b1 ( k + 1 ) = a i , \\u03b1 ( 0 ) , which was not updated . Furthermore , for cell \\u03b1 which delaminates or exits the field of view in the i-th frame , we set B i , \\u03b1 ( k + 1 ) = 0 . Second , we calculated the edge features in each time frame using \\u03d5edge , and then updated the cell feature vectors with the edge features using \\u03d5node . By initializing with b i , \\u03b1 ( 0 ) = a i , \\u03b1 ( N t - 1 ) , the ( l + 1 ) -th update of the node feature b i , \\u03b1 ( l + 1 ) of cell \\u03b1 in the i-th frame is given by , H ( i , \\u03b1 ) \\u21d0 ( i , \\u03b2 ) ( l + 1 ) = \\u03d5 edge ( b i , \\u03b1 ( l ) , b i , \\u03b2 ( l ) ) , ( 4 ) I i , \\u03b1 ( l + 1 ) = AGG ( { H ( i , \\u03b1 ) \\u21d0 ( i , \\u03b2 ) ( l + 1 ) : ( i , \\u03b2 ) \\u2208 N ( i , \\u03b1 ) } ) ( 5 ) b i , \\u03b1 ( l + 1 ) = \\u03d5 node ( I i , \\u03b1 ( l + 1 ) , b i , \\u03b1 ( l ) ) . ( 6 ) Here , N ( i , \\u03b1 ) is the set of the neighbor cells of \\u03b1 in the i-th frame . In Eq 5 , AGG represents either the sum aggregation or the mean aggregation across the set of the neighbor cells . We repeat this process for Ns times to take into account the Ns-step neighbor interactions , in which case 0 \\u2264 l \\u2264 Ns \\u2212 1 . Third , we propagated the information from the past to the future using \\u03a6F , edge , and then updated the node feature by \\u03a6F , node . By initializing with c i , \\u03b1 ( 0 ) = b i , \\u03b1 ( N s ) , the ( m + 1 ) -th update ( 0 \\u2264 m \\u2264 Nt \\u2212 2 ) of the node feature c i , \\u03b1 ( m + 1 ) of cell \\u03b1 in the i-th frame is given by , U ( i + 1 , \\u03b1 ) \\u21d0 ( i , \\u03b2 ) ( m + 1 ) = \\u03a6 F , edge ( c i , \\u03b1 ( m ) , c i + 1 , \\u03b2 ( m ) ) , ( 7 ) V i , \\u03b1 ( m + 1 ) = U ( i + 1 , \\u03b1 ) \\u21d0 P ( i + 1 , \\u03b1 ) ( m + 1 ) , ( 8 ) c i , \\u03b1 ( m + 1 ) = \\u03a6 F , node ( V i , \\u03b1 ( m + 1 ) , c i , \\u03b1 ( m ) ) . ( 9 ) Here , P ( i + 1 , \\u03b1 ) is the parent of cell \\u03b1 in the ( i + 1 ) -th frame if the cell \\u03b1 is born in the ( i + 1 ) -th frame; otherwise , P ( i + 1 , \\u03b1 ) is cell \\u03b1 itself in the i-th frame . We set the features of the cells in the final frame c i , \\u03b1 ( m + 1 ) = c i , \\u03b1 ( 0 ) , which was not updated . Furthermore , for cell \\u03b1 which pops in the field of view from the outside in the i-th frame , we set V i , \\u03b1 ( m + 1 ) = 0 . Finally , we decoded the cell feature of cell \\u03b1 in the final frame ( ( Nt \\u2212 1 ) th frame ) by: Y N t - 1 , \\u03b1 = \\u03c8 dec ( c N t - 1 , \\u03b1 ( N t - 1 ) ) . ( 10 ) For all the functions \\u03a6 B , edge : R 2 n \\u2192 R n , \\u03a6 B , node : R 2 n \\u2192 R n , \\u03d5 edge : R 2 n \\u2192 R n , \\u03d5 node : R 2 n \\u2192 R n , \\u03a6 F , edge : R 2 n \\u2192 R n , \\u03a6 F , node : R 2 n \\u2192 R n , \\u03c8 dec : R n \\u2192 R 3 in our GNN model , we used the multi-layer perceptron ( MLP ) , whose components are ( 1 ) Nlayer hidden layers which are respectively composed of a fully-connected layer and a rectified linear unit ( ReLU ) , and ( 2 ) an output fully-connected layer . For the unidirectional spatiotemporal model , we skipped the backward temporal edge and node models in the bidirectional spatiotemporal model . Hence , we initialized b i , \\u03b1 ( 0 ) = x i , \\u03b1 in the spatial edge and node models . In the cell external model , we assigned a null feature vector for the target cells; in the spatial edge model , we initialized b i , \\u03b1 ( 0 ) = 0 and b i , \\u03b2 ( 0 ) = x i , \\u03b2 for the edges from cell \\u03b2 to cell \\u03b1 in the i-th frame . To represent the local lineage branch structure , we introduced the next frame behavior ( NFB ) as a new feature , which encodes the behavior of the next frame of that cell by a one-hot vector , NB ( [1 , 0 , 0] ) , Del ( [0 , 1 , 0] ) , or Div ( [0 , 0 , 1] ) . Since the NFB in the final frame of each network is what we aim to predict , we set the NFB in the final frame to null vector ( [0 , 0 , 0] ) . We trained the GNN models as a three-class classification problem between the three possible fates , NB , Del and Div ) . Since the proportion of the three cell fates is imbalanced , we used the weighted softmax-cross-entropy loss where the weight of each label was set to the inverse of the proportion of the cell fate in the training data . To minimize the loss , we used Adam optimizer with the learning rate lr = 0 . 0001 . In the training , we input a spatiotemporal graph of Nt sequential time frames obtained from an imaging area to update the parameters of the GNN model . We repeated the update for all the spatiotemporal graphs in a single epoch of the training . To optimize the number of layers Nlayer , the number of nodes Nnode of a hidden layer of the MLPs , and the dropout rate p , we tested the performance of the GNN model by changing these parameters . For this test , we used the simulation data of delamination-induced division setup with NFB and random features . First , we investigated the effect of Nlayer by setting Nnode = 50 and p = 0 . To quantify the performance of the GNN model , we calculated the maximum value of macro-F1 score of the test data during learning for 2000 epochs . We ran 5000 epochs for Nlayer = 2 , since the learning was exceptionally slow . As shown in Fig Mi in S1 Appendix , Nlayer = 1 and Nlayer = 2 give comparable performance . Second , we investigated the effect of Nnode by setting Nlayer = 1 and p = 0 . We found that Nnode does not significantly affect the performance ( Fig Mii in S1 Appendix ) . Hence , we chose Nlayer = 1 and Nnode = 50 to minimize the size of the GNN model . Finally , we changed p as shown in Fig Miii in S1 Appendix , and found that p also does not significantly affect the performance , while overfitting is suppressed by increasing p ( Fig Miv , v in S1 Appendix ) . We here chose p = 0 . 1 since the average performance was slightly better and the standard deviation is smaller compared with the other conditions . In all the training , we set Nlayer = 1 , Nnode = 50 and p = 0 . 1 , and ran 2000 epochs . We exceptionally ran 5000 epochs for the bidirectional spatiotemporal model with mean aggregation without any feature . We also tested the effect of data size on the performance ( Figs N and O in S1 Appendix ) . We found that the prediction score and attribution score are sufficiently high when the number of cell-frames used in the training data is above 2000 . The AUC and attribution of each condition were calculated for the GNN model obtained at the epoch at which the model achieves the maximum macro-F1 score [53] . In Fig B in S1 Appendix , we show an example of the learning curves of the cell external model for the hind paw data with NFB and the random feature . The weighted softmax-cross-entropy loss , macro-F1 score , recall , and precision curves are shown respectively in Fig B in S1 Appendix . The vertical lines in Fig Bi-iv in S1 Appendix indicate the epoch at which the model achieves the best macro-F1 score . We used the integrated gradients ( IG , [16] ) for the attribution . The IG Ik ( g ) of the k-th feature for an input subgraph g of a target cell is given by: I k f ( g ) = ( X k - X k \\u2032 ) \\u00b7 \\u222b 0 1 \\u2202 F f ( X \\u2032 + \\u03b1 \\u00b7 ( X - X \\u2032 ) ) \\u2202 X k d \\u03b1 . ( 11 ) The function Ff is the softmax score of fate f \\u2208 {NB , Del , Div} as a function of the input features calculated by the trained network . X represents the concatenated features of all the cells of g , and Xk is the value of the kth feature . X\\u2032 is the baseline , which is the null vector of the same size as X . We calculated the IG for three cell fate labels of all the input graphs . Since the baseline should be neutral for calculating the attribution , the GNN model must be trained for the null graphs to provide equal soft-max scores for three cell fate labels . To this end , we minimized the mean-squared-error ( MSE ) loss defined as , L MSE = 1 N sub \\u2211 f \\u2211 n = 1 N sub ( p n f , null - 1 3 ) 2 ( 12 ) together with the weighted softmax-cross-entropy loss . Here , p i f , null is the softmax score of fate f \\u2208 {NB , Del , Div} of the null graph of the n-th target cell\\u2019s subgraph , and Nsub is the number of the subgraphs . Within a single epoch , we first input a spatiotemporal graph to update the parameters using the weighted softmax-cross-entropy loss , and then input the corresponding null graph to update the parameters using the MSE loss . By this learning method , we approximately obtained the neutral baseline softmax scores for null graphs ( Fig Pi in S1 Appendix ) . Also , we confirmed that introducing the MSE loss does not affect the model performance ( Fig Pii in S1 Appendix ) . In the analysis of the attribution , we pooled each feature of each target cell\\u2019s subgraph into the relative spatiotemporal position of the feature with respect to the target cell . We calculated the average IG of each category for each cell fate label . With respect to the average IG of NFB , we averaged the IG of each category of NFB only among the cells in the category . Finally , we calculated the mean of the average IG over all the trained GNN models . We also defined the baseline for non-zero signals shown as the orange shades in the attribution plots . The minimum ( maximum ) value of the range of the baseline is defined as the minimum ( maximum ) of the model-average of IG subtracted ( added ) by the standard error among all the pooled random features . Since \\u2211fFf ( X ) = 1 for any X , we have \\u2211 f I k f ( g ) = 0 , ( 13 ) To make the plots in Figs 2\\u20134 , we pooled the features according to the spatiotemporal position . The pooled features , which we denote as a , contain multiple features k in the original calculation . The attribution score for each pooled feature is evaluated by I a f ( g ) = \\u2211 k \\u2208 a I k f ( g ) \\u2211 k \\u2208 a 1 . ( 14 ) Note that the normalization still holds: \\u2211 f I a f ( g ) = \\u2211 k \\u2208 a \\u2211 f I k f ( g ) \\u2211 k \\u2208 a 1 = 0 . ( 15 ) For the numerical data that mimics the dynamics of basal layer dynamics , we took a simplified model of interacting particles that exclude each other through mechanical interactions and undergo stochastic division and elimination events . We placed N0 cells labeled by \\u03b1 in a two-dimensional plane with size L \\u00d7 L and with periodic boundary conditions and let the cells interact with each other through an interacting potential . The equation of motion reads r \\u02d9 \\u03b1 ( t ) = - \\u2211 \\u03b2 \\u2260 \\u03b1 \\u2202 \\u2202 r \\u03b1 u ( r \\u03b1 , r \\u03b2 ) , ( 16 ) which is an overdamped kinetics without noise . r\\u03b1 is the position vector of cell \\u03b1 . The repulsive interacting potential has the typical length scale l: ur\\u03b1 , r\\u03b2=12K ( |r\\u03b1\\u2212r\\u03b2|\\u2212l ) 2|r\\u03b1\\u2212r\\u03b2|<l0|r\\u03b1\\u2212r\\u03b2|\\u2265l . ( 17 ) The rules of cell division and delamination were implemented by the Monte Carlo method . At the time frame of cell division of cell \\u03b1 , a newly born cell \\u03b1\\u2032 is generated at a random position within a small distance d = 0 . 001 \\u00d7 L . Cell delamination is conducted by eliminating a particle instantaneously . In both cases , the position of the cells quickly relaxes to a dispersed state due to the repulsive force between the cells , Eq 16 . The stochastic rules of fate coordination that we tested are: We used K = 9 hours\\u22121 , l = 0 . 125 , and L = 1 in all the simulations . For the time steps , we took \\u0394t = 1 . 2 hours . In generating the data for the graph construction , we first prepared N0 points randomly placed inside the box ( size L \\u00d7 L ) and simulated the time evolution according to Eq 16 by the Euler method for 100 steps to obtain a dispersed cell configuration . Next , we ran the simulation up to 300 steps ( 360 hours ) with both the equation of motion Eq 16 and the stochastic divisions and delaminations , to make sure that the system has reached a steady-state ( Fig Q in S1 Appendix ) . Finally , we ran the simulation for another 300 steps and sub-sampled the time points every 20 steps ( 24 hours ) from this final time series to generate data resembling the ear epidermis . The initial number of cells N0 was changed in the three setups to ensure that the number of cells in the frames at steady-state are roughly the same ( around 500 , Fig Q in S1 Appendix ) . The rates of fates \\u03bb were also tuned for each setup so that the number of events that take place per cell per time frame is comparable with the experiment . We cropped out the edges and used the data from the points in the center region 0 . 65 L \\u00d7 0 . 65 L so that the number of points per frame is roughly the same as the number of cells per frame in the hind paw and ear data ( around 210 ) . The neighboring cell network was generated by the two-dimensional Voronoi tessellation , and by whole spatiotemporal network was fed to the GNN learning process in the same way as the experimental data .\",\n          \"Understanding the relationships between biological processes is paramount to unravel pathophysiological mechanisms . These relationships can be modeled with Transfer Functions ( TFs ) , with no need of a priori hypotheses as to the shape of the transfer function . Here we present Iliski , a software dedicated to TFs computation between two signals . It includes different pre-treatment routines and TF computation processes: deconvolution , deterministic and non-deterministic optimization algorithms that are adapted to disparate datasets . We apply Iliski to data on neurovascular coupling , an ensemble of cellular mechanisms that link neuronal activity to local changes of blood flow , highlighting the software benefits and caveats in the computation and evaluation of TFs . We also propose a workflow that will help users to choose the best computation according to the dataset . Iliski is available under the open-source license CC BY 4 . 0 on GitHub ( https://github . com/alike-aydin/Iliski ) and can be used on the most common operating systems , either within the MATLAB environment , or as a standalone application . \\n Modelling and understanding of the relationship between complex and intermingled biological signals is often difficult , particularly when the drivers of the signals are unknown . The problem of the relationship between two time series can be addressed using deconvolution , which provides Transfer Functions ( TFs ) representative of the system processing on the input signal to generate the output signal [1] . Extracting the transfer function linking neuronal activity and imaging data is widely used in functional brain imaging [2\\u20139] , but TFs can also solve general problems in signal analysis , such as predicting the output of complex electrical circuits[10] or other industrial systems , for which a proper model is overly complex due to multiple processes working in parallel[11] . In brain imaging based on blood flow dynamics , transfer functions are classically used to lump the multitude of cellular and molecular processes linking neural activation to changes in blood flow . This coupling between neural activity and hemodynamics is known as neurovascular coupling ( NVC ) [12] . While there are many successful phenomenological models of NVC [3 , 13\\u201317] , most physiology-based models of neurovascular coupling[18\\u201321] focus on a single cellular mechanism . As NVC is mediated through multiple processes ( several molecular cascades , each mediated by different cell types ) , a more integrated approach is necessary . NVC has often been assessed with deconvolution [8 , 22] , either in the frequency domain or with matrix-based approaches , like Toeplitz matrices[23] . While these approaches allow the unbiased extraction of the TF , these deconvolution methods suffer from sensitivity to noise , affecting the quality of the computed TFs . Reducing the noise ( or bandwidth ) of the signals improves the estimate of the TF . Alternatively , one can opt for optimization of known functions or a kernel of functions [7 , 9] . The first option may lead to information loss , e . g . , in cases where the noise is not well characterized . Sophisticated smoothing methods partially prevent this loss , like Savitzky-Golay filter , or noise modelling as proposed by Seghouane and colleagues [24] . The second option relies on parametric functions to find the TF best linking the input to the output signals . The transfer function for neural activity to hemodynamic signals has been canonically modeled using a gamma-distribution function [3 , 14\\u201316] . While making assumptions as to the shape of the TF has some drawbacks , it is robust in the face of noise and generates parametric representations of intrinsically smooth TFs . These approaches still can suffer from under/overfitting and the search for the minimum of the cost function for ill-posed problems may represent a challenging exercise . A valuable help comes from non-deterministic optimizations like simulated annealing or genetic algorithms , which despite their computational expense have potential advantages in extracting TFs from time series . Recently , our group has been extensively involved in TF computation of neurovascular coupling in a study based on multi-modal recordings , namely two-photon microscopy and ultra-fast functional ultrasound [25] . For the required task , we comprehensively tested many deconvolution and optimization algorithms to choose the best-suited approach . We noticed that there is no standard software package providing all these different TF extraction tools , nor a program where all these approaches are available in a comfortable signal pre-treatment and I/O workflow . Here , we present Iliski ( [\\u026al\\u026a\\u0283k\\u026a] , meaning \\u201crelationship\\u201d in Turkish ) , a software which contains all the functionalities that we previously used ( Aydin et al . ) and which , being open source , can be further improved by the users . Although Iliski was initially thought to help data analysis in Biology , its features make it suitable for diverse applications [26 , 27] . \\n We propose two input files format: either plain text files or HDF5 data , the latter being an open-source file format with advanced database features . As experimental acquisitions are prone to multiple component noise , we provided , as an option to the analysis workflow , smoothing ( Savitzky-Golay method ) and median filter functions , to exclude outliers . The input and output signals are interpolated to a chosen time interval ( \\u0394t ) . Both signals can be cut between two given time points to study continuous recordings while computing TFs on chunks of signal ( Fig 1C ) . As an option , boxcar function of variable duration can be used in place of the input signal . Note that Iliski was not coded to handle complex-valued signals . Two main types of TF computation are proposed: deconvolution or function optimization . The former is straightforward , either Toeplitz or Fourier deconvolution , and does not require any specific settings . The latter is the optimization of a parametric function , which requires further settings depending on the chosen algorithm . Beside the proposed fitting functions , the users can input their own function in the graphical interface or add it to the default ones by modifying a text file ( the procedure is described in the Iliski Manual ) . The TF dimension is user-defined , with setting of the TF duration and \\u2018Sampling Time\\u2019 parameters that match the original data or can be augmented by non-linear interpolation . Optimization of parameters can be done with various Matlab algorithms , each coming with pros and cons ( see Results section ) ( Fig 1C , middle ) . A TF is evaluated comparing its prediction\\u2013the convolution of the input signal and the TF\\u2014to the expected output . Two metrics are used in Iliski: the Pearson coefficient ( corrcoef function , Matlab , Fig 1C , right ) and the residual sum of squares . The former was chosen to have a metric solely focusing on the dynamic , allowing for inter-subject comparisons , while the latter evaluates the overall fit , considering the amplitude of the prediction . The cost function of all the optimization algorithms tested in this article is the residual sum of squares ( hereinafter referred to as \\\"residuals\\\" ) . The results structure is arranged to be as informative as possible while avoiding useless repetition of data . Iliski allows for loading previously computed results structures to check them again . After TF computation , results structure can be saved either as XLS file , readable by any Excel-like software , or as a MAT-file ( MATLAB formatted binary file format ) , but it is also available in Matlab workspace to be exported in various data formats by the user . Iliski is accessible both as a GUI and as a set of functions to be used in scripts . It has been developed using Matlab R2018a , with the following dependencies: Optimization Toolbox , Signal Processing Toolbox and Global Optimization Toolbox . Common user errors are thoroughly prevented by various messages and fail safes . In parallel , all errors are treated and saved in a log file , to allow for efficient bug-fixing by any developer . We purposely kept just a few parameters to modify through the GUI , with the goal of providing an easy-to-use tool for people not used to these functions . In most cases , Matlab default parameters of each deconvolution/optimization function worked well with our data , and we believe that it can be extended to many biological datasets . However , a user skilled with Matlab and optimization algorithms can easily modify the parameters of each function used . This study uses already published data of animal experimentation ( Aydin et al . ) . All animal care and experimentations were performed in accordance with the INSERM Animal Care and Use Committee guidelines ( protocol numbers CEEA34 . SC . 122 . 12 and CEEA34 . SC . 123 . 12 ) . \\n Fig 2 shows TF computation with different settings over the same couple of signals: neuronal ( Ca2+ ) activations and vascular ( red blood cells velocity ) flow increases recorded in a mouse upon odor application . Our example data display unavoidable and complex noise coming from many sources: the biological system , the optical setup , the electronics , etc . Deconvolution with Fourier or Toeplitz approaches predicts the vascular responses very well for a given data set . However , the high-frequency noise is amplified by deconvolution [24] and transmitted to the TF , the predictions are not robust across data sets and the actual dynamics of neurovascular coupling is completely hidden in the TF noise ( Fig 2 ) . In this example , we show what we regard as a typical case of overfitting . The TF is capturing the high frequency noise of the system because it does not have any previous expectations for the shape of the relationship between the input and the output signals . This contrasts to the optimization of a parametric function approach which , although it imposes constraints on the shape of the TF , gives meaningful neurovascular relationship and does not need noise clearing . In blood flow-based neuroimaging , the standard function used to represent neurovascular coupling is composed of one or two \\u0393 functions , depending on the nature of the signals , i . e . purely vascular or based on oxygen level[30] . Below is the one \\u0393-driven function we used with our data . Where p1 , . . , p4 are the parameters to optimize , and H is the Heaviside function that includes a time-shift parameter ( p3 ) , In some cases , the time shift significantly improved the prediction and is a known biological phenomenon to consider[31] . Its four parameters are not all independent from one another , e . g . , p1 , p2 and p4 all impact the TF amplitude . This inter-dependency between the parameters brings an ill-posed optimization problem with multiple local minima of the cost function , the sum of the residual squares , in the 4D space of the parameters . To tackle the function optimization problem , we chose standard algorithms ( all implemented in the Optimization Toolbox of Matlab ) to encompass the main available options . A derivative-free optimization method [6] is provided by the fminsearch function in Matlab , which uses the Nelder-Mead simplex algorithm . This approach on our data produced a TF with more than one underivable point that is not representative of the smooth dynamic of neurovascular coupling . Another common option is provided by Quasi-Newton optimization algorithms , which uses an approximation of the Jacobian: for this approach too , we tested an unconstrained built-in method ( fminunc function , Matlab ) . This prediction is , overall , as good as with fminsearch ( Fig 2 , Pearson coefficients , fminunc vs . fminsearch: 0 . 95 vs . 0 . 96 ) , but the onset phase is not properly fit . Moreover , although not evident from the plot , the optimized time shift was negative ( -120 ms ) , implying that the onset of the vascular response precedes the neuronal activation . All the optimization methods tested above are deterministic , meaning that repeating them with the same initial parameters will bring the same result . The pitfall of these methods when applied to ill-posed problem is that optimization process will get attracted to the nearest local minimum , regardless of the many other deeper minima , which may be far away in the parameters space . In other words , deterministic algorithms are sensitive to the initial parameters set before starting the optimization . Non-deterministic algorithms exist to overcome the local minimum issue , adding some level of randomness in the optimization process , and for this purpose Iliski uses the Simulated Annealing algorithm . Each optimization run can yield a different result , reaching possibly a different cost function\\u2019s minimum each time . We define as \\u2018run\\u2019 a single application of the optimization with a given set of initial values , and \\u2018iteration\\u2019 the ensemble of runs sharing the same initial values . By running the algorithm multiple times , one can choose the result with the lowest residual , while avoiding TFs which shape are biologically not acceptable . In fact , to represent the NVC , a TF cannot start at 0 sec , because of the delay due to the cellular cascades triggering the vascular response , and it must be smooth to comply with the progression of biological processes . In Aydin et al . ( 2020 ) , we described a workflow of runs and iterations to get to biologically consistent TFs ( see Supplementary Fig 1 in Aydin et al . [25] ) . To speed up computation , we imposed bounds over the parameters . Note that such bounds can be set through the Iliski GUI for any constrainable algorithm . Using our data , Simulated Annealing gave a smooth TF and a prediction as good as fminsearch for the onset phase of the vascular response . The data shown in Fig 2 is representative of the rest of the data . In fact , optimization of TFs using neural and vascular recordings from other mice , tested with the same odor stimulation , produced similar residual values of the cost function across the 3 optimization algorithms presented above ( 1-way ANOVA , F ( 2 , 17 ) = 0 . 035 , p = 0 . 97 , Fig 3A ) . However , as in the example of Fig 2 , deterministic algorithms are prone to biologically inconsistent TFs ( Fig 3B ) . The non-deterministic , Simulated Annealing algorithm with subsequent iterations method allows to efficiently exclude these TFs and obtain the best trade-off between prediction performance and biological consistency at the cost of a longer computation time . Direct deconvolution is a good option when the goal is the prediction quality within the training database . Deterministic optimization algorithms are fast but yield to TFs that may have biologically inconsistent dynamics . Note that for all the computations we used a short \\u0394t ( 50 ms ) for interpolation to preserve most of the information . As already mentioned , the Simulated Annealing algorithm requires several runs and iterations to obtain a good TF , where \\u2018run\\u2019 means a single optimization and \\u2018iteration\\u2019 an ensemble of runs sharing the same initial values of the fitting function . In our experience , starting the optimization with a \\u2018bad\\u2019 TF\\u2014whose shape is different from what is expected for the processed dataset\\u2014helps to collect more local minima in a pool of optimization runs . For example , in our previous study [25] , we proposed iterations of 50 runs and started with the initial values of the standard TF ( one \\u0393 HRF ) which , peaking at 5 seconds , turned to be much slower than any of the optimized TFs . The sequence of 50-runs iterations stopped when , within an iteration , no clear improvement was found in the optimized TF [25] . On average , 2 iterations were sufficient to get a stable TF with Pearson coefficient above 0 . 9 . Here , we investigated if a higher number of runs is beneficial to the detection of the minimum of the cost function and if it prevents the need for further iterations . We compared 50 and 200 runs with single and double iterations , in cascade ( Fig 4A ) . In a mouse dataset , we observed a non-significant trend towards more scattered TFs shapes for computation using 50 runs versus 200 runs ( 1-way ANOVA , F ( 3 , 16 ) = 2 . 086 , p = 0 . 14 , Fig 4B ) . Similarly , the quality of the TFs did not significantly improve with increasing runs ( 1-way ANOVA , F ( 3 , 16 ) = 2 . 299 , p = 0 . 12 ) . As a result , TFs with fast dynamics ( peaking within 1 and 2 sec ) , was a common feature independently of the adopted protocol ( Fig 4C ) . In a dataset from another mouse ( Fig 4D and 4E ) , TFs with sparse time to peak values after 200 runs improved after a second iteration , with the same number of runs ( 2 . 3 \\u00b1 0 . 3 s VS 1 . 5 \\u00b1 0 . 1 s ( mean \\u00b1 SEM ) , two-tailed T-test , unpaired , p = 0 . 02 < 0 . 05 ) . Note that this compression of TF dynamics was not accompanied by a significant improvement of the TF quality ( residuals: 10 . 1 \\u00b1 2 . 1 vs . 6 . 9 \\u00b1 0 . 8 ( mean \\u00b1 SEM ) for 200 and 200 + 200 runs respectively , two-tailed T-test , unpaired , p = 0 . 19 ) . To conclude , depending on the input/output signals , non-deterministic algorithms can produce TFs with different dynamics but close performances in the prediction . The choice of a specific optimization process , with more or less iterations and runs , becomes crucial when the interest is not limited to the prediction quality , but extends to the temporal dynamics of the TF . Because of the noise , TFs with distinct shapes can yield very close residual values . We provide a decision diagram to choose the best approach to compute a TF based on the features of the user\\u2019s dataset ( Fig 5 ) . Nonetheless , we believe it is always a good choice to test different approaches before making the final choice . \\n Iliski is open-source and freely available under the Creative Commons Attribution 4 . 0 International ( CC BY 4 . 0 ) license . Iliski is maintained on GitLab , enabling user-friendly bug report and community work to make the tool fit the users\\u2019 need . It can be found here: https://github . com/alike-aydin/Iliski . In the neurovascular imaging field , computing the hemodynamic response function is paramount to interpreting vascular activation in terms of neural activation . In any other field , computing TFs may be of help to go deeper in the interpretation of the results . For these reasons , we think it is extremely helpful to have a data analysis tool which lets fast testing of different algorithms with a user-friendly interface .\",\n          \"In order to adjust to changing environmental conditions , bacteria use nucleotide second messengers to transduce external signals and translate them into a specific cellular response . Cyclic di-adenosine monophosphate ( c-di-AMP ) is the only known essential nucleotide second messenger . In addition to the well-established role of this second messenger in the control of potassium homeostasis , we observed that glutamate is as toxic as potassium for a c-di-AMP-free strain of the Gram-positive model bacterium Bacillus subtilis . In this work , we isolated suppressor mutants that allow growth of a c-di-AMP-free strain under these toxic conditions . Characterization of glutamate resistant suppressors revealed that they contain pairs of mutations , in most cases affecting glutamate and potassium homeostasis . Among these mutations , several independent mutations affected a novel glutamate transporter , AimA ( Amino acid importer A , formerly YbeC ) . This protein is the major transporter for glutamate and serine in B . subtilis . Unexpectedly , some of the isolated suppressor mutants could suppress glutamate toxicity by a combination of mutations that affect phospholipid biosynthesis and a specific gain-of-function mutation of a mechanosensitive channel of small conductance ( YfkC ) resulting in the acquisition of a device for glutamate export . Cultivation of the c-di-AMP-free strain on complex medium was an even greater challenge because the amounts of potassium , glutamate , and other osmolytes are substantially higher than in minimal medium . Suppressor mutants viable on complex medium could only be isolated under anaerobic conditions if one of the two c-di-AMP receptor proteins , DarA or DarB , was absent . Also on complex medium , potassium and osmolyte toxicity are the major bottlenecks for the growth of B . subtilis in the absence of c-di-AMP . Our results indicate that the essentiality of c-di-AMP in B . subtilis is caused by the global impact of the second messenger nucleotide on different aspects of cellular physiology . \\n To achieve appropriate responses to changing environmental conditions , all organisms use second messengers which are formed in response to an environmental cue . In bacteria , specific mono- and dinucleotides play a particularly important role as second messengers [1] . The common nucleotide second messengers cyclic AMP , cyclic di-GMP ( c-di-GMP ) , and guanosine tetra/pentaphosphate ( ( p ) ppGpp ) are used to prioritize the utilization of carbon sources and to regulate virulence , to control the choice between sessile and motile lifestyles , and to downregulate essential cellular functions upon amino acid starvation , respectively [2\\u20137] . The more recently discovered second messenger cyclic di-AMP is unique in several respects . First , this nucleotide is essential in many bacteria that produce it , suggesting that this molecule plays a role in central cellular activities . Essentiality of c-di-AMP has been observed in many Firmicutes , such as Bacillus subtilis , Listeria monocytogenes , Streptococcus agalactiae , and Staphylococcus aureus , but also in the genome-reduced bacterium Mycoplasma pneumoniae and in Chlamydia trachomatis [8\\u201314] . Second , c-di-AMP is toxic if it accumulates in the cells , and in many bacteria this accumulation results in strongly increased stress sensititvity [9 , 15\\u201319] . Third , c-di-AMP can bind to proteins and the mRNA molecules encoding them to control both the expression and the activity of certain proteins , as in the case of the B . subtilis potassium transporters KtrAB and KimA [20\\u201323] . Last , but not least , c-di-AMP is not intrinsically present in eukaryotic organisms , and the presence of the molecule is an indication for infection with pathogenic bacteria . Indeed , c-di-AMP is recognized by the human immune system . It binds the STING protein thus resulting the induction of an innate immune response [10] . The essentiality and toxicity of c-di-AMP for many bacteria have induced a great interest in understanding the reasons behind it . Classically , genes were regarded to be essential if they were absolutely needed for growth under optimal growth conditions , typically on complex medium at 37\\u00b0C [24\\u201326] . However , many genes are not described as being essential because there may be paralogues that encode very similar functions as has been described for the c-di-AMP producing diadenylate cyclases in B . subtilis [8 , 9] . In some cases , one essential function can be carried out by very different proteins , and such genes are essential only under specific conditions , i . e . the absence of amino acids from the medium makes the corresponding biosynthetic genes essential . These genes have been called conditional essential genes . Finally , some genes may not be essential but their loss would cause a substantial decrease of fitness for the cells , resulting either in the disappearance of such mutants or in the acquisition of suppressor mutations . Such genes or proteins have been designated quasi-essential , and the effect of their loss has been studied for the B . subtilis DNA topoisomerase TopA , the endoribonuclease RNase Y , and the modulator of lipid biosynthesis , YqhY [27\\u201329] . Very recently , essential processes have been ranked on a global scale for the first time by the determination of the speed of death of mutants [30] . Two lines of research have provided important insights into the reasons of c-di-AMP essentiality . Studies to identify target molecules that interact with c-di-AMP demonstrated that many proteins involved in potassium and osmolyte homeostasis\\u2013both transporters and their regulators\\u2013are controlled by c-di-AMP to limit the intracellular concentrations of potassium and osmotically compatible compounds to physiologically reasonable levels [11 , 13 , 23 , 31\\u201338] . In a complementary approach , suppressor mutants of bacterial strains that either lack or accumulate c-di-AMP have been studied . These analyses revealed that c-di-AMP is conditionally essential in L . monocytogenes , S . aureus and B . subtilis . While the nucleotide is required for growth on complex media , it is dispensable on minimal media [21 , 39 , 40] . For a B . subtilis mutant lacking c-di-AMP , growth was only possible on minimal medium as long as the potassium concentration in the medium is low and glutamate is not present [21 , 41] . On complex medium , the lack of c-di-AMP leads to an accumulation of ( p ) ppGpp [39] , the second messenger that results in a global reprogramming of transcription , translation , and metabolism upon amino acid starvation . Inactivation of the enzymes that produce ( p ) ppGpp restores the viability of the strain lacking c-di-AMP on complex medium . The accumulation of ( p ) ppGpp leads to the inability of the transcription factor CodY to bind to its targets and thus in deregulation of a large regulon that includes many genes for osmolyte uptake and amino acid metabolism , and this uncontrolled expression of the CodY regulon is responsible for the essentiality of c-di-AMP for L . monocytogenes on complex media [39] . In S . aureus , c-di-AMP is dispensable for growth on complex medium under anaerobic conditions or when the bacteria acquire suppressor mutations that affect osmolyte or glutamine uptake [40 , 42] . Both types of studies support the idea that the control of potassium and osmolyte homeostasis is the central essential function of c-di-AMP in many bacteria that produce it [43\\u201345] . We are interested in c-di-AMP signaling in the model organism B . subtilis . In contrast to S . aureus or L . monocytogenes , B . subtilis encodes three diadenylate cyclases that produce c-di-AMP , the constitutively expressed enzymes CdaA and DisA , and the sporulation-specific enzyme CdaS [9 , 46] . Mutants lacking both the cdaA and disA genes that encode the constitutive enzymes are not viable on complex medium and tolerate only very low potassium concentrations and no glutamate in minimal medium . In B . subtilis , c-di-AMP binds to two signal transduction proteins , DarA and DarB , to several potassium , osmolyte and magnesium transporters , as well as to the riboswitch that controls the expression of the high affinity potassium transporters KtrAB and KimA [20 , 23 , 47] . The DarA protein is a member of the large PII superfamily of signal transduction proteins that modulate the acitivities of transporters , enzymes , and transcription factors upon ligand binding [47 , 48] . However , the precise function of DarA has not yet been elucidated . DarB consists of two so-called CBS domains . Under conditions of potassium starvation , DarB is present as an apo-protein and then binds the ( p ) ppGpp synthetase/ hydrolase Rel to trigger an increase of the ( p ) ppGpp concentration , and thus to switch off cellular activities [49 , 50] . B . subtilis , encodes three potassium uptake systems , the paralogous KtrAB and KtrCD channels , and the KimA transporter as well as three potassium exporters , KhtTU , CpaA , and YugO [51] . With the exception of the sporulation protein YugO , c-di-AMP binds to all proteins involved in potassium homeostasis , and inhibits and stimulates the activities of importers and exporters , respectively [23] . To get a better understanding of the global role of c-di-AMP for the physiology of B . subtilis , we performed extensive suppressor analysis of strains lacking c-di-AMP that had adapted to tolerate the presence of glutamate or that are viable on complex medium . These suppressor analyses were complemented by a transcriptome analysis to understand the roles of glutamate and potassium as well as of c-di-AMP for global gene expression in B . subtilis . Our results indicate that the adaptation to either glutamate or complex medium usually requires the simultaneous presence of multiple suppressor mutations that often affect potassium uptake , osmolyte uptake , or glutamate metabolism . Moreover , a mechanosensitive channel and phospholipid biosynthesis play an important role in the sensitivity of a strain lacking c-di-AMP to glutamate . Strikingly , this study identified the amino acid transporter YbeC ( renamed AimA , amino acid importer A ) as the major glutamate transporter in B . subtilis . On complex medium , the c-di-AMP-binding signal transduction proteins DarA and DarB seem to be toxic in the absence of c-di-AMP , and only in their absence we could isolate suppressor mutants . The obtained results shed light on the complexicity of c-di-AMP essentiality and open new directions of research . \\n A B . subtilis strain lacking all three diadenylate cyclases is unable to grow at potassium concentrations of 5 mM or higher or in the presence of glutamate ( even at low potassium concentrations ) [21 , 41] . To test the sensitivity of the mutant for glutamate in more detail , we compared the growth of wild typ strains and the c-di-AMP-free strain GP2222 ( designated \\u0394dac from here on ) at increasing glutamate concentrations ( see S1 Fig ) . While the wild type strain grew better in the presence of glutamate than with ammonium as the single source of nitrogen , the \\u0394dac mutant was inhibited already at very low glutamate concentrations ( 0 . 05% ) . In order to get more comprehensive insights into the toxicity of glutamate for the \\u0394dac mutant , we decided to isolate and study a larger set of suppressor mutants that tolerate the presence of glutamate . For this purpose , we plated the \\u0394dac strain [21] on MSSM medium containing glutamate ( 1% w/v ) and a low concentration of potassium ( 0 . 1 mM KCl ) . While suppressor mutants appear readily after overnight cultivation when potassium toxicity was the growth-limiting problem [21] , the toxicity of glutamate could only be overcome after several days . Moreover , the number of suppressor mutants was strongly reduced as compared to selection in the presence of potassium and ammonium as the nitrogen source . After four days at 37\\u00b0C , 14 colonies could be isolated ( see Fig 1 , \\u0394dac ) . These strains were subjected to whole genome sequencing to identify the responsible mutations ( Table 1 ) . The long time for suppressor mutations to appear can be explained by each mutant harboring multiple mutations . In addition , this explains why the overall number of suppressors was rather low . As observed previously [41] , three strains were affected in ktrC . In one of these strains ( GP3079 ) , the genomic region from abh to ktrC was deleted resulting in reduced uptake of potassium via KtrCD . Similarly , strain GP3078 has a mutation affecting the high-affinity potassium transporter KtrB , and GP2842 also carries a mutation ( nhaK ) that affects potassium homeostasis . Interestingly , the same mutation in the NhaK cation:proton antiporter NhaK ( S187F ) had been isolated in a suppressor screen of the \\u0394dac strain in the presence of 5 mM potassium [21] indicating that the mutant protein has an increased activity in potassium export . As mentioned above , the suppressor strains usually had multiple mutations . Since we never experienced the systematic acquisition of multiple mutations in prior suppressor screens [15 , 27 , 52\\u201354] , it seems likely that more than one mutation is required to achieve the suppression . Since the selective pressure in our experiment was directed towards tolerating otherwise toxic glutamate , we expected that the suppressor mutants would contain mutations affecting glutamate metabolism . Indeed , the \\u00e1 priori cryptic glutamate dehydrogenase was decryptified by the deletion of nine base pairs in two mutants ( GP2841 and GP3473 ) , thus allowing glutamate degradation [55 , 56] . Moreover , seven independently isolated mutants carried mutations affecting an amino acid transporter , YbeC . This protein has recently been identified as the major serine transporter of B . subtilis [57] , and it is tempting to speculate that YbeC is the major glutamate transporter as well ( see below ) . However , seven of the isolated mutants did not carry any mutation that is easily linked to glutamate homeostasis . The previously reported suppressor mutant GP2840 had mutations affecting PlsC , NdhF , and SigD ( acyl-ACP:1-acylglycerolphosphate acyltransferase , NADH dehydrogenase , Sigma factor \\u03c3D , respectively ) in addition to the ktrC mutation [41] . Strikingly , plsC and ndhF are affected in six and four different suppressor mutants respectively . Several mutants carried mutations affecting motility: In addition to two sigD mutants , seven additional mutants carried mutations in flagellar genes that on one hand depend on a functional SigD for their expression , and on the other hand are required for SigD activity [58] . In addition , three of the 14 different independent suppressor mutants carry the same point mutation in the yfkC gene , encoding a mechanosensitive channel that releases ions from the cell [59 , 60] . This mutation results in a substitution of Arg-42 by a Trp residue . We then tested the ability of the suppressor mutants to grow on minimal medium at low and high potassium concentrations with ammonium or glutamate as the nitrogen source . Moreover , the ability to grow on a complex medium was tested ( see Table 1 and S2 Fig ) . Since the mutants were isolated in the presence of glutamate and 0 . 1 mM potassium , it is not surprising that all strains grew on the corresponding medium . Moreover , most of the strains were viable with ammonium as the single nitrogen source irrespective of the potassium concentration . Most of the mutants were also capable of growing at the elevated potassium concentration in the presence of glutamate . However , only four of the 15 tested strains were viable on complex medium . Two of them grew well on LB and these strains had the identical combination of mutations in yfkC and plsC ( see Table 1 , see below ) . This suggests that the adaptation to complex medium requires more than resistance to potassium and glutamate . Most of the suppressor mutants that tolerate the presence of glutamate and potassium were unable to grow on complex medium under standard laboratory conditions . The standard definition of essentiality refers to optimal growth conditions , i . e . to a complex medium and growth at 37\\u00b0C in the presence of oxygen for B . subtilis [25 , 26] . This prompted us to investigate the growth requirements of the \\u0394dac mutant GP2222 more rigorously . First , we attempted to isolate suppressor mutants derived from GP2222 under standard conditions as defined above . However , we never succeeded in isolating a single suppressor mutant . A recent study on c-di-AMP essentiality in S . aureus revealed that the nucleotide is dispensable under anaerobic conditions [40] . Therefore , we tried to isolate suppressor mutants of GP2222 in the absence of oxygen . While the wild type strain B . subtilis 168 grew under these conditions , again no suppressor mutants of the \\u0394dac strain could be isolated ( see Fig 2 ) . In B . subtilis , c-di-AMP binds two signal transduction proteins , DarA and DarB [23 , 47] . In a suppressor screen using a L . monocytogenes strain lacking c-di-AMP , several mutations in the corresponding genes were observed [39] . We therefore constructed strains that lack both c-di-AMP and either the darA or the darB gene , and used these strains to isolate suppressors on complex medium under aerobic and anaerobic conditions . Again , no suppressors could be obtained under aerobic conditions; however , we detected one and two suppressors for the \\u0394dac \\u0394darA and \\u0394dac \\u0394darB mutants , respectively , under anaerobic conditions ( see Fig 2 ) . Whole genome sequencing revealed that the mutation present in the \\u0394dac \\u0394darA mutant changed Gly-11 of KtrC to a cysteine residue . The suppressor mutants derived from the \\u0394dac \\u0394darB mutant had a frameshift in ktrC resulting in the expression of a truncated KtrC protein or a mutation affecting the permease domain OpuAB of the OpuA glycine betaine transporter [61] , respectively ( Fig 2 ) . These results strongly support the idea that the accumulation of potassium or of osmoprotective compatible solutes is the reason for the essentiality of c-di-AMP [39 , 40 , 43] . An initial characterization of these suppressor mutants revealed that they were viable under anaerobic conditions , but not in the presence of oxygen . Therefore , we used the three strains for a further round of suppressor isolation . Indeed , we were able to obtain suppressors that tolerate the presence of oxygen for all three mutants ( Figs 2 and S3 ) . Whole-genome sequencing revealed that the initial suppressors with defective KtrC proteins had all acquired very specific mutations in the kimA gene , encoding the major high-affinity potassium transporter KimA . In the mutant isolated from the darA ktrC mutant , the absolutely conserved glycine in transmembrane helix 3 of KimA was deleted . Helix 3 is essential for potassium binding of KimA [62] . All four independent suppressors isolated from the \\u0394dac \\u0394darB ktrC mutant had a deletion of 11 amino acids in the transmembrane helix 9 . Based on the high conservation of the deleted residues , we conclude that the mutant KimA proteins were inactive or less active than the wild type protein . Again , the kimA suppressor mutations were accompanied by other mutations ( see Fig 2 ) . In the suppressor mutant GP3010 derived from the \\u0394dac \\u0394darA ktrC mutant , we found a 155 bp deletion that results in the truncation the global transcription regulator for catabolic genes and operons , CcpA , and in the conversion of the start codon of motP , encoding the Na+-coupled MotP flagellar stator protein to a stop codon . For the \\u0394dac \\u0394darB ktrC suppressor mutant , two aerobic suppressors were subjected to whole genome sequencing . In one strain ( GP2845 ) , we found a point mutation in the darA gene that results in a substitution of the conserved Val-100 residue by an alanine in the DarA protein . The second suppressor ( GP3094 ) carried mutations affecting the CodY transcription factor ( G146V substitution ) and the unknown SP\\u03b2 phage protein YonD ( D255H ) . In two additional suppressor mutants , we found identical frameshift mutations in darA that result in a truncation of the DarA protein after amino acid 64 . Finally , we also characterized an aerobic suppressor ( GP2847 ) derived from the anaerobic \\u0394dac \\u0394darB opuAB suppressor mutant . In this case , again a potassium channel subunit ( KtrB ) was inactivated as the result of a frameshift mutation . Moreover , this strain carried a frameshift mutation in the essential accA gene encoding a subunit of acetyl-CoA carboxylase that resulted in the formation of a truncation after amino acid 108 and mutations in the genes encoding the putative methylenomycin A exporter Mmr and the tRNA methylthiotransferase YmcB . These results again highlight the importance of potassium homeostasis for the adaptation of strains lacking c-di-AMP . Taken together , a B . subtilis strain lacking c-di-AMP is only able to grow under standard laboratory conditions if it acquires several suppressing mutations . The results of the two suppressor screens in the presence of glutamate and directly on complex medium demonstrate a distinct selective pressure under both conditions resulting in different sets of mutations that allow aerobic growth on complex medium . The importance of the initial loss of the c-di-AMP receptor proteins DarA and DarB for the direct adaptation to complex medium demonstrates that these proteins interfere with the growth of B . subtilis if they are present in the ligand-free apo-state . Indeed , apo-DarB was recently shown to trigger growth-inhibitory ( p ) ppGpp synthesis by the Rel protein [49 , 50] . For DarA , this is the first time that a phenotype for the corresponding mutant is reported . The repeated isolation of mutations affecting potassium uptake even in iterative cycles of suppressor screens highlights the severe toxicity of potassium for B . subtilis in the absence of c-di-AMP . In order to obtain deeper insights into the physiological role of c-di-AMP , we decided to study the impact of a lack of this second messenger on global gene expression by a transcriptome analysis as a complementary approach to the suppressor analysis . Since c-di-AMP has been implicated in the interplay of potassium and glutamate homeostasis , we analysed the global gene expression for the wild type strain B . subtilis 168 at low ( 0 . 1 mM ) and high ( 5 mM ) potassium concentrations and in the presence of ammonium and glutamate as the nitrogen source ( S1 Text ) . Moreover , we used the c-di-AMP free strain ( \\u0394dac ) GP2222 as well as the isogenic suppressor mutant GP2223 that is able to grow at 5 mM potassium ( see Fig 3 for the regulatory network and S1 Table ) . Strikingly , expression of several genes involved in fermentation and respiration was strongly reduced in the absence of c-di-AMP ( see S1 Table and S4A Fig for validation by quantitative RT-PCR ) . The ldh-lctP and cydABCD operons encoding lactate dehydrogenase and the lactate exporter as well as the terminal quinole oxidase , are repressed by the NADH-responsive transcription factor Rex [63 , 64] . The about 100-fold repression of these genes in the absence of c-di-AMP suggests that the NADH levels are reduced in the mutant . This conclusion is also supported by the increased expression ( seven-fold ) of the ndhF-ybcC operon ( see S1 Table ) which codes for a NADH dehydrogenase and thus also contributes to the oxidation of NADH2 to NAD [65] . Importantly , the ndhF gene and its downstream gene ybcC were affected in several of the suppressor mutants suggesting that these mutations counteract the increased expression of the conserved ndhF-ybcC operon . In addition to genes of the Rex regulon , genes of the SigO regulon that are involved in the response to acid stress [66] and several competence genes were severely reduced in the \\u0394dac mutant GP2222 . The strong reduction of competence gene expression in response to the absence of c-di-AMP suggests that this second messenger might be required for genetic competence and transformation in B . subtilis . To test this hypothesis , we attempted transformation of strain GP2222 using chromosomal DNA . No transformants were obtained , whereas the control strain 168 was efficiently transformable . Thus , the lack of c-di-AMP results in a loss of genetic competence as a result of reduced competence gene expression . It has been shown before that the expression of the high affinity potassium uptake systems KtrAB and KimA is repressed in the presence of potassium via a c-di-AMP sensitive riboswitch [20\\u201322] . In agreement with those results , these genes were most strongly repressed by potassium in our analysis in the wild type strain 168 . The expression of the kimA transporter gene was 112- and 17-fold repressed at 5 mM potassium in the presence of glutamate or ammonium , respectively; whereas the expression of the ktrAB channel operon was reduced 29- and 4-fold , respectively ( see S2 Table ) . As expected , the expression of both kimA and ktrAB is increased in the absence of c-di-AMP; however , both genes are still repressed by potassium ( eight- and five-fold , respectively ) , indicating a second , c-di-AMP independent mechanism of transcriptional regulation of these potassium transport systems ( see S1 Table and S4B Fig for validation by quantitative RT-PCR , see S12 Fig for a reporter analysis ) . The particular importance of potassium for the cell and for KimA as a major high-affinity transporter is highlighted by the fact that the kimA gene belongs to the most strongly expressed genes at 0 . 1 mM potassium ( position #50 in the presence of glutamate ) , and that it is even the most strongly expressed transporter in B . subtilis under these conditions ( see https://www . ncbi . nlm . nih . gov/geo/query/acc . cgi ? acc=GSE156738 for the full data set ) . Taken together , the global transcription analysis supported the idea that c-di-AMP is involved in multiple cellular functions . Moreover , the analysis confirmed a particular role of genes involved in controlling NADH homeostasis , as already suggested by the suppressor analysis and by the differential effects of aerobic and anaerobic conditions to allow suppressor formation of the strains lacking c-di-AMP . The analysis of suppressor mutants that were viable in the presence of glutamate or on complex medium identified several mutations that affect proteins involved in phospholipid biosynthesis , i . e . AccA , AccC , and PlsC ( see Figs 1 , 2 and S5 and Table 1 for an overview on lipid synthesis in B . subtilis ) . The accA and accC genes encode subunits of the essential acetyl-CoA carboxylase . Unexpectedly , a frameshift had occurred in the accA gene of strain GP2847 . Since malonyl-CoA synthesis is the essential first step in fatty acid and phospholipid biosynthesis , it is likely that this mutation can be intrinsically suppressed and thus does not result in a complete loss of AccA synthesis . The accA mutation isolated in the \\u0394dac yfkC* mutant results in an A229V substitution in the active site of the enzyme [67 , 68] ( see S6 Fig ) . For AccC , the mutation ( H298Y ) is located in the highly conserved active site motif of the enzyme ( S6 Fig ) . The localization of these mutations strongly suggests that the initial step of lipid biosynthesis , the formation of malonyl-CoA , is severely impaired in the suppressor mutants . PlsC is the acyl-ACP:1-acylglycerolphosphate acyltransferase that catalyzes the formation of phosphatidic acid in the synthesis of phospholipids . Interestingly , the plsC gene is essential for the growth of B . subtilis . In agreement with this essentiality , none of the three different mutations in the six independent mutants results in a frame shift or a deletion . Instead , residue L48 is replaced by a proline in three independently isolated mutants , A61 by a valine in two mutants , and P110 by serine in one mutant . All three residues are located in functionally important regions of the protein . L48 is close to the HXXXXD motif , which is part the active site of the enzyme . Similarly , A61 and P110 are in very close proximity to the active center of the enzyme [69] ( S7 Fig ) . The location of all three mutations in the immediate vicinity of the active center as well as the fact that the mutations affect conserved residues suggest that they result in a reduced PlsC activity , and thus in impaired phospholipid biosynthesis . Three of the suppressor mutants isolated in the presence of glutamate carry mutations affecting the mechanosensitive channel of small conductance , YfkC ( see Table 1 ) . Strikingly , all three independently isolated mutants carry precisely the same mutation that results in a R42W substitution in the protein ( see S8 Fig ) . This residue is located at the end of the first trans-membrane helix [70] and the mutation may affect the relative positioning of the trans-membrane helices 1 and 2 . Another striking feature is that this mutation is in all three cases accompanied by point mutations in the plsC gene ( see below ) . The presence of the same amino acid substitution in YfkC in all three strains suggested that this mutation resulted in a gain of function rather than in a loss of YfkC activity ( from here on , we designate the mutant allele yfkC* , the protein YfkC* ) . To address this question , we constructed \\u0394dac \\u0394yfkC and \\u0394dac yfkC* strains lacking all diadenylate cyclases and assayed the growth of these strains on minimal medium containing glutamate or ammonium as the nitrogen source at high and low potassium concentrations ( see Fig 4A ) . Both strains were viable when cultivated on plates containing ammonium and 0 . 1 mM potassium whereas they were unable to grow in the presence of glutamate or at the high potassium concentration . These observations indicate that neither the deletion of the yfkC gene nor yfkC* mutation alone were sufficient to allow suppression of the glutamate and potassium toxicity of the \\u0394dac mutant . To address this issue further , we attempted the isolation of suppressor mutants from the \\u0394dac strain either lacking yfkC or carrying the yfkC* allele in the presence of glutamate . No suppressor mutants could be isolated from the \\u0394dac \\u0394yfkC mutant , whereas two suppressor mutants were obtained from the \\u0394dac yfkC* mutant ( see Fig 1 ) . This observation supports the idea that the specific R42W substitution of YfkC* is a prerequisite for the adaptation of the c-di-AMP-free strain to growth in the presence of glutamate . Whole genome sequencing of the two glutamate-resistant suppressor mutants identified a mutation in accA in strain GP2850 ( see below ) . This mutation supports the requirement of paired mutations affecting yfkC and lipid biosynthesis . The second suppressor strain , GP3105 , carries mutations affecting the amino acid transporter YbeC , the CarB subunit of the carbamoyl-phosphate synthetase , the endonuclease MutL and the polyketide synthase PksJ . Among these mutations , the frameshift in the ybeC gene is likely the most relevant ( see below ) . These suppressor mutants were also tested for their growth in the presence of glutamate or increased potassium concentrations ( see Fig 4A ) . Both were viable in the presence of glutamate irrespective of the potassium concentration . However , the growth in the presence of glutamate was much better in the case of the yfkC* plsC ( L48P ) mutant GP2837 ( Fig 4A ) . Taken together , these results suggest that the yfkC* mutation in combination with the lipid biosynthetic or ybeC mutations is rather specific for the protection of the \\u0394dac mutant from glutamate toxicity . In the growth assay , we also included the \\u0394dac nhaK ( S187F ) mutant that has been isolated for resistance to potassium [21] . As expected , this strain grew at 5 mM potassium but was as sensitive to glutamate as the original \\u0394dac mutant , however we observed the formation of suppressor mutants in the presence of glutamate . As the NhaK allele used in this experiment is thought to exhibit increased potassium export activity [21] , it is tempting to speculate the mutant mechanosensitive channel YfkC* is able to export glutamate to overcome the toxicity of this amino acid . The requirement of the \\u0394dac yfkC* mutant for an additional mutation reducing lipid biosynthesis to allow growth in the presence of glutamate in several of the suppressor mutants suggests that the membrane properties are important for controlling cellular glutamate homeostasis . This conclusion is supported by the well-established functional interaction between mechanosensitive channels and lipid molecules [71 , 72] . It is tempting to speculate that the combination of altered lipid composition and the mutation in the trans-membrane helix of YfkC results in a change of channel properties that facilitates the export of glutamate by YfkC . To test this hypothesis , we determined the intracellular and extracellular glutamate concentrations in the wild type strain 168 , and in the isogenic \\u0394yfkC , yfkC* and yfkC* plsC* mutants ( Fig 4B and 4C ) . The wild type strain contained about 2 . 8 \\u03bcg glutamate per OD600 and ml , and the same glutamate concentration was detected in the \\u0394yfkC mutant . This is in good agreement with the observation that the deletion of the yfkC gene did not confer glutamate resistance to the \\u0394dac mutant . In contrast , the intracellular glutamate concentrations were reduced in the yfkC* mutant ( 1 . 7 \\u03bcg/OD600 and ml ) and even more so in the yfkC* plsC* double mutant ( 1 . 4 \\u03bcg/OD600 and ml ) . On the other hand , the glutamate concentration in the supernatant of the wild type strain and the \\u0394yfkC mutant was low ( 1 \\u03bcg/OD600 and ml ) , and a moderate increase to 1 . 3 \\u03bcg/OD600 and ml was observed in the presence of the yfkC* mutation . The extracellular glutamate concentration was most elevated in the yfkC* plsC* double mutant ( 2 . 3 \\u03bcg/OD600 and ml ) . These results support the idea that the point mutation in YfkC* is crucial for lowering the intracellular glutamate concentration by facilitating export of the amino acid . In agreement with previous findings on the functional interactions between mechanosensitive channels and lipid molecules [71 , 72] , the reduced lipid biosynthesis due to the PlsC* mutation further enhances glutamate export via YfkC* . The acquisition of suppressor mutations that provide resistance to glutamate to the \\u0394dac mutant was a rare event that took several days to occur ( see above ) . However , we observed the rapid appearance of glutamate-resistant suppressor mutants if the strain already carried a nhaK mutation that facilitates potassium export . To determine the requirements for glutamate resistance in more detail , we isolated a set of 16 new suppressor mutants ( see Fig 1 ) . Since the originally isolated suppressor mutant GP2842 carried a combination of mutations in nhaK and the ybeC gene encoding an amino acid transporter , we sequenced the ybeC allele in all glutamate-resistant suppressor mutants isolated from the \\u0394dac nhaK ( S187F ) ( from now on referred to as nhaK* and NhaK* for the gene and protein , respectively ) . Strikingly , all 16 strains carried mutations in ybeC . Among these mutations are frameshifts in ten strains , an insertion of 2 amino acids after residue 226 in one strain , and amino acid substitutions in the remaining five strains ( for details , see Table 2 ) . The high number of mutants with inactivated ybeC genes strongly suggests that the combination of NhaK* and loss of YbeC allows growth of the \\u0394dac mutant in the presence of glutamate . To test this hypothesis , we deleted the ybeC gene in the \\u0394dac mutant . The resulting strain , GP3054 , was unable to grow in the presence of glutamate , indicating that only the combination of the nhaK* and the ybeC mutations conferred resistance to glutamate to the \\u0394dac mutant . Three lines of evidence suggest that YbeC is the major glutamate transporter of B . subtilis: ( i ) We isolated seven independent mutants affected in ybeC in the initial screen for mutations conferring glutamate resistance to the \\u0394dac strain , ( ii ) we reproducibly isolated a large number of ybeC mutants based on the \\u0394dac nhaK* mutant , and ( iii ) YbeC is an amino acid transporter of the amino acid-polyamine-organocation ( APC ) superfamily . We have recently demonstrated that YbeC is the major serine transporter of B . subtilis [57] . It is well established that many amino acid transporters can take up multiple different amino acids . To test the possible role of YbeC in glutamate uptake , we first attempted functional complementation in E . coli that is unable to grow with glutamate as the single source of carbon and nitrogen due to the low activity of intrinsic glutamate transporters [73] . For this purpose , we transformed E . coli JM109 with plasmid pGP2987 that carries the ybeC gene or with the empty vector pWH844 [74] . The resulting transformants were tested for growth on minimal medium with glucose and ammonium or with glutamate as the only source of carbon and nitrogen ( see Fig 5A ) . Whereas both strains grew well with glucose and ammonium , the strain carrying the empty vector was unable to utilize glutamate . In contrast , the expression of the ybeC gene allowed E . coli to use glutamate as source of carbon and energy . These findings confirm that YbeC indeed is a glutamate transporter . The protein and the gene were therefore renamed AimA and aimA , respectively ( amino acid importer A ) . It is very striking that our suppressor screens for glutamate-resistant mutants often identified AimA but never GltT or GltP , the two described glutamate transporters of B . subtilis . Therefore , we analyzed the contributions of these proteins to glutamate uptake by comparing the growth of strains expressing only one of the three proteins and a strain lacking all of them ( see Fig 5B ) . All tested strains grew well in the presence of ammonium as the nitrogen source , reflecting their ability to synthesize glutamate . The strain GP3071 lacking all three presumptive glutamate transporters was only viable at high glutamate concentrations but not at 1 mM or 5 mM . This demonstrates that the bacteria need to transport glutamate if no ammonium is available for its synthesis . Moreover , it demonstrates that efficient glutamate transport is not possible in the absence of the three proteins . GP2818 expressing GltT grew at the three tested glutamate concentrations confirming its role as glutamate transporter . The strain GP2825 that expressed AimA as the only glutamate transporter did not grow at the lowest tested glutamate concentration ( 1 mM ) , but this strain was able to grow at 5 mM and 20 mM glutamate suggesting that AimA might be a low-affinity glutamate transporter . In contrast , the strain expressing GltP was only viable at highest glutamate concentration as observed for strain GP3071 lacking all three proteins . This suggests that GltP plays only a very minor , if any role , in glutamate uptake , and that yet another protein can transport glutamate at high concentrations . To study the activities of AimA and GltT in glutamate transport in more detail , we assayed the growth of strains expressing only one of these transporters at different glutamate concentrations ( see Fig 5C and 5D ) . Moreover , we performed this experiment in the presence of 0 . 1 mM and 5 mM KCl in the medium to see whether potassium has an effect on glutamate uptake as it has been observed with an activating effect of glutamate on potassium uptake by KtrCD [41] . As control , we used strain GP3071 that lacks AimA , GltT , and GltP . The results were used to calculate apparent KS values that reflect the affinities of the transporters for glutamate . For GltT , we observed KS values of 0 . 3 mM and 0 . 06 mM in the presence of 0 . 1 and 5 mM potassium , respectively . These results are in good agreement with the description of GltT as a high-affinity glutamate transporter [75] . Moreover , they show that the affinity of GltT for glutamate is five-fold increased in the presence of high potassium concentrations . For AimA , we determined apparent KS values of 3 . 2 and 2 . 3 mM in the presence of 0 . 1 and 5 mM potassium , respectively . In good agreement with the drop dilution assay , this suggests that AimA is a low-affinity glutamate transporter , and that the affinity of AimA is not affected by the external potassium concentration . The strain GP3071 lacking all known and suspected glutamate transporters grew only at high glutamate concentrations . This suggests the presence of an additional transporter with very low affinity for glutamate ( apparent KS values of 12 . 3 and 13 . 8 mM in the presence of 0 . 1 and 5 mM potassium , respectively ) . Thus , AimA is the major glutamate transporter under standard growth conditions when glutamate is not limiting in the medium . The role of AimA as the major glutamate transporter is in excellent agreement with the common isolation of glutamate-resistant \\u0394dac aimA mutants whereas no gltT mutants could be isolated . Indeed , the \\u0394dac \\u0394gltT mutant was unable to grow in the presence of glutamate , but again a suppressor mutant , GP3093 , could be isolated ( see Fig 1 ) . Not surprisingly , this strain carries a mutation in aimA ( Leu-419 Pro ) . Moreover , this strain carries frame-shift mutations in ndhF and fliK . The paired occurrence of aimA and ndhF suppressor mutations has been observed several times independently ( see Table 1 ) . To get further insights into gltP , gltT and aimA , we determined the expression of these genes based on the transcriptome analysis under the relevant conditions ( see Fig 5E ) . The expression of gltP was very low under all tested conditions , which is in agreement with the observation that GltP does not play a significant role in glutamate uptake . The expression of both GltT and AimA was significant . In the presence of glutamate in the medium , the expression was reduced five- and two-fold for AimA and GltT , respectively , at the high potassium concentration ( 5 mM ) . In the absence of glutamate , aimA expression did not respond to the supply of potassium whereas the expression of gltT was about two-fold increased at the increased potassium concentration . Thus , if glutamate is limiting , both the expression of gltT and the affinity of the GltT protein for glutamate are increased by potassium . To make the picture of the requirements for a \\u0394dac mutant to tolerate glutamate complete , we also adapted a \\u0394dac \\u0394aimA mutant to the presence of glutamate . As described above , this mutant was not viable in the presence of glutamate; however , we could isolate three glutamate-resistant suppressor mutants ( see Fig 1 ) . The mutations in these strains were identified by whole genome sequencing . Interestingly , all three suppressor mutants had mutations affecting the essential translation elongation factor G , in two strains ( GP3101 and GP3103 ) the highly conserved Ala-579 was replaced by a Val ( see S9 Fig ) . Ala-579 is located in immediate vicinity of a loop ( Loop II ) that is required for tRNA translocation in the ribosome [76 , 77] , suggesting that the mutation interferes with translation . In the third strain ( GP3102 ) we found an A21T substitution . This residue is the immediate neighbour of Asp-20 , which binds the Mg2+ ion in the active site of the protein [78] . The presence of substitutions in highly conserved and functionally important regions of FusA in all three suppressors suggests that reduced translation efficiency helps the \\u0394dac \\u0394aimA mutant to adapt to the presence of glutamate . In addition to the mutations in fusA each strain had a distinct additional mutation . Strain GP3101 had a frameshift mutation in the yqeG gene encoding a putative HAD superfamily phosphatase [79] , whereas the two other strains carried point mutations affecting potassium homeostasis ( nhaK and ktrC for GP3102 and GP3103 , respectively ) again highlighting the toxicity of potassium in the presence of glutamate . Moreover , GP3102 carried amino acid substitutions affecting SigA , the housekeeping sigma factor ( F281V ) and MrpA ( P397L ) , a subunit of the sodium exporter of B . subtilis , and GP3103 had a point mutation affecting the quasi-essential DNA topoisomerase 1 TopA ( K13N ) . The analysis of these strains for growth in the presence of glutamate with 0 . 1 or 5 mM potassium revealed that all suppressors were viable at both potassium concentrations , however , the suppression was most efficient if the yqeG or nhaK genes were affected in addition to aimA ( see S10 Fig ) . \\n Cyclic di-AMP is essential f or many bacteria that produce this second messenger; however , the reasons behind this essentiality have not been fully understood . In this study , we used the Gram-positive model organism B . subtilis to gain further insights into the critical functions of c-di-AMP . Based on a variety of distinct suppressor screens to adapt a B . subtilis strain lacking c-di-AMP to either the presence of glutamate or to growth on complex medium , we can conclude that the control of potassium homeostasis is the major bottleneck that limits growth of the mutant under both conditions . This is in good agreement with ( i ) the large variety of c-di-AMP target proteins and RNA molecules that are involved in the uptake and export of potassium in B . subtilis and other bacteria [11 , 13 , 20 , 21 , 23 , 31 , 34 , 45 , 80] , ( ii ) the fact that the intracellular c-di-AMP levels seem to report the extracellular potassium concentrations [18 , 21 , 37] , and the isolation of suppressor mutants affecting potassium homeostasis in response to altered cellular c-di-AMP levels also in other bacteria [18 , 37] . However , our study also clearly demonstrates that potassium is not the only problem for growth of B . subtilis in the absence of c-di-AMP since the presence of mutations that reduce potassium uptake or facilitate its export is not sufficient to overcome the toxicity of glutamate or complex medium . Suppressor studies with L . monocytogenes and S . aureus mutants lacking c-di-AMP revealed that those mutants often had acquired mutations in transporters for osmoprotectants such as glycine betaine indicating that intoxication by compatible solutes is the main reason for essentiality of c-di-AMP in these latter bacteria . The idea of a major role for c-di-AMP in osmoprotection rather than in potassium homeostasis in these pathogenic bacteria is also supported by the observation that potassium has only a minor impact on a L . monocytogenes strain lacking the only diadenylate cyclase [80] . Thus , while general features of c-di-AMP signaling are conserved in different bacteria , the specific roles and mechanisms may differ even between closely related bacteria . Potassium and glutamate are the most abundant cation and anion , respectively , in every living cell , and the intracellular concentrations of the two ions need to be balanced [81] . In B . subtilis , c-di-AMP seems to play an important role in achieving this balance . The concentrations of the nucleotide respond both to the potassium and the nitrogen source availability , they are high at high potassium concentrations and in the presence of glutamate but not ammonium or glutamine [15 , 21 , 40] . Our work supports the idea of a close physiological integration of potassium and glutamate homeostasis: Both potassium and glutamate inhibit growth of the \\u0394dac mutant independently of each other . The accumulation of amino acids has also been shown to be a problem for the \\u0394dac mutants of L . monocytogenes and S . aureus . As presented in this study , in both organisms amino acid transporters were often inactivated in suppressor mutants that were capable of growing on complex medium despite the lack of c-di-AMP: In L . monocytogenes , several suppressor mutants carried mutations inactivating the OppABCD oligopeptide transporter [39] whereas the characterization of S . aureus suppressor mutants resulted in the identification of the AlsT glutamine transporter , thus indicating that glutamine rather than glutamate is toxic for the S . aureus \\u0394dac mutant [39 , 42] . Again , these differences between the related organisms support the idea that c-di-AMP has global overarching functions in the different bacteria , but these can be put into practice differently . It had been established previously that the accumulation of glutamate can be toxic for B . subtilis [56 , 82] . In the case of the \\u0394dac mutant , our work has identified two essential requirements , i . e . the reduction of the intracellular glutamate and potassium concentrations ( see Fig 6 for an overview ) . Since glutamate stimulates potassium uptake by the KtrCD channel [41] we can conclude that the increased potaasium uptake is the major reason for the toxicity of glutamate for the \\u0394dac mutant . Our work has unraveled three ways to reduce the intracellular glutamate concentrations: ( i ) Glutamate can be efficiently degraded upon decryptification of the otherwise inactive gudB gene encoding the major constitutive glutamate dehydrogenase of B . subtilis . Such a well established gudB+ mutation [55] was found in the suppressor mutants GP2841 and GP3473 . ( ii ) The uptake of glutamate can be prevented , and this was indeed observed in many suppressor mutants . Surprisingly , the recently characterized serine transporter AimA ( YbeC ) was identified as the main glutamate transporter rather than the previsously studied GltT [75] . Even the \\u0394dac mutant lacking gltT was unable to grow in the presence of glutamate unless AimA had been inactivated ( see Fig 1 ) . This observation as well as our detailed kinetic analyses revealed that AimA is the major low affinity transporter for glutamate . Moreover , in the absence of c-di-AMP , the aimA gene is the most strongly expressed gene encoding a glutamate transporter ( see Fig 5E ) . It is interesting to note that the expression of aimA responds to the availability of c-di-AMP ( see Fig 5B ) , however , the mechanism responsible for this control has yet to be uncovered . We have previously demonstrated that a potassium channel ( KtrCD ) is directly activated and thus converted from a low- to a high-affinity uptake system in the presence of glutamate [41] . Here , we show that similarly the affinity of the high affinity glutamate transporter GltT is controlled by the presence of potassium: At high potassium concentrations , the affinity of GltT for glutamate is increased fivefold . Thus , the uptake systems for the two most abundant ions in the cell can respond to the presence of the other ion to keep their intracellular concentrations balanced . ( iii ) In addition to mutations activating glutamate degradation or preventing glutamate uptake , we found several mutants with paired mutations affecting lipid biosynthesis and the mechanosensitive channel of small conductivity YfkC . Moreover , the \\u0394dac yfkC* mutant expressing the altered channel protein had to acquire additional mutations affecting either glutamate uptake ( aimA ) or lipid biosynthesis ( accA ) to tolerate the otherwise toxic glutamate . We suggest that the altered YfkC* protein in conjunction with altered membrane properties facilitates the export of glutamate . This idea is supported by the observation that YfkC needs a gain-of-function mutation to bypass glutamate toxicity . Moreover , MscS-like mechanosensitive channels have been shown to export glutamate in Corynebacterium glutamicum [83 , 84] . In this bacterium , a gain of function mutation affecting this channel results in constitutive glutamate secretion [85] . Finally , specific membrane properties in C . glutamicum such as reduced lipid amounts facilitate glutamate export by the MscS-like channel ( see [86] for review ) . Our data that demonstrate reduced intracellular and increased extracellular glutamate concentrations in the yfkC* plsC* double mutant provides strong evidence for the idea that the combination of mutations reducing lipid biosynthesis and that affect the mechanosensitive channel YfkC allow glutamate export in B . subtilis , thus overcoming the toxic effect of this amino acid . Three lines of evidence suggest that respiration is a major bottleneck for B . subtilis in the absence of c-di-AMP . First , many suppressors isolated in the presence of glutamate had mutations that inactivate the ndhF gene encoding a subunit of a putative NADH dehydrogenase or the downstream ybcC gene of unknown function . It is tempting to speculate that the two proteins form a complex that catalyzes the oxidation of NADH2 . Second , when we used complex medium to isolate suppressor mutants , this was initially only possible in the absence of oxygen if respiration activity was low . This is paralleled by the observation that the S . aureus \\u0394dac is viable in the absence but not in the presence of oxygen [40] . Finally , the lack of c-di-AMP results in an enhanced expression of the ndhF-ybcC operon and reduced intracellular NADH2 levels as indicated by the strong repression of the genes of the Rex regulon in the \\u0394dac mutant . Although it is not yet understood how precisely respiration interferes with the growth of the \\u0394dac mutant , it is tempting to speculate that the proton motive force generated by respiration plays a key role: the major potassium transporter KimA is actually a proton:potassium symporter [62] , and potassium uptake by the KtrAB and KtrCD channels is directly driven by the proton motive force [87] . Thus , a reduced respiration lowers the proton motive force and may thus limit the uptake of potassium , the major growth-limiting factor for the B . subtilis \\u0394dac mutant . The adaptation of the \\u0394dac mutant to complex medium confirmed the toxicity of potassium . Surprisingly , none of the suppressors isolated on complex medium carried mutations specifically related to glutamate . The acquisition of suppressor mutations that allow growth under anaerobic conditions on complex medium was only possible when one of the c-di-AMP binding signal transduction proteins DarA or DarB was absent ( see Fig 2 ) . This indicates that these proteins inhibit growth in their c-di-AMP-free apo form . It is possible that DarA and/or DarB have functions related to glutamate metabolism , and that the deletions of either of the corresponding genes already covers the aspect of glutamate homeostasis . For DarB it has very recently been shown that the apo protein stimulates the synthesis of ( p ) ppGpp by the alarmone synthetase Rel both in B . subtilis and L . monocytogenes [49 , 50] , and excessive ( p ) ppGpp synthesis limits growth of both organisms [39 , 49 , 50] . For DarA , no function has been identified so far . It is interesting to note , however , that DarA seems to be even more inhibitory than DarB since the \\u0394dac \\u0394darB mutants tend to acquire additional mutations affecting DarA , suggesting that DarA might be involved in the control of glutamate metabolism . Taken together , our study supports the idea that c-di-AMP plays a central role in the physiology of B . subtilis . Moreover , by comparing the results obtained with suppressor screens in closely related but distinct bacteria , it becomes clear that the overall themes of c-di-AMP signaling are similar in different bacteria whereas the precise mechanisms are not . While some of the functions of c-di-AMP in B . subtilis such as the control of potassium homeostasis are already well understood , there remain many open questions for future research such as the link between c-di-AMP and lipid biosynthesis and the function of the PII-like signal transduction protein DarA . The work described here provides a solid ground for further investigation . \\n E . coli DH5\\u03b1 [88] was used for cloning and for the expression of recombinant proteins . E . coli JM109 ( Promega ) was used for glutamate transporter complementation assays . All B . subtilis strains used in this study are derivatives of the laboratory strain 168 . They are listed in Table 2 . B . subtilis was grown in Luria-Bertani ( LB ) or in sporulation ( SP ) medium [88 , 89] . For the assay of potassium and glutamate toxicity , B . subtilis was cultivated in MSSM medium [21] . In this modified SM medium KH2PO4 was replaced by NaH2PO4 and KCl was added as indicated . The media were supplemented with ampicillin ( 100 \\u03bcg/ ml ) , kanamycin ( 10 and 50 \\u03bcg/ ml for B . subtilis and E . coli , respectively ) , chloramphenicol ( 5 \\u03bcg/ ml ) , tetracyclin ( 12 . 5 \\u03bcg/ ml ) , spectinomycin ( 150 \\u03bcg/ ml ) or erythromycin and lincomycin ( 2 and 25 \\u03bcg/ ml , respectively ) if required . For identification of suppressor mutations that rescue the growth of the c-di-AMP lacking strain GP2222 , a suppressor screen was set up . The same set-up was performed for the suppressor screens with GP2223 , GP2814 , GP3054 , and GP2259 ( see Fig 1 ) . The respective strain was plated on MSSM minimal plates in the presence of ammonium and 0 . 1 mM KCl . After incubation for 2\\u20133 days , cell material was scraped from the plates and washed three times in MSSM basal salts solution . These cells were either plated on MSSM minimal plates ( Na-Glutamate , 0 . 1 mM KCl ) or used for inoculation of 10 ml MSSM minimal medium ( Na-Glutamate , 0 . 1 mM KCl ) . The bacteria were then incubated at 42\\u00b0C for 3\\u20134 days . As soon as suppressors appeared on the plates , they were picked and re-streaked three times . For liquid cultures , as far as growth could be observed , they were plated . Suppressors were picked and re-isolated again . For the suppressor screen on complex medium , GP2222 , GP2420 , and GP2779 were plated on LB plates . The plates were incubated at 37\\u00b0C either under standard conditions ( aerobic ) or in an anaerobic jar to create an anaerobic environment . As soon as suppressors appeared , they were picked and re-isolated three times . For the two step adaptation to complex medium , suppressor mutants previously isolated in the anaerobic screen were plated on LB plates and incubated at 37\\u00b0C under aerobic conditions . As soon as new suppressors appeared , they were picked and re-isolated three times . All isolated mutants were analyzed by whole-genome sequencing ( see below ) . Amylase activity was detected on plates containing nutrient broth ( 7 . 5 g/liter ) , 17 g of Bacto agar per liter ( Difco ) , and 5 g of hydrolyzed starch per liter ( Connaught ) . The ability to degrade starch was detected by sublimating iodine onto the plates . For quantitative determination of lacZ expression in B . subtilis , cells were grown in MSSM medium with the nitrogen source and potassium concentration as indicated and harvested in the exponential phase . \\u03b2-Galactosidase activity was determined with cell extracts obtained by lysozyme treatment as described previously [89] . One unit of \\u03b2-galactosidase is defined as the amount of enzyme that produces 1 nmol of \\u03bf-nitrophenol per minute at 28\\u00b0C . Experiments were performed in triplicate . To assay growth of B . subtilis mutants at different potassium concentrations , the bacteria were inoculated in LB medium and precultured in MSSM medium with 0 . 1 mM KCl . The cultures were grown until exponential phase , harvested , washed three times in MSSM basal salts solution before the OD600 was adjusted to 1 . 0 . Dilution series were then pipetted onto MSSM plates with ammonium or glutamate and 0 . 1 or 5 mM potassium . Complementation in E . coli was assayed by transformation of strain JM109 that is unable to grow with glutamate as the single source of carbon and nitrogen . For this purpose , the strain was transformed with the complementation plasmid pGP2987 ( aimA ) and the empty vector control pWH844 . Growth of the transformants was assessed on M9 minimal medium plates containing either ammonium and glucose or glutamate as carbon and nitrogen source [73] . Transformation of E . coli and plasmid DNA extraction were performed using standard procedures [88] . All commercially available plasmids , restriction enzymes , T4 DNA ligase and DNA polymerases were used as recommended by the manufacturers . Chromosomal DNA of B . subtilis was isolated as described [89] . B . subtilis was transformed with plasmid and genomic DNA according to the two-step protocol [89] . To identify the mutations in the suppressor mutants , their genomic DNA was subjected to whole-genome sequencing [92] . Briefly , the reads were mapped on the reference genome of B . subtilis 168 ( GenBank accession number: NC_000964 ) [93] using the Geneious software package ( Biomatters Ltd . , New Zealand ) [94] . Single nucleotide polymorphisms were considered as significant when the total coverage depth exceeded 25 reads with a variant frequency of \\u226590% . All identified mutations were verified by PCR amplification and Sanger sequencing . Gene deletion was achieved by transformation of B . subtilis 168 with a PCR product constructed using oligonucleotides to amplify DNA fragments flanking the target genes and an appropriate intervening resistance cassette as described previously [95] . The mutation yfkC-R42W was introduced by amplification of regions containing and flanking the mutation from strain GP2837 , respectively , and a kanamycin resistance cassette was introduced downstream of yfkC in the non-coding region between yfkC and yfkD ( terminator region of both genes present ) . The integrity of the regions flanking the integrated resistance cassette was verified by sequencing PCR products of about 1 , 000 bp amplified from chromosomal DNA of the resulting mutant strains . Construction of a reporter fusion of the kimA promoter region with the promoterless lacZ gene was done using the plasmid pAC6 [96] . The promoter fragment was cloned between the EcoRI and BamHI sites of pAC6 . The resulting plasmid was pGP2912 . The plasmid was linearized with ScaI and transformed into B . subtilis 168 for chromosomal integration into the amyE locus . For E . coli complementation assays , the aimA gene was amplified using the primer pair LK167 ( 5\\u2019 AAAGGATCCATGAATCAATTGCATCGAAGAATGGGAACGTTTT ) / AK324 ( 5\\u2019 TTTGTCGACTTATTCTTTTCCGGCAGCAGCTTCTG ) and cloned between the BamHI and SalI sites of the expression vector pWH844 [74] . The resulting plasmid was pGP2987 . The growth characteristics of B . subtilis glutamate transporter mutants were used to determine the single glutamate transporter kinetics . The mutants were either positive for gltT ( \\u0394gltP::cat \\u0394aimA::kan ) or aimA ( \\u0394gltT::kan \\u0394gltP::cat ) or lacked both ( \\u0394gltT::kan \\u0394aimA::phleo \\u0394gltP::cat ) . The nitrogen source was used as the limiting factor , so that transport of glutamate was the essential factor for growth . The bacteria were inoculated in LB medium and precultured in MSSM medium ( ammonium ) with 0 . 1/5 mM KCl . The cultures were grown until exponential phase and the cells were washed three times in MSSM basal salts solution . Afterwards , the cells were adjusted to OD600 1 . 0 and used to inoculate a 96 well plate ( Microtest Plate 96 Well , F , Sarstedt ) containing the MSSM medium with the respective glutamate and potassium concentrations . The growth was tracked in an Epoch 2 Microplate Spectrophotometer ( BioTek Instruments ) at 37\\u00b0C with linear shaking at 237 cpm ( 4 mm ) for 20 h , and optical density at 600 nm was measured in 10 min intervals . The exponential growth phase was used to determine the growth rate \\u03bc [h-1] . \\u03bc was calculated from t1 ( early exponential phase ) and t2 ( late exponential phase ) and the corresponding OD1 and OD2 values . The resulting growth rates were then plotted against the glutamate concentrations . This allowed fitting to the Monod equation and calculation of Vmax ( h-1 ) and the apparent KS ( mM glutamate ) using the solver tool of Excel 2012 ( Microsoft ) . Experiments were repeated with three biological replicates . Bacterial cells were cultivated in MSSM minimal medium with ammonium and 0 . 1 mM KCl until late exponential growth phase . 4 ml of each culture were harvested by filtration as described previously [97] . The filter was washed three times with 0 . 9% NaCl and transferred to 4 ml extraction solution ( 60% ethanol containing the internal 15N L-glutamic acid standard ) and stored over night at -20\\u00b0C . The extraction of metabolites and the derivatization was performed as described previously [92] . For the analysis of the medium , the cells were cultivated in the same medium until late exponential growth phase and harvested by centrifugation ( 8 , 500 rpm , 10 min ) . 100 \\u03bcl of the supernatant were used for further analysis . 15N L-glutamic acid standard was added and the sample evaporated by nitrogen stream . The sample was dissolved in 15 \\u03bcl Acetonitrile and 15 \\u03bcl of N-methyl-N- ( trimethylsilyl ) trifluoroacetamide was added for derivatization . Analysis by GC-MS was performed with previously used equipment and settings [98] . Wild type and the c-di-AMP-deficient strains GP2222 \\u0394dac and GP2223 \\u0394dac nhaK-S187F were grown in MSSM medium with ammonium or glutamate and low ( 0 . 1 mM ) or high ( 5 mM ) potassium concentrations . The strains were harvested by centrifugation ( 10 . 397 \\u00d7 g , 1 min , 4\\u00b0C ) at mid exponential phase ( OD600 of 0 . 4\\u20130 . 6 ) . A total of two independent biological replicates were included . The pellets were frozen immediately in liquid nitrogen and stored at \\u221280\\u00b0C . Isolation of the total RNA was done as described previously [99 , 100] , and the quality of the RNA preparations was assessed by means of an Agilent 2100 Bioanalyzer according to the manufacturer\\u2019s instructions . 5 \\u03bcg of total RNA were used for cDNA synthesis . The synthesis and fluorescence labeling of cDNA followed a strand-specific method using the FairPlay III Microarray Labeling Kit ( Agilent Technologies , Santa Clara , CA , USA ) and actinomycin D ( Calbiochem ) [101] . 200 ng of Cy3-labeled cDNA were hybridized to the microarray following Agilent\\u2019s hybridization , washing and scanning protocol ( One-Color Microarray-based Gene Expression Analysis , version 5 . 5 ) . Data were extracted and processed using the Feature Extraction software ( version 11 . 5 . 1 . 1 ) . An aggregated expression value was computed for each annotated coding sequence and previously identified RNA feature [100] . Gene-level intensities were scaled based on the intensity values of ten different in vitro-synthesized transcripts contained in the One Color RNA Spike-In kit ( Agilent Technologies ) in order to account for technical variation associated with sample processing . Genes with at least 2 . 5-fold difference in expression levels of the wild type at the different conditions or between wild type and GP2222 mutant were considered significantly affected . The graphical presentation of the results was generated using GraphPad Prism version 8 . 0 . 0 for Windows , GraphPad Software , San Diego , California USA , www . graphpad . com ( see S11 Fig ) . To analyze the regulatory network , we compared the expression levels of the wild type strain and the GP2222 mutant at ammonium 0 . 1 mM KCl . The genes were clustered in operons according to their genetic localization , as described in SubtiWiki [51] . Additionally , gathered operons were grouped by their corresponding documented regulator/s and metabolism . The visual representation of the regulatory network was generated with Cytoscape and GIMP softwares [102 , 103] . For RNA isolation , the cells were grown in MSSM minimal medium containing ammonium or glutamate , and 0 . 1 mM or 5 mM KCl to an OD600 of 0 . 4 to 0 . 6 and harvested . Preparation of total RNA was carried out as described previously [104] . cDNAs were synthesized using a One-Step reverse transcription-PCR ( RT-PCR ) kit ( Bio-Rad ) [95] . Quantitative RT-PCR ( qRT-PCR ) was carried out on an iCycler instrument ( Bio-Rad ) following the manufacturer's instructions . The primers used for amplification are listed in S3 Table . The alaS and gyrA genes were used as internal controls , as their expression has been shown to be stable [105] . Data analysis and the calculation of expression ratios as fold changes were performed as described previously [95] . qRT-PCR experiments were performed in triplicates .\"\n        ],\n        \"semantic_type\": \"\",\n        \"description\": \"\"\n      }\n    },\n    {\n      \"column\": \"headings\",\n      \"properties\": {\n        \"dtype\": \"object\",\n        \"semantic_type\": \"\",\n        \"description\": \"\"\n      }\n    },\n    {\n      \"column\": \"keywords\",\n      \"properties\": {\n        \"dtype\": \"object\",\n        \"semantic_type\": \"\",\n        \"description\": \"\"\n      }\n    },\n    {\n      \"column\": \"id\",\n      \"properties\": {\n        \"dtype\": \"string\",\n        \"num_unique_values\": 142,\n        \"samples\": [\n          \"journal.pcbi.1010477\",\n          \"journal.pcbi.1008614\",\n          \"journal.pgen.1009092\"\n        ],\n        \"semantic_type\": \"\",\n        \"description\": \"\"\n      }\n    }\n  ]\n}",
              "type": "dataframe",
              "variable_name": "dataPlosTest"
            },
            "text/html": [
              "\n",
              "  <div id=\"df-1d66d9bd-6192-4b2f-97b0-246242e252e1\" class=\"colab-df-container\">\n",
              "    <div>\n",
              "<style scoped>\n",
              "    .dataframe tbody tr th:only-of-type {\n",
              "        vertical-align: middle;\n",
              "    }\n",
              "\n",
              "    .dataframe tbody tr th {\n",
              "        vertical-align: top;\n",
              "    }\n",
              "\n",
              "    .dataframe thead th {\n",
              "        text-align: right;\n",
              "    }\n",
              "</style>\n",
              "<table border=\"1\" class=\"dataframe\">\n",
              "  <thead>\n",
              "    <tr style=\"text-align: right;\">\n",
              "      <th></th>\n",
              "      <th>article</th>\n",
              "      <th>headings</th>\n",
              "      <th>keywords</th>\n",
              "      <th>id</th>\n",
              "    </tr>\n",
              "  </thead>\n",
              "  <tbody>\n",
              "    <tr>\n",
              "      <th>0</th>\n",
              "      <td>Lung-resident ( LR ) mesenchymal stem and stro...</td>\n",
              "      <td>[Abstract, Introduction, Results, Discussion, ...</td>\n",
              "      <td>[immune system, medical conditions, molecular ...</td>\n",
              "      <td>journal.ppat.1009789</td>\n",
              "    </tr>\n",
              "    <tr>\n",
              "      <th>1</th>\n",
              "      <td>Visceral leishmaniasis ( VL ) is endemic in So...</td>\n",
              "      <td>[Abstract, Introduction, Methods, Results, Dis...</td>\n",
              "      <td>[neonates, clinical laboratory sciences, trans...</td>\n",
              "      <td>journal.pntd.0007992</td>\n",
              "    </tr>\n",
              "    <tr>\n",
              "      <th>2</th>\n",
              "      <td>A high burden of Salmonella enterica subspecie...</td>\n",
              "      <td>[Abstract, Introduction, Methods, Results, Dis...</td>\n",
              "      <td>[pathogens, medical conditions, taxonomy, bact...</td>\n",
              "      <td>journal.pntd.0010704</td>\n",
              "    </tr>\n",
              "    <tr>\n",
              "      <th>3</th>\n",
              "      <td>Severe Acute Respiratory Syndrome Coronavirus-...</td>\n",
              "      <td>[Abstract, Introduction, Results, Discussion, ...</td>\n",
              "      <td>[pathogens, amniotes, medical conditions, bind...</td>\n",
              "      <td>journal.ppat.1010691</td>\n",
              "    </tr>\n",
              "    <tr>\n",
              "      <th>4</th>\n",
              "      <td>Many fungal species utilize hydroxyderivatives...</td>\n",
              "      <td>[Abstract, Introduction, Results and discussio...</td>\n",
              "      <td>[taxonomy, proteins, chemistry, genetics, enzy...</td>\n",
              "      <td>journal.pgen.1009815</td>\n",
              "    </tr>\n",
              "  </tbody>\n",
              "</table>\n",
              "</div>\n",
              "    <div class=\"colab-df-buttons\">\n",
              "\n",
              "  <div class=\"colab-df-container\">\n",
              "    <button class=\"colab-df-convert\" onclick=\"convertToInteractive('df-1d66d9bd-6192-4b2f-97b0-246242e252e1')\"\n",
              "            title=\"Convert this dataframe to an interactive table.\"\n",
              "            style=\"display:none;\">\n",
              "\n",
              "  <svg xmlns=\"http://www.w3.org/2000/svg\" height=\"24px\" viewBox=\"0 -960 960 960\">\n",
              "    <path d=\"M120-120v-720h720v720H120Zm60-500h600v-160H180v160Zm220 220h160v-160H400v160Zm0 220h160v-160H400v160ZM180-400h160v-160H180v160Zm440 0h160v-160H620v160ZM180-180h160v-160H180v160Zm440 0h160v-160H620v160Z\"/>\n",
              "  </svg>\n",
              "    </button>\n",
              "\n",
              "  <style>\n",
              "    .colab-df-container {\n",
              "      display:flex;\n",
              "      gap: 12px;\n",
              "    }\n",
              "\n",
              "    .colab-df-convert {\n",
              "      background-color: #E8F0FE;\n",
              "      border: none;\n",
              "      border-radius: 50%;\n",
              "      cursor: pointer;\n",
              "      display: none;\n",
              "      fill: #1967D2;\n",
              "      height: 32px;\n",
              "      padding: 0 0 0 0;\n",
              "      width: 32px;\n",
              "    }\n",
              "\n",
              "    .colab-df-convert:hover {\n",
              "      background-color: #E2EBFA;\n",
              "      box-shadow: 0px 1px 2px rgba(60, 64, 67, 0.3), 0px 1px 3px 1px rgba(60, 64, 67, 0.15);\n",
              "      fill: #174EA6;\n",
              "    }\n",
              "\n",
              "    .colab-df-buttons div {\n",
              "      margin-bottom: 4px;\n",
              "    }\n",
              "\n",
              "    [theme=dark] .colab-df-convert {\n",
              "      background-color: #3B4455;\n",
              "      fill: #D2E3FC;\n",
              "    }\n",
              "\n",
              "    [theme=dark] .colab-df-convert:hover {\n",
              "      background-color: #434B5C;\n",
              "      box-shadow: 0px 1px 3px 1px rgba(0, 0, 0, 0.15);\n",
              "      filter: drop-shadow(0px 1px 2px rgba(0, 0, 0, 0.3));\n",
              "      fill: #FFFFFF;\n",
              "    }\n",
              "  </style>\n",
              "\n",
              "    <script>\n",
              "      const buttonEl =\n",
              "        document.querySelector('#df-1d66d9bd-6192-4b2f-97b0-246242e252e1 button.colab-df-convert');\n",
              "      buttonEl.style.display =\n",
              "        google.colab.kernel.accessAllowed ? 'block' : 'none';\n",
              "\n",
              "      async function convertToInteractive(key) {\n",
              "        const element = document.querySelector('#df-1d66d9bd-6192-4b2f-97b0-246242e252e1');\n",
              "        const dataTable =\n",
              "          await google.colab.kernel.invokeFunction('convertToInteractive',\n",
              "                                                    [key], {});\n",
              "        if (!dataTable) return;\n",
              "\n",
              "        const docLinkHtml = 'Like what you see? Visit the ' +\n",
              "          '<a target=\"_blank\" href=https://colab.research.google.com/notebooks/data_table.ipynb>data table notebook</a>'\n",
              "          + ' to learn more about interactive tables.';\n",
              "        element.innerHTML = '';\n",
              "        dataTable['output_type'] = 'display_data';\n",
              "        await google.colab.output.renderOutput(dataTable, element);\n",
              "        const docLink = document.createElement('div');\n",
              "        docLink.innerHTML = docLinkHtml;\n",
              "        element.appendChild(docLink);\n",
              "      }\n",
              "    </script>\n",
              "  </div>\n",
              "\n",
              "\n",
              "<div id=\"df-4eaa2c08-b8bd-45ae-b794-5d35e06fef86\">\n",
              "  <button class=\"colab-df-quickchart\" onclick=\"quickchart('df-4eaa2c08-b8bd-45ae-b794-5d35e06fef86')\"\n",
              "            title=\"Suggest charts\"\n",
              "            style=\"display:none;\">\n",
              "\n",
              "<svg xmlns=\"http://www.w3.org/2000/svg\" height=\"24px\"viewBox=\"0 0 24 24\"\n",
              "     width=\"24px\">\n",
              "    <g>\n",
              "        <path d=\"M19 3H5c-1.1 0-2 .9-2 2v14c0 1.1.9 2 2 2h14c1.1 0 2-.9 2-2V5c0-1.1-.9-2-2-2zM9 17H7v-7h2v7zm4 0h-2V7h2v10zm4 0h-2v-4h2v4z\"/>\n",
              "    </g>\n",
              "</svg>\n",
              "  </button>\n",
              "\n",
              "<style>\n",
              "  .colab-df-quickchart {\n",
              "      --bg-color: #E8F0FE;\n",
              "      --fill-color: #1967D2;\n",
              "      --hover-bg-color: #E2EBFA;\n",
              "      --hover-fill-color: #174EA6;\n",
              "      --disabled-fill-color: #AAA;\n",
              "      --disabled-bg-color: #DDD;\n",
              "  }\n",
              "\n",
              "  [theme=dark] .colab-df-quickchart {\n",
              "      --bg-color: #3B4455;\n",
              "      --fill-color: #D2E3FC;\n",
              "      --hover-bg-color: #434B5C;\n",
              "      --hover-fill-color: #FFFFFF;\n",
              "      --disabled-bg-color: #3B4455;\n",
              "      --disabled-fill-color: #666;\n",
              "  }\n",
              "\n",
              "  .colab-df-quickchart {\n",
              "    background-color: var(--bg-color);\n",
              "    border: none;\n",
              "    border-radius: 50%;\n",
              "    cursor: pointer;\n",
              "    display: none;\n",
              "    fill: var(--fill-color);\n",
              "    height: 32px;\n",
              "    padding: 0;\n",
              "    width: 32px;\n",
              "  }\n",
              "\n",
              "  .colab-df-quickchart:hover {\n",
              "    background-color: var(--hover-bg-color);\n",
              "    box-shadow: 0 1px 2px rgba(60, 64, 67, 0.3), 0 1px 3px 1px rgba(60, 64, 67, 0.15);\n",
              "    fill: var(--button-hover-fill-color);\n",
              "  }\n",
              "\n",
              "  .colab-df-quickchart-complete:disabled,\n",
              "  .colab-df-quickchart-complete:disabled:hover {\n",
              "    background-color: var(--disabled-bg-color);\n",
              "    fill: var(--disabled-fill-color);\n",
              "    box-shadow: none;\n",
              "  }\n",
              "\n",
              "  .colab-df-spinner {\n",
              "    border: 2px solid var(--fill-color);\n",
              "    border-color: transparent;\n",
              "    border-bottom-color: var(--fill-color);\n",
              "    animation:\n",
              "      spin 1s steps(1) infinite;\n",
              "  }\n",
              "\n",
              "  @keyframes spin {\n",
              "    0% {\n",
              "      border-color: transparent;\n",
              "      border-bottom-color: var(--fill-color);\n",
              "      border-left-color: var(--fill-color);\n",
              "    }\n",
              "    20% {\n",
              "      border-color: transparent;\n",
              "      border-left-color: var(--fill-color);\n",
              "      border-top-color: var(--fill-color);\n",
              "    }\n",
              "    30% {\n",
              "      border-color: transparent;\n",
              "      border-left-color: var(--fill-color);\n",
              "      border-top-color: var(--fill-color);\n",
              "      border-right-color: var(--fill-color);\n",
              "    }\n",
              "    40% {\n",
              "      border-color: transparent;\n",
              "      border-right-color: var(--fill-color);\n",
              "      border-top-color: var(--fill-color);\n",
              "    }\n",
              "    60% {\n",
              "      border-color: transparent;\n",
              "      border-right-color: var(--fill-color);\n",
              "    }\n",
              "    80% {\n",
              "      border-color: transparent;\n",
              "      border-right-color: var(--fill-color);\n",
              "      border-bottom-color: var(--fill-color);\n",
              "    }\n",
              "    90% {\n",
              "      border-color: transparent;\n",
              "      border-bottom-color: var(--fill-color);\n",
              "    }\n",
              "  }\n",
              "</style>\n",
              "\n",
              "  <script>\n",
              "    async function quickchart(key) {\n",
              "      const quickchartButtonEl =\n",
              "        document.querySelector('#' + key + ' button');\n",
              "      quickchartButtonEl.disabled = true;  // To prevent multiple clicks.\n",
              "      quickchartButtonEl.classList.add('colab-df-spinner');\n",
              "      try {\n",
              "        const charts = await google.colab.kernel.invokeFunction(\n",
              "            'suggestCharts', [key], {});\n",
              "      } catch (error) {\n",
              "        console.error('Error during call to suggestCharts:', error);\n",
              "      }\n",
              "      quickchartButtonEl.classList.remove('colab-df-spinner');\n",
              "      quickchartButtonEl.classList.add('colab-df-quickchart-complete');\n",
              "    }\n",
              "    (() => {\n",
              "      let quickchartButtonEl =\n",
              "        document.querySelector('#df-4eaa2c08-b8bd-45ae-b794-5d35e06fef86 button');\n",
              "      quickchartButtonEl.style.display =\n",
              "        google.colab.kernel.accessAllowed ? 'block' : 'none';\n",
              "    })();\n",
              "  </script>\n",
              "</div>\n",
              "    </div>\n",
              "  </div>\n"
            ],
            "text/plain": [
              "                                             article  \\\n",
              "0  Lung-resident ( LR ) mesenchymal stem and stro...   \n",
              "1  Visceral leishmaniasis ( VL ) is endemic in So...   \n",
              "2  A high burden of Salmonella enterica subspecie...   \n",
              "3  Severe Acute Respiratory Syndrome Coronavirus-...   \n",
              "4  Many fungal species utilize hydroxyderivatives...   \n",
              "\n",
              "                                            headings  \\\n",
              "0  [Abstract, Introduction, Results, Discussion, ...   \n",
              "1  [Abstract, Introduction, Methods, Results, Dis...   \n",
              "2  [Abstract, Introduction, Methods, Results, Dis...   \n",
              "3  [Abstract, Introduction, Results, Discussion, ...   \n",
              "4  [Abstract, Introduction, Results and discussio...   \n",
              "\n",
              "                                            keywords                    id  \n",
              "0  [immune system, medical conditions, molecular ...  journal.ppat.1009789  \n",
              "1  [neonates, clinical laboratory sciences, trans...  journal.pntd.0007992  \n",
              "2  [pathogens, medical conditions, taxonomy, bact...  journal.pntd.0010704  \n",
              "3  [pathogens, amniotes, medical conditions, bind...  journal.ppat.1010691  \n",
              "4  [taxonomy, proteins, chemistry, genetics, enzy...  journal.pgen.1009815  "
            ]
          },
          "execution_count": 55,
          "metadata": {},
          "output_type": "execute_result"
        }
      ],
      "source": [
        "dataPlosTest.head()"
      ]
    },
    {
      "cell_type": "markdown",
      "metadata": {
        "id": "BWMuitTto8EA"
      },
      "source": [
        "# Descripcion de los datos"
      ]
    },
    {
      "cell_type": "code",
      "execution_count": null,
      "metadata": {
        "colab": {
          "base_uri": "https://localhost:8080/"
        },
        "id": "NtUFFiP2o_q2",
        "outputId": "202d8cfa-04b5-4811-bec7-910e630c3134"
      },
      "outputs": [
        {
          "name": "stdout",
          "output_type": "stream",
          "text": [
            "Los datos de train de la revista PLOS tienen 24773 instancias\n",
            "Los datos de test de la revista PLOS tienen 142 instancias\n",
            "Los datos de validacion de la revista PLOS tienen 1376 instancias\n",
            "Los datos de train de la revista eLife tienen 4346 instancias\n",
            "Los datos de test de la revista eLife tienen 142 instancias\n",
            "Los datos de validacion de la revista eLife tienen 241 instancias\n"
          ]
        }
      ],
      "source": [
        "print(\"Los datos de train de la revista PLOS tienen {} instancias\".format(dataPlosTrain.shape[0]))\n",
        "print(\"Los datos de test de la revista PLOS tienen {} instancias\".format(dataPlosTest.shape[0]))\n",
        "print(\"Los datos de validacion de la revista PLOS tienen {} instancias\".format(dataPlosVal.shape[0]))\n",
        "print(\"Los datos de train de la revista eLife tienen {} instancias\".format(dataLifeTrain.shape[0]))\n",
        "print(\"Los datos de test de la revista eLife tienen {} instancias\".format(dataLifeTest.shape[0]))\n",
        "print(\"Los datos de validacion de la revista eLife tienen {} instancias\".format(dataLifeVal.shape[0]))"
      ]
    },
    {
      "cell_type": "code",
      "execution_count": null,
      "metadata": {
        "colab": {
          "base_uri": "https://localhost:8080/"
        },
        "id": "DdJ1eReFsET7",
        "outputId": "7b456c27-d836-4ce8-a8e9-142ba3bc684b"
      },
      "outputs": [
        {
          "name": "stdout",
          "output_type": "stream",
          "text": [
            "Porcentajes train\n",
            "\tPLOS: 85.08%\n",
            "\teLife: 14.92%\n",
            "Porcentajes test\n",
            "\tPLOS: 50.00%\n",
            "\teLife: 50.00%\n",
            "Porcentajes validacion\n",
            "\tPLOS: 85.10%\n",
            "\teLife: 14.90%\n"
          ]
        }
      ],
      "source": [
        "porcentajeTrain = (len(dataPlosTrain) / (len(dataPlosTrain) + len(dataLifeTrain))) * 100\n",
        "porcentajeVal = (len(dataPlosVal) / (len(dataPlosVal) + len(dataLifeVal))) * 100\n",
        "porcentajeTest = (len(dataPlosTest) / (len(dataPlosTest) + len(dataLifeTest))) * 100\n",
        "\n",
        "print(\"Porcentajes train\")\n",
        "print(\"\\tPLOS: {:.2f}%\".format(porcentajeTrain))\n",
        "print(\"\\teLife: {:.2f}%\".format(100 - porcentajeTrain))\n",
        "print(\"Porcentajes test\")\n",
        "print(\"\\tPLOS: {:.2f}%\".format(porcentajeTest))\n",
        "print(\"\\teLife: {:.2f}%\".format(100 - porcentajeTest))\n",
        "print(\"Porcentajes validacion\")\n",
        "print(\"\\tPLOS: {:.2f}%\".format(porcentajeVal))\n",
        "print(\"\\teLife: {:.2f}%\".format(100 - porcentajeVal))"
      ]
    },
    {
      "cell_type": "code",
      "execution_count": null,
      "metadata": {
        "colab": {
          "base_uri": "https://localhost:8080/",
          "height": 341
        },
        "id": "OuOSzTrTu5_f",
        "outputId": "ce9c1f05-4f04-4d1e-d5f5-2e8e3c64b925"
      },
      "outputs": [
        {
          "data": {
            "image/png": "[encoded data removed]",
            "text/plain": [
              "<Figure size 2100x700 with 3 Axes>"
            ]
          },
          "metadata": {},
          "output_type": "display_data"
        }
      ],
      "source": [
        "porcentajes = [porcentajeTrain, porcentajeVal, porcentajeTest]\n",
        "nombres = ['Train', 'Validación', 'Test']\n",
        "\n",
        "fig, axs = plt.subplots(1, 3, figsize=(21, 7))\n",
        "\n",
        "for i, (nombre, porcentaje) in enumerate(zip(nombres, porcentajes)):\n",
        "    axs[i].pie([porcentaje, 100-porcentaje], labels=['PLOS', 'eLife'], autopct='%1.1f%%', colors=['blue', 'red'])\n",
        "    axs[i].set_title(f'Porcentaje de instancias de PLOS en {nombre}')\n",
        "\n",
        "plt.tight_layout()\n",
        "plt.show()\n"
      ]
    },
    {
      "cell_type": "markdown",
      "metadata": {
        "id": "9pYDvLnBZ5LR"
      },
      "source": [
        "## article"
      ]
    },
    {
      "cell_type": "code",
      "execution_count": null,
      "metadata": {
        "colab": {
          "base_uri": "https://localhost:8080/"
        },
        "id": "EgQBCGxAfTia",
        "outputId": "31950816-caf4-444b-ca64-9c47840b2118"
      },
      "outputs": [
        {
          "data": {
            "text/plain": [
              "count    24773.000000\n",
              "mean      6754.095749\n",
              "std       2260.340264\n",
              "min        748.000000\n",
              "25%       5164.000000\n",
              "50%       6581.000000\n",
              "75%       8091.000000\n",
              "90%       9609.000000\n",
              "95%      10688.800000\n",
              "99%      13101.240000\n",
              "max      26643.000000\n",
              "Name: article, dtype: float64"
            ]
          },
          "execution_count": 9,
          "metadata": {},
          "output_type": "execute_result"
        }
      ],
      "source": [
        "length_plosTrain=dataPlosTrain[\"article\"].apply(lambda text: len(text.split()))\n",
        "length_plosTrain.describe(percentiles=[0.25, 0.50, 0.75, 0.90, 0.95, 0.99])"
      ]
    },
    {
      "cell_type": "code",
      "execution_count": null,
      "metadata": {
        "colab": {
          "base_uri": "https://localhost:8080/"
        },
        "id": "eZcNnHH50c-v",
        "outputId": "69d01b08-07e0-45a8-9885-2e897baa63bd"
      },
      "outputs": [
        {
          "data": {
            "text/plain": [
              "count     1376.000000\n",
              "mean      6741.484012\n",
              "std       2335.620351\n",
              "min        751.000000\n",
              "25%       5212.250000\n",
              "50%       6563.000000\n",
              "75%       8084.000000\n",
              "90%       9712.500000\n",
              "95%      10650.500000\n",
              "99%      13061.250000\n",
              "max      20423.000000\n",
              "Name: article, dtype: float64"
            ]
          },
          "execution_count": 10,
          "metadata": {},
          "output_type": "execute_result"
        }
      ],
      "source": [
        "length_plosVal=dataPlosVal[\"article\"].apply(lambda text: len(text.split()))\n",
        "length_plosVal.describe(percentiles=[0.25, 0.50, 0.75, 0.90, 0.95, 0.99])"
      ]
    },
    {
      "cell_type": "code",
      "execution_count": null,
      "metadata": {
        "colab": {
          "base_uri": "https://localhost:8080/"
        },
        "id": "hX2o8DY80bqJ",
        "outputId": "f9f26a72-5f75-44d3-fd5e-2f86a42c267f"
      },
      "outputs": [
        {
          "data": {
            "text/plain": [
              "count      142.000000\n",
              "mean      6939.288732\n",
              "std       2592.099274\n",
              "min       1587.000000\n",
              "25%       5245.750000\n",
              "50%       6331.000000\n",
              "75%       8311.750000\n",
              "90%      10372.200000\n",
              "95%      11400.950000\n",
              "99%      13465.360000\n",
              "max      18477.000000\n",
              "Name: article, dtype: float64"
            ]
          },
          "execution_count": 11,
          "metadata": {},
          "output_type": "execute_result"
        }
      ],
      "source": [
        "length_plosTest=dataPlosTest[\"article\"].apply(lambda text: len(text.split()))\n",
        "length_plosTest.describe(percentiles=[0.25, 0.50, 0.75, 0.90, 0.95, 0.99])"
      ]
    },
    {
      "cell_type": "code",
      "execution_count": null,
      "metadata": {
        "colab": {
          "base_uri": "https://localhost:8080/"
        },
        "id": "TgfYv3Id0aP1",
        "outputId": "1a2f61bf-02e3-46bd-c8e8-20411fd6fc60"
      },
      "outputs": [
        {
          "data": {
            "text/plain": [
              "count     4346.000000\n",
              "mean     10200.274045\n",
              "std       3479.930206\n",
              "min        324.000000\n",
              "25%       7804.000000\n",
              "50%       9890.000000\n",
              "75%      12259.750000\n",
              "90%      14698.000000\n",
              "95%      16176.500000\n",
              "99%      20132.300000\n",
              "max      28696.000000\n",
              "Name: article, dtype: float64"
            ]
          },
          "execution_count": 12,
          "metadata": {},
          "output_type": "execute_result"
        }
      ],
      "source": [
        "length_lifeTrain=dataLifeTrain[\"article\"].apply(lambda text: len(text.split()))\n",
        "length_lifeTrain.describe(percentiles=[0.25, 0.50, 0.75, 0.90, 0.95, 0.99])"
      ]
    },
    {
      "cell_type": "code",
      "execution_count": null,
      "metadata": {
        "colab": {
          "base_uri": "https://localhost:8080/"
        },
        "id": "FPfPJKVP0Y_w",
        "outputId": "255df59d-efb0-433b-fab3-73bf4a524977"
      },
      "outputs": [
        {
          "data": {
            "text/plain": [
              "count      241.000000\n",
              "mean     10031.257261\n",
              "std       3292.607543\n",
              "min       3408.000000\n",
              "25%       7780.000000\n",
              "50%       9707.000000\n",
              "75%      12014.000000\n",
              "90%      14889.000000\n",
              "95%      16046.000000\n",
              "99%      17222.200000\n",
              "max      23048.000000\n",
              "Name: article, dtype: float64"
            ]
          },
          "execution_count": 13,
          "metadata": {},
          "output_type": "execute_result"
        }
      ],
      "source": [
        "length_lifeVal=dataLifeVal[\"article\"].apply(lambda text: len(text.split()))\n",
        "length_lifeVal.describe(percentiles=[0.25, 0.50, 0.75, 0.90, 0.95, 0.99])"
      ]
    },
    {
      "cell_type": "code",
      "execution_count": null,
      "metadata": {
        "colab": {
          "base_uri": "https://localhost:8080/"
        },
        "id": "Uy942oP-0Xx4",
        "outputId": "e514d20c-373f-4d79-aa74-eaca95e1f444"
      },
      "outputs": [
        {
          "data": {
            "text/plain": [
              "count      142.000000\n",
              "mean      8909.154930\n",
              "std       2567.304233\n",
              "min       2492.000000\n",
              "25%       7357.000000\n",
              "50%       8482.500000\n",
              "75%      10533.000000\n",
              "90%      12199.900000\n",
              "95%      13318.700000\n",
              "99%      16101.760000\n",
              "max      16880.000000\n",
              "Name: article, dtype: float64"
            ]
          },
          "execution_count": 16,
          "metadata": {},
          "output_type": "execute_result"
        }
      ],
      "source": [
        "length_lifeTest=dataLifeTest[\"article\"].apply(lambda text: len(text.split()))\n",
        "length_lifeTest.describe(percentiles=[0.25, 0.50, 0.75, 0.90, 0.95, 0.99])"
      ]
    },
    {
      "cell_type": "code",
      "execution_count": null,
      "metadata": {
        "colab": {
          "background_save": true
        },
        "id": "vQrHKM62udiW",
        "outputId": "40789516-4350-4544-8f26-4af0d79c0559"
      },
      "outputs": [
        {
          "data": {
            "image/png": "[encoded data removed]",
            "text/plain": [
              "<Figure size 2000x400 with 2 Axes>"
            ]
          },
          "metadata": {},
          "output_type": "display_data"
        }
      ],
      "source": [
        "fig,  (ax_test, ax_val) = plt.subplots(1, 2, figsize=(20, 4))\n",
        "fig.suptitle('Distribución de clases')\n",
        "\n",
        "ax_test.hist(length_plosTest, bins=np.arange(300, 30000, 25), color='blue', alpha=0.5, label='PLOS')\n",
        "ax_test.hist(length_lifeTest, bins=np.arange(300, 30000, 25), color='red', alpha=0.5, label='eLife')\n",
        "ax_test.set_title('Conjunto de test')\n",
        "ax_test.legend(title='Revista')\n",
        "\n",
        "ax_val.hist(length_plosVal, bins=np.arange(300, 30000, 25), color='blue', alpha=0.5, label='PLOS')\n",
        "ax_val.hist(length_lifeVal, bins=np.arange(300, 30000, 25), color='red', alpha=0.5, label='eLife')\n",
        "ax_val.set_title('Conjunto de validación')\n",
        "ax_val.legend(title='Revista')\n",
        "\n",
        "plt.show()"
      ]
    },
    {
      "cell_type": "code",
      "execution_count": null,
      "metadata": {
        "colab": {
          "base_uri": "https://localhost:8080/",
          "height": 247
        },
        "id": "OZPuYDAd084o",
        "outputId": "a89a37dd-dd7b-4941-fa6c-bdd147d73809"
      },
      "outputs": [
        {
          "data": {
            "image/png": "[encoded data removed]",
            "text/plain": [
              "<Figure size 2000x400 with 3 Axes>"
            ]
          },
          "metadata": {},
          "output_type": "display_data"
        }
      ],
      "source": [
        "fig, (ax_train, ax_test, ax_val) = plt.subplots(1, 3, figsize=(20, 4))\n",
        "fig.suptitle('Distribución de clases')\n",
        "\n",
        "ax_train.hist(length_plosTrain, bins=np.arange(300, 30000, 25), color='blue', alpha=0.5, label='PLOS')\n",
        "ax_train.hist(length_lifeTrain, bins=np.arange(300, 30000, 25), color='red', alpha=0.5, label='eLife')\n",
        "ax_train.set_title('Conjunto de entrenamiento')\n",
        "ax_train.legend(title='Revista')\n",
        "\n",
        "ax_test.hist(length_plosTest, bins=np.arange(300, 30000, 25), color='blue', alpha=0.5, label='PLOS')\n",
        "ax_test.hist(length_lifeTest, bins=np.arange(300, 30000, 25), color='red', alpha=0.5, label='eLife')\n",
        "ax_test.set_title('Conjunto de test')\n",
        "ax_test.legend(title='Revista')\n",
        "\n",
        "ax_val.hist(length_plosVal, bins=np.arange(300, 30000, 25), color='blue', alpha=0.5, label='PLOS')\n",
        "ax_val.hist(length_lifeVal, bins=np.arange(300, 30000, 25), color='red', alpha=0.5, label='eLife')\n",
        "ax_val.set_title('Conjunto de validación')\n",
        "ax_val.legend(title='Revista')\n",
        "\n",
        "plt.show()"
      ]
    },
    {
      "cell_type": "code",
      "execution_count": null,
      "metadata": {
        "colab": {
          "base_uri": "https://localhost:8080/",
          "height": 545
        },
        "id": "yFjLpB9V3eJG",
        "outputId": "81840887-6709-4c6c-84e5-1127df26cef4"
      },
      "outputs": [
        {
          "data": {
            "image/png": "[encoded data removed]",
            "text/plain": [
              "<Figure size 1000x600 with 1 Axes>"
            ]
          },
          "metadata": {},
          "output_type": "display_data"
        }
      ],
      "source": [
        "fig, ax = plt.subplots(figsize=(10, 6))\n",
        "ax.hist(length_plosTrain, bins=np.arange(300, 30000, 25), color='blue', alpha=0.5, label='PLOS')\n",
        "ax.hist(length_lifeTrain, bins=np.arange(300, 30000, 25), color='red', alpha=0.5, label='eLife')\n",
        "ax.set_title('Distribución de clases Train')\n",
        "ax.legend(title='Revista')\n",
        "\n",
        "plt.show()"
      ]
    },
    {
      "cell_type": "markdown",
      "metadata": {
        "id": "KyfV_yAmZ8rA"
      },
      "source": [
        "## lay_summary"
      ]
    },
    {
      "cell_type": "code",
      "execution_count": null,
      "metadata": {
        "colab": {
          "base_uri": "https://localhost:8080/"
        },
        "id": "iKlq9j4iaDYO",
        "outputId": "150acba0-3c79-4cfb-8631-99c4137f320b"
      },
      "outputs": [
        {
          "data": {
            "text/plain": [
              "count    24773.000000\n",
              "mean       194.902999\n",
              "std         36.825714\n",
              "min          4.000000\n",
              "25%        174.000000\n",
              "50%        202.000000\n",
              "75%        218.000000\n",
              "90%        229.000000\n",
              "95%        241.000000\n",
              "99%        283.000000\n",
              "max        511.000000\n",
              "Name: lay_summary, dtype: float64"
            ]
          },
          "execution_count": 8,
          "metadata": {},
          "output_type": "execute_result"
        }
      ],
      "source": [
        "length_plosTrain_summary=dataPlosTrain[\"lay_summary\"].apply(lambda text: len(text.split()))\n",
        "length_plosTrain_summary.describe(percentiles=[0.25, 0.50, 0.75, 0.90, 0.95, 0.99])"
      ]
    },
    {
      "cell_type": "code",
      "execution_count": null,
      "metadata": {
        "colab": {
          "base_uri": "https://localhost:8080/"
        },
        "id": "ZerLr9cLaV5n",
        "outputId": "4a3c81eb-81e0-48dc-f388-e05c55c233d6"
      },
      "outputs": [
        {
          "data": {
            "text/plain": [
              "count    1376.000000\n",
              "mean      194.513808\n",
              "std        36.601816\n",
              "min        55.000000\n",
              "25%       173.000000\n",
              "50%       202.000000\n",
              "75%       217.000000\n",
              "90%       228.000000\n",
              "95%       239.000000\n",
              "99%       290.500000\n",
              "max       384.000000\n",
              "Name: lay_summary, dtype: float64"
            ]
          },
          "execution_count": 9,
          "metadata": {},
          "output_type": "execute_result"
        }
      ],
      "source": [
        "length_plosVal_summary=dataPlosVal[\"lay_summary\"].apply(lambda text: len(text.split()))\n",
        "length_plosVal_summary.describe(percentiles=[0.25, 0.50, 0.75, 0.90, 0.95, 0.99])"
      ]
    },
    {
      "cell_type": "code",
      "execution_count": null,
      "metadata": {
        "colab": {
          "base_uri": "https://localhost:8080/"
        },
        "id": "e2GXPii6ai12",
        "outputId": "445faaa2-f109-4dc2-9842-42d5e7d663ee"
      },
      "outputs": [
        {
          "data": {
            "text/plain": [
              "count    4346.000000\n",
              "mean      382.266222\n",
              "std        64.334356\n",
              "min       177.000000\n",
              "25%       338.000000\n",
              "50%       379.000000\n",
              "75%       423.000000\n",
              "90%       467.000000\n",
              "95%       493.000000\n",
              "99%       540.550000\n",
              "max       686.000000\n",
              "Name: lay_summary, dtype: float64"
            ]
          },
          "execution_count": 11,
          "metadata": {},
          "output_type": "execute_result"
        }
      ],
      "source": [
        "length_lifeTrain_summary=dataLifeTrain[\"lay_summary\"].apply(lambda text: len(text.split()))\n",
        "length_lifeTrain_summary.describe(percentiles=[0.25, 0.50, 0.75, 0.90, 0.95, 0.99])"
      ]
    },
    {
      "cell_type": "code",
      "execution_count": null,
      "metadata": {
        "colab": {
          "base_uri": "https://localhost:8080/"
        },
        "id": "L5F5losga4Te",
        "outputId": "28878817-aea2-4d92-936a-412c58e88770"
      },
      "outputs": [
        {
          "data": {
            "text/plain": [
              "count    241.000000\n",
              "mean     389.875519\n",
              "std       69.910844\n",
              "min      234.000000\n",
              "25%      338.000000\n",
              "50%      384.000000\n",
              "75%      441.000000\n",
              "90%      481.000000\n",
              "95%      506.000000\n",
              "99%      543.000000\n",
              "max      672.000000\n",
              "Name: lay_summary, dtype: float64"
            ]
          },
          "execution_count": 13,
          "metadata": {},
          "output_type": "execute_result"
        }
      ],
      "source": [
        "length_lifeVal_summary=dataLifeVal[\"lay_summary\"].apply(lambda text: len(text.split()))\n",
        "length_lifeVal_summary.describe(percentiles=[0.25, 0.50, 0.75, 0.90, 0.95, 0.99])"
      ]
    },
    {
      "cell_type": "code",
      "execution_count": null,
      "metadata": {
        "colab": {
          "base_uri": "https://localhost:8080/",
          "height": 231
        },
        "id": "OGaanVtFbJRX",
        "outputId": "b2870eab-ee35-44c0-f672-8ef69016c35d"
      },
      "outputs": [
        {
          "data": {
            "image/png": "[encoded data removed]",
            "text/plain": [
              "<Figure size 2000x400 with 2 Axes>"
            ]
          },
          "metadata": {},
          "output_type": "display_data"
        }
      ],
      "source": [
        "fig, (ax_train, ax_val) = plt.subplots(1, 2, figsize=(20, 4))\n",
        "fig.suptitle('Distribución de clases')\n",
        "\n",
        "ax_train.hist(length_plosTrain_summary, bins=np.arange(0, 690, 10), color='blue', alpha=0.5, label='PLOS')\n",
        "ax_train.hist(length_lifeTrain_summary, bins=np.arange(0, 690, 10), color='red', alpha=0.5, label='eLife')\n",
        "ax_train.set_title('Conjunto de entrenamiento')\n",
        "ax_train.legend(title='Revista')\n",
        "\n",
        "ax_val.hist(length_plosVal_summary, bins=np.arange(0, 690, 10), color='blue', alpha=0.5, label='PLOS')\n",
        "ax_val.hist(length_lifeVal_summary, bins=np.arange(0, 690, 10), color='red', alpha=0.5, label='eLife')\n",
        "ax_val.set_title('Conjunto de validación')\n",
        "ax_val.legend(title='Revista')\n",
        "\n",
        "plt.show()"
      ]
    },
    {
      "cell_type": "code",
      "execution_count": null,
      "metadata": {
        "colab": {
          "base_uri": "https://localhost:8080/",
          "height": 545
        },
        "id": "eZtfR3Owb_rZ",
        "outputId": "ce4d2af6-6b27-4d77-be9b-bf6669fbd9c9"
      },
      "outputs": [
        {
          "data": {
            "image/png": "[encoded data removed]",
            "text/plain": [
              "<Figure size 1000x600 with 1 Axes>"
            ]
          },
          "metadata": {},
          "output_type": "display_data"
        }
      ],
      "source": [
        "fig, ax = plt.subplots(figsize=(10, 6))\n",
        "ax.hist(length_plosTrain_summary, bins=np.arange(0, 690, 10), color='blue', alpha=0.5, label='PLOS')\n",
        "ax.hist(length_lifeTrain_summary, bins=np.arange(0, 690, 10), color='red', alpha=0.5, label='eLife')\n",
        "ax.set_title('Distribución de clases Train')\n",
        "ax.legend(title='Revista')\n",
        "\n",
        "plt.show()"
      ]
    },
    {
      "cell_type": "markdown",
      "metadata": {
        "id": "whCLwc2scNf1"
      },
      "source": [
        "## Headings"
      ]
    },
    {
      "cell_type": "code",
      "execution_count": null,
      "metadata": {
        "colab": {
          "base_uri": "https://localhost:8080/"
        },
        "id": "rIr2LmEbcPRU",
        "outputId": "9bdc6737-3f5d-4fb1-f2e6-efc5ca9d8e8c"
      },
      "outputs": [
        {
          "name": "stdout",
          "output_type": "stream",
          "text": [
            "Counter({'abstract': 24773, 'introduction': 24734, 'discussion': 23025, 'results': 22978, 'materials and methods': 16457, 'methods': 7198, 'results/discussion': 875, 'results and discussion': 689, 'material and methods': 358, 'supporting information': 350, 'conclusion': 183, 'conclusions': 154, 'models': 143, 'model': 131, 'methods and materials': 63, 'materials & methods': 56, '': 24, 'models and methods': 22, 'method': 20, 'design and implementation': 19, 'availability and future directions': 19, 'methods and models': 16, 'methodology': 15, 'discussions': 14, 'acknowledgments': 13, 'result': 11, 'experimental procedures': 10, 'accession numbers': 7, 'results & discussion': 7, 'ethics statement': 7, 'discussion and conclusion': 7, 'results and discussions': 6, 'concluding remarks': 6, 'material & methods': 5, 'background': 5, 'materials and method': 5, 'summary': 5, 'data access': 5, 'model and methods': 4, 'disclaimer': 4, 'discussion and conclusions': 3, 'statistical analysis': 3, 'experiments and results': 3, 'conclusions and recommendations': 3, 'methods and results': 3, 'materials and models': 3, 'statistical analyses': 3, 'data availability': 3, 'conclusions and future directions': 3, 'patients and methods': 2, 'future directions': 2, 'data deposition': 2, 'general methods': 2, 'statistics': 2, 'web resources': 2, 'models and results': 2, 'methods and model': 2, 'data analysis': 2, 'limitations and future directions': 2, 'results/discussions': 2, 'lessons learned': 2, 'simulations': 2, 'rule 1: use version control': 1, 'rule 2: document your code and usage': 1, 'rule 3: make common operations easy to control': 1, 'rule 4: version your releases': 1, 'rule 5: reuse software (within reason)': 1, 'rule 6: rely on build tools and package managers for installation': 1, 'rule 7: do not require root or other special privileges to install or run': 1, 'rule 8: eliminate hard-coded paths': 1, 'rule 9: include a small test set that can be run to ensure the software is actually working': 1, 'rule 10: produce identical results when given identical inputs': 1, 'construction of grn model': 1, 'the vsg coat': 1, 'the roles of vsg n-linked oligosaccharides': 1, 'non-vsg proteins present in the vsg coat': 1, 'interactions with the adaptive and innate immune system': 1, 'investigation of how the vsg coat functions': 1, 'vsg monoclonal antibodies': 1, 'vsg single domain monoclonal antibodies': 1, 'antibodies recognising invariant surface glycoproteins': 1, 'concanavalin a': 1, 'trypsin': 1, 'other african trypanosomes': 1, 'availability of supporting materials': 1, 'supplemental data': 1, 'conclusions and prospects': 1, 'tf beyond dr': 1, 'what do we mean by the term “drug resistance”?': 1, 'molecular mechanisms of dr to antimonials': 1, 'molecular epidemiology of dr in': 1, 'molecular mechanisms of dr to mil': 1, 'the molecular basis of amb resistance in': 1, 'resistance to drug combination therapy in': 1, 'general conclusions': 1, 'model properties': 1, 'recent applications made possible by hardware and algorithmic advancements': 1, 'categorization by algorithmic frameworks': 1, 'distance modulates firing synchrony and subthreshold correlations': 1, 'effects of rate, membrane potential distribution and coupling on synchrony': 1, 'the utility of standard and newer rapid diagnostic tests in the clinic and in the field': 1, 'impact of treatment on dog infectiousness': 1, 'are prevention and control strategies working?': 1, 'results/ discussion': 1, 'conclusion and outlook': 1, 'conclusion and recommendations': 1, 'methods and analyses': 1, 'genes and protein sequences used': 1, 'authorship': 1, 'maximum expected accuracy': 1, 't3ss-effectors epitopes have a much lower affinity than other epitopes in bacteria': 1, 'intracellular bacterial toxins are similar to gram negative t3ss effectors in terms of immune-induced evolution': 1, 'the interesting case of exou – an indirect killer': 1, 'validation with other algorithms': 1, 'result/discussion': 1, '1. use learner personas to define your audience': 1, '2. design for effective learning strategies': 1, '3. write summative assessments to set concrete goals': 1, '4. write formative assessments for pacing, design, preparation, and reinforcement': 1, '5. integrate visual and linguistic information': 1, '6. design for peer instruction': 1, '7. use worked examples and concreteness fading': 1, '8. show how to detect, diagnose, and correct common mistakes': 1, '9. motivate and avoid demotivating': 1, '10. make lessons inclusive': 1, 'notes added in proof': 1, 'data and software availability': 1, 'relationship in expression level between protein complex genes and linker histone genes across tissues': 1, 'network co-activation differences among emotion categories': 1, 'histones are found in some newly discovered archaea': 1, 'conclusion and prospects': 1, 'banocc: bayesian analysis of compositional covariance': 1, 'choosing hyperparameters': 1, 'software': 1, 'simulation studies': 1, 'a microbial interaction network from the human microbiome project': 1, 'qm/mm methods': 1, 'data archiving': 1, 'background and motivation': 1, 'methods and material': 1, 'model and method': 1, 'theoretical framework': 1, 'on recent approaches to entropy and epistasis': 1, 'material, methods, and models': 1, 'regulatory t-cell responses in retroviral infections': 1, 'mechanisms of treg expansion and/or accrual during retroviral infection': 1, 'targets of treg suppression during retrovirus infection': 1, 'effect of hiv infection on treg functionality': 1, 'mechanisms of suppression': 1, 'treg immunotherapy in lentiviral infections: the pros and cons': 1, 'ym1 during adaptive immunity is required for lung tissue repair': 1, 'matherials and methods': 1, 'model 1: general principles of antibiotic-target reaction kinetics': 1, 'model 2: onset and end of antibiotic action determine pharmacodynamic properties of ampicillin and isoniazid': 1, 'model 3: antibiotic action below mic modifies pharmacodynamic properties of tetracycline': 1, 'model 1: drug-target binding only': 1, 'model 2: drug-target binding with diffusion barrier and bolus injection': 1, 'model 3: including unspecific binding and bacterial replication': 1, 'sensitivity analysis and model limitations': 1, 'htcondor': 1, 'sandbox code': 1, 'examples': 1, 'when not to use htc': 1, 'additional resources': 1, 'estimating triplet interactions requires an accurate null model': 1, 'discusion': 1, 'rationale for developing alternative strategies': 1, 'outlook on alternative strategy development': 1, 'alternative strategies': 1, 'considerations for introducing alternative strategies': 1, 'knowledge base on mosquito biology and behavior': 1, 'acceptability and compliance of alternative methods': 1, 'regulatory considerations for alternative control strategies': 1, 'members of the geosentinel surveillance network': 1, 'materials, subjects and methods': 1, 'introduction: the model of predominant clonal evolution (pce)': 1, 'recent developments': 1, 'pce manifestations in the pathogens under survey': 1, 'implications for molecular epidemiology and experimental evolution': 1, 'taxonomical implications': 1, 'materials/methods': 1, 'historical perspective of microbial inhibition of p53': 1, 'if viruses can do it, why can’t other, more complex microorganisms?': 1, '“airborne” ebola: potential pandemic or tempest in a teacup?': 1, 'managing uncertainty': 1, 'moving forward': 1, 'current status': 1, 'challenges to the growth of bioinformatics in jordan': 1, 'data set and software availability': 1, 'availability': 1, 'population and methods': 1, 'host target(s) of ±pzq': 1, 'parasite target(s) of ±pzq': 1, 'conclusions and outlook': 1, 'measuring chemotactic performance': 1, 'parametric sensitivity analysis': 1, 'linear systems analysis techniques': 1, 'model parameters': 1, 'response to noisy ligand input': 1, 'plasmids and strains': 1, 'tethered cell analysis': 1, 'the model': 1, 'model overview': 1, 'retrotransmission of prion strains': 1, 'transmission of prions to tg(i109) mice': 1, 'the general criterion for global perfect homeostasis': 1, 'flux-dependent regulation can achieve global perfect homeostasis': 1, 'comparison and combination of activity-dependent downregulation and internal nutrient sensing': 1, 'note in proof': 1, 'program availability': 1, 'conclusion and discussion': 1, 'dynamic conservation landscape model': 1, 'computational implementation and tools': 1, 'methods and methods': 1, 'microenvironment and tumour growth': 1, 'behavioral modeling of predators': 1, 'agent-based model': 1, 'simulation experiments': 1, 'properties of the second layer representation': 1, 'models & methods': 1, 'extensions to more complex settings and broader signaling contexts': 1, 'comparison with other approaches': 1, 'known epitope coverage': 1, 'operational definitions and outcome variables': 1, 'the stochastic model': 1, 'the deterministic limit': 1, 'stochastic turing patterns': 1, 'growing domain': 1, 'results and conclusions': 1, 'leishmaniasis clusters in time and space': 1, 'mammalian infection reservoirs': 1, 'asymptomatic infection': 1, 'influence of sand fly infecting dose on the efficiency of subsequent transmission': 1, 'high versus low inocula have differing acute and chronic transmission characteristics': 1, 'effects of exposure to sand fly saliva on mammalian hosts': 1, 'pathway analyses suggest enrichment of immune pathways for bp traits': 1, 'data extraction and synthesis': 1, 'methods & models': 1, 'nutrition and infectious disease': 1, 'what is an arbovirus?': 1, 'review methodology': 1, 'how can nutrition affect arbovirus infection, transmission and severity?': 1, 'influence of nutrition on reservoir and secondary amplification hosts': 1, 'influence of nutrition on arboviral vectors': 1, 'influence of nutrition on arboviruses themselves': 1, 'conclusions and future perspectives': 1, 'accessions': 1, 'bioinformatic analyses': 1, 'defining trial participants': 1, 'endpoint - outcome measures and therapeutic assessment': 1, 'study registration and reporting': 1, 'complying with regulations': 1, 'data and methods': 1, 'rules': 1, 'program description and methods': 1, 'result and discussion': 1, 'a recurrent neural network model': 1, 'data collection and parameter settings': 1, 'fundamentals of programming': 1, 'data collections: tuples, lists, for loops, and dictionaries': 1, 'object-oriented programming in a nutshell: classes, objects, methods, and all that': 1, 'file management and i/o': 1, 'regular expressions for string manipulations': 1, 'an advanced vignette: creating graphical user interfaces with tkinter': 1, 'python in general-purpose scientific computing: numerical efficiency, libraries': 1, 'python and software licensing': 1, 'managing large projects: version control systems': 1, 'final project: a structural bioinformatics problem': 1, 'the policy landscape in visceral leishmaniasis': 1, 'policy priorities for the consolidation and maintenance phases': 1, 'acetylcholinesterase activity': 1, 'additional discussion and conclusions': 1, 'model and methodology': 1, 'precise measurement and the suitability of thresholding versus graded response': 1, 'imperfect measurement and the value of bayesian response strategies': 1, 'dynamic environments and the value of memory': 1, 'statistical methods': 1, 'mechanisms of interaction': 1, 'evidence of interaction': 1, 'impact of interactions at the population level': 1, 'models of influenza interactions': 1, 'limits of the current view': 1, 'opportunities': 1, 'challenges': 1, 'analysis of the search trajectories': 1, 'taxonomic classification of': 1, 'biotechnological applications of': 1, 'useful online tools/databases': 1, 'discussion and outlook': 1, 'memory cd4': 1, 'materials and methods:': 1, 'acknowledgement': 1, 'truncation of the ghcyt enhances vzv syncytia formation while reducing viral titers': 1, 'viral particle formation and egress are unaffected by the truncation of the ghcyt': 1, 'truncation of the ghcyt in conjunction with disrupting the gbcyt itim significantly limits viral spread': 1, 'vp24': 1, 'vp35': 1, 'vp30': 1, 'vp40': 1, 'gp': 1, 'np and l': 1, 'unique substrate binding mode': 1, 'study data and methods': 1, 'study results': 1, 'sampling': 1, 'social-economic impact of tsetse repellent collars': 1, 'effect size estimation for variants in the hierarchical model': 1, 'application to the dallas heart study and': 1, 'application to the cohen syndrome and': 1, 'design and implementation of the mns algorithm': 1, 'methods/results': 1, 'data analyses': 1, 'design & implementation': 1, 'lag3 expression': 1, 'lag3 receptors': 1, 'lag3 mechanism': 1, 'lag3 function on cell types and subsets': 1, 'lag3 and hiv disease': 1, 'characterization of surface occupation patterns: the correlation length': 1, 'motif dynamics': 1, 'disclaimers': 1, 'software and data availability': 1, 'mathematical and computational model': 1, 'vaccination schedules with peptide-based nanovaccines and challenge infection': 1, 'antibodies, western blotting, seprion elisa': 1, 'immunohistochemistry and confocal microscopy': 1, 'tunel assay': 1, 'ecg evaluation in conscious mice': 1, 'mri measurement': 1, 'algorithm': 1, 'the node-assessment exercise': 1, 'experiences from the nodes': 1, 'modeling coevolution': 1, 'strengths and limitations': 1, 'keep your data correct': 1, 'correctly interpret your data': 1, 'present your data in a useful way': 1, 'study limitation': 1, 'effect of variability: a model study': 1, 'outlook': 1, 'strengths and limitations of the study': 1, 'results / discussion': 1, 'machine learning for species identification': 1, 'challenges in image-based taxa identification': 1, 'status quo': 1, 'open problems and future directions': 1, 'a vision of automated identification in the wild': 1, 'study area and general methods': 1, 'homology model of smsp2 reveals the trypsin-like active site pocket shielded by additional loops': 1, 'substrate and inhibitor specificity classifies smsp2 as a trypsin-like enzyme': 1, 'smsp2 releases bradykinin from kininogen and activates plasmin': 1, 'final conclusions': 1, 'examples from the paper [': 1, 'software availability': 1, 'application': 1, 'new beast functionality': 1, 'beyond time trees: extended phylogenetic structures': 1, 'new models': 1, 'model selection and model adequacy': 1, 'new simulation tools': 1, 'validation, testing and quality management': 1, 'student recruitment and selection': 1, 'structure of the research experience': 1, 'inclusion criteria': 1, 'note added in proof': 1, 'experiments': 1, 'interacting-particle reaction dynamics (iprd)': 1, 'performance analysis and discussion': 1, 'achnowledgments': 1, 'discussion and review of the literature': 1, 'observations of the distribution of yaws in bankim': 1, 'dna and rna isolation and analysis': 1, 'model and numerical methods': 1, 'discussion and future work': 1, 'i. introduction and project overview': 1, 'ii. encode project data': 1, 'iii. accessing encode data': 1, 'iv. working with encode data': 1, 'v. encode data analysis': 1, 'vi. future plans and challenges': 1, 'zika virus and microcephaly': 1, 'transmission seasonality': 1, 'seasonally timing pregnancy': 1, 'what is the nature of the queueing?': 1, 'mixtures of multiple mrna species': 1, 'mutation rates at equilibrium': 1, 'effect of initial values and parameters on the simulation results': 1, 'experimental procedure': 1, 'schistosome products modulate the transcription of': 1, 'search for optimal vaccine serotype compositions': 1, 'uncertainty in carriage proportions': 1, 'proportionality assumption (a1)': 1, 'scenario 2: potential influence on infection resurgence': 1, 'model of cml dynamics': 1, 'treatment optimization problem': 1, 'templatize infrastructure with version control': 1, 'embrace ephemerality: image data and software': 1, 'use containers': 1, 'manage security and privacy as code': 1, 'use managed services instead of reinventing them': 1, 'develop serverless applications': 1, 'be agile: iterate with small releases': 1, 'embrace abstraction: decouple components': 1, 'utilize built-in sharing mechanisms provided by cloud providers': 1, 'proactively manage costs and budgets': 1, 'dive into new cultures': 1, 'data reporting': 1, 'materials': 1, 'rule 1: first, determine the figure purpose and assess the network': 1, 'rule 2: consider alternative layouts': 1, 'rule 3: beware of unintended spatial interpretations': 1, 'rule 4: provide readable labels and captions': 1, 'rule 5: choose the right level of detail': 1, 'rule 6: use color responsibly': 1, 'rule 7: use other visual marks and channels appropriately': 1, 'rule 8: use layering and separation': 1, 'rule 9: use multiple figures': 1, 'rule 10: do not use unjustified 3d': 1, 'household risk factors survey': 1, 'ethical considerations': 1, 'clinical yaws': 1, 'treponemal rdt results': 1, 'risk factors associated with tf': 1, 'dynamical mean-field theory of the single inhibitory population': 1, 'two-population networks': 1, 'numerical simulations': 1, 'general introduction': 1, 'in vivo models in tb research': 1, 'human-based in vitro models in tb research': 1, 'organoids as infection models': 1, 'lung organoids in tb research': 1, 'perspective': 1, 'availability of data and materials': 1, 'materials and experimental methods': 1, 'experimental results': 1, 'model methods': 1, 'model simulation results': 1, 'genome assemblies': 1, 'gene synteny and gene composition': 1, 'phylogenetic relationships to other': 1, 'relationships to worldwide human': 1, 'a still uncertain origin of': 1, 'pathogenesis and clinical features': 1, 'epidemiology': 1, 'global prevalence of trachoma': 1, 'global burden of trachoma': 1, 'economic cost of trachoma': 1, 'trachoma control and its cost-effectiveness': 1, 'model description': 1, 'description of the accident': 1, 'clinical outcomes of exposed children': 1, 'key lessons from the lübeck disaster': 1, 'implications for the understanding of the “tb susceptibility” phenotype': 1, 'a historical event': 1, 'appendix a': 1, 'nonnegative sparse coding as a modern variant of the efficient coding hypothesis': 1, 'empirical evidence for nsc in the brain': 1, 'cluster distribution': 1, 'correlation between bilayer surface curvature and the clustering of lipid molecules': 1})\n"
          ]
        }
      ],
      "source": [
        "word_counter_plosTrain = Counter()\n",
        "for index, row in dataPlosTrain.iterrows():\n",
        "    words = [word.lower() for word in row[\"headings\"]]\n",
        "    word_counter_plosTrain.update(words)\n",
        "print(word_counter_plosTrain)"
      ]
    },
    {
      "cell_type": "code",
      "execution_count": null,
      "metadata": {
        "colab": {
          "base_uri": "https://localhost:8080/"
        },
        "id": "ZFm_IRlUgpZ6",
        "outputId": "294d5b05-f11f-489d-eced-94aeda619de3"
      },
      "outputs": [
        {
          "name": "stdout",
          "output_type": "stream",
          "text": [
            "Counter({'abstract': 1376, 'introduction': 1375, 'results': 1263, 'discussion': 1255, 'materials and methods': 914, 'methods': 403, 'results/discussion': 55, 'results and discussion': 51, 'material and methods': 19, 'conclusions': 16, 'supporting information': 12, 'model': 9, 'models': 9, 'conclusion': 9, 'methods and materials': 3, 'discussions': 2, 'materials and method': 2, 'methods and models': 2, 'materials & methods': 2, 'models and methods': 2, '': 2, 'bioinformatics analysis': 1, 'future directions': 1, 'gb interacts with gh/gl but not gh/gl/go or gh/gl/ul128-131': 1, 'perm-seq with with multiple sources of data': 1, 'parameter estimation in the perm-seq model': 1, 'design and implementation': 1, 'availability and future directions': 1, 'funding': 1, 'accession numbers/id numbers for': 1, 'results & discussion': 1, 'list of the agi codes for the arabidopsis genes': 1, 'figshare information': 1, 'birth, death, migration, mutation, and resource consumption and release': 1, 'results and discussions': 1, 'challenges, successes, lessons learned and recommendations': 1, 'methodology': 1, 'methods & materials': 1, 'development of core competencies for bioinformatics': 1, 'discussion and conclusions': 1})\n"
          ]
        }
      ],
      "source": [
        "word_counter_plosVal = Counter()\n",
        "for index, row in dataPlosVal.iterrows():\n",
        "    words = [word.lower() for word in row[\"headings\"]]\n",
        "    word_counter_plosVal.update(words)\n",
        "print(word_counter_plosVal)"
      ]
    },
    {
      "cell_type": "code",
      "execution_count": null,
      "metadata": {
        "colab": {
          "base_uri": "https://localhost:8080/"
        },
        "id": "EHuOBEgeg2VT",
        "outputId": "ab141634-9364-4a30-aadc-6dee7529a3b4"
      },
      "outputs": [
        {
          "name": "stdout",
          "output_type": "stream",
          "text": [
            "Counter({'abstract': 4346, 'introduction': 4316, 'discussion': 4017, 'results': 4006, 'materials and methods': 3872, 'materials\\xa0and\\xa0methods': 272, 'results and discussion': 262, 'material and methods': 82, 'methods': 22, 'main text': 9, 'model': 7, 'materials\\xa0and methods': 7, 'conclusions': 7, 'methods and materials': 6, 'results\\xa0and\\xa0discussion': 5, 'acknowledgments': 5, 'conclusion': 5, 'materials': 3, 'm': 3, 'accession numbers': 2, 'materials and\\xa0methods': 2, '': 2, 'result': 2, 'materials\\xa0and\\xa0\\ufeffmethods': 2, 'materials and method': 1, 'ethics statement': 1, 'smoothness and the neural code': 1, 'deep learning networks': 1, 'mathematical model': 1, 'experimental procedures': 1, 'modeling framework': 1, 'set-up of the quorum-sensing model': 1, 'results of numerical simulations': 1, 'results of mathematical analysis': 1, 'clinical observations': 1, 'bradykinin-induced local pulmonary angioedema': 1, 'targeted treatment and timing of interventions': 1, 'methods, materials, and results': 1, 'note\\xa0in\\xa0proof': 1, 'statistical analysis': 1, 'materials & methods': 1, '1\\xa0introduction': 1, '2 adhesiveness as a quantitative trait affecting group formation and function': 1, '3 adaptive dynamics of adhesiveness': 1, '4 the evolution of adhesiveness by attachment': 1, '5 discussion': 1, 'analysis': 1, 'supplementary\\xa0methods': 1, 'supplemental information': 1, 'main': 1, 'technology and methods': 1, 'differential diagnosis': 1, 'description': 1, 'computational\\xa0methods': 1, 'accession codes': 1, 'results and discussions': 1, 'model development': 1, 'database depositions': 1, 'hypothesis and results': 1, 'experimental background': 1, 'theoretical framework': 1, 'bacterial swarms': 1, 'bacterial films': 1, 'methods and material': 1, 'materials and mmethods': 1, 'materials (data sources)': 1, 'discussion and conclusions': 1, 'results and conclusions': 1, 'building the stimulus space': 1, 'results/discussion': 1, 'phosphorylation of usp14 regulates global protein degradation': 1, 'discussions': 1, 'theory': 1, 'experiment 1 – defining a relative value perception curve': 1, 'experiment 2 – ruling out alternative explanations using scent training': 1, 'experiment 3 – expectation setting via trophallaxis: the nest as an information hub': 1, 'materials and': 1})\n"
          ]
        }
      ],
      "source": [
        "word_counter_lifeTrain = Counter()\n",
        "for index, row in dataLifeTrain.iterrows():\n",
        "    words = [word.lower() for word in row[\"headings\"]]\n",
        "    word_counter_lifeTrain.update(words)\n",
        "print(word_counter_lifeTrain)"
      ]
    },
    {
      "cell_type": "code",
      "execution_count": null,
      "metadata": {
        "colab": {
          "base_uri": "https://localhost:8080/"
        },
        "id": "Cg558T5yg2VW",
        "outputId": "ed04cde3-5567-43cb-8140-57e085d3d756"
      },
      "outputs": [
        {
          "name": "stdout",
          "output_type": "stream",
          "text": [
            "Counter({'abstract': 241, 'introduction': 239, 'discussion': 223, 'results': 219, 'materials and methods': 217, 'materials\\xa0and\\xa0methods': 17, 'results and discussion': 15, 'material and methods': 3, 'results\\xa0and\\xa0discussion': 2, 'methods': 1, 'conclusion': 1, 'conclusions': 1, 'chemical synthesis': 1, 'material\\xa0and\\xa0methods': 1})\n"
          ]
        }
      ],
      "source": [
        "word_counter_lifeVal = Counter()\n",
        "for index, row in dataLifeVal.iterrows():\n",
        "    words = [word.lower() for word in row[\"headings\"]]\n",
        "    word_counter_lifeVal.update(words)\n",
        "print(word_counter_lifeVal)"
      ]
    },
    {
      "cell_type": "code",
      "execution_count": null,
      "metadata": {
        "id": "mcKqQ96Jit2i"
      },
      "outputs": [],
      "source": [
        "def contar_elementos(row):\n",
        "    return len(row[\"headings\"])"
      ]
    },
    {
      "cell_type": "code",
      "execution_count": null,
      "metadata": {
        "colab": {
          "base_uri": "https://localhost:8080/"
        },
        "id": "dXGcmVGki2Bz",
        "outputId": "35593b1c-ea38-4b13-a908-3465dd5ada1e"
      },
      "outputs": [
        {
          "name": "stdout",
          "output_type": "stream",
          "text": [
            "5     22214\n",
            "4      1772\n",
            "6       674\n",
            "3        42\n",
            "7        29\n",
            "2        10\n",
            "8        10\n",
            "9         6\n",
            "13        5\n",
            "11        4\n",
            "10        4\n",
            "12        2\n",
            "15        1\n",
            "Name: count, dtype: int64\n"
          ]
        }
      ],
      "source": [
        "numEle_plosTrain = dataPlosTrain.apply(contar_elementos, axis=1)\n",
        "print(numEle_plosTrain.value_counts())"
      ]
    },
    {
      "cell_type": "code",
      "execution_count": null,
      "metadata": {
        "colab": {
          "base_uri": "https://localhost:8080/"
        },
        "id": "mK6y4lStjTOP",
        "outputId": "dec9d8ce-ad7b-4c77-b492-f3bae8366aef"
      },
      "outputs": [
        {
          "name": "stdout",
          "output_type": "stream",
          "text": [
            "5    1219\n",
            "4     117\n",
            "6      34\n",
            "7       4\n",
            "3       1\n",
            "2       1\n",
            "Name: count, dtype: int64\n"
          ]
        }
      ],
      "source": [
        "numEle_plosVal = dataPlosVal.apply(contar_elementos, axis=1)\n",
        "print(numEle_plosVal.value_counts())"
      ]
    },
    {
      "cell_type": "code",
      "execution_count": null,
      "metadata": {
        "colab": {
          "base_uri": "https://localhost:8080/"
        },
        "id": "PIXQr4dxjUHg",
        "outputId": "d26a58d2-2beb-486c-8b3b-b047377be503"
      },
      "outputs": [
        {
          "name": "stdout",
          "output_type": "stream",
          "text": [
            "5    3912\n",
            "4     352\n",
            "6      34\n",
            "3      32\n",
            "2      13\n",
            "7       3\n",
            "Name: count, dtype: int64\n"
          ]
        }
      ],
      "source": [
        "numEle_lifeTrain = dataLifeTrain.apply(contar_elementos, axis=1)\n",
        "print(numEle_lifeTrain.value_counts())"
      ]
    },
    {
      "cell_type": "code",
      "execution_count": null,
      "metadata": {
        "colab": {
          "base_uri": "https://localhost:8080/"
        },
        "id": "akZiXsQfjUos",
        "outputId": "4a3b9ada-2c40-4b22-d823-b6334bb31593"
      },
      "outputs": [
        {
          "name": "stdout",
          "output_type": "stream",
          "text": [
            "5    217\n",
            "4     21\n",
            "3      2\n",
            "6      1\n",
            "Name: count, dtype: int64\n"
          ]
        }
      ],
      "source": [
        "numEle_lifeVal = dataLifeVal.apply(contar_elementos, axis=1)\n",
        "print(numEle_lifeVal.value_counts())"
      ]
    },
    {
      "cell_type": "markdown",
      "metadata": {
        "id": "7che-5s7kicj"
      },
      "source": [
        "## keywords"
      ]
    },
    {
      "cell_type": "code",
      "execution_count": null,
      "metadata": {
        "id": "HHoxd7DvnK2e"
      },
      "outputs": [],
      "source": [
        "def contar_elementos_kw(row):\n",
        "    return len(row[\"keywords\"])"
      ]
    },
    {
      "cell_type": "code",
      "execution_count": null,
      "metadata": {
        "colab": {
          "base_uri": "https://localhost:8080/"
        },
        "id": "-mD_UIWPnibk",
        "outputId": "b6968e79-e295-4f75-ba7b-b5922516f1bc"
      },
      "outputs": [
        {
          "name": "stdout",
          "output_type": "stream",
          "text": [
            "0     3471\n",
            "4     1506\n",
            "3     1480\n",
            "5     1268\n",
            "2     1128\n",
            "6     1032\n",
            "7      824\n",
            "8      720\n",
            "1      669\n",
            "9      606\n",
            "30     591\n",
            "29     550\n",
            "31     533\n",
            "28     508\n",
            "33     496\n",
            "32     496\n",
            "10     487\n",
            "26     481\n",
            "27     467\n",
            "34     455\n",
            "11     427\n",
            "25     424\n",
            "12     396\n",
            "24     382\n",
            "36     376\n",
            "35     355\n",
            "37     345\n",
            "13     343\n",
            "23     315\n",
            "22     302\n",
            "14     295\n",
            "15     279\n",
            "38     269\n",
            "20     257\n",
            "39     255\n",
            "21     232\n",
            "40     219\n",
            "16     217\n",
            "17     207\n",
            "19     202\n",
            "18     202\n",
            "41     187\n",
            "42     124\n",
            "43     120\n",
            "44      87\n",
            "45      60\n",
            "46      55\n",
            "47      22\n",
            "49      13\n",
            "48      12\n",
            "50       9\n",
            "52       9\n",
            "51       5\n",
            "57       1\n",
            "53       1\n",
            "68       1\n",
            "Name: count, dtype: int64\n"
          ]
        }
      ],
      "source": [
        "numEle_plosTrain_kw = dataPlosTrain.apply(contar_elementos_kw, axis=1)\n",
        "print(numEle_plosTrain_kw.value_counts())"
      ]
    },
    {
      "cell_type": "code",
      "execution_count": null,
      "metadata": {
        "colab": {
          "base_uri": "https://localhost:8080/"
        },
        "id": "XZan2xIYnibm",
        "outputId": "28432274-af8d-417d-8606-bd9a559b8e4c"
      },
      "outputs": [
        {
          "name": "stdout",
          "output_type": "stream",
          "text": [
            "0     194\n",
            "5      85\n",
            "3      82\n",
            "4      69\n",
            "6      63\n",
            "2      53\n",
            "7      50\n",
            "8      44\n",
            "9      41\n",
            "32     37\n",
            "27     35\n",
            "31     32\n",
            "10     31\n",
            "1      31\n",
            "29     30\n",
            "33     29\n",
            "25     29\n",
            "28     28\n",
            "35     27\n",
            "34     25\n",
            "30     25\n",
            "26     23\n",
            "22     22\n",
            "37     22\n",
            "38     21\n",
            "11     19\n",
            "12     18\n",
            "13     17\n",
            "36     17\n",
            "20     17\n",
            "24     17\n",
            "23     15\n",
            "14     14\n",
            "39     14\n",
            "19     14\n",
            "17     10\n",
            "42     10\n",
            "15      9\n",
            "43      8\n",
            "21      8\n",
            "44      7\n",
            "41      7\n",
            "16      7\n",
            "18      6\n",
            "40      6\n",
            "45      5\n",
            "47      2\n",
            "54      1\n",
            "Name: count, dtype: int64\n"
          ]
        }
      ],
      "source": [
        "numEle_plosVal_kw = dataPlosVal.apply(contar_elementos_kw, axis=1)\n",
        "print(numEle_plosVal_kw.value_counts())"
      ]
    },
    {
      "cell_type": "code",
      "execution_count": null,
      "metadata": {
        "colab": {
          "base_uri": "https://localhost:8080/"
        },
        "id": "C60oTp2ynibn",
        "outputId": "e6c272b2-cdac-45a6-bda8-b64fdf4528f1"
      },
      "outputs": [
        {
          "name": "stdout",
          "output_type": "stream",
          "text": [
            "2    2145\n",
            "1    1988\n",
            "3     211\n",
            "0       2\n",
            "Name: count, dtype: int64\n"
          ]
        }
      ],
      "source": [
        "numEle_lifeTrain_kw = dataLifeTrain.apply(contar_elementos_kw, axis=1)\n",
        "print(numEle_lifeTrain_kw.value_counts())"
      ]
    },
    {
      "cell_type": "code",
      "execution_count": null,
      "metadata": {
        "colab": {
          "base_uri": "https://localhost:8080/"
        },
        "id": "QXSmrk78nibo",
        "outputId": "8e3f18b5-a69e-4ac9-8296-5f086a361892"
      },
      "outputs": [
        {
          "name": "stdout",
          "output_type": "stream",
          "text": [
            "1    127\n",
            "2    107\n",
            "3      7\n",
            "Name: count, dtype: int64\n"
          ]
        }
      ],
      "source": [
        "numEle_lifeVal_kw = dataLifeVal.apply(contar_elementos_kw, axis=1)\n",
        "print(numEle_lifeVal_kw.value_counts())"
      ]
    },
    {
      "cell_type": "markdown",
      "metadata": {
        "id": "Wr5Vf5TClM0s"
      },
      "source": [
        "# Modelos\n"
      ]
    },
    {
      "cell_type": "markdown",
      "metadata": {
        "id": "lSD4_Hkf9w8D"
      },
      "source": [
        "## Modelo bio-BART"
      ]
    },
    {
      "cell_type": "code",
      "execution_count": null,
      "metadata": {
        "colab": {
          "base_uri": "https://localhost:8080/",
          "height": 365,
          "referenced_widgets": [
            "252ba8015811473ab5fe6fffdaef009b",
            "0e323eccf39b4c129de729370699f30f",
            "d3aebb4f90554a88a8cdac9384e46a9d",
            "237108ebcca0461ca36eec625f9e75cf",
            "5d5b0c73be154e208eedb33461bfe131",
            "3b247a1af99641269924af65bcc71b58",
            "39d4fe4e468349a08ed0a379c592a59c",
            "025050dab6e84b638bec00daa849f360",
            "121804cae2134de0b4f22935c8cfd6c5",
            "4fdcf2adae1a42ccb2c9f74a6e31f39f",
            "8f567a92d5144cfe8530c0f2443110cf",
            "d6644fe2d6f643b6bf9cb841cc82da10",
            "d4344bd1a25d4546868fbce376405d03",
            "ff27af79740b4c769a0a38ae420b62a8",
            "35960b4f41474470be8710b8530d0183",
            "7faf0aa1ee1d4d1598678c5eab843956",
            "df2cf122ae934c54b2afcd2ab0625cb3",
            "0d0d327988834b8d8eebbdfff71cdcf4",
            "e85c2ddb654049ae999f199e3a5f5de3",
            "335f56b22ef54b8a9ca7ed2d96dc7fe5",
            "fe39e3d6b2794c3d9107f70cf082b4c6",
            "b7aa6022d3304fb88965e1498dcdc3f9",
            "b69d2bb5ff8246aba707d2682e234fd3",
            "eee4f6d96eda4b389edd71f52cd43d1a",
            "85fedec7bfb24707a0ffa81bf7633186",
            "956351fc0bb8421db9109b42b49307dd",
            "15b176235add47cbbda7ca53ee60d6e8",
            "f242e3db14244b02b5291d62d97e67fa",
            "76f0c99d6a534049bf9f3fdfaf7df3fb",
            "81d5e5bde4524a87b2219f1dc092e26e",
            "ddf5cfe0e413405290fd7ca8de6a0266",
            "c70fce383bf4460d91816e9d5c17d9c1",
            "bd78688c68b043f88aedb2e95e71a124",
            "85c4e5879c47400097e61388922a7ec0",
            "8954999e18f6424f8997f0e7ca3024dc",
            "846669058195414db9f27cad564b7347",
            "11f48b6d30574fe0a89d77a76c99bb83",
            "5500dae5e552483883376e76c35156b3",
            "66b35fd761454d30ade7cff1a5ecc0c7",
            "039c535dacfb40b8a49d67288fafdb81",
            "25339e390e6042d2a0553e5bf2dedb67",
            "5acfb53230c54e9b87b9ca6312f1cc21",
            "afef9f269ddb4b6299f04a555bf20a56",
            "01c8f9419d9749cd87417288cd0645df",
            "ca0b06dcfa2c46a18f7e4a136d516b55",
            "c6e464e4a04b472086b806c45eadf692",
            "03bd4f252cfa4017b11767270fb5a80d",
            "4f23751e68f141a3b273d2c1c595597c",
            "36f1996863f84f1f96cc18f698492bc5",
            "687e7075f6b84bd3a3ed4f7ec218d130",
            "c4d06846c3054c7283bf703edee20e1e",
            "075a33d638154cc8a5f906b22eda2805",
            "e897fe5d9cea444b99033a5fab16d6d1",
            "ab4cc35ba58646adbebb8e760c063054",
            "cb5a426a317346ce8872e4750503cbac",
            "411932c6f3e846ae9fb571b8b028cea6",
            "da22792d790449ed8c4a28301b46149a",
            "d450da962ff44a0cb9ab1742940b831f",
            "e00960156889493e95447a62761d36a0",
            "52857cf268e54467b49b495cabe30d65",
            "28b592c2ccb04bdd9ff7d7ac83a77645",
            "27f7080ec79e4972aebf52db8e5cbaf2",
            "1a2b87f73d624f91843759b0fa8b1f1d",
            "cf0000f8295b4c8ba5a6a88320e04015",
            "d3bec73d461a4be4baf36efb7244e7fc",
            "cd61e1950d8b47dd90564e69e22e1e93"
          ]
        },
        "id": "GKodShEh9w8G",
        "outputId": "abd52d8c-7c4d-4e1b-b8cf-1581335d4124"
      },
      "outputs": [
        {
          "name": "stderr",
          "output_type": "stream",
          "text": [
            "/usr/local/lib/python3.10/dist-packages/huggingface_hub/file_download.py:1132: FutureWarning: `resume_download` is deprecated and will be removed in version 1.0.0. Downloads always resume when possible. If you want to force a new download, use `force_download=True`.\n",
            "  warnings.warn(\n",
            "/usr/local/lib/python3.10/dist-packages/huggingface_hub/utils/_token.py:89: UserWarning: \n",
            "The secret `HF_TOKEN` does not exist in your Colab secrets.\n",
            "To authenticate with the Hugging Face Hub, create a token in your settings tab (https://huggingface.co/settings/tokens), set it as secret in your Google Colab and restart your session.\n",
            "You will be able to reuse this secret in all of your notebooks.\n",
            "Please note that authentication is recommended but still optional to access public models or datasets.\n",
            "  warnings.warn(\n"
          ]
        },
        {
          "data": {
            "application/vnd.jupyter.widget-view+json": {
              "model_id": "252ba8015811473ab5fe6fffdaef009b",
              "version_major": 2,
              "version_minor": 0
            },
            "text/plain": [
              "tokenizer_config.json:   0%|          | 0.00/1.09k [00:00<?, ?B/s]"
            ]
          },
          "metadata": {},
          "output_type": "display_data"
        },
        {
          "data": {
            "application/vnd.jupyter.widget-view+json": {
              "model_id": "d6644fe2d6f643b6bf9cb841cc82da10",
              "version_major": 2,
              "version_minor": 0
            },
            "text/plain": [
              "vocab.json:   0%|          | 0.00/1.59M [00:00<?, ?B/s]"
            ]
          },
          "metadata": {},
          "output_type": "display_data"
        },
        {
          "data": {
            "application/vnd.jupyter.widget-view+json": {
              "model_id": "b69d2bb5ff8246aba707d2682e234fd3",
              "version_major": 2,
              "version_minor": 0
            },
            "text/plain": [
              "merges.txt:   0%|          | 0.00/892k [00:00<?, ?B/s]"
            ]
          },
          "metadata": {},
          "output_type": "display_data"
        },
        {
          "data": {
            "application/vnd.jupyter.widget-view+json": {
              "model_id": "85c4e5879c47400097e61388922a7ec0",
              "version_major": 2,
              "version_minor": 0
            },
            "text/plain": [
              "special_tokens_map.json:   0%|          | 0.00/772 [00:00<?, ?B/s]"
            ]
          },
          "metadata": {},
          "output_type": "display_data"
        },
        {
          "data": {
            "application/vnd.jupyter.widget-view+json": {
              "model_id": "ca0b06dcfa2c46a18f7e4a136d516b55",
              "version_major": 2,
              "version_minor": 0
            },
            "text/plain": [
              "config.json:   0%|          | 0.00/1.68k [00:00<?, ?B/s]"
            ]
          },
          "metadata": {},
          "output_type": "display_data"
        },
        {
          "data": {
            "application/vnd.jupyter.widget-view+json": {
              "model_id": "411932c6f3e846ae9fb571b8b028cea6",
              "version_major": 2,
              "version_minor": 0
            },
            "text/plain": [
              "model.safetensors:   0%|          | 0.00/1.77G [00:00<?, ?B/s]"
            ]
          },
          "metadata": {},
          "output_type": "display_data"
        }
      ],
      "source": [
        "from transformers import AutoTokenizer, AutoModelForSeq2SeqLM\n",
        "\n",
        "tokenizer = AutoTokenizer.from_pretrained(\"GanjinZero/biobart-v2-large\")\n",
        "model = AutoModelForSeq2SeqLM.from_pretrained(\"GanjinZero/biobart-v2-large\")\n"
      ]
    },
    {
      "cell_type": "markdown",
      "metadata": {
        "id": "QVUefU0T9w8J"
      },
      "source": [
        "### Crear Dict-dataset"
      ]
    },
    {
      "cell_type": "code",
      "execution_count": null,
      "metadata": {
        "id": "CTfTw88f9w8K"
      },
      "outputs": [],
      "source": [
        "X_train_plos = dataPlosTrain[\"abstractText\"]\n",
        "y_train_plos = dataPlosTrain[\"lay_summary\"]\n",
        "X_val_plos = dataPlosVal[\"abstractText\"]\n",
        "y_val_plos = dataPlosVal[\"lay_summary\"]\n",
        "#X_train_plos, X_test_plos, y_train_plos, y_test_plos = train_test_split(X_plos, y_plos, test_size=0.10, random_state=42)"
      ]
    },
    {
      "cell_type": "code",
      "execution_count": null,
      "metadata": {
        "id": "ZeeE2x8y9w8L"
      },
      "outputs": [],
      "source": [
        "X_train_elife = dataLifeTrain[\"abstractText\"]\n",
        "y_train_elife = dataLifeTrain[\"lay_summary\"]\n",
        "X_val_elife = dataLifeVal[\"abstractText\"]\n",
        "y_val_elife = dataLifeVal[\"lay_summary\"]\n",
        "#X_train_elife, X_test_elife, y_train_elife, y_test_elife = train_test_split(X_elife, y_elife, test_size=0.10, random_state=42)"
      ]
    },
    {
      "cell_type": "code",
      "execution_count": null,
      "metadata": {
        "id": "ktzVgdae9w8M"
      },
      "outputs": [],
      "source": [
        "X_train = pd.concat([X_train_elife, X_train_plos], ignore_index=True)\n",
        "y_train = pd.concat([y_train_elife, y_train_plos], ignore_index=True)\n",
        "X_val = pd.concat([X_val_elife, X_val_plos], ignore_index=True)\n",
        "y_val = pd.concat([y_val_elife, y_val_plos], ignore_index=True)"
      ]
    },
    {
      "cell_type": "code",
      "execution_count": null,
      "metadata": {
        "colab": {
          "base_uri": "https://localhost:8080/"
        },
        "id": "QmDrVj-_9w8N",
        "outputId": "1a492742-d8da-4082-bb63-5e04b8105f07"
      },
      "outputs": [
        {
          "name": "stdout",
          "output_type": "stream",
          "text": [
            "train PLOS: 24773 - 24773\n",
            "val PLOS: 1376 - 1376\n"
          ]
        }
      ],
      "source": [
        "print(\"train PLOS: {} - {}\".format(len(X_train_plos), len(y_train_plos)))\n",
        "#print(\"test PLOS: {} - {}\".format(len(X_test_plos), len(y_test_plos)))\n",
        "print(\"val PLOS: {} - {}\".format(len(X_val_plos), len(y_val_plos)))"
      ]
    },
    {
      "cell_type": "code",
      "execution_count": null,
      "metadata": {
        "colab": {
          "base_uri": "https://localhost:8080/"
        },
        "id": "mfkuiOIA9w8O",
        "outputId": "17062102-9511-4909-fdf9-440544498b5c"
      },
      "outputs": [
        {
          "name": "stdout",
          "output_type": "stream",
          "text": [
            "train eLife: 4346 - 4346\n",
            "val eLife: 241 - 241\n"
          ]
        }
      ],
      "source": [
        "print(\"train eLife: {} - {}\".format(len(X_train_elife), len(y_train_elife)))\n",
        "#print(\"test eLife: {} - {}\".format(len(X_test_elife), len(y_test_elife)))\n",
        "print(\"val eLife: {} - {}\".format(len(X_val_elife), len(y_val_elife)))"
      ]
    },
    {
      "cell_type": "code",
      "execution_count": null,
      "metadata": {
        "id": "SDLWtmu69w8Q"
      },
      "outputs": [],
      "source": [
        "train_plos = {\n",
        "    'document': X_train_plos,\n",
        "    'summary': y_train_plos\n",
        "}\n",
        "validation_plos = {\n",
        "    'document': X_val_plos,\n",
        "    'summary': y_val_plos\n",
        "}"
      ]
    },
    {
      "cell_type": "code",
      "execution_count": null,
      "metadata": {
        "id": "XSwdD1z29w8R"
      },
      "outputs": [],
      "source": [
        "train_elife = {\n",
        "    'document': X_train_elife,\n",
        "    'summary': y_train_elife\n",
        "}\n",
        "validation_elife = {\n",
        "    'document': X_val_elife,\n",
        "    'summary': y_val_elife\n",
        "}"
      ]
    },
    {
      "cell_type": "code",
      "execution_count": null,
      "metadata": {
        "id": "yGL_mMC39w8S"
      },
      "outputs": [],
      "source": [
        "validation_dataset_plos = Dataset.from_dict(validation_plos)\n",
        "train_dataset_plos = Dataset.from_dict(train_plos)\n",
        "#test_dataset_plos = Dataset.from_dict(test_plos)"
      ]
    },
    {
      "cell_type": "code",
      "execution_count": null,
      "metadata": {
        "id": "XwuGi-Gx9w8U"
      },
      "outputs": [],
      "source": [
        "validation_dataset_elife = Dataset.from_dict(validation_elife)\n",
        "train_dataset_elife = Dataset.from_dict(train_elife)\n",
        "#test_dataset_elife = Dataset.from_dict(test_elife)"
      ]
    },
    {
      "cell_type": "code",
      "execution_count": null,
      "metadata": {
        "colab": {
          "base_uri": "https://localhost:8080/"
        },
        "id": "WfHNPGZH9w8V",
        "outputId": "421bb76f-9d54-4758-fda8-a9e6f88e21df"
      },
      "outputs": [
        {
          "data": {
            "text/plain": [
              "DatasetDict({\n",
              "    train: Dataset({\n",
              "        features: ['document', 'summary'],\n",
              "        num_rows: 24773\n",
              "    })\n",
              "    validation: Dataset({\n",
              "        features: ['document', 'summary'],\n",
              "        num_rows: 1376\n",
              "    })\n",
              "})"
            ]
          },
          "execution_count": 20,
          "metadata": {},
          "output_type": "execute_result"
        }
      ],
      "source": [
        "dict_dataset_plos = DatasetDict({\n",
        "    'train': train_dataset_plos,\n",
        "    'validation': validation_dataset_plos,\n",
        "   #'test': test_dataset_plos\n",
        "})\n",
        "dict_dataset_plos"
      ]
    },
    {
      "cell_type": "code",
      "execution_count": null,
      "metadata": {
        "colab": {
          "base_uri": "https://localhost:8080/"
        },
        "id": "Y_5y1Mpx9w8X",
        "outputId": "96048648-27e5-4260-b86d-96fa03c60534"
      },
      "outputs": [
        {
          "data": {
            "text/plain": [
              "DatasetDict({\n",
              "    train: Dataset({\n",
              "        features: ['document', 'summary'],\n",
              "        num_rows: 4346\n",
              "    })\n",
              "    validation: Dataset({\n",
              "        features: ['document', 'summary'],\n",
              "        num_rows: 241\n",
              "    })\n",
              "})"
            ]
          },
          "execution_count": 16,
          "metadata": {},
          "output_type": "execute_result"
        }
      ],
      "source": [
        "dict_dataset_elife = DatasetDict({\n",
        "    'train': train_dataset_elife,\n",
        "    'validation': validation_dataset_elife,\n",
        "   #'test': test_dataset_elife\n",
        "})\n",
        "dict_dataset_elife"
      ]
    },
    {
      "cell_type": "markdown",
      "metadata": {
        "id": "b97YNfPv9w8Y"
      },
      "source": [
        "### tokenizador"
      ]
    },
    {
      "cell_type": "code",
      "execution_count": null,
      "metadata": {
        "id": "6AXbcLF89w8Z"
      },
      "outputs": [],
      "source": [
        "MAX_INPUT_LENGTH = 1024\n",
        "MAX_OUTPUT_LENGTH = 512\n",
        "\n",
        "def tokenize(examples):\n",
        "    model_inputs = tokenizer(examples[\"document\"], max_length=MAX_INPUT_LENGTH, padding=True, truncation=True, return_tensors=\"pt\")\n",
        "    labels = tokenizer(text_target=examples[\"summary\"], max_length=MAX_OUTPUT_LENGTH,  padding=True, truncation=True, return_tensors=\"pt\")\n",
        "    model_inputs[\"labels\"] = labels[\"input_ids\"]\n",
        "    return model_inputs"
      ]
    },
    {
      "cell_type": "code",
      "execution_count": null,
      "metadata": {
        "colab": {
          "base_uri": "https://localhost:8080/",
          "height": 285,
          "referenced_widgets": [
            "b37cf0f4065c4215bd928060097222e8",
            "a70da6fc3d0745d5999a78d1f6a9d116",
            "9791eb77985746a39ebb1079ef089b44",
            "7e43f896b4fa4cbd8c783a57d0df8f24",
            "734abe80e44046ffa45f7fa8bcccdd14",
            "e0bff2f4f1c04b4b92e2ec7bb9a7efdf",
            "5224eb4998514b03bce89e1a1b1eb86c",
            "083c1e7cd6c24d7681f96d3c73ca2fbb",
            "3cbcac7b336744d59c9885566a401674",
            "2364089ae15a40288ffe89f4d6c8ac9e",
            "c6f35bdb23174befbdf85362181e027b",
            "90b1ed260d2343b98072fe16f33ceac8",
            "70e6048e0caf482681aacf5dc03eeae1",
            "3f9e9c8519d644bfa5c527699bb52050",
            "b799d580e3514be48990f0eea1e00abd",
            "363bc7b4106049438da16b23d6f09f54",
            "b28e2f1ccdb1435aba36ff60168006c9",
            "f60432c2a2af4b54993a9bacaa7c1a13",
            "455cc91ec73b43858bce05c132f49dc9",
            "bf29c019f0534a69a7885c9380f051fc",
            "b7434a7e7b26415795b1ee0f31ad6ae8",
            "029b618fa0e84580bb9db92ef93b1ef0"
          ]
        },
        "id": "xz2mmTIE9w8a",
        "outputId": "919cdd8a-3d75-450a-b98f-2fbab166ac16"
      },
      "outputs": [
        {
          "data": {
            "application/vnd.jupyter.widget-view+json": {
              "model_id": "b37cf0f4065c4215bd928060097222e8",
              "version_major": 2,
              "version_minor": 0
            },
            "text/plain": [
              "Map:   0%|          | 0/24773 [00:00<?, ? examples/s]"
            ]
          },
          "metadata": {},
          "output_type": "display_data"
        },
        {
          "data": {
            "application/vnd.jupyter.widget-view+json": {
              "model_id": "90b1ed260d2343b98072fe16f33ceac8",
              "version_major": 2,
              "version_minor": 0
            },
            "text/plain": [
              "Map:   0%|          | 0/1376 [00:00<?, ? examples/s]"
            ]
          },
          "metadata": {},
          "output_type": "display_data"
        },
        {
          "data": {
            "text/plain": [
              "DatasetDict({\n",
              "    train: Dataset({\n",
              "        features: ['document', 'summary', 'input_ids', 'attention_mask', 'labels'],\n",
              "        num_rows: 24773\n",
              "    })\n",
              "    validation: Dataset({\n",
              "        features: ['document', 'summary', 'input_ids', 'attention_mask', 'labels'],\n",
              "        num_rows: 1376\n",
              "    })\n",
              "})"
            ]
          },
          "execution_count": 22,
          "metadata": {},
          "output_type": "execute_result"
        }
      ],
      "source": [
        "encoded_dataset_plos = dict_dataset_plos.map(tokenize, batched=True)\n",
        "encoded_dataset_plos"
      ]
    },
    {
      "cell_type": "code",
      "execution_count": null,
      "metadata": {
        "colab": {
          "base_uri": "https://localhost:8080/",
          "height": 251,
          "referenced_widgets": [
            "e681c334d34e474f8b7ec9963b13e5d7",
            "8fce9b00ae994c45b13bff5d26373c5e",
            "80c650e33d8f4b6eaff7a55f280c81ef",
            "cfffd6018460410e87ba561d9fcd1fad",
            "140ef0d976ca4287b67a9e163905739c",
            "f046fca606d444c0b94cf434cc7ca81e",
            "da15b279cc5547519ea1c7b10b3d43f2",
            "0115196ffdb049898f64b330f4c5cc1e",
            "a7e40329468b4100b53c1956f540f170",
            "c836060fadd6406aa22d4b35b68da6fd",
            "072418b700cd4085ae039824f41c06db",
            "7239ada9f0914f53b31d287eca824037",
            "1fae5e1caa8f4b9196223522659ea7b3",
            "469a9295cc144cdb9896128b4fc126e9",
            "b1c89abeecdf4e6abd9c2bdc16817cb6",
            "48227e826cd94b3f8a4ee6735c979a3f",
            "326a876edf544450b633a5ac017c0f1b",
            "c4d6bef8a4b64b0c86869aa5e0f58345",
            "fb1add749ea9428a956edcb9e19debcb",
            "6069a3d983184876b0a273091e2285ea",
            "f2f6361ea4ae40b6bae94d0d29d2525e",
            "1cb09753e6ef4de7abf663c492dc569f"
          ]
        },
        "id": "IWX81oH89w8b",
        "outputId": "d0aeb08c-d594-4a43-9d27-0aa55dce7889"
      },
      "outputs": [
        {
          "data": {
            "application/vnd.jupyter.widget-view+json": {
              "model_id": "e681c334d34e474f8b7ec9963b13e5d7",
              "version_major": 2,
              "version_minor": 0
            },
            "text/plain": [
              "Map:   0%|          | 0/4346 [00:00<?, ? examples/s]"
            ]
          },
          "metadata": {},
          "output_type": "display_data"
        },
        {
          "data": {
            "application/vnd.jupyter.widget-view+json": {
              "model_id": "7239ada9f0914f53b31d287eca824037",
              "version_major": 2,
              "version_minor": 0
            },
            "text/plain": [
              "Map:   0%|          | 0/241 [00:00<?, ? examples/s]"
            ]
          },
          "metadata": {},
          "output_type": "display_data"
        },
        {
          "data": {
            "text/plain": [
              "DatasetDict({\n",
              "    train: Dataset({\n",
              "        features: ['document', 'summary', 'input_ids', 'attention_mask', 'labels'],\n",
              "        num_rows: 4346\n",
              "    })\n",
              "    validation: Dataset({\n",
              "        features: ['document', 'summary', 'input_ids', 'attention_mask', 'labels'],\n",
              "        num_rows: 241\n",
              "    })\n",
              "})"
            ]
          },
          "execution_count": 19,
          "metadata": {},
          "output_type": "execute_result"
        }
      ],
      "source": [
        "encoded_dataset_elife = dict_dataset_elife.map(tokenize, batched=True)\n",
        "encoded_dataset_elife"
      ]
    },
    {
      "cell_type": "markdown",
      "metadata": {
        "id": "HKZrKlxr9w8c"
      },
      "source": [
        "### Training"
      ]
    },
    {
      "cell_type": "code",
      "execution_count": null,
      "metadata": {
        "id": "MWks27Ws9w8d"
      },
      "outputs": [],
      "source": [
        "batch_size = 4\n",
        "\n",
        "args = Seq2SeqTrainingArguments(\n",
        "    output_dir='./outputs',\n",
        "    evaluation_strategy = 'epoch',\n",
        "    learning_rate=2e-5,\n",
        "    per_device_train_batch_size=batch_size,\n",
        "    per_device_eval_batch_size=batch_size,\n",
        "    weight_decay=0.01,\n",
        "    save_total_limit=3,\n",
        "    num_train_epochs=2,\n",
        "    predict_with_generate=True,\n",
        "    fp16=True,\n",
        ")"
      ]
    },
    {
      "cell_type": "code",
      "execution_count": null,
      "metadata": {
        "id": "rVO76O3P9w8e"
      },
      "outputs": [],
      "source": [
        "from transformers import DataCollatorForSeq2Seq\n",
        "data_collator = DataCollatorForSeq2Seq(tokenizer, model=model)"
      ]
    },
    {
      "cell_type": "code",
      "execution_count": null,
      "metadata": {
        "id": "Cpx94FCF9w8e"
      },
      "outputs": [],
      "source": [
        "trainer = Seq2SeqTrainer(\n",
        "    model = model,\n",
        "    args = args,\n",
        "    train_dataset=encoded_dataset_plos[\"train\"],\n",
        "    eval_dataset=encoded_dataset_plos[\"validation\"],\n",
        "    data_collator=data_collator,\n",
        "    tokenizer=tokenizer\n",
        ")"
      ]
    },
    {
      "cell_type": "code",
      "execution_count": null,
      "metadata": {
        "colab": {
          "base_uri": "https://localhost:8080/",
          "height": 1000
        },
        "id": "x6blhLbI9w8f",
        "outputId": "4f64d40b-d739-4021-b6c9-0a16fdc7b0a0"
      },
      "outputs": [
        {
          "data": {
            "text/html": [
              "\n",
              "    <div>\n",
              "      \n",
              "      <progress value='10729' max='12388' style='width:300px; height:20px; vertical-align: middle;'></progress>\n",
              "      [10729/12388 1:44:37 < 16:10, 1.71 it/s, Epoch 1.73/2]\n",
              "    </div>\n",
              "    <table border=\"1\" class=\"dataframe\">\n",
              "  <thead>\n",
              " <tr style=\"text-align: left;\">\n",
              "      <th>Epoch</th>\n",
              "      <th>Training Loss</th>\n",
              "      <th>Validation Loss</th>\n",
              "    </tr>\n",
              "  </thead>\n",
              "  <tbody>\n",
              "    <tr>\n",
              "      <td>1</td>\n",
              "      <td>1.020600</td>\n",
              "      <td>0.959888</td>\n",
              "    </tr>\n",
              "  </tbody>\n",
              "</table><p>"
            ],
            "text/plain": [
              "<IPython.core.display.HTML object>"
            ]
          },
          "metadata": {},
          "output_type": "display_data"
        },
        {
          "name": "stderr",
          "output_type": "stream",
          "text": [
            "Some non-default generation parameters are set in the model config. These should go into a GenerationConfig file (https://huggingface.co/docs/transformers/generation_strategies#save-a-custom-decoding-strategy-with-your-model) instead. This warning will be raised to an exception in v4.41.\n",
            "Non-default generation parameters: {'early_stopping': True, 'num_beams': 4, 'no_repeat_ngram_size': 3, 'forced_eos_token_id': 2}\n",
            "Some non-default generation parameters are set in the model config. These should go into a GenerationConfig file (https://huggingface.co/docs/transformers/generation_strategies#save-a-custom-decoding-strategy-with-your-model) instead. This warning will be raised to an exception in v4.41.\n",
            "Non-default generation parameters: {'early_stopping': True, 'num_beams': 4, 'no_repeat_ngram_size': 3, 'forced_eos_token_id': 2}\n",
            "Some non-default generation parameters are set in the model config. These should go into a GenerationConfig file (https://huggingface.co/docs/transformers/generation_strategies#save-a-custom-decoding-strategy-with-your-model) instead. This warning will be raised to an exception in v4.41.\n",
            "Non-default generation parameters: {'early_stopping': True, 'num_beams': 4, 'no_repeat_ngram_size': 3, 'forced_eos_token_id': 2}\n",
            "Some non-default generation parameters are set in the model config. These should go into a GenerationConfig file (https://huggingface.co/docs/transformers/generation_strategies#save-a-custom-decoding-strategy-with-your-model) instead. This warning will be raised to an exception in v4.41.\n",
            "Non-default generation parameters: {'early_stopping': True, 'num_beams': 4, 'no_repeat_ngram_size': 3, 'forced_eos_token_id': 2}\n",
            "Some non-default generation parameters are set in the model config. These should go into a GenerationConfig file (https://huggingface.co/docs/transformers/generation_strategies#save-a-custom-decoding-strategy-with-your-model) instead. This warning will be raised to an exception in v4.41.\n",
            "Non-default generation parameters: {'early_stopping': True, 'num_beams': 4, 'no_repeat_ngram_size': 3, 'forced_eos_token_id': 2}\n",
            "Some non-default generation parameters are set in the model config. These should go into a GenerationConfig file (https://huggingface.co/docs/transformers/generation_strategies#save-a-custom-decoding-strategy-with-your-model) instead. This warning will be raised to an exception in v4.41.\n",
            "Non-default generation parameters: {'early_stopping': True, 'num_beams': 4, 'no_repeat_ngram_size': 3, 'forced_eos_token_id': 2}\n",
            "Some non-default generation parameters are set in the model config. These should go into a GenerationConfig file (https://huggingface.co/docs/transformers/generation_strategies#save-a-custom-decoding-strategy-with-your-model) instead. This warning will be raised to an exception in v4.41.\n",
            "Non-default generation parameters: {'early_stopping': True, 'num_beams': 4, 'no_repeat_ngram_size': 3, 'forced_eos_token_id': 2}\n",
            "Some non-default generation parameters are set in the model config. These should go into a GenerationConfig file (https://huggingface.co/docs/transformers/generation_strategies#save-a-custom-decoding-strategy-with-your-model) instead. This warning will be raised to an exception in v4.41.\n",
            "Non-default generation parameters: {'early_stopping': True, 'num_beams': 4, 'no_repeat_ngram_size': 3, 'forced_eos_token_id': 2}\n",
            "Some non-default generation parameters are set in the model config. These should go into a GenerationConfig file (https://huggingface.co/docs/transformers/generation_strategies#save-a-custom-decoding-strategy-with-your-model) instead. This warning will be raised to an exception in v4.41.\n",
            "Non-default generation parameters: {'early_stopping': True, 'num_beams': 4, 'no_repeat_ngram_size': 3, 'forced_eos_token_id': 2}\n",
            "Some non-default generation parameters are set in the model config. These should go into a GenerationConfig file (https://huggingface.co/docs/transformers/generation_strategies#save-a-custom-decoding-strategy-with-your-model) instead. This warning will be raised to an exception in v4.41.\n",
            "Non-default generation parameters: {'early_stopping': True, 'num_beams': 4, 'no_repeat_ngram_size': 3, 'forced_eos_token_id': 2}\n",
            "Some non-default generation parameters are set in the model config. These should go into a GenerationConfig file (https://huggingface.co/docs/transformers/generation_strategies#save-a-custom-decoding-strategy-with-your-model) instead. This warning will be raised to an exception in v4.41.\n",
            "Non-default generation parameters: {'early_stopping': True, 'num_beams': 4, 'no_repeat_ngram_size': 3, 'forced_eos_token_id': 2}\n",
            "Some non-default generation parameters are set in the model config. These should go into a GenerationConfig file (https://huggingface.co/docs/transformers/generation_strategies#save-a-custom-decoding-strategy-with-your-model) instead. This warning will be raised to an exception in v4.41.\n",
            "Non-default generation parameters: {'early_stopping': True, 'num_beams': 4, 'no_repeat_ngram_size': 3, 'forced_eos_token_id': 2}\n",
            "Some non-default generation parameters are set in the model config. These should go into a GenerationConfig file (https://huggingface.co/docs/transformers/generation_strategies#save-a-custom-decoding-strategy-with-your-model) instead. This warning will be raised to an exception in v4.41.\n",
            "Non-default generation parameters: {'early_stopping': True, 'num_beams': 4, 'no_repeat_ngram_size': 3, 'forced_eos_token_id': 2}\n",
            "Some non-default generation parameters are set in the model config. These should go into a GenerationConfig file (https://huggingface.co/docs/transformers/generation_strategies#save-a-custom-decoding-strategy-with-your-model) instead. This warning will be raised to an exception in v4.41.\n",
            "Non-default generation parameters: {'early_stopping': True, 'num_beams': 4, 'no_repeat_ngram_size': 3, 'forced_eos_token_id': 2}\n",
            "Some non-default generation parameters are set in the model config. These should go into a GenerationConfig file (https://huggingface.co/docs/transformers/generation_strategies#save-a-custom-decoding-strategy-with-your-model) instead. This warning will be raised to an exception in v4.41.\n",
            "Non-default generation parameters: {'early_stopping': True, 'num_beams': 4, 'no_repeat_ngram_size': 3, 'forced_eos_token_id': 2}\n",
            "Some non-default generation parameters are set in the model config. These should go into a GenerationConfig file (https://huggingface.co/docs/transformers/generation_strategies#save-a-custom-decoding-strategy-with-your-model) instead. This warning will be raised to an exception in v4.41.\n",
            "Non-default generation parameters: {'early_stopping': True, 'num_beams': 4, 'no_repeat_ngram_size': 3, 'forced_eos_token_id': 2}\n",
            "Some non-default generation parameters are set in the model config. These should go into a GenerationConfig file (https://huggingface.co/docs/transformers/generation_strategies#save-a-custom-decoding-strategy-with-your-model) instead. This warning will be raised to an exception in v4.41.\n",
            "Non-default generation parameters: {'early_stopping': True, 'num_beams': 4, 'no_repeat_ngram_size': 3, 'forced_eos_token_id': 2}\n",
            "Some non-default generation parameters are set in the model config. These should go into a GenerationConfig file (https://huggingface.co/docs/transformers/generation_strategies#save-a-custom-decoding-strategy-with-your-model) instead. This warning will be raised to an exception in v4.41.\n",
            "Non-default generation parameters: {'early_stopping': True, 'num_beams': 4, 'no_repeat_ngram_size': 3, 'forced_eos_token_id': 2}\n",
            "Some non-default generation parameters are set in the model config. These should go into a GenerationConfig file (https://huggingface.co/docs/transformers/generation_strategies#save-a-custom-decoding-strategy-with-your-model) instead. This warning will be raised to an exception in v4.41.\n",
            "Non-default generation parameters: {'early_stopping': True, 'num_beams': 4, 'no_repeat_ngram_size': 3, 'forced_eos_token_id': 2}\n",
            "Some non-default generation parameters are set in the model config. These should go into a GenerationConfig file (https://huggingface.co/docs/transformers/generation_strategies#save-a-custom-decoding-strategy-with-your-model) instead. This warning will be raised to an exception in v4.41.\n",
            "Non-default generation parameters: {'early_stopping': True, 'num_beams': 4, 'no_repeat_ngram_size': 3, 'forced_eos_token_id': 2}\n",
            "Some non-default generation parameters are set in the model config. These should go into a GenerationConfig file (https://huggingface.co/docs/transformers/generation_strategies#save-a-custom-decoding-strategy-with-your-model) instead. This warning will be raised to an exception in v4.41.\n",
            "Non-default generation parameters: {'early_stopping': True, 'num_beams': 4, 'no_repeat_ngram_size': 3, 'forced_eos_token_id': 2}\n"
          ]
        },
        {
          "data": {
            "text/html": [
              "\n",
              "    <div>\n",
              "      \n",
              "      <progress value='12388' max='12388' style='width:300px; height:20px; vertical-align: middle;'></progress>\n",
              "      [12388/12388 2:01:13, Epoch 2/2]\n",
              "    </div>\n",
              "    <table border=\"1\" class=\"dataframe\">\n",
              "  <thead>\n",
              " <tr style=\"text-align: left;\">\n",
              "      <th>Epoch</th>\n",
              "      <th>Training Loss</th>\n",
              "      <th>Validation Loss</th>\n",
              "    </tr>\n",
              "  </thead>\n",
              "  <tbody>\n",
              "    <tr>\n",
              "      <td>1</td>\n",
              "      <td>1.020600</td>\n",
              "      <td>0.959888</td>\n",
              "    </tr>\n",
              "    <tr>\n",
              "      <td>2</td>\n",
              "      <td>0.946700</td>\n",
              "      <td>0.953426</td>\n",
              "    </tr>\n",
              "  </tbody>\n",
              "</table><p>"
            ],
            "text/plain": [
              "<IPython.core.display.HTML object>"
            ]
          },
          "metadata": {},
          "output_type": "display_data"
        },
        {
          "name": "stderr",
          "output_type": "stream",
          "text": [
            "Some non-default generation parameters are set in the model config. These should go into a GenerationConfig file (https://huggingface.co/docs/transformers/generation_strategies#save-a-custom-decoding-strategy-with-your-model) instead. This warning will be raised to an exception in v4.41.\n",
            "Non-default generation parameters: {'early_stopping': True, 'num_beams': 4, 'no_repeat_ngram_size': 3, 'forced_eos_token_id': 2}\n",
            "Some non-default generation parameters are set in the model config. These should go into a GenerationConfig file (https://huggingface.co/docs/transformers/generation_strategies#save-a-custom-decoding-strategy-with-your-model) instead. This warning will be raised to an exception in v4.41.\n",
            "Non-default generation parameters: {'early_stopping': True, 'num_beams': 4, 'no_repeat_ngram_size': 3, 'forced_eos_token_id': 2}\n",
            "Some non-default generation parameters are set in the model config. These should go into a GenerationConfig file (https://huggingface.co/docs/transformers/generation_strategies#save-a-custom-decoding-strategy-with-your-model) instead. This warning will be raised to an exception in v4.41.\n",
            "Non-default generation parameters: {'early_stopping': True, 'num_beams': 4, 'no_repeat_ngram_size': 3, 'forced_eos_token_id': 2}\n"
          ]
        },
        {
          "data": {
            "text/plain": [
              "TrainOutput(global_step=12388, training_loss=0.9821252942970579, metrics={'train_runtime': 7275.1766, 'train_samples_per_second': 6.81, 'train_steps_per_second': 1.703, 'total_flos': 8.998725148127232e+16, 'train_loss': 0.9821252942970579, 'epoch': 2.0})"
            ]
          },
          "execution_count": 27,
          "metadata": {},
          "output_type": "execute_result"
        }
      ],
      "source": [
        "trainer.train()"
      ]
    },
    {
      "cell_type": "code",
      "execution_count": null,
      "metadata": {
        "colab": {
          "base_uri": "https://localhost:8080/"
        },
        "id": "AueHrOHC9w8g",
        "outputId": "b34b7849-559f-485a-c0c3-687c248f9e08"
      },
      "outputs": [
        {
          "name": "stderr",
          "output_type": "stream",
          "text": [
            "Some non-default generation parameters are set in the model config. These should go into a GenerationConfig file (https://huggingface.co/docs/transformers/generation_strategies#save-a-custom-decoding-strategy-with-your-model) instead. This warning will be raised to an exception in v4.41.\n",
            "Non-default generation parameters: {'early_stopping': True, 'num_beams': 4, 'no_repeat_ngram_size': 3, 'forced_eos_token_id': 2}\n"
          ]
        }
      ],
      "source": [
        "trainer.save_model(\"/content/drive/MyDrive/TFM/models/modeloBioBARTplos-Abstract\")"
      ]
    },
    {
      "cell_type": "code",
      "execution_count": null,
      "metadata": {
        "id": "0k1KSwlz9w8h"
      },
      "outputs": [],
      "source": [
        "trainer_eLife.evaluate()"
      ]
    },
    {
      "cell_type": "markdown",
      "metadata": {
        "id": "AdK8xWUI3TRg"
      },
      "source": [
        "## LED"
      ]
    },
    {
      "cell_type": "code",
      "execution_count": null,
      "metadata": {
        "id": "qmTQ38l44Xog",
        "colab": {
          "base_uri": "https://localhost:8080/",
          "height": 397,
          "referenced_widgets": [
            "df98842244ff446abfdf1bb67c952344",
            "1d7412d010054b9aa775ada3dc5ef388",
            "17c3cc390aa040ac8e9ae4115ca9d1dd",
            "172c6df3676c41fa92fd7b7b91a2429c",
            "e5f24cc684814f6795ffa6a0b76ce046",
            "244728ee985a4f4d99826b9a09eba6f4",
            "ed6127837e2e40509b82523e9310e82e",
            "f9cc28617fa94bcaaa550b306ed62b7f",
            "4b0a7ca8d9a34cb7a035fca686a2b3f5",
            "8b5f2c20f7fd46298b1537ee09817fdb",
            "979127d1e8ad43359c6931414f06077f",
            "f4fac0eb01234679b44998ab0e06b41a",
            "207c0b4c3c60412db5e85db837f7e6aa",
            "0178624b6a014339a8636a7f5a0ac723",
            "b4ec45fe077d43d2ada386ad688ebc90",
            "c98cce02e3b24283a4c681886a477220",
            "1c4e932e54504669a8cac6912741d320",
            "90342acdcdeb4fdaab5a89a08b8087f1",
            "0f020c9034b94a7cb9f6de63e442c54e",
            "944971d0e1e646f092ad75e5c8fa63c4",
            "fbc41ec3fc4741d8b7513bcf040b2922",
            "bbe17a1cf36248e9abe8844b3ed1d288",
            "420d35b41bf847dbb6962e63c2131c7e",
            "598a1145cdd0421ebc8861f5710fc2a1",
            "ef663ca5843343369daa94acbc22080e",
            "f76f79063d434ebeaf1617354ae3312c",
            "e25c41a91a3f4e6eab02bc1a67c11fa7",
            "46344151050447e0adb295779044c92a",
            "d55d049059714ab586f3f59121cd47bb",
            "ed59a67dbb5948ab8207ebe9370af553",
            "70dca7ef45ad4df7b8dfdce67ccd6a76",
            "97ca1a4071894362b88927f6ea643639",
            "b1380c39a2f9423696915b49e60765a7",
            "73adef7dc8594aae99863c483b78b281",
            "5b3c371c2a3c470eb2f08b9c6bc4627a",
            "b4fabcd4bcc94b4eab25fe4192870ea2",
            "34b62973bd5d45cbaa4c3665f450b3f1",
            "ec3ef341231c4c27927f66ff41d95a58",
            "4ea871ed4482478aae5f80f72108d2cb",
            "06d7e87be8c34da290a44d47ae883b44",
            "3bac624aeb4048b5a2dcefb997713a9d",
            "48e0be94703348dba6335fc3b652cd5e",
            "b4edd0a677ea4d08804b0a8191b0825d",
            "5079996460ef4217817045c09bf090cb",
            "b218a08830ff40f580c15508e1fe664d",
            "0436e8a090864711964c6d469ebfe48e",
            "ccc410d5c82b4eecbccd8e240a066368",
            "8d1053f3c9e84b318a24d22031dd8d6a",
            "b5b636b5d0614119b3ebdc5b4b6b8d15",
            "89cb0819c2694b16afca1f9b8551ce5f",
            "e12e1eeddf0740639f5e6f6c0e8291a5",
            "10df6abb37e34a5fbbdfe8d4070f8954",
            "d6c95e20c1e649d797ca327c7fb350eb",
            "4daf39461a274437a079be4faf78e4f2",
            "49ddf16d917541ba917f39f6edd46336",
            "c7424526e7664f82b58280f6af5252ad",
            "491feb359919414e90428e40493f2464",
            "0f1da1f3c18749f7adbfe28a9934de56",
            "8a4cb87fa33d45128ed99fc0f939d9ea",
            "b6d3a2925b4b419b96290f1b65b3109e",
            "813bbabd38604b3580e57e8cac2054fa",
            "28873a7b391844a3b9261bb8c8070603",
            "cfb5b0682b4e4002a0eed2277480c07d",
            "83efe4a4cf2341d98b970063db8444c3",
            "54d15116135c4494b3ed48ee2deca7d6",
            "f08f3d368924454db78c1bc0641c0a1e",
            "a6df8b8b36b942bdb22b5188526a7fab",
            "cb555c6cce50451fa77044f661570930",
            "23a6c4a8b4af4cbb930d4b355a89fb25",
            "3d01af5bff28406db3e2b1a34370c3b8",
            "37453cfa1b044c229ea656380c183048",
            "4546868c3d294c8c9b4b85342df5f05b",
            "64d9e7337aaf4348ac45c921864a603d",
            "0d56464cbd94487ea9cd7eafdab659ef",
            "e830b0c009b34e54bc3c7653ba1b652b",
            "51dbe97afa944659888571bfff4665a2",
            "fcc3f5f799c7450b888380e57ee4525a"
          ]
        },
        "outputId": "4e841bcc-b9dd-42cb-977a-825edde5a92c"
      },
      "outputs": [
        {
          "output_type": "stream",
          "name": "stderr",
          "text": [
            "/usr/local/lib/python3.10/dist-packages/huggingface_hub/file_download.py:1132: FutureWarning: `resume_download` is deprecated and will be removed in version 1.0.0. Downloads always resume when possible. If you want to force a new download, use `force_download=True`.\n",
            "  warnings.warn(\n",
            "/usr/local/lib/python3.10/dist-packages/huggingface_hub/utils/_token.py:89: UserWarning: \n",
            "The secret `HF_TOKEN` does not exist in your Colab secrets.\n",
            "To authenticate with the Hugging Face Hub, create a token in your settings tab (https://huggingface.co/settings/tokens), set it as secret in your Google Colab and restart your session.\n",
            "You will be able to reuse this secret in all of your notebooks.\n",
            "Please note that authentication is recommended but still optional to access public models or datasets.\n",
            "  warnings.warn(\n"
          ]
        },
        {
          "output_type": "display_data",
          "data": {
            "text/plain": [
              "tokenizer_config.json:   0%|          | 0.00/27.0 [00:00<?, ?B/s]"
            ],
            "application/vnd.jupyter.widget-view+json": {
              "version_major": 2,
              "version_minor": 0,
              "model_id": "df98842244ff446abfdf1bb67c952344"
            }
          },
          "metadata": {}
        },
        {
          "output_type": "display_data",
          "data": {
            "text/plain": [
              "config.json:   0%|          | 0.00/1.09k [00:00<?, ?B/s]"
            ],
            "application/vnd.jupyter.widget-view+json": {
              "version_major": 2,
              "version_minor": 0,
              "model_id": "f4fac0eb01234679b44998ab0e06b41a"
            }
          },
          "metadata": {}
        },
        {
          "output_type": "display_data",
          "data": {
            "text/plain": [
              "vocab.json:   0%|          | 0.00/899k [00:00<?, ?B/s]"
            ],
            "application/vnd.jupyter.widget-view+json": {
              "version_major": 2,
              "version_minor": 0,
              "model_id": "420d35b41bf847dbb6962e63c2131c7e"
            }
          },
          "metadata": {}
        },
        {
          "output_type": "display_data",
          "data": {
            "text/plain": [
              "merges.txt:   0%|          | 0.00/456k [00:00<?, ?B/s]"
            ],
            "application/vnd.jupyter.widget-view+json": {
              "version_major": 2,
              "version_minor": 0,
              "model_id": "73adef7dc8594aae99863c483b78b281"
            }
          },
          "metadata": {}
        },
        {
          "output_type": "display_data",
          "data": {
            "text/plain": [
              "special_tokens_map.json:   0%|          | 0.00/772 [00:00<?, ?B/s]"
            ],
            "application/vnd.jupyter.widget-view+json": {
              "version_major": 2,
              "version_minor": 0,
              "model_id": "b218a08830ff40f580c15508e1fe664d"
            }
          },
          "metadata": {}
        },
        {
          "output_type": "display_data",
          "data": {
            "text/plain": [
              "pytorch_model.bin:   0%|          | 0.00/648M [00:00<?, ?B/s]"
            ],
            "application/vnd.jupyter.widget-view+json": {
              "version_major": 2,
              "version_minor": 0,
              "model_id": "c7424526e7664f82b58280f6af5252ad"
            }
          },
          "metadata": {}
        },
        {
          "output_type": "display_data",
          "data": {
            "text/plain": [
              "generation_config.json:   0%|          | 0.00/168 [00:00<?, ?B/s]"
            ],
            "application/vnd.jupyter.widget-view+json": {
              "version_major": 2,
              "version_minor": 0,
              "model_id": "a6df8b8b36b942bdb22b5188526a7fab"
            }
          },
          "metadata": {}
        }
      ],
      "source": [
        "from transformers import LongformerTokenizer, LongformerForSequenceClassification, Trainer, TrainingArguments\n",
        "import torch\n",
        "\n",
        "tokenizer = AutoTokenizer.from_pretrained(\"allenai/led-base-16384\")\n",
        "model = AutoModelForSeq2SeqLM.from_pretrained(\"allenai/led-base-16384\", gradient_checkpointing=True, use_cache=False)"
      ]
    },
    {
      "cell_type": "code",
      "execution_count": null,
      "metadata": {
        "id": "GmUwW3pdA2p3"
      },
      "outputs": [],
      "source": [
        "# set generate hyperparameters\n",
        "model.config.num_beams = 2\n",
        "model.config.max_length = 512\n",
        "model.config.min_length = 100\n",
        "model.config.length_penalty = 2.0\n",
        "model.config.early_stopping = True\n",
        "model.config.no_repeat_ngram_size = 3\n",
        "max_input_length = 12000 # it is calculated\n",
        "max_output_length = 1024\n",
        "batch_size = 1"
      ]
    },
    {
      "cell_type": "markdown",
      "metadata": {
        "id": "IzMgkXAb6iS2"
      },
      "source": [
        "### Dataset"
      ]
    },
    {
      "cell_type": "code",
      "execution_count": null,
      "metadata": {
        "id": "2tKByaHW6iS5"
      },
      "outputs": [],
      "source": [
        "def datasetXtokens(dataset, tokens=12000):\n",
        "  dataset[\"tokens\"] = dataset[\"article\"].apply(lambda text: len(text.split()))\n",
        "  df = dataset[dataset[\"tokens\"] < tokens]\n",
        "  return df"
      ]
    },
    {
      "cell_type": "code",
      "source": [
        "dataPlosTrainT5 = datasetXtokens(dataPlosTrain)\n",
        "dataPlosValT5 = datasetXtokens(dataPlosVal)\n",
        "dataLifeTrainT5 = datasetXtokens(dataLifeTrain)\n",
        "dataLifeValT5 = datasetXtokens(dataLifeVal)"
      ],
      "metadata": {
        "id": "TIICNkbIZu3a"
      },
      "execution_count": null,
      "outputs": []
    },
    {
      "cell_type": "markdown",
      "metadata": {
        "id": "_vKSFlZL6iTB"
      },
      "source": [
        "### DictDataset"
      ]
    },
    {
      "cell_type": "code",
      "execution_count": null,
      "metadata": {
        "id": "oZtgaD7f6iTC"
      },
      "outputs": [],
      "source": [
        "X_train_plos = dataPlosTrainT5[\"article\"]\n",
        "y_train_plos = dataPlosTrainT5[\"lay_summary\"]\n",
        "X_val_plos = dataPlosValT5[\"article\"]\n",
        "y_val_plos = dataPlosValT5[\"lay_summary\"]\n",
        "#X_train_plos, X_test_plos, y_train_plos, y_test_plos = train_test_split(X_plos, y_plos, test_size=0.10, random_state=42)"
      ]
    },
    {
      "cell_type": "code",
      "execution_count": null,
      "metadata": {
        "id": "Hpj-y1LT6iTD"
      },
      "outputs": [],
      "source": [
        "X_train_elife = dataLifeTrainT5[\"article\"]\n",
        "y_train_elife = dataLifeTrainT5[\"lay_summary\"]\n",
        "X_val_elife = dataLifeValT5[\"article\"]\n",
        "y_val_elife = dataLifeValT5[\"lay_summary\"]\n",
        "#X_train_elife, X_test_elife, y_train_elife, y_test_elife = train_test_split(X_elife, y_elife, test_size=0.10, random_state=42)"
      ]
    },
    {
      "cell_type": "code",
      "execution_count": null,
      "metadata": {
        "id": "_6dfqnp76iTF"
      },
      "outputs": [],
      "source": [
        "X_train = pd.concat([X_train_elife, X_train_plos], ignore_index=True)\n",
        "y_train = pd.concat([y_train_elife, y_train_plos], ignore_index=True)\n",
        "X_val = pd.concat([X_val_elife, X_val_plos], ignore_index=True)\n",
        "y_val = pd.concat([y_val_elife, y_val_plos], ignore_index=True)"
      ]
    },
    {
      "cell_type": "code",
      "execution_count": null,
      "metadata": {
        "id": "V8pBD4OC6iTM"
      },
      "outputs": [],
      "source": [
        "train_plos = {\n",
        "    'document': X_train,\n",
        "    'summary': y_train\n",
        "}\n",
        "validation_plos = {\n",
        "    'document': X_val,\n",
        "    'summary': y_val\n",
        "}"
      ]
    },
    {
      "cell_type": "code",
      "execution_count": null,
      "metadata": {
        "id": "UEh4Jt_t6iTO"
      },
      "outputs": [],
      "source": [
        "val_dataset = Dataset.from_dict(validation_plos)\n",
        "train_dataset = Dataset.from_dict(train_plos)\n",
        "#test_dataset_plos = Dataset.from_dict(test_plos)"
      ]
    },
    {
      "cell_type": "code",
      "execution_count": null,
      "metadata": {
        "colab": {
          "base_uri": "https://localhost:8080/"
        },
        "id": "4CFb3DwY6iTR",
        "outputId": "fb1996b9-8f56-4bca-8ed9-be5d0cab3e47"
      },
      "outputs": [
        {
          "output_type": "execute_result",
          "data": {
            "text/plain": [
              "DatasetDict({\n",
              "    train: Dataset({\n",
              "        features: ['document', 'summary'],\n",
              "        num_rows: 14102\n",
              "    })\n",
              "    validation: Dataset({\n",
              "        features: ['document', 'summary'],\n",
              "        num_rows: 800\n",
              "    })\n",
              "})"
            ]
          },
          "metadata": {},
          "execution_count": 23
        }
      ],
      "source": [
        "dict_dataset = DatasetDict({\n",
        "    'train': train_dataset,\n",
        "    'validation': val_dataset,\n",
        "   #'test': test_dataset_plos\n",
        "})\n",
        "dict_dataset"
      ]
    },
    {
      "cell_type": "markdown",
      "metadata": {
        "id": "FFKoKShZ63rb"
      },
      "source": [
        "### Tokenizador"
      ]
    },
    {
      "cell_type": "code",
      "execution_count": null,
      "metadata": {
        "id": "9htXM8y2Biia"
      },
      "outputs": [],
      "source": [
        "def process_data_to_model_inputs(batch):\n",
        "    # tokenize the inputs and labels\n",
        "    inputs = tokenizer(\n",
        "        batch[\"document\"],\n",
        "        padding='max_length',\n",
        "        truncation=True,\n",
        "        max_length=max_input_length,\n",
        "    )\n",
        "    outputs = tokenizer(\n",
        "        batch[\"summary\"],\n",
        "        padding=\"max_length\",\n",
        "        truncation=True,\n",
        "        max_length=max_output_length,\n",
        "    )\n",
        "\n",
        "    batch[\"input_ids\"] = inputs.input_ids\n",
        "    batch[\"attention_mask\"] = inputs.attention_mask\n",
        "\n",
        "    # create 0 global_attention_mask lists\n",
        "    batch[\"global_attention_mask\"] = len(batch[\"input_ids\"]) * [\n",
        "        [0 for _ in range(len(batch[\"input_ids\"][0]))]\n",
        "    ]\n",
        "\n",
        "    # since above lists are references, the following line changes the 0 index for all samples\n",
        "    batch[\"global_attention_mask\"][0][0] = 1\n",
        "    batch[\"labels\"] = outputs.input_ids\n",
        "\n",
        "    # We have to make sure that the PAD token is ignored\n",
        "    batch[\"labels\"] = [\n",
        "        [-100 if token == tokenizer.pad_token_id else token for token in labels]\n",
        "        for labels in batch[\"labels\"]\n",
        "    ]\n",
        "\n",
        "    return batch"
      ]
    },
    {
      "cell_type": "code",
      "execution_count": null,
      "metadata": {
        "colab": {
          "base_uri": "https://localhost:8080/",
          "height": 81,
          "referenced_widgets": [
            "d14fe8e7c5c74fde91b5f4ff5e574f1c",
            "6752156ab72d444a9f6526dda464f868",
            "f0b6fc1950ba460581245f0a9c378ed2",
            "921e4638166440d7914edba97d47272c",
            "657a1bde283c4116bdea1bf139b3dc54",
            "fd635a15c53b48638a10a77404de8a62",
            "9c6515824f3d4050a93f2769be14fb4e",
            "93d5eb2b5e1b404cb0cc719c708df68c",
            "47cf7617768d4f578800c486e353d83d",
            "6b9ed80282734ca7b052a96802a1d32f",
            "f1b584109168405d91b6504f4f7149e7",
            "5e1d98664b7c4e57b606229985a2f973",
            "79dc641638cc4adebb953bbebbb7b884",
            "8ecbd04610b843e3a4b965a156989f10",
            "758c009aa4ae44fba16f9ad6a45af163",
            "171ba479f30a4d848418a7a5d83e288d",
            "138ec0c1a3aa44e287f1279ba914d125",
            "b89aea6c8ad34e008d3f1e01be430f8c",
            "42a40c01b19147deb008b12f0c771480",
            "4a484df1594941e681274c785255a655",
            "9cf0104df8bf47bd879a16a9c25f9dcc",
            "f55dab378dd14d28872b108f1f1eecbc"
          ]
        },
        "id": "IXj807v2B5RP",
        "outputId": "5297ae6e-7061-400a-efaa-325666809689"
      },
      "outputs": [
        {
          "output_type": "display_data",
          "data": {
            "text/plain": [
              "Map:   0%|          | 0/14102 [00:00<?, ? examples/s]"
            ],
            "application/vnd.jupyter.widget-view+json": {
              "version_major": 2,
              "version_minor": 0,
              "model_id": "d14fe8e7c5c74fde91b5f4ff5e574f1c"
            }
          },
          "metadata": {}
        },
        {
          "output_type": "display_data",
          "data": {
            "text/plain": [
              "Map:   0%|          | 0/800 [00:00<?, ? examples/s]"
            ],
            "application/vnd.jupyter.widget-view+json": {
              "version_major": 2,
              "version_minor": 0,
              "model_id": "5e1d98664b7c4e57b606229985a2f973"
            }
          },
          "metadata": {}
        }
      ],
      "source": [
        "train_dataset = train_dataset.map(\n",
        "    process_data_to_model_inputs,\n",
        "    batched=True,\n",
        "    batch_size=batch_size,\n",
        "    remove_columns=[\"document\", \"summary\"],\n",
        ")\n",
        "\n",
        "train_dataset.set_format(\n",
        "    type=\"torch\",\n",
        "    columns=[\"input_ids\", \"attention_mask\", \"global_attention_mask\", \"labels\"],\n",
        ")\n",
        "\n",
        "val_dataset = val_dataset.map(\n",
        "    process_data_to_model_inputs,\n",
        "    batched=True,\n",
        "    batch_size=batch_size,\n",
        "    remove_columns=[\"document\", \"summary\"],\n",
        ")\n",
        "\n",
        "val_dataset.set_format(\n",
        "    type=\"torch\",\n",
        "    columns=[\"input_ids\", \"attention_mask\", \"global_attention_mask\", \"labels\"],\n",
        ")"
      ]
    },
    {
      "cell_type": "markdown",
      "metadata": {
        "id": "sTmMsR-96-zp"
      },
      "source": [
        "### Train"
      ]
    },
    {
      "cell_type": "code",
      "execution_count": null,
      "metadata": {
        "id": "aO5_QBsp7Gdq"
      },
      "outputs": [],
      "source": [
        "training_args = Seq2SeqTrainingArguments(\n",
        "    predict_with_generate=True,\n",
        "    evaluation_strategy=\"steps\",\n",
        "    per_device_train_batch_size=batch_size,\n",
        "    per_device_eval_batch_size=batch_size,\n",
        "    fp16=True,\n",
        "    output_dir=\"./\",\n",
        "    logging_steps=250,\n",
        "    eval_steps=2500,\n",
        "    save_steps=2500,\n",
        "    save_total_limit=2,\n",
        "    gradient_accumulation_steps=4,\n",
        "    num_train_epochs=1,\n",
        ")"
      ]
    },
    {
      "cell_type": "code",
      "execution_count": null,
      "metadata": {
        "id": "cCZwz2-w7PHg"
      },
      "outputs": [],
      "source": [
        "trainer = Seq2SeqTrainer(\n",
        "    model=model,\n",
        "    tokenizer=tokenizer,\n",
        "    args=training_args,\n",
        "    #compute_metrics=compute_metrics,\n",
        "    train_dataset=train_dataset,\n",
        "    eval_dataset=val_dataset,\n",
        ")"
      ]
    },
    {
      "cell_type": "code",
      "execution_count": null,
      "metadata": {
        "colab": {
          "base_uri": "https://localhost:8080/",
          "height": 228
        },
        "id": "9pwy65EG7Ua3",
        "outputId": "42e558a3-3f8a-42b3-a419-7e6a52afcaef"
      },
      "outputs": [
        {
          "output_type": "display_data",
          "data": {
            "text/plain": [
              "<IPython.core.display.HTML object>"
            ],
            "text/html": [
              "\n",
              "    <div>\n",
              "      \n",
              "      <progress value='3525' max='3525' style='width:300px; height:20px; vertical-align: middle;'></progress>\n",
              "      [3525/3525 1:34:21, Epoch 0/1]\n",
              "    </div>\n",
              "    <table border=\"1\" class=\"dataframe\">\n",
              "  <thead>\n",
              " <tr style=\"text-align: left;\">\n",
              "      <th>Step</th>\n",
              "      <th>Training Loss</th>\n",
              "      <th>Validation Loss</th>\n",
              "    </tr>\n",
              "  </thead>\n",
              "  <tbody>\n",
              "    <tr>\n",
              "      <td>2500</td>\n",
              "      <td>2.289700</td>\n",
              "      <td>2.224426</td>\n",
              "    </tr>\n",
              "  </tbody>\n",
              "</table><p>"
            ]
          },
          "metadata": {}
        },
        {
          "output_type": "stream",
          "name": "stderr",
          "text": [
            "Some non-default generation parameters are set in the model config. These should go into a GenerationConfig file (https://huggingface.co/docs/transformers/generation_strategies#save-a-custom-decoding-strategy-with-your-model) instead. This warning will be raised to an exception in v4.41.\n",
            "Non-default generation parameters: {'max_length': 512, 'min_length': 100, 'early_stopping': True, 'num_beams': 2, 'length_penalty': 2.0, 'no_repeat_ngram_size': 3}\n",
            "Your generation config was originally created from the model config, but the model config has changed since then. Unless you pass the `generation_config` argument to this model's `generate` calls, they will revert to the legacy behavior where the base `generate` parameterization is loaded from the model config instead. To avoid this behavior and this warning, we recommend you to overwrite the generation config model attribute before calling the model's `save_pretrained`, preferably also removing any generation kwargs from the model config. This warning will be raised to an exception in v4.41.\n"
          ]
        },
        {
          "output_type": "execute_result",
          "data": {
            "text/plain": [
              "TrainOutput(global_step=3525, training_loss=2.3453664641684675, metrics={'train_runtime': 5664.5919, 'train_samples_per_second': 2.489, 'train_steps_per_second': 0.622, 'total_flos': 6.66275542990848e+16, 'train_loss': 2.3453664641684675, 'epoch': 0.9998581761452277})"
            ]
          },
          "metadata": {},
          "execution_count": 28
        }
      ],
      "source": [
        "trainer.train()"
      ]
    },
    {
      "cell_type": "code",
      "execution_count": null,
      "metadata": {
        "id": "ET8zJh0DNL1a",
        "colab": {
          "base_uri": "https://localhost:8080/"
        },
        "outputId": "cce0b81e-8ab9-4240-eb8d-e75b03b4561f"
      },
      "outputs": [
        {
          "output_type": "stream",
          "name": "stderr",
          "text": [
            "Some non-default generation parameters are set in the model config. These should go into a GenerationConfig file (https://huggingface.co/docs/transformers/generation_strategies#save-a-custom-decoding-strategy-with-your-model) instead. This warning will be raised to an exception in v4.41.\n",
            "Non-default generation parameters: {'max_length': 512, 'min_length': 100, 'early_stopping': True, 'num_beams': 2, 'length_penalty': 2.0, 'no_repeat_ngram_size': 3}\n",
            "Your generation config was originally created from the model config, but the model config has changed since then. Unless you pass the `generation_config` argument to this model's `generate` calls, they will revert to the legacy behavior where the base `generate` parameterization is loaded from the model config instead. To avoid this behavior and this warning, we recommend you to overwrite the generation config model attribute before calling the model's `save_pretrained`, preferably also removing any generation kwargs from the model config. This warning will be raised to an exception in v4.41.\n"
          ]
        }
      ],
      "source": [
        "trainer.save_model(\"/content/drive/MyDrive/TFM/models/modeloLED-7k\")"
      ]
    }
  ],
  "metadata": {
    "colab": {
      "collapsed_sections": [
        "b9tG0UGcg_Mf",
        "RZ_Y8Go97ZUm"
      ],
      "toc_visible": true,
      "provenance": []
    },
    "kernelspec": {
      "display_name": "Python 3",
      "name": "python3"
    },
    "language_info": {
      "name": "python"
    },
    "widgets": {
      "application/vnd.jupyter.widget-state+json": {
        "0115196ffdb049898f64b330f4c5cc1e": {
          "model_module": "@jupyter-widgets/base",
          "model_module_version": "1.2.0",
          "model_name": "LayoutModel",
          "state": {
            "_model_module": "@jupyter-widgets/base",
            "_model_module_version": "1.2.0",
            "_model_name": "LayoutModel",
            "_view_count": null,
            "_view_module": "@jupyter-widgets/base",
            "_view_module_version": "1.2.0",
            "_view_name": "LayoutView",
            "align_content": null,
            "align_items": null,
            "align_self": null,
            "border": null,
            "bottom": null,
            "display": null,
            "flex": null,
            "flex_flow": null,
            "grid_area": null,
            "grid_auto_columns": null,
            "grid_auto_flow": null,
            "grid_auto_rows": null,
            "grid_column": null,
            "grid_gap": null,
            "grid_row": null,
            "grid_template_areas": null,
            "grid_template_columns": null,
            "grid_template_rows": null,
            "height": null,
            "justify_content": null,
            "justify_items": null,
            "left": null,
            "margin": null,
            "max_height": null,
            "max_width": null,
            "min_height": null,
            "min_width": null,
            "object_fit": null,
            "object_position": null,
            "order": null,
            "overflow": null,
            "overflow_x": null,
            "overflow_y": null,
            "padding": null,
            "right": null,
            "top": null,
            "visibility": null,
            "width": null
          }
        },
        "01c8f9419d9749cd87417288cd0645df": {
          "model_module": "@jupyter-widgets/controls",
          "model_module_version": "1.5.0",
          "model_name": "DescriptionStyleModel",
          "state": {
            "_model_module": "@jupyter-widgets/controls",
            "_model_module_version": "1.5.0",
            "_model_name": "DescriptionStyleModel",
            "_view_count": null,
            "_view_module": "@jupyter-widgets/base",
            "_view_module_version": "1.2.0",
            "_view_name": "StyleView",
            "description_width": ""
          }
        },
        "025050dab6e84b638bec00daa849f360": {
          "model_module": "@jupyter-widgets/base",
          "model_module_version": "1.2.0",
          "model_name": "LayoutModel",
          "state": {
            "_model_module": "@jupyter-widgets/base",
            "_model_module_version": "1.2.0",
            "_model_name": "LayoutModel",
            "_view_count": null,
            "_view_module": "@jupyter-widgets/base",
            "_view_module_version": "1.2.0",
            "_view_name": "LayoutView",
            "align_content": null,
            "align_items": null,
            "align_self": null,
            "border": null,
            "bottom": null,
            "display": null,
            "flex": null,
            "flex_flow": null,
            "grid_area": null,
            "grid_auto_columns": null,
            "grid_auto_flow": null,
            "grid_auto_rows": null,
            "grid_column": null,
            "grid_gap": null,
            "grid_row": null,
            "grid_template_areas": null,
            "grid_template_columns": null,
            "grid_template_rows": null,
            "height": null,
            "justify_content": null,
            "justify_items": null,
            "left": null,
            "margin": null,
            "max_height": null,
            "max_width": null,
            "min_height": null,
            "min_width": null,
            "object_fit": null,
            "object_position": null,
            "order": null,
            "overflow": null,
            "overflow_x": null,
            "overflow_y": null,
            "padding": null,
            "right": null,
            "top": null,
            "visibility": null,
            "width": null
          }
        },
        "029b618fa0e84580bb9db92ef93b1ef0": {
          "model_module": "@jupyter-widgets/controls",
          "model_module_version": "1.5.0",
          "model_name": "DescriptionStyleModel",
          "state": {
            "_model_module": "@jupyter-widgets/controls",
            "_model_module_version": "1.5.0",
            "_model_name": "DescriptionStyleModel",
            "_view_count": null,
            "_view_module": "@jupyter-widgets/base",
            "_view_module_version": "1.2.0",
            "_view_name": "StyleView",
            "description_width": ""
          }
        },
        "039c535dacfb40b8a49d67288fafdb81": {
          "model_module": "@jupyter-widgets/controls",
          "model_module_version": "1.5.0",
          "model_name": "DescriptionStyleModel",
          "state": {
            "_model_module": "@jupyter-widgets/controls",
            "_model_module_version": "1.5.0",
            "_model_name": "DescriptionStyleModel",
            "_view_count": null,
            "_view_module": "@jupyter-widgets/base",
            "_view_module_version": "1.2.0",
            "_view_name": "StyleView",
            "description_width": ""
          }
        },
        "03bd4f252cfa4017b11767270fb5a80d": {
          "model_module": "@jupyter-widgets/controls",
          "model_module_version": "1.5.0",
          "model_name": "FloatProgressModel",
          "state": {
            "_dom_classes": [],
            "_model_module": "@jupyter-widgets/controls",
            "_model_module_version": "1.5.0",
            "_model_name": "FloatProgressModel",
            "_view_count": null,
            "_view_module": "@jupyter-widgets/controls",
            "_view_module_version": "1.5.0",
            "_view_name": "ProgressView",
            "bar_style": "success",
            "description": "",
            "description_tooltip": null,
            "layout": "IPY_MODEL_075a33d638154cc8a5f906b22eda2805",
            "max": 1682,
            "min": 0,
            "orientation": "horizontal",
            "style": "IPY_MODEL_e897fe5d9cea444b99033a5fab16d6d1",
            "value": 1682
          }
        },
        "072418b700cd4085ae039824f41c06db": {
          "model_module": "@jupyter-widgets/controls",
          "model_module_version": "1.5.0",
          "model_name": "DescriptionStyleModel",
          "state": {
            "_model_module": "@jupyter-widgets/controls",
            "_model_module_version": "1.5.0",
            "_model_name": "DescriptionStyleModel",
            "_view_count": null,
            "_view_module": "@jupyter-widgets/base",
            "_view_module_version": "1.2.0",
            "_view_name": "StyleView",
            "description_width": ""
          }
        },
        "075a33d638154cc8a5f906b22eda2805": {
          "model_module": "@jupyter-widgets/base",
          "model_module_version": "1.2.0",
          "model_name": "LayoutModel",
          "state": {
            "_model_module": "@jupyter-widgets/base",
            "_model_module_version": "1.2.0",
            "_model_name": "LayoutModel",
            "_view_count": null,
            "_view_module": "@jupyter-widgets/base",
            "_view_module_version": "1.2.0",
            "_view_name": "LayoutView",
            "align_content": null,
            "align_items": null,
            "align_self": null,
            "border": null,
            "bottom": null,
            "display": null,
            "flex": null,
            "flex_flow": null,
            "grid_area": null,
            "grid_auto_columns": null,
            "grid_auto_flow": null,
            "grid_auto_rows": null,
            "grid_column": null,
            "grid_gap": null,
            "grid_row": null,
            "grid_template_areas": null,
            "grid_template_columns": null,
            "grid_template_rows": null,
            "height": null,
            "justify_content": null,
            "justify_items": null,
            "left": null,
            "margin": null,
            "max_height": null,
            "max_width": null,
            "min_height": null,
            "min_width": null,
            "object_fit": null,
            "object_position": null,
            "order": null,
            "overflow": null,
            "overflow_x": null,
            "overflow_y": null,
            "padding": null,
            "right": null,
            "top": null,
            "visibility": null,
            "width": null
          }
        },
        "083c1e7cd6c24d7681f96d3c73ca2fbb": {
          "model_module": "@jupyter-widgets/base",
          "model_module_version": "1.2.0",
          "model_name": "LayoutModel",
          "state": {
            "_model_module": "@jupyter-widgets/base",
            "_model_module_version": "1.2.0",
            "_model_name": "LayoutModel",
            "_view_count": null,
            "_view_module": "@jupyter-widgets/base",
            "_view_module_version": "1.2.0",
            "_view_name": "LayoutView",
            "align_content": null,
            "align_items": null,
            "align_self": null,
            "border": null,
            "bottom": null,
            "display": null,
            "flex": null,
            "flex_flow": null,
            "grid_area": null,
            "grid_auto_columns": null,
            "grid_auto_flow": null,
            "grid_auto_rows": null,
            "grid_column": null,
            "grid_gap": null,
            "grid_row": null,
            "grid_template_areas": null,
            "grid_template_columns": null,
            "grid_template_rows": null,
            "height": null,
            "justify_content": null,
            "justify_items": null,
            "left": null,
            "margin": null,
            "max_height": null,
            "max_width": null,
            "min_height": null,
            "min_width": null,
            "object_fit": null,
            "object_position": null,
            "order": null,
            "overflow": null,
            "overflow_x": null,
            "overflow_y": null,
            "padding": null,
            "right": null,
            "top": null,
            "visibility": null,
            "width": null
          }
        },
        "0d0d327988834b8d8eebbdfff71cdcf4": {
          "model_module": "@jupyter-widgets/controls",
          "model_module_version": "1.5.0",
          "model_name": "DescriptionStyleModel",
          "state": {
            "_model_module": "@jupyter-widgets/controls",
            "_model_module_version": "1.5.0",
            "_model_name": "DescriptionStyleModel",
            "_view_count": null,
            "_view_module": "@jupyter-widgets/base",
            "_view_module_version": "1.2.0",
            "_view_name": "StyleView",
            "description_width": ""
          }
        },
        "0e323eccf39b4c129de729370699f30f": {
          "model_module": "@jupyter-widgets/controls",
          "model_module_version": "1.5.0",
          "model_name": "HTMLModel",
          "state": {
            "_dom_classes": [],
            "_model_module": "@jupyter-widgets/controls",
            "_model_module_version": "1.5.0",
            "_model_name": "HTMLModel",
            "_view_count": null,
            "_view_module": "@jupyter-widgets/controls",
            "_view_module_version": "1.5.0",
            "_view_name": "HTMLView",
            "description": "",
            "description_tooltip": null,
            "layout": "IPY_MODEL_3b247a1af99641269924af65bcc71b58",
            "placeholder": "​",
            "style": "IPY_MODEL_39d4fe4e468349a08ed0a379c592a59c",
            "value": "tokenizer_config.json: 100%"
          }
        },
        "11f48b6d30574fe0a89d77a76c99bb83": {
          "model_module": "@jupyter-widgets/controls",
          "model_module_version": "1.5.0",
          "model_name": "HTMLModel",
          "state": {
            "_dom_classes": [],
            "_model_module": "@jupyter-widgets/controls",
            "_model_module_version": "1.5.0",
            "_model_name": "HTMLModel",
            "_view_count": null,
            "_view_module": "@jupyter-widgets/controls",
            "_view_module_version": "1.5.0",
            "_view_name": "HTMLView",
            "description": "",
            "description_tooltip": null,
            "layout": "IPY_MODEL_afef9f269ddb4b6299f04a555bf20a56",
            "placeholder": "​",
            "style": "IPY_MODEL_01c8f9419d9749cd87417288cd0645df",
            "value": " 772/772 [00:00&lt;00:00, 61.6kB/s]"
          }
        },
        "121804cae2134de0b4f22935c8cfd6c5": {
          "model_module": "@jupyter-widgets/controls",
          "model_module_version": "1.5.0",
          "model_name": "ProgressStyleModel",
          "state": {
            "_model_module": "@jupyter-widgets/controls",
            "_model_module_version": "1.5.0",
            "_model_name": "ProgressStyleModel",
            "_view_count": null,
            "_view_module": "@jupyter-widgets/base",
            "_view_module_version": "1.2.0",
            "_view_name": "StyleView",
            "bar_color": null,
            "description_width": ""
          }
        },
        "140ef0d976ca4287b67a9e163905739c": {
          "model_module": "@jupyter-widgets/base",
          "model_module_version": "1.2.0",
          "model_name": "LayoutModel",
          "state": {
            "_model_module": "@jupyter-widgets/base",
            "_model_module_version": "1.2.0",
            "_model_name": "LayoutModel",
            "_view_count": null,
            "_view_module": "@jupyter-widgets/base",
            "_view_module_version": "1.2.0",
            "_view_name": "LayoutView",
            "align_content": null,
            "align_items": null,
            "align_self": null,
            "border": null,
            "bottom": null,
            "display": null,
            "flex": null,
            "flex_flow": null,
            "grid_area": null,
            "grid_auto_columns": null,
            "grid_auto_flow": null,
            "grid_auto_rows": null,
            "grid_column": null,
            "grid_gap": null,
            "grid_row": null,
            "grid_template_areas": null,
            "grid_template_columns": null,
            "grid_template_rows": null,
            "height": null,
            "justify_content": null,
            "justify_items": null,
            "left": null,
            "margin": null,
            "max_height": null,
            "max_width": null,
            "min_height": null,
            "min_width": null,
            "object_fit": null,
            "object_position": null,
            "order": null,
            "overflow": null,
            "overflow_x": null,
            "overflow_y": null,
            "padding": null,
            "right": null,
            "top": null,
            "visibility": null,
            "width": null
          }
        },
        "15b176235add47cbbda7ca53ee60d6e8": {
          "model_module": "@jupyter-widgets/base",
          "model_module_version": "1.2.0",
          "model_name": "LayoutModel",
          "state": {
            "_model_module": "@jupyter-widgets/base",
            "_model_module_version": "1.2.0",
            "_model_name": "LayoutModel",
            "_view_count": null,
            "_view_module": "@jupyter-widgets/base",
            "_view_module_version": "1.2.0",
            "_view_name": "LayoutView",
            "align_content": null,
            "align_items": null,
            "align_self": null,
            "border": null,
            "bottom": null,
            "display": null,
            "flex": null,
            "flex_flow": null,
            "grid_area": null,
            "grid_auto_columns": null,
            "grid_auto_flow": null,
            "grid_auto_rows": null,
            "grid_column": null,
            "grid_gap": null,
            "grid_row": null,
            "grid_template_areas": null,
            "grid_template_columns": null,
            "grid_template_rows": null,
            "height": null,
            "justify_content": null,
            "justify_items": null,
            "left": null,
            "margin": null,
            "max_height": null,
            "max_width": null,
            "min_height": null,
            "min_width": null,
            "object_fit": null,
            "object_position": null,
            "order": null,
            "overflow": null,
            "overflow_x": null,
            "overflow_y": null,
            "padding": null,
            "right": null,
            "top": null,
            "visibility": null,
            "width": null
          }
        },
        "1a2b87f73d624f91843759b0fa8b1f1d": {
          "model_module": "@jupyter-widgets/base",
          "model_module_version": "1.2.0",
          "model_name": "LayoutModel",
          "state": {
            "_model_module": "@jupyter-widgets/base",
            "_model_module_version": "1.2.0",
            "_model_name": "LayoutModel",
            "_view_count": null,
            "_view_module": "@jupyter-widgets/base",
            "_view_module_version": "1.2.0",
            "_view_name": "LayoutView",
            "align_content": null,
            "align_items": null,
            "align_self": null,
            "border": null,
            "bottom": null,
            "display": null,
            "flex": null,
            "flex_flow": null,
            "grid_area": null,
            "grid_auto_columns": null,
            "grid_auto_flow": null,
            "grid_auto_rows": null,
            "grid_column": null,
            "grid_gap": null,
            "grid_row": null,
            "grid_template_areas": null,
            "grid_template_columns": null,
            "grid_template_rows": null,
            "height": null,
            "justify_content": null,
            "justify_items": null,
            "left": null,
            "margin": null,
            "max_height": null,
            "max_width": null,
            "min_height": null,
            "min_width": null,
            "object_fit": null,
            "object_position": null,
            "order": null,
            "overflow": null,
            "overflow_x": null,
            "overflow_y": null,
            "padding": null,
            "right": null,
            "top": null,
            "visibility": null,
            "width": null
          }
        },
        "1cb09753e6ef4de7abf663c492dc569f": {
          "model_module": "@jupyter-widgets/controls",
          "model_module_version": "1.5.0",
          "model_name": "DescriptionStyleModel",
          "state": {
            "_model_module": "@jupyter-widgets/controls",
            "_model_module_version": "1.5.0",
            "_model_name": "DescriptionStyleModel",
            "_view_count": null,
            "_view_module": "@jupyter-widgets/base",
            "_view_module_version": "1.2.0",
            "_view_name": "StyleView",
            "description_width": ""
          }
        },
        "1fae5e1caa8f4b9196223522659ea7b3": {
          "model_module": "@jupyter-widgets/controls",
          "model_module_version": "1.5.0",
          "model_name": "HTMLModel",
          "state": {
            "_dom_classes": [],
            "_model_module": "@jupyter-widgets/controls",
            "_model_module_version": "1.5.0",
            "_model_name": "HTMLModel",
            "_view_count": null,
            "_view_module": "@jupyter-widgets/controls",
            "_view_module_version": "1.5.0",
            "_view_name": "HTMLView",
            "description": "",
            "description_tooltip": null,
            "layout": "IPY_MODEL_326a876edf544450b633a5ac017c0f1b",
            "placeholder": "​",
            "style": "IPY_MODEL_c4d6bef8a4b64b0c86869aa5e0f58345",
            "value": "Map: 100%"
          }
        },
        "2364089ae15a40288ffe89f4d6c8ac9e": {
          "model_module": "@jupyter-widgets/base",
          "model_module_version": "1.2.0",
          "model_name": "LayoutModel",
          "state": {
            "_model_module": "@jupyter-widgets/base",
            "_model_module_version": "1.2.0",
            "_model_name": "LayoutModel",
            "_view_count": null,
            "_view_module": "@jupyter-widgets/base",
            "_view_module_version": "1.2.0",
            "_view_name": "LayoutView",
            "align_content": null,
            "align_items": null,
            "align_self": null,
            "border": null,
            "bottom": null,
            "display": null,
            "flex": null,
            "flex_flow": null,
            "grid_area": null,
            "grid_auto_columns": null,
            "grid_auto_flow": null,
            "grid_auto_rows": null,
            "grid_column": null,
            "grid_gap": null,
            "grid_row": null,
            "grid_template_areas": null,
            "grid_template_columns": null,
            "grid_template_rows": null,
            "height": null,
            "justify_content": null,
            "justify_items": null,
            "left": null,
            "margin": null,
            "max_height": null,
            "max_width": null,
            "min_height": null,
            "min_width": null,
            "object_fit": null,
            "object_position": null,
            "order": null,
            "overflow": null,
            "overflow_x": null,
            "overflow_y": null,
            "padding": null,
            "right": null,
            "top": null,
            "visibility": null,
            "width": null
          }
        },
        "237108ebcca0461ca36eec625f9e75cf": {
          "model_module": "@jupyter-widgets/controls",
          "model_module_version": "1.5.0",
          "model_name": "HTMLModel",
          "state": {
            "_dom_classes": [],
            "_model_module": "@jupyter-widgets/controls",
            "_model_module_version": "1.5.0",
            "_model_name": "HTMLModel",
            "_view_count": null,
            "_view_module": "@jupyter-widgets/controls",
            "_view_module_version": "1.5.0",
            "_view_name": "HTMLView",
            "description": "",
            "description_tooltip": null,
            "layout": "IPY_MODEL_4fdcf2adae1a42ccb2c9f74a6e31f39f",
            "placeholder": "​",
            "style": "IPY_MODEL_8f567a92d5144cfe8530c0f2443110cf",
            "value": " 1.09k/1.09k [00:00&lt;00:00, 86.0kB/s]"
          }
        },
        "252ba8015811473ab5fe6fffdaef009b": {
          "model_module": "@jupyter-widgets/controls",
          "model_module_version": "1.5.0",
          "model_name": "HBoxModel",
          "state": {
            "_dom_classes": [],
            "_model_module": "@jupyter-widgets/controls",
            "_model_module_version": "1.5.0",
            "_model_name": "HBoxModel",
            "_view_count": null,
            "_view_module": "@jupyter-widgets/controls",
            "_view_module_version": "1.5.0",
            "_view_name": "HBoxView",
            "box_style": "",
            "children": [
              "IPY_MODEL_0e323eccf39b4c129de729370699f30f",
              "IPY_MODEL_d3aebb4f90554a88a8cdac9384e46a9d",
              "IPY_MODEL_237108ebcca0461ca36eec625f9e75cf"
            ],
            "layout": "IPY_MODEL_5d5b0c73be154e208eedb33461bfe131"
          }
        },
        "25339e390e6042d2a0553e5bf2dedb67": {
          "model_module": "@jupyter-widgets/base",
          "model_module_version": "1.2.0",
          "model_name": "LayoutModel",
          "state": {
            "_model_module": "@jupyter-widgets/base",
            "_model_module_version": "1.2.0",
            "_model_name": "LayoutModel",
            "_view_count": null,
            "_view_module": "@jupyter-widgets/base",
            "_view_module_version": "1.2.0",
            "_view_name": "LayoutView",
            "align_content": null,
            "align_items": null,
            "align_self": null,
            "border": null,
            "bottom": null,
            "display": null,
            "flex": null,
            "flex_flow": null,
            "grid_area": null,
            "grid_auto_columns": null,
            "grid_auto_flow": null,
            "grid_auto_rows": null,
            "grid_column": null,
            "grid_gap": null,
            "grid_row": null,
            "grid_template_areas": null,
            "grid_template_columns": null,
            "grid_template_rows": null,
            "height": null,
            "justify_content": null,
            "justify_items": null,
            "left": null,
            "margin": null,
            "max_height": null,
            "max_width": null,
            "min_height": null,
            "min_width": null,
            "object_fit": null,
            "object_position": null,
            "order": null,
            "overflow": null,
            "overflow_x": null,
            "overflow_y": null,
            "padding": null,
            "right": null,
            "top": null,
            "visibility": null,
            "width": null
          }
        },
        "27f7080ec79e4972aebf52db8e5cbaf2": {
          "model_module": "@jupyter-widgets/controls",
          "model_module_version": "1.5.0",
          "model_name": "DescriptionStyleModel",
          "state": {
            "_model_module": "@jupyter-widgets/controls",
            "_model_module_version": "1.5.0",
            "_model_name": "DescriptionStyleModel",
            "_view_count": null,
            "_view_module": "@jupyter-widgets/base",
            "_view_module_version": "1.2.0",
            "_view_name": "StyleView",
            "description_width": ""
          }
        },
        "28b592c2ccb04bdd9ff7d7ac83a77645": {
          "model_module": "@jupyter-widgets/base",
          "model_module_version": "1.2.0",
          "model_name": "LayoutModel",
          "state": {
            "_model_module": "@jupyter-widgets/base",
            "_model_module_version": "1.2.0",
            "_model_name": "LayoutModel",
            "_view_count": null,
            "_view_module": "@jupyter-widgets/base",
            "_view_module_version": "1.2.0",
            "_view_name": "LayoutView",
            "align_content": null,
            "align_items": null,
            "align_self": null,
            "border": null,
            "bottom": null,
            "display": null,
            "flex": null,
            "flex_flow": null,
            "grid_area": null,
            "grid_auto_columns": null,
            "grid_auto_flow": null,
            "grid_auto_rows": null,
            "grid_column": null,
            "grid_gap": null,
            "grid_row": null,
            "grid_template_areas": null,
            "grid_template_columns": null,
            "grid_template_rows": null,
            "height": null,
            "justify_content": null,
            "justify_items": null,
            "left": null,
            "margin": null,
            "max_height": null,
            "max_width": null,
            "min_height": null,
            "min_width": null,
            "object_fit": null,
            "object_position": null,
            "order": null,
            "overflow": null,
            "overflow_x": null,
            "overflow_y": null,
            "padding": null,
            "right": null,
            "top": null,
            "visibility": null,
            "width": null
          }
        },
        "326a876edf544450b633a5ac017c0f1b": {
          "model_module": "@jupyter-widgets/base",
          "model_module_version": "1.2.0",
          "model_name": "LayoutModel",
          "state": {
            "_model_module": "@jupyter-widgets/base",
            "_model_module_version": "1.2.0",
            "_model_name": "LayoutModel",
            "_view_count": null,
            "_view_module": "@jupyter-widgets/base",
            "_view_module_version": "1.2.0",
            "_view_name": "LayoutView",
            "align_content": null,
            "align_items": null,
            "align_self": null,
            "border": null,
            "bottom": null,
            "display": null,
            "flex": null,
            "flex_flow": null,
            "grid_area": null,
            "grid_auto_columns": null,
            "grid_auto_flow": null,
            "grid_auto_rows": null,
            "grid_column": null,
            "grid_gap": null,
            "grid_row": null,
            "grid_template_areas": null,
            "grid_template_columns": null,
            "grid_template_rows": null,
            "height": null,
            "justify_content": null,
            "justify_items": null,
            "left": null,
            "margin": null,
            "max_height": null,
            "max_width": null,
            "min_height": null,
            "min_width": null,
            "object_fit": null,
            "object_position": null,
            "order": null,
            "overflow": null,
            "overflow_x": null,
            "overflow_y": null,
            "padding": null,
            "right": null,
            "top": null,
            "visibility": null,
            "width": null
          }
        },
        "335f56b22ef54b8a9ca7ed2d96dc7fe5": {
          "model_module": "@jupyter-widgets/controls",
          "model_module_version": "1.5.0",
          "model_name": "ProgressStyleModel",
          "state": {
            "_model_module": "@jupyter-widgets/controls",
            "_model_module_version": "1.5.0",
            "_model_name": "ProgressStyleModel",
            "_view_count": null,
            "_view_module": "@jupyter-widgets/base",
            "_view_module_version": "1.2.0",
            "_view_name": "StyleView",
            "bar_color": null,
            "description_width": ""
          }
        },
        "35960b4f41474470be8710b8530d0183": {
          "model_module": "@jupyter-widgets/controls",
          "model_module_version": "1.5.0",
          "model_name": "HTMLModel",
          "state": {
            "_dom_classes": [],
            "_model_module": "@jupyter-widgets/controls",
            "_model_module_version": "1.5.0",
            "_model_name": "HTMLModel",
            "_view_count": null,
            "_view_module": "@jupyter-widgets/controls",
            "_view_module_version": "1.5.0",
            "_view_name": "HTMLView",
            "description": "",
            "description_tooltip": null,
            "layout": "IPY_MODEL_fe39e3d6b2794c3d9107f70cf082b4c6",
            "placeholder": "​",
            "style": "IPY_MODEL_b7aa6022d3304fb88965e1498dcdc3f9",
            "value": " 1.59M/1.59M [00:00&lt;00:00, 6.16MB/s]"
          }
        },
        "363bc7b4106049438da16b23d6f09f54": {
          "model_module": "@jupyter-widgets/base",
          "model_module_version": "1.2.0",
          "model_name": "LayoutModel",
          "state": {
            "_model_module": "@jupyter-widgets/base",
            "_model_module_version": "1.2.0",
            "_model_name": "LayoutModel",
            "_view_count": null,
            "_view_module": "@jupyter-widgets/base",
            "_view_module_version": "1.2.0",
            "_view_name": "LayoutView",
            "align_content": null,
            "align_items": null,
            "align_self": null,
            "border": null,
            "bottom": null,
            "display": null,
            "flex": null,
            "flex_flow": null,
            "grid_area": null,
            "grid_auto_columns": null,
            "grid_auto_flow": null,
            "grid_auto_rows": null,
            "grid_column": null,
            "grid_gap": null,
            "grid_row": null,
            "grid_template_areas": null,
            "grid_template_columns": null,
            "grid_template_rows": null,
            "height": null,
            "justify_content": null,
            "justify_items": null,
            "left": null,
            "margin": null,
            "max_height": null,
            "max_width": null,
            "min_height": null,
            "min_width": null,
            "object_fit": null,
            "object_position": null,
            "order": null,
            "overflow": null,
            "overflow_x": null,
            "overflow_y": null,
            "padding": null,
            "right": null,
            "top": null,
            "visibility": null,
            "width": null
          }
        },
        "36f1996863f84f1f96cc18f698492bc5": {
          "model_module": "@jupyter-widgets/base",
          "model_module_version": "1.2.0",
          "model_name": "LayoutModel",
          "state": {
            "_model_module": "@jupyter-widgets/base",
            "_model_module_version": "1.2.0",
            "_model_name": "LayoutModel",
            "_view_count": null,
            "_view_module": "@jupyter-widgets/base",
            "_view_module_version": "1.2.0",
            "_view_name": "LayoutView",
            "align_content": null,
            "align_items": null,
            "align_self": null,
            "border": null,
            "bottom": null,
            "display": null,
            "flex": null,
            "flex_flow": null,
            "grid_area": null,
            "grid_auto_columns": null,
            "grid_auto_flow": null,
            "grid_auto_rows": null,
            "grid_column": null,
            "grid_gap": null,
            "grid_row": null,
            "grid_template_areas": null,
            "grid_template_columns": null,
            "grid_template_rows": null,
            "height": null,
            "justify_content": null,
            "justify_items": null,
            "left": null,
            "margin": null,
            "max_height": null,
            "max_width": null,
            "min_height": null,
            "min_width": null,
            "object_fit": null,
            "object_position": null,
            "order": null,
            "overflow": null,
            "overflow_x": null,
            "overflow_y": null,
            "padding": null,
            "right": null,
            "top": null,
            "visibility": null,
            "width": null
          }
        },
        "39d4fe4e468349a08ed0a379c592a59c": {
          "model_module": "@jupyter-widgets/controls",
          "model_module_version": "1.5.0",
          "model_name": "DescriptionStyleModel",
          "state": {
            "_model_module": "@jupyter-widgets/controls",
            "_model_module_version": "1.5.0",
            "_model_name": "DescriptionStyleModel",
            "_view_count": null,
            "_view_module": "@jupyter-widgets/base",
            "_view_module_version": "1.2.0",
            "_view_name": "StyleView",
            "description_width": ""
          }
        },
        "3b247a1af99641269924af65bcc71b58": {
          "model_module": "@jupyter-widgets/base",
          "model_module_version": "1.2.0",
          "model_name": "LayoutModel",
          "state": {
            "_model_module": "@jupyter-widgets/base",
            "_model_module_version": "1.2.0",
            "_model_name": "LayoutModel",
            "_view_count": null,
            "_view_module": "@jupyter-widgets/base",
            "_view_module_version": "1.2.0",
            "_view_name": "LayoutView",
            "align_content": null,
            "align_items": null,
            "align_self": null,
            "border": null,
            "bottom": null,
            "display": null,
            "flex": null,
            "flex_flow": null,
            "grid_area": null,
            "grid_auto_columns": null,
            "grid_auto_flow": null,
            "grid_auto_rows": null,
            "grid_column": null,
            "grid_gap": null,
            "grid_row": null,
            "grid_template_areas": null,
            "grid_template_columns": null,
            "grid_template_rows": null,
            "height": null,
            "justify_content": null,
            "justify_items": null,
            "left": null,
            "margin": null,
            "max_height": null,
            "max_width": null,
            "min_height": null,
            "min_width": null,
            "object_fit": null,
            "object_position": null,
            "order": null,
            "overflow": null,
            "overflow_x": null,
            "overflow_y": null,
            "padding": null,
            "right": null,
            "top": null,
            "visibility": null,
            "width": null
          }
        },
        "3cbcac7b336744d59c9885566a401674": {
          "model_module": "@jupyter-widgets/controls",
          "model_module_version": "1.5.0",
          "model_name": "ProgressStyleModel",
          "state": {
            "_model_module": "@jupyter-widgets/controls",
            "_model_module_version": "1.5.0",
            "_model_name": "ProgressStyleModel",
            "_view_count": null,
            "_view_module": "@jupyter-widgets/base",
            "_view_module_version": "1.2.0",
            "_view_name": "StyleView",
            "bar_color": null,
            "description_width": ""
          }
        },
        "3f9e9c8519d644bfa5c527699bb52050": {
          "model_module": "@jupyter-widgets/controls",
          "model_module_version": "1.5.0",
          "model_name": "FloatProgressModel",
          "state": {
            "_dom_classes": [],
            "_model_module": "@jupyter-widgets/controls",
            "_model_module_version": "1.5.0",
            "_model_name": "FloatProgressModel",
            "_view_count": null,
            "_view_module": "@jupyter-widgets/controls",
            "_view_module_version": "1.5.0",
            "_view_name": "ProgressView",
            "bar_style": "success",
            "description": "",
            "description_tooltip": null,
            "layout": "IPY_MODEL_455cc91ec73b43858bce05c132f49dc9",
            "max": 1376,
            "min": 0,
            "orientation": "horizontal",
            "style": "IPY_MODEL_bf29c019f0534a69a7885c9380f051fc",
            "value": 1376
          }
        },
        "411932c6f3e846ae9fb571b8b028cea6": {
          "model_module": "@jupyter-widgets/controls",
          "model_module_version": "1.5.0",
          "model_name": "HBoxModel",
          "state": {
            "_dom_classes": [],
            "_model_module": "@jupyter-widgets/controls",
            "_model_module_version": "1.5.0",
            "_model_name": "HBoxModel",
            "_view_count": null,
            "_view_module": "@jupyter-widgets/controls",
            "_view_module_version": "1.5.0",
            "_view_name": "HBoxView",
            "box_style": "",
            "children": [
              "IPY_MODEL_da22792d790449ed8c4a28301b46149a",
              "IPY_MODEL_d450da962ff44a0cb9ab1742940b831f",
              "IPY_MODEL_e00960156889493e95447a62761d36a0"
            ],
            "layout": "IPY_MODEL_52857cf268e54467b49b495cabe30d65"
          }
        },
        "455cc91ec73b43858bce05c132f49dc9": {
          "model_module": "@jupyter-widgets/base",
          "model_module_version": "1.2.0",
          "model_name": "LayoutModel",
          "state": {
            "_model_module": "@jupyter-widgets/base",
            "_model_module_version": "1.2.0",
            "_model_name": "LayoutModel",
            "_view_count": null,
            "_view_module": "@jupyter-widgets/base",
            "_view_module_version": "1.2.0",
            "_view_name": "LayoutView",
            "align_content": null,
            "align_items": null,
            "align_self": null,
            "border": null,
            "bottom": null,
            "display": null,
            "flex": null,
            "flex_flow": null,
            "grid_area": null,
            "grid_auto_columns": null,
            "grid_auto_flow": null,
            "grid_auto_rows": null,
            "grid_column": null,
            "grid_gap": null,
            "grid_row": null,
            "grid_template_areas": null,
            "grid_template_columns": null,
            "grid_template_rows": null,
            "height": null,
            "justify_content": null,
            "justify_items": null,
            "left": null,
            "margin": null,
            "max_height": null,
            "max_width": null,
            "min_height": null,
            "min_width": null,
            "object_fit": null,
            "object_position": null,
            "order": null,
            "overflow": null,
            "overflow_x": null,
            "overflow_y": null,
            "padding": null,
            "right": null,
            "top": null,
            "visibility": null,
            "width": null
          }
        },
        "469a9295cc144cdb9896128b4fc126e9": {
          "model_module": "@jupyter-widgets/controls",
          "model_module_version": "1.5.0",
          "model_name": "FloatProgressModel",
          "state": {
            "_dom_classes": [],
            "_model_module": "@jupyter-widgets/controls",
            "_model_module_version": "1.5.0",
            "_model_name": "FloatProgressModel",
            "_view_count": null,
            "_view_module": "@jupyter-widgets/controls",
            "_view_module_version": "1.5.0",
            "_view_name": "ProgressView",
            "bar_style": "success",
            "description": "",
            "description_tooltip": null,
            "layout": "IPY_MODEL_fb1add749ea9428a956edcb9e19debcb",
            "max": 241,
            "min": 0,
            "orientation": "horizontal",
            "style": "IPY_MODEL_6069a3d983184876b0a273091e2285ea",
            "value": 241
          }
        },
        "48227e826cd94b3f8a4ee6735c979a3f": {
          "model_module": "@jupyter-widgets/base",
          "model_module_version": "1.2.0",
          "model_name": "LayoutModel",
          "state": {
            "_model_module": "@jupyter-widgets/base",
            "_model_module_version": "1.2.0",
            "_model_name": "LayoutModel",
            "_view_count": null,
            "_view_module": "@jupyter-widgets/base",
            "_view_module_version": "1.2.0",
            "_view_name": "LayoutView",
            "align_content": null,
            "align_items": null,
            "align_self": null,
            "border": null,
            "bottom": null,
            "display": null,
            "flex": null,
            "flex_flow": null,
            "grid_area": null,
            "grid_auto_columns": null,
            "grid_auto_flow": null,
            "grid_auto_rows": null,
            "grid_column": null,
            "grid_gap": null,
            "grid_row": null,
            "grid_template_areas": null,
            "grid_template_columns": null,
            "grid_template_rows": null,
            "height": null,
            "justify_content": null,
            "justify_items": null,
            "left": null,
            "margin": null,
            "max_height": null,
            "max_width": null,
            "min_height": null,
            "min_width": null,
            "object_fit": null,
            "object_position": null,
            "order": null,
            "overflow": null,
            "overflow_x": null,
            "overflow_y": null,
            "padding": null,
            "right": null,
            "top": null,
            "visibility": null,
            "width": null
          }
        },
        "4f23751e68f141a3b273d2c1c595597c": {
          "model_module": "@jupyter-widgets/controls",
          "model_module_version": "1.5.0",
          "model_name": "HTMLModel",
          "state": {
            "_dom_classes": [],
            "_model_module": "@jupyter-widgets/controls",
            "_model_module_version": "1.5.0",
            "_model_name": "HTMLModel",
            "_view_count": null,
            "_view_module": "@jupyter-widgets/controls",
            "_view_module_version": "1.5.0",
            "_view_name": "HTMLView",
            "description": "",
            "description_tooltip": null,
            "layout": "IPY_MODEL_ab4cc35ba58646adbebb8e760c063054",
            "placeholder": "​",
            "style": "IPY_MODEL_cb5a426a317346ce8872e4750503cbac",
            "value": " 1.68k/1.68k [00:00&lt;00:00, 142kB/s]"
          }
        },
        "4fdcf2adae1a42ccb2c9f74a6e31f39f": {
          "model_module": "@jupyter-widgets/base",
          "model_module_version": "1.2.0",
          "model_name": "LayoutModel",
          "state": {
            "_model_module": "@jupyter-widgets/base",
            "_model_module_version": "1.2.0",
            "_model_name": "LayoutModel",
            "_view_count": null,
            "_view_module": "@jupyter-widgets/base",
            "_view_module_version": "1.2.0",
            "_view_name": "LayoutView",
            "align_content": null,
            "align_items": null,
            "align_self": null,
            "border": null,
            "bottom": null,
            "display": null,
            "flex": null,
            "flex_flow": null,
            "grid_area": null,
            "grid_auto_columns": null,
            "grid_auto_flow": null,
            "grid_auto_rows": null,
            "grid_column": null,
            "grid_gap": null,
            "grid_row": null,
            "grid_template_areas": null,
            "grid_template_columns": null,
            "grid_template_rows": null,
            "height": null,
            "justify_content": null,
            "justify_items": null,
            "left": null,
            "margin": null,
            "max_height": null,
            "max_width": null,
            "min_height": null,
            "min_width": null,
            "object_fit": null,
            "object_position": null,
            "order": null,
            "overflow": null,
            "overflow_x": null,
            "overflow_y": null,
            "padding": null,
            "right": null,
            "top": null,
            "visibility": null,
            "width": null
          }
        },
        "5224eb4998514b03bce89e1a1b1eb86c": {
          "model_module": "@jupyter-widgets/controls",
          "model_module_version": "1.5.0",
          "model_name": "DescriptionStyleModel",
          "state": {
            "_model_module": "@jupyter-widgets/controls",
            "_model_module_version": "1.5.0",
            "_model_name": "DescriptionStyleModel",
            "_view_count": null,
            "_view_module": "@jupyter-widgets/base",
            "_view_module_version": "1.2.0",
            "_view_name": "StyleView",
            "description_width": ""
          }
        },
        "52857cf268e54467b49b495cabe30d65": {
          "model_module": "@jupyter-widgets/base",
          "model_module_version": "1.2.0",
          "model_name": "LayoutModel",
          "state": {
            "_model_module": "@jupyter-widgets/base",
            "_model_module_version": "1.2.0",
            "_model_name": "LayoutModel",
            "_view_count": null,
            "_view_module": "@jupyter-widgets/base",
            "_view_module_version": "1.2.0",
            "_view_name": "LayoutView",
            "align_content": null,
            "align_items": null,
            "align_self": null,
            "border": null,
            "bottom": null,
            "display": null,
            "flex": null,
            "flex_flow": null,
            "grid_area": null,
            "grid_auto_columns": null,
            "grid_auto_flow": null,
            "grid_auto_rows": null,
            "grid_column": null,
            "grid_gap": null,
            "grid_row": null,
            "grid_template_areas": null,
            "grid_template_columns": null,
            "grid_template_rows": null,
            "height": null,
            "justify_content": null,
            "justify_items": null,
            "left": null,
            "margin": null,
            "max_height": null,
            "max_width": null,
            "min_height": null,
            "min_width": null,
            "object_fit": null,
            "object_position": null,
            "order": null,
            "overflow": null,
            "overflow_x": null,
            "overflow_y": null,
            "padding": null,
            "right": null,
            "top": null,
            "visibility": null,
            "width": null
          }
        },
        "5500dae5e552483883376e76c35156b3": {
          "model_module": "@jupyter-widgets/base",
          "model_module_version": "1.2.0",
          "model_name": "LayoutModel",
          "state": {
            "_model_module": "@jupyter-widgets/base",
            "_model_module_version": "1.2.0",
            "_model_name": "LayoutModel",
            "_view_count": null,
            "_view_module": "@jupyter-widgets/base",
            "_view_module_version": "1.2.0",
            "_view_name": "LayoutView",
            "align_content": null,
            "align_items": null,
            "align_self": null,
            "border": null,
            "bottom": null,
            "display": null,
            "flex": null,
            "flex_flow": null,
            "grid_area": null,
            "grid_auto_columns": null,
            "grid_auto_flow": null,
            "grid_auto_rows": null,
            "grid_column": null,
            "grid_gap": null,
            "grid_row": null,
            "grid_template_areas": null,
            "grid_template_columns": null,
            "grid_template_rows": null,
            "height": null,
            "justify_content": null,
            "justify_items": null,
            "left": null,
            "margin": null,
            "max_height": null,
            "max_width": null,
            "min_height": null,
            "min_width": null,
            "object_fit": null,
            "object_position": null,
            "order": null,
            "overflow": null,
            "overflow_x": null,
            "overflow_y": null,
            "padding": null,
            "right": null,
            "top": null,
            "visibility": null,
            "width": null
          }
        },
        "5acfb53230c54e9b87b9ca6312f1cc21": {
          "model_module": "@jupyter-widgets/controls",
          "model_module_version": "1.5.0",
          "model_name": "ProgressStyleModel",
          "state": {
            "_model_module": "@jupyter-widgets/controls",
            "_model_module_version": "1.5.0",
            "_model_name": "ProgressStyleModel",
            "_view_count": null,
            "_view_module": "@jupyter-widgets/base",
            "_view_module_version": "1.2.0",
            "_view_name": "StyleView",
            "bar_color": null,
            "description_width": ""
          }
        },
        "5d5b0c73be154e208eedb33461bfe131": {
          "model_module": "@jupyter-widgets/base",
          "model_module_version": "1.2.0",
          "model_name": "LayoutModel",
          "state": {
            "_model_module": "@jupyter-widgets/base",
            "_model_module_version": "1.2.0",
            "_model_name": "LayoutModel",
            "_view_count": null,
            "_view_module": "@jupyter-widgets/base",
            "_view_module_version": "1.2.0",
            "_view_name": "LayoutView",
            "align_content": null,
            "align_items": null,
            "align_self": null,
            "border": null,
            "bottom": null,
            "display": null,
            "flex": null,
            "flex_flow": null,
            "grid_area": null,
            "grid_auto_columns": null,
            "grid_auto_flow": null,
            "grid_auto_rows": null,
            "grid_column": null,
            "grid_gap": null,
            "grid_row": null,
            "grid_template_areas": null,
            "grid_template_columns": null,
            "grid_template_rows": null,
            "height": null,
            "justify_content": null,
            "justify_items": null,
            "left": null,
            "margin": null,
            "max_height": null,
            "max_width": null,
            "min_height": null,
            "min_width": null,
            "object_fit": null,
            "object_position": null,
            "order": null,
            "overflow": null,
            "overflow_x": null,
            "overflow_y": null,
            "padding": null,
            "right": null,
            "top": null,
            "visibility": null,
            "width": null
          }
        },
        "6069a3d983184876b0a273091e2285ea": {
          "model_module": "@jupyter-widgets/controls",
          "model_module_version": "1.5.0",
          "model_name": "ProgressStyleModel",
          "state": {
            "_model_module": "@jupyter-widgets/controls",
            "_model_module_version": "1.5.0",
            "_model_name": "ProgressStyleModel",
            "_view_count": null,
            "_view_module": "@jupyter-widgets/base",
            "_view_module_version": "1.2.0",
            "_view_name": "StyleView",
            "bar_color": null,
            "description_width": ""
          }
        },
        "66b35fd761454d30ade7cff1a5ecc0c7": {
          "model_module": "@jupyter-widgets/base",
          "model_module_version": "1.2.0",
          "model_name": "LayoutModel",
          "state": {
            "_model_module": "@jupyter-widgets/base",
            "_model_module_version": "1.2.0",
            "_model_name": "LayoutModel",
            "_view_count": null,
            "_view_module": "@jupyter-widgets/base",
            "_view_module_version": "1.2.0",
            "_view_name": "LayoutView",
            "align_content": null,
            "align_items": null,
            "align_self": null,
            "border": null,
            "bottom": null,
            "display": null,
            "flex": null,
            "flex_flow": null,
            "grid_area": null,
            "grid_auto_columns": null,
            "grid_auto_flow": null,
            "grid_auto_rows": null,
            "grid_column": null,
            "grid_gap": null,
            "grid_row": null,
            "grid_template_areas": null,
            "grid_template_columns": null,
            "grid_template_rows": null,
            "height": null,
            "justify_content": null,
            "justify_items": null,
            "left": null,
            "margin": null,
            "max_height": null,
            "max_width": null,
            "min_height": null,
            "min_width": null,
            "object_fit": null,
            "object_position": null,
            "order": null,
            "overflow": null,
            "overflow_x": null,
            "overflow_y": null,
            "padding": null,
            "right": null,
            "top": null,
            "visibility": null,
            "width": null
          }
        },
        "687e7075f6b84bd3a3ed4f7ec218d130": {
          "model_module": "@jupyter-widgets/base",
          "model_module_version": "1.2.0",
          "model_name": "LayoutModel",
          "state": {
            "_model_module": "@jupyter-widgets/base",
            "_model_module_version": "1.2.0",
            "_model_name": "LayoutModel",
            "_view_count": null,
            "_view_module": "@jupyter-widgets/base",
            "_view_module_version": "1.2.0",
            "_view_name": "LayoutView",
            "align_content": null,
            "align_items": null,
            "align_self": null,
            "border": null,
            "bottom": null,
            "display": null,
            "flex": null,
            "flex_flow": null,
            "grid_area": null,
            "grid_auto_columns": null,
            "grid_auto_flow": null,
            "grid_auto_rows": null,
            "grid_column": null,
            "grid_gap": null,
            "grid_row": null,
            "grid_template_areas": null,
            "grid_template_columns": null,
            "grid_template_rows": null,
            "height": null,
            "justify_content": null,
            "justify_items": null,
            "left": null,
            "margin": null,
            "max_height": null,
            "max_width": null,
            "min_height": null,
            "min_width": null,
            "object_fit": null,
            "object_position": null,
            "order": null,
            "overflow": null,
            "overflow_x": null,
            "overflow_y": null,
            "padding": null,
            "right": null,
            "top": null,
            "visibility": null,
            "width": null
          }
        },
        "70e6048e0caf482681aacf5dc03eeae1": {
          "model_module": "@jupyter-widgets/controls",
          "model_module_version": "1.5.0",
          "model_name": "HTMLModel",
          "state": {
            "_dom_classes": [],
            "_model_module": "@jupyter-widgets/controls",
            "_model_module_version": "1.5.0",
            "_model_name": "HTMLModel",
            "_view_count": null,
            "_view_module": "@jupyter-widgets/controls",
            "_view_module_version": "1.5.0",
            "_view_name": "HTMLView",
            "description": "",
            "description_tooltip": null,
            "layout": "IPY_MODEL_b28e2f1ccdb1435aba36ff60168006c9",
            "placeholder": "​",
            "style": "IPY_MODEL_f60432c2a2af4b54993a9bacaa7c1a13",
            "value": "Map: 100%"
          }
        },
        "7239ada9f0914f53b31d287eca824037": {
          "model_module": "@jupyter-widgets/controls",
          "model_module_version": "1.5.0",
          "model_name": "HBoxModel",
          "state": {
            "_dom_classes": [],
            "_model_module": "@jupyter-widgets/controls",
            "_model_module_version": "1.5.0",
            "_model_name": "HBoxModel",
            "_view_count": null,
            "_view_module": "@jupyter-widgets/controls",
            "_view_module_version": "1.5.0",
            "_view_name": "HBoxView",
            "box_style": "",
            "children": [
              "IPY_MODEL_1fae5e1caa8f4b9196223522659ea7b3",
              "IPY_MODEL_469a9295cc144cdb9896128b4fc126e9",
              "IPY_MODEL_b1c89abeecdf4e6abd9c2bdc16817cb6"
            ],
            "layout": "IPY_MODEL_48227e826cd94b3f8a4ee6735c979a3f"
          }
        },
        "734abe80e44046ffa45f7fa8bcccdd14": {
          "model_module": "@jupyter-widgets/base",
          "model_module_version": "1.2.0",
          "model_name": "LayoutModel",
          "state": {
            "_model_module": "@jupyter-widgets/base",
            "_model_module_version": "1.2.0",
            "_model_name": "LayoutModel",
            "_view_count": null,
            "_view_module": "@jupyter-widgets/base",
            "_view_module_version": "1.2.0",
            "_view_name": "LayoutView",
            "align_content": null,
            "align_items": null,
            "align_self": null,
            "border": null,
            "bottom": null,
            "display": null,
            "flex": null,
            "flex_flow": null,
            "grid_area": null,
            "grid_auto_columns": null,
            "grid_auto_flow": null,
            "grid_auto_rows": null,
            "grid_column": null,
            "grid_gap": null,
            "grid_row": null,
            "grid_template_areas": null,
            "grid_template_columns": null,
            "grid_template_rows": null,
            "height": null,
            "justify_content": null,
            "justify_items": null,
            "left": null,
            "margin": null,
            "max_height": null,
            "max_width": null,
            "min_height": null,
            "min_width": null,
            "object_fit": null,
            "object_position": null,
            "order": null,
            "overflow": null,
            "overflow_x": null,
            "overflow_y": null,
            "padding": null,
            "right": null,
            "top": null,
            "visibility": null,
            "width": null
          }
        },
        "76f0c99d6a534049bf9f3fdfaf7df3fb": {
          "model_module": "@jupyter-widgets/controls",
          "model_module_version": "1.5.0",
          "model_name": "DescriptionStyleModel",
          "state": {
            "_model_module": "@jupyter-widgets/controls",
            "_model_module_version": "1.5.0",
            "_model_name": "DescriptionStyleModel",
            "_view_count": null,
            "_view_module": "@jupyter-widgets/base",
            "_view_module_version": "1.2.0",
            "_view_name": "StyleView",
            "description_width": ""
          }
        },
        "7e43f896b4fa4cbd8c783a57d0df8f24": {
          "model_module": "@jupyter-widgets/controls",
          "model_module_version": "1.5.0",
          "model_name": "HTMLModel",
          "state": {
            "_dom_classes": [],
            "_model_module": "@jupyter-widgets/controls",
            "_model_module_version": "1.5.0",
            "_model_name": "HTMLModel",
            "_view_count": null,
            "_view_module": "@jupyter-widgets/controls",
            "_view_module_version": "1.5.0",
            "_view_name": "HTMLView",
            "description": "",
            "description_tooltip": null,
            "layout": "IPY_MODEL_2364089ae15a40288ffe89f4d6c8ac9e",
            "placeholder": "​",
            "style": "IPY_MODEL_c6f35bdb23174befbdf85362181e027b",
            "value": " 24773/24773 [00:20&lt;00:00, 1275.57 examples/s]"
          }
        },
        "7faf0aa1ee1d4d1598678c5eab843956": {
          "model_module": "@jupyter-widgets/base",
          "model_module_version": "1.2.0",
          "model_name": "LayoutModel",
          "state": {
            "_model_module": "@jupyter-widgets/base",
            "_model_module_version": "1.2.0",
            "_model_name": "LayoutModel",
            "_view_count": null,
            "_view_module": "@jupyter-widgets/base",
            "_view_module_version": "1.2.0",
            "_view_name": "LayoutView",
            "align_content": null,
            "align_items": null,
            "align_self": null,
            "border": null,
            "bottom": null,
            "display": null,
            "flex": null,
            "flex_flow": null,
            "grid_area": null,
            "grid_auto_columns": null,
            "grid_auto_flow": null,
            "grid_auto_rows": null,
            "grid_column": null,
            "grid_gap": null,
            "grid_row": null,
            "grid_template_areas": null,
            "grid_template_columns": null,
            "grid_template_rows": null,
            "height": null,
            "justify_content": null,
            "justify_items": null,
            "left": null,
            "margin": null,
            "max_height": null,
            "max_width": null,
            "min_height": null,
            "min_width": null,
            "object_fit": null,
            "object_position": null,
            "order": null,
            "overflow": null,
            "overflow_x": null,
            "overflow_y": null,
            "padding": null,
            "right": null,
            "top": null,
            "visibility": null,
            "width": null
          }
        },
        "80c650e33d8f4b6eaff7a55f280c81ef": {
          "model_module": "@jupyter-widgets/controls",
          "model_module_version": "1.5.0",
          "model_name": "FloatProgressModel",
          "state": {
            "_dom_classes": [],
            "_model_module": "@jupyter-widgets/controls",
            "_model_module_version": "1.5.0",
            "_model_name": "FloatProgressModel",
            "_view_count": null,
            "_view_module": "@jupyter-widgets/controls",
            "_view_module_version": "1.5.0",
            "_view_name": "ProgressView",
            "bar_style": "success",
            "description": "",
            "description_tooltip": null,
            "layout": "IPY_MODEL_0115196ffdb049898f64b330f4c5cc1e",
            "max": 4346,
            "min": 0,
            "orientation": "horizontal",
            "style": "IPY_MODEL_a7e40329468b4100b53c1956f540f170",
            "value": 4346
          }
        },
        "81d5e5bde4524a87b2219f1dc092e26e": {
          "model_module": "@jupyter-widgets/base",
          "model_module_version": "1.2.0",
          "model_name": "LayoutModel",
          "state": {
            "_model_module": "@jupyter-widgets/base",
            "_model_module_version": "1.2.0",
            "_model_name": "LayoutModel",
            "_view_count": null,
            "_view_module": "@jupyter-widgets/base",
            "_view_module_version": "1.2.0",
            "_view_name": "LayoutView",
            "align_content": null,
            "align_items": null,
            "align_self": null,
            "border": null,
            "bottom": null,
            "display": null,
            "flex": null,
            "flex_flow": null,
            "grid_area": null,
            "grid_auto_columns": null,
            "grid_auto_flow": null,
            "grid_auto_rows": null,
            "grid_column": null,
            "grid_gap": null,
            "grid_row": null,
            "grid_template_areas": null,
            "grid_template_columns": null,
            "grid_template_rows": null,
            "height": null,
            "justify_content": null,
            "justify_items": null,
            "left": null,
            "margin": null,
            "max_height": null,
            "max_width": null,
            "min_height": null,
            "min_width": null,
            "object_fit": null,
            "object_position": null,
            "order": null,
            "overflow": null,
            "overflow_x": null,
            "overflow_y": null,
            "padding": null,
            "right": null,
            "top": null,
            "visibility": null,
            "width": null
          }
        },
        "846669058195414db9f27cad564b7347": {
          "model_module": "@jupyter-widgets/controls",
          "model_module_version": "1.5.0",
          "model_name": "FloatProgressModel",
          "state": {
            "_dom_classes": [],
            "_model_module": "@jupyter-widgets/controls",
            "_model_module_version": "1.5.0",
            "_model_name": "FloatProgressModel",
            "_view_count": null,
            "_view_module": "@jupyter-widgets/controls",
            "_view_module_version": "1.5.0",
            "_view_name": "ProgressView",
            "bar_style": "success",
            "description": "",
            "description_tooltip": null,
            "layout": "IPY_MODEL_25339e390e6042d2a0553e5bf2dedb67",
            "max": 772,
            "min": 0,
            "orientation": "horizontal",
            "style": "IPY_MODEL_5acfb53230c54e9b87b9ca6312f1cc21",
            "value": 772
          }
        },
        "85c4e5879c47400097e61388922a7ec0": {
          "model_module": "@jupyter-widgets/controls",
          "model_module_version": "1.5.0",
          "model_name": "HBoxModel",
          "state": {
            "_dom_classes": [],
            "_model_module": "@jupyter-widgets/controls",
            "_model_module_version": "1.5.0",
            "_model_name": "HBoxModel",
            "_view_count": null,
            "_view_module": "@jupyter-widgets/controls",
            "_view_module_version": "1.5.0",
            "_view_name": "HBoxView",
            "box_style": "",
            "children": [
              "IPY_MODEL_8954999e18f6424f8997f0e7ca3024dc",
              "IPY_MODEL_846669058195414db9f27cad564b7347",
              "IPY_MODEL_11f48b6d30574fe0a89d77a76c99bb83"
            ],
            "layout": "IPY_MODEL_5500dae5e552483883376e76c35156b3"
          }
        },
        "85fedec7bfb24707a0ffa81bf7633186": {
          "model_module": "@jupyter-widgets/controls",
          "model_module_version": "1.5.0",
          "model_name": "FloatProgressModel",
          "state": {
            "_dom_classes": [],
            "_model_module": "@jupyter-widgets/controls",
            "_model_module_version": "1.5.0",
            "_model_name": "FloatProgressModel",
            "_view_count": null,
            "_view_module": "@jupyter-widgets/controls",
            "_view_module_version": "1.5.0",
            "_view_name": "ProgressView",
            "bar_style": "success",
            "description": "",
            "description_tooltip": null,
            "layout": "IPY_MODEL_81d5e5bde4524a87b2219f1dc092e26e",
            "max": 892447,
            "min": 0,
            "orientation": "horizontal",
            "style": "IPY_MODEL_ddf5cfe0e413405290fd7ca8de6a0266",
            "value": 892447
          }
        },
        "8954999e18f6424f8997f0e7ca3024dc": {
          "model_module": "@jupyter-widgets/controls",
          "model_module_version": "1.5.0",
          "model_name": "HTMLModel",
          "state": {
            "_dom_classes": [],
            "_model_module": "@jupyter-widgets/controls",
            "_model_module_version": "1.5.0",
            "_model_name": "HTMLModel",
            "_view_count": null,
            "_view_module": "@jupyter-widgets/controls",
            "_view_module_version": "1.5.0",
            "_view_name": "HTMLView",
            "description": "",
            "description_tooltip": null,
            "layout": "IPY_MODEL_66b35fd761454d30ade7cff1a5ecc0c7",
            "placeholder": "​",
            "style": "IPY_MODEL_039c535dacfb40b8a49d67288fafdb81",
            "value": "special_tokens_map.json: 100%"
          }
        },
        "8f567a92d5144cfe8530c0f2443110cf": {
          "model_module": "@jupyter-widgets/controls",
          "model_module_version": "1.5.0",
          "model_name": "DescriptionStyleModel",
          "state": {
            "_model_module": "@jupyter-widgets/controls",
            "_model_module_version": "1.5.0",
            "_model_name": "DescriptionStyleModel",
            "_view_count": null,
            "_view_module": "@jupyter-widgets/base",
            "_view_module_version": "1.2.0",
            "_view_name": "StyleView",
            "description_width": ""
          }
        },
        "8fce9b00ae994c45b13bff5d26373c5e": {
          "model_module": "@jupyter-widgets/controls",
          "model_module_version": "1.5.0",
          "model_name": "HTMLModel",
          "state": {
            "_dom_classes": [],
            "_model_module": "@jupyter-widgets/controls",
            "_model_module_version": "1.5.0",
            "_model_name": "HTMLModel",
            "_view_count": null,
            "_view_module": "@jupyter-widgets/controls",
            "_view_module_version": "1.5.0",
            "_view_name": "HTMLView",
            "description": "",
            "description_tooltip": null,
            "layout": "IPY_MODEL_f046fca606d444c0b94cf434cc7ca81e",
            "placeholder": "​",
            "style": "IPY_MODEL_da15b279cc5547519ea1c7b10b3d43f2",
            "value": "Map: 100%"
          }
        },
        "90b1ed260d2343b98072fe16f33ceac8": {
          "model_module": "@jupyter-widgets/controls",
          "model_module_version": "1.5.0",
          "model_name": "HBoxModel",
          "state": {
            "_dom_classes": [],
            "_model_module": "@jupyter-widgets/controls",
            "_model_module_version": "1.5.0",
            "_model_name": "HBoxModel",
            "_view_count": null,
            "_view_module": "@jupyter-widgets/controls",
            "_view_module_version": "1.5.0",
            "_view_name": "HBoxView",
            "box_style": "",
            "children": [
              "IPY_MODEL_70e6048e0caf482681aacf5dc03eeae1",
              "IPY_MODEL_3f9e9c8519d644bfa5c527699bb52050",
              "IPY_MODEL_b799d580e3514be48990f0eea1e00abd"
            ],
            "layout": "IPY_MODEL_363bc7b4106049438da16b23d6f09f54"
          }
        },
        "956351fc0bb8421db9109b42b49307dd": {
          "model_module": "@jupyter-widgets/controls",
          "model_module_version": "1.5.0",
          "model_name": "HTMLModel",
          "state": {
            "_dom_classes": [],
            "_model_module": "@jupyter-widgets/controls",
            "_model_module_version": "1.5.0",
            "_model_name": "HTMLModel",
            "_view_count": null,
            "_view_module": "@jupyter-widgets/controls",
            "_view_module_version": "1.5.0",
            "_view_name": "HTMLView",
            "description": "",
            "description_tooltip": null,
            "layout": "IPY_MODEL_c70fce383bf4460d91816e9d5c17d9c1",
            "placeholder": "​",
            "style": "IPY_MODEL_bd78688c68b043f88aedb2e95e71a124",
            "value": " 892k/892k [00:00&lt;00:00, 4.55MB/s]"
          }
        },
        "9791eb77985746a39ebb1079ef089b44": {
          "model_module": "@jupyter-widgets/controls",
          "model_module_version": "1.5.0",
          "model_name": "FloatProgressModel",
          "state": {
            "_dom_classes": [],
            "_model_module": "@jupyter-widgets/controls",
            "_model_module_version": "1.5.0",
            "_model_name": "FloatProgressModel",
            "_view_count": null,
            "_view_module": "@jupyter-widgets/controls",
            "_view_module_version": "1.5.0",
            "_view_name": "ProgressView",
            "bar_style": "success",
            "description": "",
            "description_tooltip": null,
            "layout": "IPY_MODEL_083c1e7cd6c24d7681f96d3c73ca2fbb",
            "max": 24773,
            "min": 0,
            "orientation": "horizontal",
            "style": "IPY_MODEL_3cbcac7b336744d59c9885566a401674",
            "value": 24773
          }
        },
        "a70da6fc3d0745d5999a78d1f6a9d116": {
          "model_module": "@jupyter-widgets/controls",
          "model_module_version": "1.5.0",
          "model_name": "HTMLModel",
          "state": {
            "_dom_classes": [],
            "_model_module": "@jupyter-widgets/controls",
            "_model_module_version": "1.5.0",
            "_model_name": "HTMLModel",
            "_view_count": null,
            "_view_module": "@jupyter-widgets/controls",
            "_view_module_version": "1.5.0",
            "_view_name": "HTMLView",
            "description": "",
            "description_tooltip": null,
            "layout": "IPY_MODEL_e0bff2f4f1c04b4b92e2ec7bb9a7efdf",
            "placeholder": "​",
            "style": "IPY_MODEL_5224eb4998514b03bce89e1a1b1eb86c",
            "value": "Map: 100%"
          }
        },
        "a7e40329468b4100b53c1956f540f170": {
          "model_module": "@jupyter-widgets/controls",
          "model_module_version": "1.5.0",
          "model_name": "ProgressStyleModel",
          "state": {
            "_model_module": "@jupyter-widgets/controls",
            "_model_module_version": "1.5.0",
            "_model_name": "ProgressStyleModel",
            "_view_count": null,
            "_view_module": "@jupyter-widgets/base",
            "_view_module_version": "1.2.0",
            "_view_name": "StyleView",
            "bar_color": null,
            "description_width": ""
          }
        },
        "ab4cc35ba58646adbebb8e760c063054": {
          "model_module": "@jupyter-widgets/base",
          "model_module_version": "1.2.0",
          "model_name": "LayoutModel",
          "state": {
            "_model_module": "@jupyter-widgets/base",
            "_model_module_version": "1.2.0",
            "_model_name": "LayoutModel",
            "_view_count": null,
            "_view_module": "@jupyter-widgets/base",
            "_view_module_version": "1.2.0",
            "_view_name": "LayoutView",
            "align_content": null,
            "align_items": null,
            "align_self": null,
            "border": null,
            "bottom": null,
            "display": null,
            "flex": null,
            "flex_flow": null,
            "grid_area": null,
            "grid_auto_columns": null,
            "grid_auto_flow": null,
            "grid_auto_rows": null,
            "grid_column": null,
            "grid_gap": null,
            "grid_row": null,
            "grid_template_areas": null,
            "grid_template_columns": null,
            "grid_template_rows": null,
            "height": null,
            "justify_content": null,
            "justify_items": null,
            "left": null,
            "margin": null,
            "max_height": null,
            "max_width": null,
            "min_height": null,
            "min_width": null,
            "object_fit": null,
            "object_position": null,
            "order": null,
            "overflow": null,
            "overflow_x": null,
            "overflow_y": null,
            "padding": null,
            "right": null,
            "top": null,
            "visibility": null,
            "width": null
          }
        },
        "afef9f269ddb4b6299f04a555bf20a56": {
          "model_module": "@jupyter-widgets/base",
          "model_module_version": "1.2.0",
          "model_name": "LayoutModel",
          "state": {
            "_model_module": "@jupyter-widgets/base",
            "_model_module_version": "1.2.0",
            "_model_name": "LayoutModel",
            "_view_count": null,
            "_view_module": "@jupyter-widgets/base",
            "_view_module_version": "1.2.0",
            "_view_name": "LayoutView",
            "align_content": null,
            "align_items": null,
            "align_self": null,
            "border": null,
            "bottom": null,
            "display": null,
            "flex": null,
            "flex_flow": null,
            "grid_area": null,
            "grid_auto_columns": null,
            "grid_auto_flow": null,
            "grid_auto_rows": null,
            "grid_column": null,
            "grid_gap": null,
            "grid_row": null,
            "grid_template_areas": null,
            "grid_template_columns": null,
            "grid_template_rows": null,
            "height": null,
            "justify_content": null,
            "justify_items": null,
            "left": null,
            "margin": null,
            "max_height": null,
            "max_width": null,
            "min_height": null,
            "min_width": null,
            "object_fit": null,
            "object_position": null,
            "order": null,
            "overflow": null,
            "overflow_x": null,
            "overflow_y": null,
            "padding": null,
            "right": null,
            "top": null,
            "visibility": null,
            "width": null
          }
        },
        "b1c89abeecdf4e6abd9c2bdc16817cb6": {
          "model_module": "@jupyter-widgets/controls",
          "model_module_version": "1.5.0",
          "model_name": "HTMLModel",
          "state": {
            "_dom_classes": [],
            "_model_module": "@jupyter-widgets/controls",
            "_model_module_version": "1.5.0",
            "_model_name": "HTMLModel",
            "_view_count": null,
            "_view_module": "@jupyter-widgets/controls",
            "_view_module_version": "1.5.0",
            "_view_name": "HTMLView",
            "description": "",
            "description_tooltip": null,
            "layout": "IPY_MODEL_f2f6361ea4ae40b6bae94d0d29d2525e",
            "placeholder": "​",
            "style": "IPY_MODEL_1cb09753e6ef4de7abf663c492dc569f",
            "value": " 241/241 [00:00&lt;00:00, 468.26 examples/s]"
          }
        },
        "b28e2f1ccdb1435aba36ff60168006c9": {
          "model_module": "@jupyter-widgets/base",
          "model_module_version": "1.2.0",
          "model_name": "LayoutModel",
          "state": {
            "_model_module": "@jupyter-widgets/base",
            "_model_module_version": "1.2.0",
            "_model_name": "LayoutModel",
            "_view_count": null,
            "_view_module": "@jupyter-widgets/base",
            "_view_module_version": "1.2.0",
            "_view_name": "LayoutView",
            "align_content": null,
            "align_items": null,
            "align_self": null,
            "border": null,
            "bottom": null,
            "display": null,
            "flex": null,
            "flex_flow": null,
            "grid_area": null,
            "grid_auto_columns": null,
            "grid_auto_flow": null,
            "grid_auto_rows": null,
            "grid_column": null,
            "grid_gap": null,
            "grid_row": null,
            "grid_template_areas": null,
            "grid_template_columns": null,
            "grid_template_rows": null,
            "height": null,
            "justify_content": null,
            "justify_items": null,
            "left": null,
            "margin": null,
            "max_height": null,
            "max_width": null,
            "min_height": null,
            "min_width": null,
            "object_fit": null,
            "object_position": null,
            "order": null,
            "overflow": null,
            "overflow_x": null,
            "overflow_y": null,
            "padding": null,
            "right": null,
            "top": null,
            "visibility": null,
            "width": null
          }
        },
        "b37cf0f4065c4215bd928060097222e8": {
          "model_module": "@jupyter-widgets/controls",
          "model_module_version": "1.5.0",
          "model_name": "HBoxModel",
          "state": {
            "_dom_classes": [],
            "_model_module": "@jupyter-widgets/controls",
            "_model_module_version": "1.5.0",
            "_model_name": "HBoxModel",
            "_view_count": null,
            "_view_module": "@jupyter-widgets/controls",
            "_view_module_version": "1.5.0",
            "_view_name": "HBoxView",
            "box_style": "",
            "children": [
              "IPY_MODEL_a70da6fc3d0745d5999a78d1f6a9d116",
              "IPY_MODEL_9791eb77985746a39ebb1079ef089b44",
              "IPY_MODEL_7e43f896b4fa4cbd8c783a57d0df8f24"
            ],
            "layout": "IPY_MODEL_734abe80e44046ffa45f7fa8bcccdd14"
          }
        },
        "b69d2bb5ff8246aba707d2682e234fd3": {
          "model_module": "@jupyter-widgets/controls",
          "model_module_version": "1.5.0",
          "model_name": "HBoxModel",
          "state": {
            "_dom_classes": [],
            "_model_module": "@jupyter-widgets/controls",
            "_model_module_version": "1.5.0",
            "_model_name": "HBoxModel",
            "_view_count": null,
            "_view_module": "@jupyter-widgets/controls",
            "_view_module_version": "1.5.0",
            "_view_name": "HBoxView",
            "box_style": "",
            "children": [
              "IPY_MODEL_eee4f6d96eda4b389edd71f52cd43d1a",
              "IPY_MODEL_85fedec7bfb24707a0ffa81bf7633186",
              "IPY_MODEL_956351fc0bb8421db9109b42b49307dd"
            ],
            "layout": "IPY_MODEL_15b176235add47cbbda7ca53ee60d6e8"
          }
        },
        "b7434a7e7b26415795b1ee0f31ad6ae8": {
          "model_module": "@jupyter-widgets/base",
          "model_module_version": "1.2.0",
          "model_name": "LayoutModel",
          "state": {
            "_model_module": "@jupyter-widgets/base",
            "_model_module_version": "1.2.0",
            "_model_name": "LayoutModel",
            "_view_count": null,
            "_view_module": "@jupyter-widgets/base",
            "_view_module_version": "1.2.0",
            "_view_name": "LayoutView",
            "align_content": null,
            "align_items": null,
            "align_self": null,
            "border": null,
            "bottom": null,
            "display": null,
            "flex": null,
            "flex_flow": null,
            "grid_area": null,
            "grid_auto_columns": null,
            "grid_auto_flow": null,
            "grid_auto_rows": null,
            "grid_column": null,
            "grid_gap": null,
            "grid_row": null,
            "grid_template_areas": null,
            "grid_template_columns": null,
            "grid_template_rows": null,
            "height": null,
            "justify_content": null,
            "justify_items": null,
            "left": null,
            "margin": null,
            "max_height": null,
            "max_width": null,
            "min_height": null,
            "min_width": null,
            "object_fit": null,
            "object_position": null,
            "order": null,
            "overflow": null,
            "overflow_x": null,
            "overflow_y": null,
            "padding": null,
            "right": null,
            "top": null,
            "visibility": null,
            "width": null
          }
        },
        "b799d580e3514be48990f0eea1e00abd": {
          "model_module": "@jupyter-widgets/controls",
          "model_module_version": "1.5.0",
          "model_name": "HTMLModel",
          "state": {
            "_dom_classes": [],
            "_model_module": "@jupyter-widgets/controls",
            "_model_module_version": "1.5.0",
            "_model_name": "HTMLModel",
            "_view_count": null,
            "_view_module": "@jupyter-widgets/controls",
            "_view_module_version": "1.5.0",
            "_view_name": "HTMLView",
            "description": "",
            "description_tooltip": null,
            "layout": "IPY_MODEL_b7434a7e7b26415795b1ee0f31ad6ae8",
            "placeholder": "​",
            "style": "IPY_MODEL_029b618fa0e84580bb9db92ef93b1ef0",
            "value": " 1376/1376 [00:01&lt;00:00, 1312.84 examples/s]"
          }
        },
        "b7aa6022d3304fb88965e1498dcdc3f9": {
          "model_module": "@jupyter-widgets/controls",
          "model_module_version": "1.5.0",
          "model_name": "DescriptionStyleModel",
          "state": {
            "_model_module": "@jupyter-widgets/controls",
            "_model_module_version": "1.5.0",
            "_model_name": "DescriptionStyleModel",
            "_view_count": null,
            "_view_module": "@jupyter-widgets/base",
            "_view_module_version": "1.2.0",
            "_view_name": "StyleView",
            "description_width": ""
          }
        },
        "bd78688c68b043f88aedb2e95e71a124": {
          "model_module": "@jupyter-widgets/controls",
          "model_module_version": "1.5.0",
          "model_name": "DescriptionStyleModel",
          "state": {
            "_model_module": "@jupyter-widgets/controls",
            "_model_module_version": "1.5.0",
            "_model_name": "DescriptionStyleModel",
            "_view_count": null,
            "_view_module": "@jupyter-widgets/base",
            "_view_module_version": "1.2.0",
            "_view_name": "StyleView",
            "description_width": ""
          }
        },
        "bf29c019f0534a69a7885c9380f051fc": {
          "model_module": "@jupyter-widgets/controls",
          "model_module_version": "1.5.0",
          "model_name": "ProgressStyleModel",
          "state": {
            "_model_module": "@jupyter-widgets/controls",
            "_model_module_version": "1.5.0",
            "_model_name": "ProgressStyleModel",
            "_view_count": null,
            "_view_module": "@jupyter-widgets/base",
            "_view_module_version": "1.2.0",
            "_view_name": "StyleView",
            "bar_color": null,
            "description_width": ""
          }
        },
        "c4d06846c3054c7283bf703edee20e1e": {
          "model_module": "@jupyter-widgets/controls",
          "model_module_version": "1.5.0",
          "model_name": "DescriptionStyleModel",
          "state": {
            "_model_module": "@jupyter-widgets/controls",
            "_model_module_version": "1.5.0",
            "_model_name": "DescriptionStyleModel",
            "_view_count": null,
            "_view_module": "@jupyter-widgets/base",
            "_view_module_version": "1.2.0",
            "_view_name": "StyleView",
            "description_width": ""
          }
        },
        "c4d6bef8a4b64b0c86869aa5e0f58345": {
          "model_module": "@jupyter-widgets/controls",
          "model_module_version": "1.5.0",
          "model_name": "DescriptionStyleModel",
          "state": {
            "_model_module": "@jupyter-widgets/controls",
            "_model_module_version": "1.5.0",
            "_model_name": "DescriptionStyleModel",
            "_view_count": null,
            "_view_module": "@jupyter-widgets/base",
            "_view_module_version": "1.2.0",
            "_view_name": "StyleView",
            "description_width": ""
          }
        },
        "c6e464e4a04b472086b806c45eadf692": {
          "model_module": "@jupyter-widgets/controls",
          "model_module_version": "1.5.0",
          "model_name": "HTMLModel",
          "state": {
            "_dom_classes": [],
            "_model_module": "@jupyter-widgets/controls",
            "_model_module_version": "1.5.0",
            "_model_name": "HTMLModel",
            "_view_count": null,
            "_view_module": "@jupyter-widgets/controls",
            "_view_module_version": "1.5.0",
            "_view_name": "HTMLView",
            "description": "",
            "description_tooltip": null,
            "layout": "IPY_MODEL_687e7075f6b84bd3a3ed4f7ec218d130",
            "placeholder": "​",
            "style": "IPY_MODEL_c4d06846c3054c7283bf703edee20e1e",
            "value": "config.json: 100%"
          }
        },
        "c6f35bdb23174befbdf85362181e027b": {
          "model_module": "@jupyter-widgets/controls",
          "model_module_version": "1.5.0",
          "model_name": "DescriptionStyleModel",
          "state": {
            "_model_module": "@jupyter-widgets/controls",
            "_model_module_version": "1.5.0",
            "_model_name": "DescriptionStyleModel",
            "_view_count": null,
            "_view_module": "@jupyter-widgets/base",
            "_view_module_version": "1.2.0",
            "_view_name": "StyleView",
            "description_width": ""
          }
        },
        "c70fce383bf4460d91816e9d5c17d9c1": {
          "model_module": "@jupyter-widgets/base",
          "model_module_version": "1.2.0",
          "model_name": "LayoutModel",
          "state": {
            "_model_module": "@jupyter-widgets/base",
            "_model_module_version": "1.2.0",
            "_model_name": "LayoutModel",
            "_view_count": null,
            "_view_module": "@jupyter-widgets/base",
            "_view_module_version": "1.2.0",
            "_view_name": "LayoutView",
            "align_content": null,
            "align_items": null,
            "align_self": null,
            "border": null,
            "bottom": null,
            "display": null,
            "flex": null,
            "flex_flow": null,
            "grid_area": null,
            "grid_auto_columns": null,
            "grid_auto_flow": null,
            "grid_auto_rows": null,
            "grid_column": null,
            "grid_gap": null,
            "grid_row": null,
            "grid_template_areas": null,
            "grid_template_columns": null,
            "grid_template_rows": null,
            "height": null,
            "justify_content": null,
            "justify_items": null,
            "left": null,
            "margin": null,
            "max_height": null,
            "max_width": null,
            "min_height": null,
            "min_width": null,
            "object_fit": null,
            "object_position": null,
            "order": null,
            "overflow": null,
            "overflow_x": null,
            "overflow_y": null,
            "padding": null,
            "right": null,
            "top": null,
            "visibility": null,
            "width": null
          }
        },
        "c836060fadd6406aa22d4b35b68da6fd": {
          "model_module": "@jupyter-widgets/base",
          "model_module_version": "1.2.0",
          "model_name": "LayoutModel",
          "state": {
            "_model_module": "@jupyter-widgets/base",
            "_model_module_version": "1.2.0",
            "_model_name": "LayoutModel",
            "_view_count": null,
            "_view_module": "@jupyter-widgets/base",
            "_view_module_version": "1.2.0",
            "_view_name": "LayoutView",
            "align_content": null,
            "align_items": null,
            "align_self": null,
            "border": null,
            "bottom": null,
            "display": null,
            "flex": null,
            "flex_flow": null,
            "grid_area": null,
            "grid_auto_columns": null,
            "grid_auto_flow": null,
            "grid_auto_rows": null,
            "grid_column": null,
            "grid_gap": null,
            "grid_row": null,
            "grid_template_areas": null,
            "grid_template_columns": null,
            "grid_template_rows": null,
            "height": null,
            "justify_content": null,
            "justify_items": null,
            "left": null,
            "margin": null,
            "max_height": null,
            "max_width": null,
            "min_height": null,
            "min_width": null,
            "object_fit": null,
            "object_position": null,
            "order": null,
            "overflow": null,
            "overflow_x": null,
            "overflow_y": null,
            "padding": null,
            "right": null,
            "top": null,
            "visibility": null,
            "width": null
          }
        },
        "ca0b06dcfa2c46a18f7e4a136d516b55": {
          "model_module": "@jupyter-widgets/controls",
          "model_module_version": "1.5.0",
          "model_name": "HBoxModel",
          "state": {
            "_dom_classes": [],
            "_model_module": "@jupyter-widgets/controls",
            "_model_module_version": "1.5.0",
            "_model_name": "HBoxModel",
            "_view_count": null,
            "_view_module": "@jupyter-widgets/controls",
            "_view_module_version": "1.5.0",
            "_view_name": "HBoxView",
            "box_style": "",
            "children": [
              "IPY_MODEL_c6e464e4a04b472086b806c45eadf692",
              "IPY_MODEL_03bd4f252cfa4017b11767270fb5a80d",
              "IPY_MODEL_4f23751e68f141a3b273d2c1c595597c"
            ],
            "layout": "IPY_MODEL_36f1996863f84f1f96cc18f698492bc5"
          }
        },
        "cb5a426a317346ce8872e4750503cbac": {
          "model_module": "@jupyter-widgets/controls",
          "model_module_version": "1.5.0",
          "model_name": "DescriptionStyleModel",
          "state": {
            "_model_module": "@jupyter-widgets/controls",
            "_model_module_version": "1.5.0",
            "_model_name": "DescriptionStyleModel",
            "_view_count": null,
            "_view_module": "@jupyter-widgets/base",
            "_view_module_version": "1.2.0",
            "_view_name": "StyleView",
            "description_width": ""
          }
        },
        "cd61e1950d8b47dd90564e69e22e1e93": {
          "model_module": "@jupyter-widgets/controls",
          "model_module_version": "1.5.0",
          "model_name": "DescriptionStyleModel",
          "state": {
            "_model_module": "@jupyter-widgets/controls",
            "_model_module_version": "1.5.0",
            "_model_name": "DescriptionStyleModel",
            "_view_count": null,
            "_view_module": "@jupyter-widgets/base",
            "_view_module_version": "1.2.0",
            "_view_name": "StyleView",
            "description_width": ""
          }
        },
        "cf0000f8295b4c8ba5a6a88320e04015": {
          "model_module": "@jupyter-widgets/controls",
          "model_module_version": "1.5.0",
          "model_name": "ProgressStyleModel",
          "state": {
            "_model_module": "@jupyter-widgets/controls",
            "_model_module_version": "1.5.0",
            "_model_name": "ProgressStyleModel",
            "_view_count": null,
            "_view_module": "@jupyter-widgets/base",
            "_view_module_version": "1.2.0",
            "_view_name": "StyleView",
            "bar_color": null,
            "description_width": ""
          }
        },
        "cfffd6018460410e87ba561d9fcd1fad": {
          "model_module": "@jupyter-widgets/controls",
          "model_module_version": "1.5.0",
          "model_name": "HTMLModel",
          "state": {
            "_dom_classes": [],
            "_model_module": "@jupyter-widgets/controls",
            "_model_module_version": "1.5.0",
            "_model_name": "HTMLModel",
            "_view_count": null,
            "_view_module": "@jupyter-widgets/controls",
            "_view_module_version": "1.5.0",
            "_view_name": "HTMLView",
            "description": "",
            "description_tooltip": null,
            "layout": "IPY_MODEL_c836060fadd6406aa22d4b35b68da6fd",
            "placeholder": "​",
            "style": "IPY_MODEL_072418b700cd4085ae039824f41c06db",
            "value": " 4346/4346 [00:09&lt;00:00, 481.60 examples/s]"
          }
        },
        "d3aebb4f90554a88a8cdac9384e46a9d": {
          "model_module": "@jupyter-widgets/controls",
          "model_module_version": "1.5.0",
          "model_name": "FloatProgressModel",
          "state": {
            "_dom_classes": [],
            "_model_module": "@jupyter-widgets/controls",
            "_model_module_version": "1.5.0",
            "_model_name": "FloatProgressModel",
            "_view_count": null,
            "_view_module": "@jupyter-widgets/controls",
            "_view_module_version": "1.5.0",
            "_view_name": "ProgressView",
            "bar_style": "success",
            "description": "",
            "description_tooltip": null,
            "layout": "IPY_MODEL_025050dab6e84b638bec00daa849f360",
            "max": 1091,
            "min": 0,
            "orientation": "horizontal",
            "style": "IPY_MODEL_121804cae2134de0b4f22935c8cfd6c5",
            "value": 1091
          }
        },
        "d3bec73d461a4be4baf36efb7244e7fc": {
          "model_module": "@jupyter-widgets/base",
          "model_module_version": "1.2.0",
          "model_name": "LayoutModel",
          "state": {
            "_model_module": "@jupyter-widgets/base",
            "_model_module_version": "1.2.0",
            "_model_name": "LayoutModel",
            "_view_count": null,
            "_view_module": "@jupyter-widgets/base",
            "_view_module_version": "1.2.0",
            "_view_name": "LayoutView",
            "align_content": null,
            "align_items": null,
            "align_self": null,
            "border": null,
            "bottom": null,
            "display": null,
            "flex": null,
            "flex_flow": null,
            "grid_area": null,
            "grid_auto_columns": null,
            "grid_auto_flow": null,
            "grid_auto_rows": null,
            "grid_column": null,
            "grid_gap": null,
            "grid_row": null,
            "grid_template_areas": null,
            "grid_template_columns": null,
            "grid_template_rows": null,
            "height": null,
            "justify_content": null,
            "justify_items": null,
            "left": null,
            "margin": null,
            "max_height": null,
            "max_width": null,
            "min_height": null,
            "min_width": null,
            "object_fit": null,
            "object_position": null,
            "order": null,
            "overflow": null,
            "overflow_x": null,
            "overflow_y": null,
            "padding": null,
            "right": null,
            "top": null,
            "visibility": null,
            "width": null
          }
        },
        "d4344bd1a25d4546868fbce376405d03": {
          "model_module": "@jupyter-widgets/controls",
          "model_module_version": "1.5.0",
          "model_name": "HTMLModel",
          "state": {
            "_dom_classes": [],
            "_model_module": "@jupyter-widgets/controls",
            "_model_module_version": "1.5.0",
            "_model_name": "HTMLModel",
            "_view_count": null,
            "_view_module": "@jupyter-widgets/controls",
            "_view_module_version": "1.5.0",
            "_view_name": "HTMLView",
            "description": "",
            "description_tooltip": null,
            "layout": "IPY_MODEL_df2cf122ae934c54b2afcd2ab0625cb3",
            "placeholder": "​",
            "style": "IPY_MODEL_0d0d327988834b8d8eebbdfff71cdcf4",
            "value": "vocab.json: 100%"
          }
        },
        "d450da962ff44a0cb9ab1742940b831f": {
          "model_module": "@jupyter-widgets/controls",
          "model_module_version": "1.5.0",
          "model_name": "FloatProgressModel",
          "state": {
            "_dom_classes": [],
            "_model_module": "@jupyter-widgets/controls",
            "_model_module_version": "1.5.0",
            "_model_name": "FloatProgressModel",
            "_view_count": null,
            "_view_module": "@jupyter-widgets/controls",
            "_view_module_version": "1.5.0",
            "_view_name": "ProgressView",
            "bar_style": "success",
            "description": "",
            "description_tooltip": null,
            "layout": "IPY_MODEL_1a2b87f73d624f91843759b0fa8b1f1d",
            "max": 1769484596,
            "min": 0,
            "orientation": "horizontal",
            "style": "IPY_MODEL_cf0000f8295b4c8ba5a6a88320e04015",
            "value": 1769484596
          }
        },
        "d6644fe2d6f643b6bf9cb841cc82da10": {
          "model_module": "@jupyter-widgets/controls",
          "model_module_version": "1.5.0",
          "model_name": "HBoxModel",
          "state": {
            "_dom_classes": [],
            "_model_module": "@jupyter-widgets/controls",
            "_model_module_version": "1.5.0",
            "_model_name": "HBoxModel",
            "_view_count": null,
            "_view_module": "@jupyter-widgets/controls",
            "_view_module_version": "1.5.0",
            "_view_name": "HBoxView",
            "box_style": "",
            "children": [
              "IPY_MODEL_d4344bd1a25d4546868fbce376405d03",
              "IPY_MODEL_ff27af79740b4c769a0a38ae420b62a8",
              "IPY_MODEL_35960b4f41474470be8710b8530d0183"
            ],
            "layout": "IPY_MODEL_7faf0aa1ee1d4d1598678c5eab843956"
          }
        },
        "da15b279cc5547519ea1c7b10b3d43f2": {
          "model_module": "@jupyter-widgets/controls",
          "model_module_version": "1.5.0",
          "model_name": "DescriptionStyleModel",
          "state": {
            "_model_module": "@jupyter-widgets/controls",
            "_model_module_version": "1.5.0",
            "_model_name": "DescriptionStyleModel",
            "_view_count": null,
            "_view_module": "@jupyter-widgets/base",
            "_view_module_version": "1.2.0",
            "_view_name": "StyleView",
            "description_width": ""
          }
        },
        "da22792d790449ed8c4a28301b46149a": {
          "model_module": "@jupyter-widgets/controls",
          "model_module_version": "1.5.0",
          "model_name": "HTMLModel",
          "state": {
            "_dom_classes": [],
            "_model_module": "@jupyter-widgets/controls",
            "_model_module_version": "1.5.0",
            "_model_name": "HTMLModel",
            "_view_count": null,
            "_view_module": "@jupyter-widgets/controls",
            "_view_module_version": "1.5.0",
            "_view_name": "HTMLView",
            "description": "",
            "description_tooltip": null,
            "layout": "IPY_MODEL_28b592c2ccb04bdd9ff7d7ac83a77645",
            "placeholder": "​",
            "style": "IPY_MODEL_27f7080ec79e4972aebf52db8e5cbaf2",
            "value": "model.safetensors: 100%"
          }
        },
        "ddf5cfe0e413405290fd7ca8de6a0266": {
          "model_module": "@jupyter-widgets/controls",
          "model_module_version": "1.5.0",
          "model_name": "ProgressStyleModel",
          "state": {
            "_model_module": "@jupyter-widgets/controls",
            "_model_module_version": "1.5.0",
            "_model_name": "ProgressStyleModel",
            "_view_count": null,
            "_view_module": "@jupyter-widgets/base",
            "_view_module_version": "1.2.0",
            "_view_name": "StyleView",
            "bar_color": null,
            "description_width": ""
          }
        },
        "df2cf122ae934c54b2afcd2ab0625cb3": {
          "model_module": "@jupyter-widgets/base",
          "model_module_version": "1.2.0",
          "model_name": "LayoutModel",
          "state": {
            "_model_module": "@jupyter-widgets/base",
            "_model_module_version": "1.2.0",
            "_model_name": "LayoutModel",
            "_view_count": null,
            "_view_module": "@jupyter-widgets/base",
            "_view_module_version": "1.2.0",
            "_view_name": "LayoutView",
            "align_content": null,
            "align_items": null,
            "align_self": null,
            "border": null,
            "bottom": null,
            "display": null,
            "flex": null,
            "flex_flow": null,
            "grid_area": null,
            "grid_auto_columns": null,
            "grid_auto_flow": null,
            "grid_auto_rows": null,
            "grid_column": null,
            "grid_gap": null,
            "grid_row": null,
            "grid_template_areas": null,
            "grid_template_columns": null,
            "grid_template_rows": null,
            "height": null,
            "justify_content": null,
            "justify_items": null,
            "left": null,
            "margin": null,
            "max_height": null,
            "max_width": null,
            "min_height": null,
            "min_width": null,
            "object_fit": null,
            "object_position": null,
            "order": null,
            "overflow": null,
            "overflow_x": null,
            "overflow_y": null,
            "padding": null,
            "right": null,
            "top": null,
            "visibility": null,
            "width": null
          }
        },
        "e00960156889493e95447a62761d36a0": {
          "model_module": "@jupyter-widgets/controls",
          "model_module_version": "1.5.0",
          "model_name": "HTMLModel",
          "state": {
            "_dom_classes": [],
            "_model_module": "@jupyter-widgets/controls",
            "_model_module_version": "1.5.0",
            "_model_name": "HTMLModel",
            "_view_count": null,
            "_view_module": "@jupyter-widgets/controls",
            "_view_module_version": "1.5.0",
            "_view_name": "HTMLView",
            "description": "",
            "description_tooltip": null,
            "layout": "IPY_MODEL_d3bec73d461a4be4baf36efb7244e7fc",
            "placeholder": "​",
            "style": "IPY_MODEL_cd61e1950d8b47dd90564e69e22e1e93",
            "value": " 1.77G/1.77G [00:10&lt;00:00, 114MB/s]"
          }
        },
        "e0bff2f4f1c04b4b92e2ec7bb9a7efdf": {
          "model_module": "@jupyter-widgets/base",
          "model_module_version": "1.2.0",
          "model_name": "LayoutModel",
          "state": {
            "_model_module": "@jupyter-widgets/base",
            "_model_module_version": "1.2.0",
            "_model_name": "LayoutModel",
            "_view_count": null,
            "_view_module": "@jupyter-widgets/base",
            "_view_module_version": "1.2.0",
            "_view_name": "LayoutView",
            "align_content": null,
            "align_items": null,
            "align_self": null,
            "border": null,
            "bottom": null,
            "display": null,
            "flex": null,
            "flex_flow": null,
            "grid_area": null,
            "grid_auto_columns": null,
            "grid_auto_flow": null,
            "grid_auto_rows": null,
            "grid_column": null,
            "grid_gap": null,
            "grid_row": null,
            "grid_template_areas": null,
            "grid_template_columns": null,
            "grid_template_rows": null,
            "height": null,
            "justify_content": null,
            "justify_items": null,
            "left": null,
            "margin": null,
            "max_height": null,
            "max_width": null,
            "min_height": null,
            "min_width": null,
            "object_fit": null,
            "object_position": null,
            "order": null,
            "overflow": null,
            "overflow_x": null,
            "overflow_y": null,
            "padding": null,
            "right": null,
            "top": null,
            "visibility": null,
            "width": null
          }
        },
        "e681c334d34e474f8b7ec9963b13e5d7": {
          "model_module": "@jupyter-widgets/controls",
          "model_module_version": "1.5.0",
          "model_name": "HBoxModel",
          "state": {
            "_dom_classes": [],
            "_model_module": "@jupyter-widgets/controls",
            "_model_module_version": "1.5.0",
            "_model_name": "HBoxModel",
            "_view_count": null,
            "_view_module": "@jupyter-widgets/controls",
            "_view_module_version": "1.5.0",
            "_view_name": "HBoxView",
            "box_style": "",
            "children": [
              "IPY_MODEL_8fce9b00ae994c45b13bff5d26373c5e",
              "IPY_MODEL_80c650e33d8f4b6eaff7a55f280c81ef",
              "IPY_MODEL_cfffd6018460410e87ba561d9fcd1fad"
            ],
            "layout": "IPY_MODEL_140ef0d976ca4287b67a9e163905739c"
          }
        },
        "e85c2ddb654049ae999f199e3a5f5de3": {
          "model_module": "@jupyter-widgets/base",
          "model_module_version": "1.2.0",
          "model_name": "LayoutModel",
          "state": {
            "_model_module": "@jupyter-widgets/base",
            "_model_module_version": "1.2.0",
            "_model_name": "LayoutModel",
            "_view_count": null,
            "_view_module": "@jupyter-widgets/base",
            "_view_module_version": "1.2.0",
            "_view_name": "LayoutView",
            "align_content": null,
            "align_items": null,
            "align_self": null,
            "border": null,
            "bottom": null,
            "display": null,
            "flex": null,
            "flex_flow": null,
            "grid_area": null,
            "grid_auto_columns": null,
            "grid_auto_flow": null,
            "grid_auto_rows": null,
            "grid_column": null,
            "grid_gap": null,
            "grid_row": null,
            "grid_template_areas": null,
            "grid_template_columns": null,
            "grid_template_rows": null,
            "height": null,
            "justify_content": null,
            "justify_items": null,
            "left": null,
            "margin": null,
            "max_height": null,
            "max_width": null,
            "min_height": null,
            "min_width": null,
            "object_fit": null,
            "object_position": null,
            "order": null,
            "overflow": null,
            "overflow_x": null,
            "overflow_y": null,
            "padding": null,
            "right": null,
            "top": null,
            "visibility": null,
            "width": null
          }
        },
        "e897fe5d9cea444b99033a5fab16d6d1": {
          "model_module": "@jupyter-widgets/controls",
          "model_module_version": "1.5.0",
          "model_name": "ProgressStyleModel",
          "state": {
            "_model_module": "@jupyter-widgets/controls",
            "_model_module_version": "1.5.0",
            "_model_name": "ProgressStyleModel",
            "_view_count": null,
            "_view_module": "@jupyter-widgets/base",
            "_view_module_version": "1.2.0",
            "_view_name": "StyleView",
            "bar_color": null,
            "description_width": ""
          }
        },
        "eee4f6d96eda4b389edd71f52cd43d1a": {
          "model_module": "@jupyter-widgets/controls",
          "model_module_version": "1.5.0",
          "model_name": "HTMLModel",
          "state": {
            "_dom_classes": [],
            "_model_module": "@jupyter-widgets/controls",
            "_model_module_version": "1.5.0",
            "_model_name": "HTMLModel",
            "_view_count": null,
            "_view_module": "@jupyter-widgets/controls",
            "_view_module_version": "1.5.0",
            "_view_name": "HTMLView",
            "description": "",
            "description_tooltip": null,
            "layout": "IPY_MODEL_f242e3db14244b02b5291d62d97e67fa",
            "placeholder": "​",
            "style": "IPY_MODEL_76f0c99d6a534049bf9f3fdfaf7df3fb",
            "value": "merges.txt: 100%"
          }
        },
        "f046fca606d444c0b94cf434cc7ca81e": {
          "model_module": "@jupyter-widgets/base",
          "model_module_version": "1.2.0",
          "model_name": "LayoutModel",
          "state": {
            "_model_module": "@jupyter-widgets/base",
            "_model_module_version": "1.2.0",
            "_model_name": "LayoutModel",
            "_view_count": null,
            "_view_module": "@jupyter-widgets/base",
            "_view_module_version": "1.2.0",
            "_view_name": "LayoutView",
            "align_content": null,
            "align_items": null,
            "align_self": null,
            "border": null,
            "bottom": null,
            "display": null,
            "flex": null,
            "flex_flow": null,
            "grid_area": null,
            "grid_auto_columns": null,
            "grid_auto_flow": null,
            "grid_auto_rows": null,
            "grid_column": null,
            "grid_gap": null,
            "grid_row": null,
            "grid_template_areas": null,
            "grid_template_columns": null,
            "grid_template_rows": null,
            "height": null,
            "justify_content": null,
            "justify_items": null,
            "left": null,
            "margin": null,
            "max_height": null,
            "max_width": null,
            "min_height": null,
            "min_width": null,
            "object_fit": null,
            "object_position": null,
            "order": null,
            "overflow": null,
            "overflow_x": null,
            "overflow_y": null,
            "padding": null,
            "right": null,
            "top": null,
            "visibility": null,
            "width": null
          }
        },
        "f242e3db14244b02b5291d62d97e67fa": {
          "model_module": "@jupyter-widgets/base",
          "model_module_version": "1.2.0",
          "model_name": "LayoutModel",
          "state": {
            "_model_module": "@jupyter-widgets/base",
            "_model_module_version": "1.2.0",
            "_model_name": "LayoutModel",
            "_view_count": null,
            "_view_module": "@jupyter-widgets/base",
            "_view_module_version": "1.2.0",
            "_view_name": "LayoutView",
            "align_content": null,
            "align_items": null,
            "align_self": null,
            "border": null,
            "bottom": null,
            "display": null,
            "flex": null,
            "flex_flow": null,
            "grid_area": null,
            "grid_auto_columns": null,
            "grid_auto_flow": null,
            "grid_auto_rows": null,
            "grid_column": null,
            "grid_gap": null,
            "grid_row": null,
            "grid_template_areas": null,
            "grid_template_columns": null,
            "grid_template_rows": null,
            "height": null,
            "justify_content": null,
            "justify_items": null,
            "left": null,
            "margin": null,
            "max_height": null,
            "max_width": null,
            "min_height": null,
            "min_width": null,
            "object_fit": null,
            "object_position": null,
            "order": null,
            "overflow": null,
            "overflow_x": null,
            "overflow_y": null,
            "padding": null,
            "right": null,
            "top": null,
            "visibility": null,
            "width": null
          }
        },
        "f2f6361ea4ae40b6bae94d0d29d2525e": {
          "model_module": "@jupyter-widgets/base",
          "model_module_version": "1.2.0",
          "model_name": "LayoutModel",
          "state": {
            "_model_module": "@jupyter-widgets/base",
            "_model_module_version": "1.2.0",
            "_model_name": "LayoutModel",
            "_view_count": null,
            "_view_module": "@jupyter-widgets/base",
            "_view_module_version": "1.2.0",
            "_view_name": "LayoutView",
            "align_content": null,
            "align_items": null,
            "align_self": null,
            "border": null,
            "bottom": null,
            "display": null,
            "flex": null,
            "flex_flow": null,
            "grid_area": null,
            "grid_auto_columns": null,
            "grid_auto_flow": null,
            "grid_auto_rows": null,
            "grid_column": null,
            "grid_gap": null,
            "grid_row": null,
            "grid_template_areas": null,
            "grid_template_columns": null,
            "grid_template_rows": null,
            "height": null,
            "justify_content": null,
            "justify_items": null,
            "left": null,
            "margin": null,
            "max_height": null,
            "max_width": null,
            "min_height": null,
            "min_width": null,
            "object_fit": null,
            "object_position": null,
            "order": null,
            "overflow": null,
            "overflow_x": null,
            "overflow_y": null,
            "padding": null,
            "right": null,
            "top": null,
            "visibility": null,
            "width": null
          }
        },
        "f60432c2a2af4b54993a9bacaa7c1a13": {
          "model_module": "@jupyter-widgets/controls",
          "model_module_version": "1.5.0",
          "model_name": "DescriptionStyleModel",
          "state": {
            "_model_module": "@jupyter-widgets/controls",
            "_model_module_version": "1.5.0",
            "_model_name": "DescriptionStyleModel",
            "_view_count": null,
            "_view_module": "@jupyter-widgets/base",
            "_view_module_version": "1.2.0",
            "_view_name": "StyleView",
            "description_width": ""
          }
        },
        "fb1add749ea9428a956edcb9e19debcb": {
          "model_module": "@jupyter-widgets/base",
          "model_module_version": "1.2.0",
          "model_name": "LayoutModel",
          "state": {
            "_model_module": "@jupyter-widgets/base",
            "_model_module_version": "1.2.0",
            "_model_name": "LayoutModel",
            "_view_count": null,
            "_view_module": "@jupyter-widgets/base",
            "_view_module_version": "1.2.0",
            "_view_name": "LayoutView",
            "align_content": null,
            "align_items": null,
            "align_self": null,
            "border": null,
            "bottom": null,
            "display": null,
            "flex": null,
            "flex_flow": null,
            "grid_area": null,
            "grid_auto_columns": null,
            "grid_auto_flow": null,
            "grid_auto_rows": null,
            "grid_column": null,
            "grid_gap": null,
            "grid_row": null,
            "grid_template_areas": null,
            "grid_template_columns": null,
            "grid_template_rows": null,
            "height": null,
            "justify_content": null,
            "justify_items": null,
            "left": null,
            "margin": null,
            "max_height": null,
            "max_width": null,
            "min_height": null,
            "min_width": null,
            "object_fit": null,
            "object_position": null,
            "order": null,
            "overflow": null,
            "overflow_x": null,
            "overflow_y": null,
            "padding": null,
            "right": null,
            "top": null,
            "visibility": null,
            "width": null
          }
        },
        "fe39e3d6b2794c3d9107f70cf082b4c6": {
          "model_module": "@jupyter-widgets/base",
          "model_module_version": "1.2.0",
          "model_name": "LayoutModel",
          "state": {
            "_model_module": "@jupyter-widgets/base",
            "_model_module_version": "1.2.0",
            "_model_name": "LayoutModel",
            "_view_count": null,
            "_view_module": "@jupyter-widgets/base",
            "_view_module_version": "1.2.0",
            "_view_name": "LayoutView",
            "align_content": null,
            "align_items": null,
            "align_self": null,
            "border": null,
            "bottom": null,
            "display": null,
            "flex": null,
            "flex_flow": null,
            "grid_area": null,
            "grid_auto_columns": null,
            "grid_auto_flow": null,
            "grid_auto_rows": null,
            "grid_column": null,
            "grid_gap": null,
            "grid_row": null,
            "grid_template_areas": null,
            "grid_template_columns": null,
            "grid_template_rows": null,
            "height": null,
            "justify_content": null,
            "justify_items": null,
            "left": null,
            "margin": null,
            "max_height": null,
            "max_width": null,
            "min_height": null,
            "min_width": null,
            "object_fit": null,
            "object_position": null,
            "order": null,
            "overflow": null,
            "overflow_x": null,
            "overflow_y": null,
            "padding": null,
            "right": null,
            "top": null,
            "visibility": null,
            "width": null
          }
        },
        "ff27af79740b4c769a0a38ae420b62a8": {
          "model_module": "@jupyter-widgets/controls",
          "model_module_version": "1.5.0",
          "model_name": "FloatProgressModel",
          "state": {
            "_dom_classes": [],
            "_model_module": "@jupyter-widgets/controls",
            "_model_module_version": "1.5.0",
            "_model_name": "FloatProgressModel",
            "_view_count": null,
            "_view_module": "@jupyter-widgets/controls",
            "_view_module_version": "1.5.0",
            "_view_name": "ProgressView",
            "bar_style": "success",
            "description": "",
            "description_tooltip": null,
            "layout": "IPY_MODEL_e85c2ddb654049ae999f199e3a5f5de3",
            "max": 1585944,
            "min": 0,
            "orientation": "horizontal",
            "style": "IPY_MODEL_335f56b22ef54b8a9ca7ed2d96dc7fe5",
            "value": 1585944
          }
        }
      }
    }
  },
  "nbformat": 4,
  "nbformat_minor": 0
}